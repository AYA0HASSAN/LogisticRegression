{
  "cells": [
    {
      "cell_type": "markdown",
      "metadata": {
        "id": "view-in-github",
        "colab_type": "text"
      },
      "source": [
        "<a href=\"https://colab.research.google.com/github/AYA0HASSAN/LogisticRegression/blob/main/LogisticRegressionLab.ipynb\" target=\"_parent\"><img src=\"https://colab.research.google.com/assets/colab-badge.svg\" alt=\"Open In Colab\"/></a>"
      ]
    },
    {
      "cell_type": "markdown",
      "metadata": {
        "id": "0NR99EzPhe3V"
      },
      "source": [
        "## Logistic Regression From Scratch\n",
        "#### Authors : Aya Hassan , Monier"
      ]
    },
    {
      "cell_type": "code",
      "execution_count": null,
      "metadata": {
        "id": "Qbtzl9U8he3Z",
        "outputId": "9426603f-7907-472c-e6f2-879eca1b39de"
      },
      "outputs": [
        {
          "name": "stdout",
          "output_type": "stream",
          "text": [
            "Collecting plotly-express\n",
            "  Downloading plotly_express-0.4.1-py2.py3-none-any.whl (2.9 kB)\n",
            "Requirement already satisfied: numpy>=1.11 in c:\\programdata\\anaconda3\\lib\\site-packages (from plotly-express) (1.20.3)\n",
            "Requirement already satisfied: statsmodels>=0.9.0 in c:\\programdata\\anaconda3\\lib\\site-packages (from plotly-express) (0.12.2)\n",
            "Collecting plotly>=4.1.0\n",
            "  Downloading plotly-5.11.0-py2.py3-none-any.whl (15.3 MB)\n",
            "Requirement already satisfied: scipy>=0.18 in c:\\programdata\\anaconda3\\lib\\site-packages (from plotly-express) (1.7.1)\n",
            "Requirement already satisfied: pandas>=0.20.0 in c:\\programdata\\anaconda3\\lib\\site-packages (from plotly-express) (1.3.4)\n",
            "Requirement already satisfied: patsy>=0.5 in c:\\programdata\\anaconda3\\lib\\site-packages (from plotly-express) (0.5.2)\n",
            "Requirement already satisfied: python-dateutil>=2.7.3 in c:\\programdata\\anaconda3\\lib\\site-packages (from pandas>=0.20.0->plotly-express) (2.8.2)\n",
            "Requirement already satisfied: pytz>=2017.3 in c:\\programdata\\anaconda3\\lib\\site-packages (from pandas>=0.20.0->plotly-express) (2021.3)\n",
            "Requirement already satisfied: six in c:\\programdata\\anaconda3\\lib\\site-packages (from patsy>=0.5->plotly-express) (1.16.0)\n",
            "Collecting tenacity>=6.2.0\n",
            "  Downloading tenacity-8.1.0-py3-none-any.whl (23 kB)\n",
            "Installing collected packages: tenacity, plotly, plotly-express\n",
            "Successfully installed plotly-5.11.0 plotly-express-0.4.1 tenacity-8.1.0\n"
          ]
        }
      ],
      "source": [
        "! pip install plotly-express"
      ]
    },
    {
      "cell_type": "code",
      "execution_count": null,
      "metadata": {
        "id": "I7IhZ4xThe3b"
      },
      "outputs": [],
      "source": [
        "import numpy as np\n",
        "import matplotlib.pyplot as plt\n",
        "import pandas as pd\n",
        "import seaborn as sns\n",
        "from colorama import Fore\n",
        "import plotly.express as px\n"
      ]
    },
    {
      "cell_type": "markdown",
      "metadata": {
        "id": "0RA-1jxDhe3c"
      },
      "source": [
        "## Functions"
      ]
    },
    {
      "cell_type": "code",
      "execution_count": null,
      "metadata": {
        "id": "e4GLoL--he3d"
      },
      "outputs": [],
      "source": [
        "def sigmoid(y):\n",
        "    return 1/(1+np.exp(-y))"
      ]
    },
    {
      "cell_type": "code",
      "execution_count": null,
      "metadata": {
        "id": "CLaVk573he3d"
      },
      "outputs": [],
      "source": [
        "def gradientDescent(features,yHat,label):\n",
        "    return np.dot(features.T ,(yHat - label)) / label.shape[0]"
      ]
    },
    {
      "cell_type": "code",
      "execution_count": null,
      "metadata": {
        "id": "FnMksKMVhe3e"
      },
      "outputs": [],
      "source": [
        "def updateWeightLoss(weight , learningRate , gradient):\n",
        "    return weight - learningRate * gradient"
      ]
    },
    {
      "cell_type": "code",
      "execution_count": null,
      "metadata": {
        "id": "D-e-QpyUhe3e"
      },
      "outputs": [],
      "source": [
        "def loss(yHat,label):\n",
        "    return (- label * np.log(yHat) - (1-label) * np.log(1-yHat)).mean()"
      ]
    },
    {
      "cell_type": "markdown",
      "metadata": {
        "id": "yOBx5BJ6he3f"
      },
      "source": [
        "y = a1x1 + a2x2 + b "
      ]
    },
    {
      "cell_type": "code",
      "execution_count": null,
      "metadata": {
        "id": "cwCMtrIVhe3f"
      },
      "outputs": [],
      "source": [
        "def logisicRegression(features,labels,iterations,learningRate = 0.001):\n",
        "    \n",
        "    # Initizalize Weights\n",
        "    features = np.c_[np.ones((features.shape[0],1)),features]\n",
        "    dimention = features.shape[1]\n",
        "    weight = np.zeros((dimention,1))\n",
        "    weight_history = np.zeros((iterations,dimention))\n",
        "    costs = np.zeros(iterations)\n",
        "    hypothesis = np.zeros((iterations,len(labels)))\n",
        "    loops = 0\n",
        "    \n",
        "    for i in range(iterations):\n",
        "        # predict y(target)\n",
        "        yHat = np.dot(features,weight)\n",
        "        yHat = sigmoid(yHat)\n",
        "        gradient = gradientDescent(features,yHat,labels)\n",
        "        weight = updateWeightLoss(weight,learningRate,gradient)\n",
        "        yHat = np.dot(features,weight)\n",
        "        yHat = sigmoid(yHat)\n",
        "        costs[i] = loss(yHat,labels)\n",
        "        weight_history[i,:] = weight.T\n",
        "        hypothesis[i,:] = yHat.T\n",
        "        loops +=1\n",
        "        # Stop Conditions\n",
        "        if i > 1 :\n",
        "            if abs(costs[i-1] - costs[i]) <= 1e-5:\n",
        "                break\n",
        "        \n",
        "    return weight, weight_history, costs, hypothesis, loops"
      ]
    },
    {
      "cell_type": "code",
      "execution_count": null,
      "metadata": {
        "id": "jbA99aeUhe3g"
      },
      "outputs": [],
      "source": [
        "def predict(features,label, theta):\n",
        "    summ=0\n",
        "    features = np.c_[np.ones((features.shape[0],1)),features]\n",
        "    yHat = np.dot(features,theta)\n",
        "    ySig = sigmoid(yHat)\n",
        "    result = pd.DataFrame(np.around(ySig,decimals=4)).join(label)\n",
        "    \n",
        "    result['Prediction'] = result[0].apply(lambda x:0 if x <= 0.5 else 1)\n",
        "    \n",
        "    for i in range(len(label)):\n",
        "        if result['Prediction'].values[i] == label.values[i]:\n",
        "            summ+=1\n",
        "    # print(\"====================\",summ/len(label))\n",
        "    \n",
        "    #print(\"=========\",accuracy_score(label,result['Prediction'].values))\n",
        "    #print(result)\n",
        "    return summ/len(label)# accuracy_score(label,result['Prediction'].values)#result"
      ]
    },
    {
      "cell_type": "markdown",
      "metadata": {
        "id": "oCgo_vxehe3g"
      },
      "source": [
        "## Load Data"
      ]
    },
    {
      "cell_type": "code",
      "execution_count": null,
      "metadata": {
        "id": "J6-Afruehe3g",
        "outputId": "58d970b6-4dd3-4310-fa25-04844c0308ad"
      },
      "outputs": [
        {
          "name": "stdout",
          "output_type": "stream",
          "text": [
            "<class 'pandas.core.frame.DataFrame'>\n",
            "RangeIndex: 303 entries, 0 to 302\n",
            "Data columns (total 14 columns):\n",
            " #   Column    Non-Null Count  Dtype  \n",
            "---  ------    --------------  -----  \n",
            " 0   age       303 non-null    int64  \n",
            " 1   sex       303 non-null    int64  \n",
            " 2   cp        303 non-null    int64  \n",
            " 3   trestbps  303 non-null    int64  \n",
            " 4   chol      303 non-null    int64  \n",
            " 5   fbs       303 non-null    int64  \n",
            " 6   restecg   303 non-null    int64  \n",
            " 7   thalach   303 non-null    int64  \n",
            " 8   exang     303 non-null    int64  \n",
            " 9   oldpeak   303 non-null    float64\n",
            " 10  slope     303 non-null    int64  \n",
            " 11  ca        303 non-null    int64  \n",
            " 12  thal      303 non-null    int64  \n",
            " 13  target    303 non-null    int64  \n",
            "dtypes: float64(1), int64(13)\n",
            "memory usage: 33.3 KB\n"
          ]
        }
      ],
      "source": [
        "data = pd.read_csv(\"heart.csv\")\n",
        "data.info()"
      ]
    },
    {
      "cell_type": "code",
      "execution_count": null,
      "metadata": {
        "id": "71IygEsmhe3h",
        "outputId": "2e66ca7b-5e5f-4ad9-c88a-5303395a48fc"
      },
      "outputs": [
        {
          "data": {
            "text/html": [
              "<div>\n",
              "<style scoped>\n",
              "    .dataframe tbody tr th:only-of-type {\n",
              "        vertical-align: middle;\n",
              "    }\n",
              "\n",
              "    .dataframe tbody tr th {\n",
              "        vertical-align: top;\n",
              "    }\n",
              "\n",
              "    .dataframe thead th {\n",
              "        text-align: right;\n",
              "    }\n",
              "</style>\n",
              "<table border=\"1\" class=\"dataframe\">\n",
              "  <thead>\n",
              "    <tr style=\"text-align: right;\">\n",
              "      <th></th>\n",
              "      <th>age</th>\n",
              "      <th>sex</th>\n",
              "      <th>cp</th>\n",
              "      <th>trestbps</th>\n",
              "      <th>chol</th>\n",
              "      <th>fbs</th>\n",
              "      <th>restecg</th>\n",
              "      <th>thalach</th>\n",
              "      <th>exang</th>\n",
              "      <th>oldpeak</th>\n",
              "      <th>slope</th>\n",
              "      <th>ca</th>\n",
              "      <th>thal</th>\n",
              "      <th>target</th>\n",
              "    </tr>\n",
              "  </thead>\n",
              "  <tbody>\n",
              "    <tr>\n",
              "      <th>0</th>\n",
              "      <td>63</td>\n",
              "      <td>1</td>\n",
              "      <td>3</td>\n",
              "      <td>145</td>\n",
              "      <td>233</td>\n",
              "      <td>1</td>\n",
              "      <td>0</td>\n",
              "      <td>150</td>\n",
              "      <td>0</td>\n",
              "      <td>2.3</td>\n",
              "      <td>0</td>\n",
              "      <td>0</td>\n",
              "      <td>1</td>\n",
              "      <td>1</td>\n",
              "    </tr>\n",
              "    <tr>\n",
              "      <th>1</th>\n",
              "      <td>37</td>\n",
              "      <td>1</td>\n",
              "      <td>2</td>\n",
              "      <td>130</td>\n",
              "      <td>250</td>\n",
              "      <td>0</td>\n",
              "      <td>1</td>\n",
              "      <td>187</td>\n",
              "      <td>0</td>\n",
              "      <td>3.5</td>\n",
              "      <td>0</td>\n",
              "      <td>0</td>\n",
              "      <td>2</td>\n",
              "      <td>1</td>\n",
              "    </tr>\n",
              "    <tr>\n",
              "      <th>2</th>\n",
              "      <td>41</td>\n",
              "      <td>0</td>\n",
              "      <td>1</td>\n",
              "      <td>130</td>\n",
              "      <td>204</td>\n",
              "      <td>0</td>\n",
              "      <td>0</td>\n",
              "      <td>172</td>\n",
              "      <td>0</td>\n",
              "      <td>1.4</td>\n",
              "      <td>2</td>\n",
              "      <td>0</td>\n",
              "      <td>2</td>\n",
              "      <td>1</td>\n",
              "    </tr>\n",
              "    <tr>\n",
              "      <th>3</th>\n",
              "      <td>56</td>\n",
              "      <td>1</td>\n",
              "      <td>1</td>\n",
              "      <td>120</td>\n",
              "      <td>236</td>\n",
              "      <td>0</td>\n",
              "      <td>1</td>\n",
              "      <td>178</td>\n",
              "      <td>0</td>\n",
              "      <td>0.8</td>\n",
              "      <td>2</td>\n",
              "      <td>0</td>\n",
              "      <td>2</td>\n",
              "      <td>1</td>\n",
              "    </tr>\n",
              "    <tr>\n",
              "      <th>4</th>\n",
              "      <td>57</td>\n",
              "      <td>0</td>\n",
              "      <td>0</td>\n",
              "      <td>120</td>\n",
              "      <td>354</td>\n",
              "      <td>0</td>\n",
              "      <td>1</td>\n",
              "      <td>163</td>\n",
              "      <td>1</td>\n",
              "      <td>0.6</td>\n",
              "      <td>2</td>\n",
              "      <td>0</td>\n",
              "      <td>2</td>\n",
              "      <td>1</td>\n",
              "    </tr>\n",
              "  </tbody>\n",
              "</table>\n",
              "</div>"
            ],
            "text/plain": [
              "   age  sex  cp  trestbps  chol  fbs  restecg  thalach  exang  oldpeak  slope  \\\n",
              "0   63    1   3       145   233    1        0      150      0      2.3      0   \n",
              "1   37    1   2       130   250    0        1      187      0      3.5      0   \n",
              "2   41    0   1       130   204    0        0      172      0      1.4      2   \n",
              "3   56    1   1       120   236    0        1      178      0      0.8      2   \n",
              "4   57    0   0       120   354    0        1      163      1      0.6      2   \n",
              "\n",
              "   ca  thal  target  \n",
              "0   0     1       1  \n",
              "1   0     2       1  \n",
              "2   0     2       1  \n",
              "3   0     2       1  \n",
              "4   0     2       1  "
            ]
          },
          "execution_count": 41,
          "metadata": {},
          "output_type": "execute_result"
        }
      ],
      "source": [
        "data.head()"
      ]
    },
    {
      "cell_type": "code",
      "execution_count": null,
      "metadata": {
        "id": "zOFPhA4She3h",
        "outputId": "d61f28af-136a-45bd-cd88-46abf913b9c9"
      },
      "outputs": [
        {
          "name": "stderr",
          "output_type": "stream",
          "text": [
            "c:\\ProgramData\\Anaconda3\\lib\\site-packages\\seaborn\\_decorators.py:36: FutureWarning: Pass the following variable as a keyword arg: x. From version 0.12, the only valid positional argument will be `data`, and passing other arguments without an explicit keyword will result in an error or misinterpretation.\n",
            "  warnings.warn(\n"
          ]
        },
        {
          "data": {
            "text/plain": [
              "<AxesSubplot:xlabel='target', ylabel='count'>"
            ]
          },
          "execution_count": 44,
          "metadata": {},
          "output_type": "execute_result"
        },
        {
          "data": {
            "image/png": "[encoded data removed]",
            "text/plain": [
              "<Figure size 432x288 with 1 Axes>"
            ]
          },
          "metadata": {},
          "output_type": "display_data"
        }
      ],
      "source": [
        "sns.countplot(data['target'])"
      ]
    },
    {
      "cell_type": "markdown",
      "metadata": {
        "id": "jDXP3ZIfhe3h"
      },
      "source": [
        "### Spliting into Train Test"
      ]
    },
    {
      "cell_type": "code",
      "execution_count": null,
      "metadata": {
        "id": "LQVyYvFyhe3i"
      },
      "outputs": [],
      "source": [
        "np.random.seed(123)\n",
        "test = data.sample(frac=0.30)\n",
        "idx = list(test.index)\n",
        "for i in idx:\n",
        "    data = data.drop(i)"
      ]
    },
    {
      "cell_type": "markdown",
      "metadata": {
        "id": "dp7mnDC7he3i"
      },
      "source": [
        "# Feature Selection"
      ]
    },
    {
      "cell_type": "markdown",
      "metadata": {
        "id": "zL7YIH8khe3i"
      },
      "source": [
        "## Visualization"
      ]
    },
    {
      "cell_type": "markdown",
      "metadata": {
        "id": "Dox6Fx3Ihe3i"
      },
      "source": [
        "Distribution of each feature"
      ]
    },
    {
      "cell_type": "code",
      "execution_count": null,
      "metadata": {
        "id": "R1NOc1PJhe3i",
        "outputId": "fd3cb103-4ea2-4082-b8e7-57ce3d6a73d5"
      },
      "outputs": [
        {
          "data": {
            "image/png": "[encoded data removed]",
            "text/plain": [
              "<Figure size 1080x864 with 12 Axes>"
            ]
          },
          "metadata": {},
          "output_type": "display_data"
        }
      ],
      "source": [
        "features = data.drop('target',axis=1)\n",
        "target = data[['target']]\n",
        "fig, ax = plt.subplots(4, 3, figsize=(15, 12))\n",
        "for variable, subplot in zip(features, ax.flatten()):\n",
        "    g=sns.histplot(data[variable],bins=30, kde=True, ax=subplot)\n",
        "    g.lines[0].set_color('crimson')\n",
        "    g.axvline(x=data[variable].mean(), color='m', label='Mean', linestyle='--', linewidth=2)\n",
        "plt.tight_layout()"
      ]
    },
    {
      "cell_type": "markdown",
      "metadata": {
        "id": "_eILc2kEhe3i"
      },
      "source": [
        "#### From histogram we notice that features that have a reltively normal distribution and other are categories "
      ]
    },
    {
      "cell_type": "markdown",
      "metadata": {
        "id": "O6BFTiOvhe3j"
      },
      "source": [
        "Heatmap for get correlation between feature to ensure that there is no redundant features or highly correlated features"
      ]
    },
    {
      "cell_type": "code",
      "execution_count": null,
      "metadata": {
        "id": "E27yhiphhe3j",
        "outputId": "a3bd7d35-e3e9-4243-9c60-fb67f7c9e98d"
      },
      "outputs": [
        {
          "data": {
            "text/plain": [
              "<AxesSubplot:>"
            ]
          },
          "execution_count": 42,
          "metadata": {},
          "output_type": "execute_result"
        },
        {
          "data": {
            "image/png": "[encoded data removed]",
            "text/plain": [
              "<Figure size 1080x1080 with 2 Axes>"
            ]
          },
          "metadata": {},
          "output_type": "display_data"
        }
      ],
      "source": [
        "plt.figure(figsize=(15,15))\n",
        "sns.heatmap(data.corr(), annot=True)"
      ]
    },
    {
      "cell_type": "code",
      "execution_count": null,
      "metadata": {
        "id": "NITxPbxyhe3j",
        "outputId": "3240cc24-8b5b-4952-ac71-5741ca0d71cc"
      },
      "outputs": [
        {
          "data": {
            "text/plain": [
              "<matplotlib.legend.Legend at 0x14b8ce47580>"
            ]
          },
          "execution_count": 47,
          "metadata": {},
          "output_type": "execute_result"
        },
        {
          "data": {
            "image/png": "[encoded data removed]",
            "text/plain": [
              "<Figure size 432x288 with 1 Axes>"
            ]
          },
          "metadata": {},
          "output_type": "display_data"
        }
      ],
      "source": [
        "\n",
        "plt.scatter(x=data['age'].loc[data['target'] == 0],y=data['ca'].loc[data['target'] == 0],label = \"Target = 0\")\n",
        "plt.scatter(x=data['age'].loc[data['target'] == 1],y=data['ca'].loc[data['target'] == 1],label = \"Target = 1\")\n",
        "\n",
        "plt.xlabel(\"Age\")\n",
        "plt.ylabel(\"Ca\")\n",
        "plt.grid()\n",
        "plt.title(\"Age Vs Ca\")\n",
        "plt.legend()"
      ]
    },
    {
      "cell_type": "code",
      "execution_count": null,
      "metadata": {
        "id": "Lpk1vTLnhe3j",
        "outputId": "c7fb34a6-b003-41e6-cd08-689c7852de2d"
      },
      "outputs": [
        {
          "data": {
            "application/vnd.plotly.v1+json": {
              "config": {
                "plotlyServerURL": "https://plot.ly"
              },
              "data": [
                {
                  "hovertemplate": "age=%{x}<br>ca=%{y}<br>target=%{marker.color}<extra></extra>",
                  "legendgroup": "",
                  "marker": {
                    "color": [
                      1,
                      1,
                      1,
                      1,
                      1,
                      1,
                      1,
                      1,
                      1,
                      1,
                      1,
                      1,
                      1,
                      1,
                      1,
                      1,
                      1,
                      1,
                      1,
                      1,
                      1,
                      1,
                      1,
                      1,
                      1,
                      1,
                      1,
                      1,
                      1,
                      1,
                      1,
                      1,
                      1,
                      1,
                      1,
                      1,
                      1,
                      1,
                      1,
                      1,
                      1,
                      1,
                      1,
                      1,
                      1,
                      1,
                      1,
                      1,
                      1,
                      1,
                      1,
                      1,
                      1,
                      1,
                      1,
                      1,
                      1,
                      1,
                      1,
                      1,
                      1,
                      1,
                      1,
                      1,
                      1,
                      1,
                      1,
                      1,
                      1,
                      1,
                      1,
                      1,
                      1,
                      1,
                      1,
                      1,
                      1,
                      1,
                      1,
                      1,
                      1,
                      1,
                      1,
                      1,
                      1,
                      1,
                      1,
                      1,
                      1,
                      1,
                      1,
                      1,
                      1,
                      1,
                      1,
                      1,
                      1,
                      1,
                      1,
                      1,
                      1,
                      1,
                      1,
                      1,
                      1,
                      1,
                      1,
                      1,
                      1,
                      1,
                      1,
                      1,
                      1,
                      1,
                      1,
                      1,
                      1,
                      1,
                      1,
                      0,
                      0,
                      0,
                      0,
                      0,
                      0,
                      0,
                      0,
                      0,
                      0,
                      0,
                      0,
                      0,
                      0,
                      0,
                      0,
                      0,
                      0,
                      0,
                      0,
                      0,
                      0,
                      0,
                      0,
                      0,
                      0,
                      0,
                      0,
                      0,
                      0,
                      0,
                      0,
                      0,
                      0,
                      0,
                      0,
                      0,
                      0,
                      0,
                      0,
                      0,
                      0,
                      0,
                      0,
                      0,
                      0,
                      0,
                      0,
                      0,
                      0,
                      0,
                      0,
                      0,
                      0,
                      0,
                      0,
                      0,
                      0,
                      0,
                      0,
                      0,
                      0,
                      0,
                      0,
                      0,
                      0,
                      0,
                      0,
                      0,
                      0,
                      0,
                      0,
                      0,
                      0,
                      0,
                      0,
                      0,
                      0,
                      0,
                      0,
                      0,
                      0,
                      0,
                      0,
                      0,
                      0,
                      0,
                      0,
                      0,
                      0,
                      0,
                      0,
                      0
                    ],
                    "coloraxis": "coloraxis",
                    "symbol": "circle"
                  },
                  "mode": "markers",
                  "name": "",
                  "scene": "scene",
                  "showlegend": false,
                  "type": "scatter3d",
                  "x": [
                    63,
                    37,
                    41,
                    56,
                    57,
                    56,
                    52,
                    57,
                    54,
                    49,
                    64,
                    58,
                    50,
                    58,
                    66,
                    43,
                    61,
                    71,
                    51,
                    65,
                    44,
                    54,
                    51,
                    54,
                    65,
                    65,
                    51,
                    53,
                    39,
                    52,
                    44,
                    47,
                    53,
                    53,
                    51,
                    66,
                    52,
                    48,
                    45,
                    34,
                    57,
                    71,
                    52,
                    41,
                    58,
                    35,
                    51,
                    45,
                    44,
                    62,
                    54,
                    51,
                    43,
                    51,
                    59,
                    58,
                    52,
                    42,
                    67,
                    68,
                    46,
                    54,
                    57,
                    52,
                    54,
                    62,
                    52,
                    43,
                    53,
                    42,
                    59,
                    42,
                    50,
                    69,
                    50,
                    50,
                    64,
                    57,
                    64,
                    43,
                    41,
                    56,
                    46,
                    46,
                    59,
                    41,
                    54,
                    34,
                    47,
                    67,
                    52,
                    74,
                    54,
                    49,
                    42,
                    41,
                    41,
                    49,
                    60,
                    62,
                    57,
                    64,
                    51,
                    43,
                    76,
                    70,
                    44,
                    60,
                    42,
                    71,
                    64,
                    66,
                    39,
                    47,
                    35,
                    58,
                    56,
                    38,
                    38,
                    67,
                    63,
                    53,
                    56,
                    58,
                    58,
                    60,
                    64,
                    43,
                    55,
                    65,
                    61,
                    58,
                    44,
                    60,
                    50,
                    41,
                    51,
                    54,
                    60,
                    60,
                    59,
                    62,
                    52,
                    59,
                    60,
                    49,
                    59,
                    57,
                    61,
                    39,
                    61,
                    56,
                    43,
                    63,
                    65,
                    48,
                    55,
                    65,
                    54,
                    70,
                    62,
                    35,
                    47,
                    55,
                    64,
                    70,
                    51,
                    58,
                    60,
                    77,
                    35,
                    70,
                    64,
                    57,
                    56,
                    56,
                    54,
                    69,
                    62,
                    67,
                    59,
                    45,
                    50,
                    62,
                    66,
                    54,
                    66,
                    49,
                    61,
                    67,
                    47,
                    52,
                    58,
                    57,
                    58,
                    61,
                    59,
                    40,
                    46,
                    59,
                    57,
                    55,
                    61,
                    58,
                    67,
                    44,
                    63,
                    59,
                    57,
                    68,
                    57,
                    57
                  ],
                  "y": [
                    0,
                    0,
                    0,
                    0,
                    0,
                    0,
                    0,
                    0,
                    0,
                    0,
                    0,
                    0,
                    0,
                    0,
                    0,
                    0,
                    0,
                    2,
                    0,
                    1,
                    0,
                    1,
                    1,
                    0,
                    0,
                    0,
                    1,
                    0,
                    0,
                    0,
                    0,
                    0,
                    0,
                    0,
                    0,
                    0,
                    1,
                    0,
                    0,
                    0,
                    1,
                    1,
                    0,
                    0,
                    0,
                    0,
                    0,
                    0,
                    0,
                    0,
                    0,
                    0,
                    0,
                    0,
                    0,
                    0,
                    0,
                    0,
                    0,
                    1,
                    0,
                    0,
                    0,
                    4,
                    1,
                    0,
                    3,
                    1,
                    3,
                    2,
                    0,
                    0,
                    0,
                    1,
                    0,
                    0,
                    0,
                    1,
                    0,
                    0,
                    0,
                    0,
                    0,
                    0,
                    0,
                    0,
                    0,
                    0,
                    0,
                    1,
                    0,
                    1,
                    1,
                    0,
                    0,
                    0,
                    0,
                    0,
                    0,
                    0,
                    0,
                    1,
                    0,
                    0,
                    0,
                    0,
                    1,
                    0,
                    0,
                    0,
                    0,
                    1,
                    0,
                    0,
                    0,
                    4,
                    0,
                    4,
                    4,
                    2,
                    1,
                    0,
                    1,
                    0,
                    2,
                    2,
                    0,
                    0,
                    1,
                    3,
                    0,
                    1,
                    1,
                    1,
                    1,
                    0,
                    0,
                    1,
                    2,
                    0,
                    0,
                    2,
                    1,
                    1,
                    2,
                    3,
                    1,
                    1,
                    1,
                    0,
                    0,
                    1,
                    0,
                    3,
                    1,
                    2,
                    0,
                    1,
                    1,
                    0,
                    1,
                    0,
                    0,
                    1,
                    1,
                    3,
                    0,
                    2,
                    2,
                    3,
                    0,
                    1,
                    2,
                    1,
                    1,
                    2,
                    1,
                    3,
                    3,
                    2,
                    0,
                    3,
                    0,
                    0,
                    2,
                    1,
                    1,
                    3,
                    2,
                    0,
                    1,
                    2,
                    1,
                    0,
                    2,
                    1,
                    1,
                    0,
                    2,
                    2,
                    1,
                    1,
                    1,
                    3,
                    0,
                    0,
                    2,
                    2,
                    0,
                    2,
                    1,
                    1
                  ],
                  "z": [
                    1,
                    1,
                    1,
                    1,
                    1,
                    1,
                    1,
                    1,
                    1,
                    1,
                    1,
                    1,
                    1,
                    1,
                    1,
                    1,
                    1,
                    1,
                    1,
                    1,
                    1,
                    1,
                    1,
                    1,
                    1,
                    1,
                    1,
                    1,
                    1,
                    1,
                    1,
                    1,
                    1,
                    1,
                    1,
                    1,
                    1,
                    1,
                    1,
                    1,
                    1,
                    1,
                    1,
                    1,
                    1,
                    1,
                    1,
                    1,
                    1,
                    1,
                    1,
                    1,
                    1,
                    1,
                    1,
                    1,
                    1,
                    1,
                    1,
                    1,
                    1,
                    1,
                    1,
                    1,
                    1,
                    1,
                    1,
                    1,
                    1,
                    1,
                    1,
                    1,
                    1,
                    1,
                    1,
                    1,
                    1,
                    1,
                    1,
                    1,
                    1,
                    1,
                    1,
                    1,
                    1,
                    1,
                    1,
                    1,
                    1,
                    1,
                    1,
                    1,
                    1,
                    1,
                    1,
                    1,
                    1,
                    1,
                    1,
                    1,
                    1,
                    1,
                    1,
                    1,
                    1,
                    1,
                    1,
                    1,
                    1,
                    1,
                    1,
                    1,
                    1,
                    1,
                    1,
                    1,
                    1,
                    1,
                    1,
                    0,
                    0,
                    0,
                    0,
                    0,
                    0,
                    0,
                    0,
                    0,
                    0,
                    0,
                    0,
                    0,
                    0,
                    0,
                    0,
                    0,
                    0,
                    0,
                    0,
                    0,
                    0,
                    0,
                    0,
                    0,
                    0,
                    0,
                    0,
                    0,
                    0,
                    0,
                    0,
                    0,
                    0,
                    0,
                    0,
                    0,
                    0,
                    0,
                    0,
                    0,
                    0,
                    0,
                    0,
                    0,
                    0,
                    0,
                    0,
                    0,
                    0,
                    0,
                    0,
                    0,
                    0,
                    0,
                    0,
                    0,
                    0,
                    0,
                    0,
                    0,
                    0,
                    0,
                    0,
                    0,
                    0,
                    0,
                    0,
                    0,
                    0,
                    0,
                    0,
                    0,
                    0,
                    0,
                    0,
                    0,
                    0,
                    0,
                    0,
                    0,
                    0,
                    0,
                    0,
                    0,
                    0,
                    0,
                    0,
                    0,
                    0,
                    0,
                    0,
                    0
                  ]
                }
              ],
              "layout": {
                "coloraxis": {
                  "colorbar": {
                    "title": {
                      "text": "target"
                    }
                  },
                  "colorscale": [
                    [
                      0,
                      "#0d0887"
                    ],
                    [
                      0.1111111111111111,
                      "#46039f"
                    ],
                    [
                      0.2222222222222222,
                      "#7201a8"
                    ],
                    [
                      0.3333333333333333,
                      "#9c179e"
                    ],
                    [
                      0.4444444444444444,
                      "#bd3786"
                    ],
                    [
                      0.5555555555555556,
                      "#d8576b"
                    ],
                    [
                      0.6666666666666666,
                      "#ed7953"
                    ],
                    [
                      0.7777777777777778,
                      "#fb9f3a"
                    ],
                    [
                      0.8888888888888888,
                      "#fdca26"
                    ],
                    [
                      1,
                      "#f0f921"
                    ]
                  ]
                },
                "legend": {
                  "tracegroupgap": 0
                },
                "margin": {
                  "b": 0,
                  "l": 0,
                  "r": 0,
                  "t": 0
                },
                "scene": {
                  "domain": {
                    "x": [
                      0,
                      1
                    ],
                    "y": [
                      0,
                      1
                    ]
                  },
                  "xaxis": {
                    "title": {
                      "text": "age"
                    }
                  },
                  "yaxis": {
                    "title": {
                      "text": "ca"
                    }
                  },
                  "zaxis": {
                    "title": {
                      "text": "target"
                    }
                  }
                },
                "template": {
                  "data": {
                    "bar": [
                      {
                        "error_x": {
                          "color": "#2a3f5f"
                        },
                        "error_y": {
                          "color": "#2a3f5f"
                        },
                        "marker": {
                          "line": {
                            "color": "#E5ECF6",
                            "width": 0.5
                          },
                          "pattern": {
                            "fillmode": "overlay",
                            "size": 10,
                            "solidity": 0.2
                          }
                        },
                        "type": "bar"
                      }
                    ],
                    "barpolar": [
                      {
                        "marker": {
                          "line": {
                            "color": "#E5ECF6",
                            "width": 0.5
                          },
                          "pattern": {
                            "fillmode": "overlay",
                            "size": 10,
                            "solidity": 0.2
                          }
                        },
                        "type": "barpolar"
                      }
                    ],
                    "carpet": [
                      {
                        "aaxis": {
                          "endlinecolor": "#2a3f5f",
                          "gridcolor": "white",
                          "linecolor": "white",
                          "minorgridcolor": "white",
                          "startlinecolor": "#2a3f5f"
                        },
                        "baxis": {
                          "endlinecolor": "#2a3f5f",
                          "gridcolor": "white",
                          "linecolor": "white",
                          "minorgridcolor": "white",
                          "startlinecolor": "#2a3f5f"
                        },
                        "type": "carpet"
                      }
                    ],
                    "choropleth": [
                      {
                        "colorbar": {
                          "outlinewidth": 0,
                          "ticks": ""
                        },
                        "type": "choropleth"
                      }
                    ],
                    "contour": [
                      {
                        "colorbar": {
                          "outlinewidth": 0,
                          "ticks": ""
                        },
                        "colorscale": [
                          [
                            0,
                            "#0d0887"
                          ],
                          [
                            0.1111111111111111,
                            "#46039f"
                          ],
                          [
                            0.2222222222222222,
                            "#7201a8"
                          ],
                          [
                            0.3333333333333333,
                            "#9c179e"
                          ],
                          [
                            0.4444444444444444,
                            "#bd3786"
                          ],
                          [
                            0.5555555555555556,
                            "#d8576b"
                          ],
                          [
                            0.6666666666666666,
                            "#ed7953"
                          ],
                          [
                            0.7777777777777778,
                            "#fb9f3a"
                          ],
                          [
                            0.8888888888888888,
                            "#fdca26"
                          ],
                          [
                            1,
                            "#f0f921"
                          ]
                        ],
                        "type": "contour"
                      }
                    ],
                    "contourcarpet": [
                      {
                        "colorbar": {
                          "outlinewidth": 0,
                          "ticks": ""
                        },
                        "type": "contourcarpet"
                      }
                    ],
                    "heatmap": [
                      {
                        "colorbar": {
                          "outlinewidth": 0,
                          "ticks": ""
                        },
                        "colorscale": [
                          [
                            0,
                            "#0d0887"
                          ],
                          [
                            0.1111111111111111,
                            "#46039f"
                          ],
                          [
                            0.2222222222222222,
                            "#7201a8"
                          ],
                          [
                            0.3333333333333333,
                            "#9c179e"
                          ],
                          [
                            0.4444444444444444,
                            "#bd3786"
                          ],
                          [
                            0.5555555555555556,
                            "#d8576b"
                          ],
                          [
                            0.6666666666666666,
                            "#ed7953"
                          ],
                          [
                            0.7777777777777778,
                            "#fb9f3a"
                          ],
                          [
                            0.8888888888888888,
                            "#fdca26"
                          ],
                          [
                            1,
                            "#f0f921"
                          ]
                        ],
                        "type": "heatmap"
                      }
                    ],
                    "heatmapgl": [
                      {
                        "colorbar": {
                          "outlinewidth": 0,
                          "ticks": ""
                        },
                        "colorscale": [
                          [
                            0,
                            "#0d0887"
                          ],
                          [
                            0.1111111111111111,
                            "#46039f"
                          ],
                          [
                            0.2222222222222222,
                            "#7201a8"
                          ],
                          [
                            0.3333333333333333,
                            "#9c179e"
                          ],
                          [
                            0.4444444444444444,
                            "#bd3786"
                          ],
                          [
                            0.5555555555555556,
                            "#d8576b"
                          ],
                          [
                            0.6666666666666666,
                            "#ed7953"
                          ],
                          [
                            0.7777777777777778,
                            "#fb9f3a"
                          ],
                          [
                            0.8888888888888888,
                            "#fdca26"
                          ],
                          [
                            1,
                            "#f0f921"
                          ]
                        ],
                        "type": "heatmapgl"
                      }
                    ],
                    "histogram": [
                      {
                        "marker": {
                          "pattern": {
                            "fillmode": "overlay",
                            "size": 10,
                            "solidity": 0.2
                          }
                        },
                        "type": "histogram"
                      }
                    ],
                    "histogram2d": [
                      {
                        "colorbar": {
                          "outlinewidth": 0,
                          "ticks": ""
                        },
                        "colorscale": [
                          [
                            0,
                            "#0d0887"
                          ],
                          [
                            0.1111111111111111,
                            "#46039f"
                          ],
                          [
                            0.2222222222222222,
                            "#7201a8"
                          ],
                          [
                            0.3333333333333333,
                            "#9c179e"
                          ],
                          [
                            0.4444444444444444,
                            "#bd3786"
                          ],
                          [
                            0.5555555555555556,
                            "#d8576b"
                          ],
                          [
                            0.6666666666666666,
                            "#ed7953"
                          ],
                          [
                            0.7777777777777778,
                            "#fb9f3a"
                          ],
                          [
                            0.8888888888888888,
                            "#fdca26"
                          ],
                          [
                            1,
                            "#f0f921"
                          ]
                        ],
                        "type": "histogram2d"
                      }
                    ],
                    "histogram2dcontour": [
                      {
                        "colorbar": {
                          "outlinewidth": 0,
                          "ticks": ""
                        },
                        "colorscale": [
                          [
                            0,
                            "#0d0887"
                          ],
                          [
                            0.1111111111111111,
                            "#46039f"
                          ],
                          [
                            0.2222222222222222,
                            "#7201a8"
                          ],
                          [
                            0.3333333333333333,
                            "#9c179e"
                          ],
                          [
                            0.4444444444444444,
                            "#bd3786"
                          ],
                          [
                            0.5555555555555556,
                            "#d8576b"
                          ],
                          [
                            0.6666666666666666,
                            "#ed7953"
                          ],
                          [
                            0.7777777777777778,
                            "#fb9f3a"
                          ],
                          [
                            0.8888888888888888,
                            "#fdca26"
                          ],
                          [
                            1,
                            "#f0f921"
                          ]
                        ],
                        "type": "histogram2dcontour"
                      }
                    ],
                    "mesh3d": [
                      {
                        "colorbar": {
                          "outlinewidth": 0,
                          "ticks": ""
                        },
                        "type": "mesh3d"
                      }
                    ],
                    "parcoords": [
                      {
                        "line": {
                          "colorbar": {
                            "outlinewidth": 0,
                            "ticks": ""
                          }
                        },
                        "type": "parcoords"
                      }
                    ],
                    "pie": [
                      {
                        "automargin": true,
                        "type": "pie"
                      }
                    ],
                    "scatter": [
                      {
                        "fillpattern": {
                          "fillmode": "overlay",
                          "size": 10,
                          "solidity": 0.2
                        },
                        "type": "scatter"
                      }
                    ],
                    "scatter3d": [
                      {
                        "line": {
                          "colorbar": {
                            "outlinewidth": 0,
                            "ticks": ""
                          }
                        },
                        "marker": {
                          "colorbar": {
                            "outlinewidth": 0,
                            "ticks": ""
                          }
                        },
                        "type": "scatter3d"
                      }
                    ],
                    "scattercarpet": [
                      {
                        "marker": {
                          "colorbar": {
                            "outlinewidth": 0,
                            "ticks": ""
                          }
                        },
                        "type": "scattercarpet"
                      }
                    ],
                    "scattergeo": [
                      {
                        "marker": {
                          "colorbar": {
                            "outlinewidth": 0,
                            "ticks": ""
                          }
                        },
                        "type": "scattergeo"
                      }
                    ],
                    "scattergl": [
                      {
                        "marker": {
                          "colorbar": {
                            "outlinewidth": 0,
                            "ticks": ""
                          }
                        },
                        "type": "scattergl"
                      }
                    ],
                    "scattermapbox": [
                      {
                        "marker": {
                          "colorbar": {
                            "outlinewidth": 0,
                            "ticks": ""
                          }
                        },
                        "type": "scattermapbox"
                      }
                    ],
                    "scatterpolar": [
                      {
                        "marker": {
                          "colorbar": {
                            "outlinewidth": 0,
                            "ticks": ""
                          }
                        },
                        "type": "scatterpolar"
                      }
                    ],
                    "scatterpolargl": [
                      {
                        "marker": {
                          "colorbar": {
                            "outlinewidth": 0,
                            "ticks": ""
                          }
                        },
                        "type": "scatterpolargl"
                      }
                    ],
                    "scatterternary": [
                      {
                        "marker": {
                          "colorbar": {
                            "outlinewidth": 0,
                            "ticks": ""
                          }
                        },
                        "type": "scatterternary"
                      }
                    ],
                    "surface": [
                      {
                        "colorbar": {
                          "outlinewidth": 0,
                          "ticks": ""
                        },
                        "colorscale": [
                          [
                            0,
                            "#0d0887"
                          ],
                          [
                            0.1111111111111111,
                            "#46039f"
                          ],
                          [
                            0.2222222222222222,
                            "#7201a8"
                          ],
                          [
                            0.3333333333333333,
                            "#9c179e"
                          ],
                          [
                            0.4444444444444444,
                            "#bd3786"
                          ],
                          [
                            0.5555555555555556,
                            "#d8576b"
                          ],
                          [
                            0.6666666666666666,
                            "#ed7953"
                          ],
                          [
                            0.7777777777777778,
                            "#fb9f3a"
                          ],
                          [
                            0.8888888888888888,
                            "#fdca26"
                          ],
                          [
                            1,
                            "#f0f921"
                          ]
                        ],
                        "type": "surface"
                      }
                    ],
                    "table": [
                      {
                        "cells": {
                          "fill": {
                            "color": "#EBF0F8"
                          },
                          "line": {
                            "color": "white"
                          }
                        },
                        "header": {
                          "fill": {
                            "color": "#C8D4E3"
                          },
                          "line": {
                            "color": "white"
                          }
                        },
                        "type": "table"
                      }
                    ]
                  },
                  "layout": {
                    "annotationdefaults": {
                      "arrowcolor": "#2a3f5f",
                      "arrowhead": 0,
                      "arrowwidth": 1
                    },
                    "autotypenumbers": "strict",
                    "coloraxis": {
                      "colorbar": {
                        "outlinewidth": 0,
                        "ticks": ""
                      }
                    },
                    "colorscale": {
                      "diverging": [
                        [
                          0,
                          "#8e0152"
                        ],
                        [
                          0.1,
                          "#c51b7d"
                        ],
                        [
                          0.2,
                          "#de77ae"
                        ],
                        [
                          0.3,
                          "#f1b6da"
                        ],
                        [
                          0.4,
                          "#fde0ef"
                        ],
                        [
                          0.5,
                          "#f7f7f7"
                        ],
                        [
                          0.6,
                          "#e6f5d0"
                        ],
                        [
                          0.7,
                          "#b8e186"
                        ],
                        [
                          0.8,
                          "#7fbc41"
                        ],
                        [
                          0.9,
                          "#4d9221"
                        ],
                        [
                          1,
                          "#276419"
                        ]
                      ],
                      "sequential": [
                        [
                          0,
                          "#0d0887"
                        ],
                        [
                          0.1111111111111111,
                          "#46039f"
                        ],
                        [
                          0.2222222222222222,
                          "#7201a8"
                        ],
                        [
                          0.3333333333333333,
                          "#9c179e"
                        ],
                        [
                          0.4444444444444444,
                          "#bd3786"
                        ],
                        [
                          0.5555555555555556,
                          "#d8576b"
                        ],
                        [
                          0.6666666666666666,
                          "#ed7953"
                        ],
                        [
                          0.7777777777777778,
                          "#fb9f3a"
                        ],
                        [
                          0.8888888888888888,
                          "#fdca26"
                        ],
                        [
                          1,
                          "#f0f921"
                        ]
                      ],
                      "sequentialminus": [
                        [
                          0,
                          "#0d0887"
                        ],
                        [
                          0.1111111111111111,
                          "#46039f"
                        ],
                        [
                          0.2222222222222222,
                          "#7201a8"
                        ],
                        [
                          0.3333333333333333,
                          "#9c179e"
                        ],
                        [
                          0.4444444444444444,
                          "#bd3786"
                        ],
                        [
                          0.5555555555555556,
                          "#d8576b"
                        ],
                        [
                          0.6666666666666666,
                          "#ed7953"
                        ],
                        [
                          0.7777777777777778,
                          "#fb9f3a"
                        ],
                        [
                          0.8888888888888888,
                          "#fdca26"
                        ],
                        [
                          1,
                          "#f0f921"
                        ]
                      ]
                    },
                    "colorway": [
                      "#636efa",
                      "#EF553B",
                      "#00cc96",
                      "#ab63fa",
                      "#FFA15A",
                      "#19d3f3",
                      "#FF6692",
                      "#B6E880",
                      "#FF97FF",
                      "#FECB52"
                    ],
                    "font": {
                      "color": "#2a3f5f"
                    },
                    "geo": {
                      "bgcolor": "white",
                      "lakecolor": "white",
                      "landcolor": "#E5ECF6",
                      "showlakes": true,
                      "showland": true,
                      "subunitcolor": "white"
                    },
                    "hoverlabel": {
                      "align": "left"
                    },
                    "hovermode": "closest",
                    "mapbox": {
                      "style": "light"
                    },
                    "paper_bgcolor": "white",
                    "plot_bgcolor": "#E5ECF6",
                    "polar": {
                      "angularaxis": {
                        "gridcolor": "white",
                        "linecolor": "white",
                        "ticks": ""
                      },
                      "bgcolor": "#E5ECF6",
                      "radialaxis": {
                        "gridcolor": "white",
                        "linecolor": "white",
                        "ticks": ""
                      }
                    },
                    "scene": {
                      "xaxis": {
                        "backgroundcolor": "#E5ECF6",
                        "gridcolor": "white",
                        "gridwidth": 2,
                        "linecolor": "white",
                        "showbackground": true,
                        "ticks": "",
                        "zerolinecolor": "white"
                      },
                      "yaxis": {
                        "backgroundcolor": "#E5ECF6",
                        "gridcolor": "white",
                        "gridwidth": 2,
                        "linecolor": "white",
                        "showbackground": true,
                        "ticks": "",
                        "zerolinecolor": "white"
                      },
                      "zaxis": {
                        "backgroundcolor": "#E5ECF6",
                        "gridcolor": "white",
                        "gridwidth": 2,
                        "linecolor": "white",
                        "showbackground": true,
                        "ticks": "",
                        "zerolinecolor": "white"
                      }
                    },
                    "shapedefaults": {
                      "line": {
                        "color": "#2a3f5f"
                      }
                    },
                    "ternary": {
                      "aaxis": {
                        "gridcolor": "white",
                        "linecolor": "white",
                        "ticks": ""
                      },
                      "baxis": {
                        "gridcolor": "white",
                        "linecolor": "white",
                        "ticks": ""
                      },
                      "bgcolor": "#E5ECF6",
                      "caxis": {
                        "gridcolor": "white",
                        "linecolor": "white",
                        "ticks": ""
                      }
                    },
                    "title": {
                      "x": 0.05
                    },
                    "xaxis": {
                      "automargin": true,
                      "gridcolor": "white",
                      "linecolor": "white",
                      "ticks": "",
                      "title": {
                        "standoff": 15
                      },
                      "zerolinecolor": "white",
                      "zerolinewidth": 2
                    },
                    "yaxis": {
                      "automargin": true,
                      "gridcolor": "white",
                      "linecolor": "white",
                      "ticks": "",
                      "title": {
                        "standoff": 15
                      },
                      "zerolinecolor": "white",
                      "zerolinewidth": 2
                    }
                  }
                }
              }
            }
          },
          "metadata": {},
          "output_type": "display_data"
        }
      ],
      "source": [
        "fig = px.scatter_3d(data, x='age', y='ca',z = 'target',color='target')\n",
        "fig.update_layout(margin=dict(l=0, r=0, b=0, t=0))\n",
        "fig.show()"
      ]
    },
    {
      "cell_type": "code",
      "execution_count": null,
      "metadata": {
        "id": "Xta0WImqhe3j",
        "outputId": "37e6b5ad-530c-4aea-ef5c-90fd3420f3b3"
      },
      "outputs": [
        {
          "data": {
            "text/plain": [
              "Text(0.5, 1.0, 'Age Vs Chol')"
            ]
          },
          "execution_count": 48,
          "metadata": {},
          "output_type": "execute_result"
        },
        {
          "data": {
            "image/png": "[encoded data removed]",
            "text/plain": [
              "<Figure size 432x288 with 1 Axes>"
            ]
          },
          "metadata": {},
          "output_type": "display_data"
        }
      ],
      "source": [
        "\n",
        "plt.scatter(x=data['age'].loc[data['target'] == 0],y=data['chol'].loc[data['target'] == 0],label = \"Target = 0\")\n",
        "plt.scatter(x=data['age'].loc[data['target'] == 1],y=data['chol'].loc[data['target'] == 1],label = \"Target = 1\")\n",
        "\n",
        "plt.xlabel(\"Age\")\n",
        "plt.ylabel(\"Chol\")\n",
        "plt.grid()\n",
        "plt.legend()\n",
        "plt.title(\"Age Vs Chol\")"
      ]
    },
    {
      "cell_type": "code",
      "execution_count": null,
      "metadata": {
        "id": "ufqp1fbOhe3k",
        "outputId": "6c0fb3ee-7ec2-4866-8119-d641807efa79"
      },
      "outputs": [
        {
          "data": {
            "application/vnd.plotly.v1+json": {
              "config": {
                "plotlyServerURL": "https://plot.ly"
              },
              "data": [
                {
                  "hovertemplate": "age=%{x}<br>chol=%{y}<br>target=%{marker.color}<extra></extra>",
                  "legendgroup": "",
                  "marker": {
                    "color": [
                      1,
                      1,
                      1,
                      1,
                      1,
                      1,
                      1,
                      1,
                      1,
                      1,
                      1,
                      1,
                      1,
                      1,
                      1,
                      1,
                      1,
                      1,
                      1,
                      1,
                      1,
                      1,
                      1,
                      1,
                      1,
                      1,
                      1,
                      1,
                      1,
                      1,
                      1,
                      1,
                      1,
                      1,
                      1,
                      1,
                      1,
                      1,
                      1,
                      1,
                      1,
                      1,
                      1,
                      1,
                      1,
                      1,
                      1,
                      1,
                      1,
                      1,
                      1,
                      1,
                      1,
                      1,
                      1,
                      1,
                      1,
                      1,
                      1,
                      1,
                      1,
                      1,
                      1,
                      1,
                      1,
                      1,
                      1,
                      1,
                      1,
                      1,
                      1,
                      1,
                      1,
                      1,
                      1,
                      1,
                      1,
                      1,
                      1,
                      1,
                      1,
                      1,
                      1,
                      1,
                      1,
                      1,
                      1,
                      1,
                      1,
                      1,
                      1,
                      1,
                      1,
                      1,
                      1,
                      1,
                      1,
                      1,
                      1,
                      1,
                      1,
                      1,
                      1,
                      1,
                      1,
                      1,
                      1,
                      1,
                      1,
                      1,
                      1,
                      1,
                      1,
                      1,
                      1,
                      1,
                      1,
                      1,
                      1,
                      0,
                      0,
                      0,
                      0,
                      0,
                      0,
                      0,
                      0,
                      0,
                      0,
                      0,
                      0,
                      0,
                      0,
                      0,
                      0,
                      0,
                      0,
                      0,
                      0,
                      0,
                      0,
                      0,
                      0,
                      0,
                      0,
                      0,
                      0,
                      0,
                      0,
                      0,
                      0,
                      0,
                      0,
                      0,
                      0,
                      0,
                      0,
                      0,
                      0,
                      0,
                      0,
                      0,
                      0,
                      0,
                      0,
                      0,
                      0,
                      0,
                      0,
                      0,
                      0,
                      0,
                      0,
                      0,
                      0,
                      0,
                      0,
                      0,
                      0,
                      0,
                      0,
                      0,
                      0,
                      0,
                      0,
                      0,
                      0,
                      0,
                      0,
                      0,
                      0,
                      0,
                      0,
                      0,
                      0,
                      0,
                      0,
                      0,
                      0,
                      0,
                      0,
                      0,
                      0,
                      0,
                      0,
                      0,
                      0,
                      0,
                      0,
                      0,
                      0,
                      0
                    ],
                    "coloraxis": "coloraxis",
                    "symbol": "circle"
                  },
                  "mode": "markers",
                  "name": "",
                  "scene": "scene",
                  "showlegend": false,
                  "type": "scatter3d",
                  "x": [
                    63,
                    37,
                    41,
                    56,
                    57,
                    56,
                    52,
                    57,
                    54,
                    49,
                    64,
                    58,
                    50,
                    58,
                    66,
                    43,
                    61,
                    71,
                    51,
                    65,
                    44,
                    54,
                    51,
                    54,
                    65,
                    65,
                    51,
                    53,
                    39,
                    52,
                    44,
                    47,
                    53,
                    53,
                    51,
                    66,
                    52,
                    48,
                    45,
                    34,
                    57,
                    71,
                    52,
                    41,
                    58,
                    35,
                    51,
                    45,
                    44,
                    62,
                    54,
                    51,
                    43,
                    51,
                    59,
                    58,
                    52,
                    42,
                    67,
                    68,
                    46,
                    54,
                    57,
                    52,
                    54,
                    62,
                    52,
                    43,
                    53,
                    42,
                    59,
                    42,
                    50,
                    69,
                    50,
                    50,
                    64,
                    57,
                    64,
                    43,
                    41,
                    56,
                    46,
                    46,
                    59,
                    41,
                    54,
                    34,
                    47,
                    67,
                    52,
                    74,
                    54,
                    49,
                    42,
                    41,
                    41,
                    49,
                    60,
                    62,
                    57,
                    64,
                    51,
                    43,
                    76,
                    70,
                    44,
                    60,
                    42,
                    71,
                    64,
                    66,
                    39,
                    47,
                    35,
                    58,
                    56,
                    38,
                    38,
                    67,
                    63,
                    53,
                    56,
                    58,
                    58,
                    60,
                    64,
                    43,
                    55,
                    65,
                    61,
                    58,
                    44,
                    60,
                    50,
                    41,
                    51,
                    54,
                    60,
                    60,
                    59,
                    62,
                    52,
                    59,
                    60,
                    49,
                    59,
                    57,
                    61,
                    39,
                    61,
                    56,
                    43,
                    63,
                    65,
                    48,
                    55,
                    65,
                    54,
                    70,
                    62,
                    35,
                    47,
                    55,
                    64,
                    70,
                    51,
                    58,
                    60,
                    77,
                    35,
                    70,
                    64,
                    57,
                    56,
                    56,
                    54,
                    69,
                    62,
                    67,
                    59,
                    45,
                    50,
                    62,
                    66,
                    54,
                    66,
                    49,
                    61,
                    67,
                    47,
                    52,
                    58,
                    57,
                    58,
                    61,
                    59,
                    40,
                    46,
                    59,
                    57,
                    55,
                    61,
                    58,
                    67,
                    44,
                    63,
                    59,
                    57,
                    68,
                    57,
                    57
                  ],
                  "y": [
                    233,
                    250,
                    204,
                    236,
                    354,
                    294,
                    199,
                    168,
                    239,
                    266,
                    211,
                    283,
                    219,
                    340,
                    226,
                    247,
                    243,
                    302,
                    175,
                    417,
                    219,
                    273,
                    213,
                    232,
                    269,
                    360,
                    308,
                    264,
                    321,
                    325,
                    235,
                    257,
                    216,
                    234,
                    256,
                    302,
                    201,
                    222,
                    260,
                    182,
                    303,
                    265,
                    186,
                    203,
                    211,
                    183,
                    222,
                    234,
                    220,
                    209,
                    258,
                    261,
                    213,
                    245,
                    221,
                    240,
                    298,
                    265,
                    564,
                    277,
                    197,
                    214,
                    207,
                    223,
                    288,
                    394,
                    233,
                    315,
                    246,
                    244,
                    270,
                    240,
                    196,
                    234,
                    244,
                    254,
                    325,
                    126,
                    313,
                    211,
                    214,
                    193,
                    204,
                    243,
                    271,
                    268,
                    267,
                    210,
                    204,
                    277,
                    196,
                    269,
                    201,
                    271,
                    295,
                    235,
                    306,
                    269,
                    178,
                    208,
                    201,
                    263,
                    295,
                    303,
                    197,
                    245,
                    242,
                    240,
                    180,
                    149,
                    227,
                    278,
                    220,
                    253,
                    192,
                    220,
                    240,
                    175,
                    175,
                    229,
                    254,
                    203,
                    256,
                    284,
                    224,
                    230,
                    335,
                    177,
                    353,
                    225,
                    330,
                    230,
                    290,
                    253,
                    233,
                    172,
                    305,
                    188,
                    282,
                    185,
                    326,
                    267,
                    255,
                    239,
                    258,
                    188,
                    177,
                    229,
                    260,
                    219,
                    307,
                    249,
                    341,
                    330,
                    254,
                    256,
                    217,
                    282,
                    239,
                    174,
                    281,
                    198,
                    243,
                    289,
                    246,
                    322,
                    299,
                    300,
                    293,
                    304,
                    282,
                    269,
                    212,
                    274,
                    184,
                    409,
                    283,
                    254,
                    294,
                    299,
                    273,
                    309,
                    200,
                    244,
                    228,
                    206,
                    212,
                    149,
                    234,
                    237,
                    275,
                    212,
                    218,
                    261,
                    319,
                    166,
                    218,
                    223,
                    311,
                    204,
                    232,
                    205,
                    203,
                    318,
                    212,
                    169,
                    187,
                    176,
                    241,
                    193,
                    131,
                    236
                  ],
                  "z": [
                    1,
                    1,
                    1,
                    1,
                    1,
                    1,
                    1,
                    1,
                    1,
                    1,
                    1,
                    1,
                    1,
                    1,
                    1,
                    1,
                    1,
                    1,
                    1,
                    1,
                    1,
                    1,
                    1,
                    1,
                    1,
                    1,
                    1,
                    1,
                    1,
                    1,
                    1,
                    1,
                    1,
                    1,
                    1,
                    1,
                    1,
                    1,
                    1,
                    1,
                    1,
                    1,
                    1,
                    1,
                    1,
                    1,
                    1,
                    1,
                    1,
                    1,
                    1,
                    1,
                    1,
                    1,
                    1,
                    1,
                    1,
                    1,
                    1,
                    1,
                    1,
                    1,
                    1,
                    1,
                    1,
                    1,
                    1,
                    1,
                    1,
                    1,
                    1,
                    1,
                    1,
                    1,
                    1,
                    1,
                    1,
                    1,
                    1,
                    1,
                    1,
                    1,
                    1,
                    1,
                    1,
                    1,
                    1,
                    1,
                    1,
                    1,
                    1,
                    1,
                    1,
                    1,
                    1,
                    1,
                    1,
                    1,
                    1,
                    1,
                    1,
                    1,
                    1,
                    1,
                    1,
                    1,
                    1,
                    1,
                    1,
                    1,
                    1,
                    1,
                    1,
                    1,
                    1,
                    1,
                    1,
                    1,
                    1,
                    0,
                    0,
                    0,
                    0,
                    0,
                    0,
                    0,
                    0,
                    0,
                    0,
                    0,
                    0,
                    0,
                    0,
                    0,
                    0,
                    0,
                    0,
                    0,
                    0,
                    0,
                    0,
                    0,
                    0,
                    0,
                    0,
                    0,
                    0,
                    0,
                    0,
                    0,
                    0,
                    0,
                    0,
                    0,
                    0,
                    0,
                    0,
                    0,
                    0,
                    0,
                    0,
                    0,
                    0,
                    0,
                    0,
                    0,
                    0,
                    0,
                    0,
                    0,
                    0,
                    0,
                    0,
                    0,
                    0,
                    0,
                    0,
                    0,
                    0,
                    0,
                    0,
                    0,
                    0,
                    0,
                    0,
                    0,
                    0,
                    0,
                    0,
                    0,
                    0,
                    0,
                    0,
                    0,
                    0,
                    0,
                    0,
                    0,
                    0,
                    0,
                    0,
                    0,
                    0,
                    0,
                    0,
                    0,
                    0,
                    0,
                    0,
                    0,
                    0,
                    0
                  ]
                }
              ],
              "layout": {
                "coloraxis": {
                  "colorbar": {
                    "title": {
                      "text": "target"
                    }
                  },
                  "colorscale": [
                    [
                      0,
                      "#0d0887"
                    ],
                    [
                      0.1111111111111111,
                      "#46039f"
                    ],
                    [
                      0.2222222222222222,
                      "#7201a8"
                    ],
                    [
                      0.3333333333333333,
                      "#9c179e"
                    ],
                    [
                      0.4444444444444444,
                      "#bd3786"
                    ],
                    [
                      0.5555555555555556,
                      "#d8576b"
                    ],
                    [
                      0.6666666666666666,
                      "#ed7953"
                    ],
                    [
                      0.7777777777777778,
                      "#fb9f3a"
                    ],
                    [
                      0.8888888888888888,
                      "#fdca26"
                    ],
                    [
                      1,
                      "#f0f921"
                    ]
                  ]
                },
                "legend": {
                  "tracegroupgap": 0
                },
                "margin": {
                  "b": 0,
                  "l": 0,
                  "r": 0,
                  "t": 0
                },
                "scene": {
                  "domain": {
                    "x": [
                      0,
                      1
                    ],
                    "y": [
                      0,
                      1
                    ]
                  },
                  "xaxis": {
                    "title": {
                      "text": "age"
                    }
                  },
                  "yaxis": {
                    "title": {
                      "text": "chol"
                    }
                  },
                  "zaxis": {
                    "title": {
                      "text": "target"
                    }
                  }
                },
                "template": {
                  "data": {
                    "bar": [
                      {
                        "error_x": {
                          "color": "#2a3f5f"
                        },
                        "error_y": {
                          "color": "#2a3f5f"
                        },
                        "marker": {
                          "line": {
                            "color": "#E5ECF6",
                            "width": 0.5
                          },
                          "pattern": {
                            "fillmode": "overlay",
                            "size": 10,
                            "solidity": 0.2
                          }
                        },
                        "type": "bar"
                      }
                    ],
                    "barpolar": [
                      {
                        "marker": {
                          "line": {
                            "color": "#E5ECF6",
                            "width": 0.5
                          },
                          "pattern": {
                            "fillmode": "overlay",
                            "size": 10,
                            "solidity": 0.2
                          }
                        },
                        "type": "barpolar"
                      }
                    ],
                    "carpet": [
                      {
                        "aaxis": {
                          "endlinecolor": "#2a3f5f",
                          "gridcolor": "white",
                          "linecolor": "white",
                          "minorgridcolor": "white",
                          "startlinecolor": "#2a3f5f"
                        },
                        "baxis": {
                          "endlinecolor": "#2a3f5f",
                          "gridcolor": "white",
                          "linecolor": "white",
                          "minorgridcolor": "white",
                          "startlinecolor": "#2a3f5f"
                        },
                        "type": "carpet"
                      }
                    ],
                    "choropleth": [
                      {
                        "colorbar": {
                          "outlinewidth": 0,
                          "ticks": ""
                        },
                        "type": "choropleth"
                      }
                    ],
                    "contour": [
                      {
                        "colorbar": {
                          "outlinewidth": 0,
                          "ticks": ""
                        },
                        "colorscale": [
                          [
                            0,
                            "#0d0887"
                          ],
                          [
                            0.1111111111111111,
                            "#46039f"
                          ],
                          [
                            0.2222222222222222,
                            "#7201a8"
                          ],
                          [
                            0.3333333333333333,
                            "#9c179e"
                          ],
                          [
                            0.4444444444444444,
                            "#bd3786"
                          ],
                          [
                            0.5555555555555556,
                            "#d8576b"
                          ],
                          [
                            0.6666666666666666,
                            "#ed7953"
                          ],
                          [
                            0.7777777777777778,
                            "#fb9f3a"
                          ],
                          [
                            0.8888888888888888,
                            "#fdca26"
                          ],
                          [
                            1,
                            "#f0f921"
                          ]
                        ],
                        "type": "contour"
                      }
                    ],
                    "contourcarpet": [
                      {
                        "colorbar": {
                          "outlinewidth": 0,
                          "ticks": ""
                        },
                        "type": "contourcarpet"
                      }
                    ],
                    "heatmap": [
                      {
                        "colorbar": {
                          "outlinewidth": 0,
                          "ticks": ""
                        },
                        "colorscale": [
                          [
                            0,
                            "#0d0887"
                          ],
                          [
                            0.1111111111111111,
                            "#46039f"
                          ],
                          [
                            0.2222222222222222,
                            "#7201a8"
                          ],
                          [
                            0.3333333333333333,
                            "#9c179e"
                          ],
                          [
                            0.4444444444444444,
                            "#bd3786"
                          ],
                          [
                            0.5555555555555556,
                            "#d8576b"
                          ],
                          [
                            0.6666666666666666,
                            "#ed7953"
                          ],
                          [
                            0.7777777777777778,
                            "#fb9f3a"
                          ],
                          [
                            0.8888888888888888,
                            "#fdca26"
                          ],
                          [
                            1,
                            "#f0f921"
                          ]
                        ],
                        "type": "heatmap"
                      }
                    ],
                    "heatmapgl": [
                      {
                        "colorbar": {
                          "outlinewidth": 0,
                          "ticks": ""
                        },
                        "colorscale": [
                          [
                            0,
                            "#0d0887"
                          ],
                          [
                            0.1111111111111111,
                            "#46039f"
                          ],
                          [
                            0.2222222222222222,
                            "#7201a8"
                          ],
                          [
                            0.3333333333333333,
                            "#9c179e"
                          ],
                          [
                            0.4444444444444444,
                            "#bd3786"
                          ],
                          [
                            0.5555555555555556,
                            "#d8576b"
                          ],
                          [
                            0.6666666666666666,
                            "#ed7953"
                          ],
                          [
                            0.7777777777777778,
                            "#fb9f3a"
                          ],
                          [
                            0.8888888888888888,
                            "#fdca26"
                          ],
                          [
                            1,
                            "#f0f921"
                          ]
                        ],
                        "type": "heatmapgl"
                      }
                    ],
                    "histogram": [
                      {
                        "marker": {
                          "pattern": {
                            "fillmode": "overlay",
                            "size": 10,
                            "solidity": 0.2
                          }
                        },
                        "type": "histogram"
                      }
                    ],
                    "histogram2d": [
                      {
                        "colorbar": {
                          "outlinewidth": 0,
                          "ticks": ""
                        },
                        "colorscale": [
                          [
                            0,
                            "#0d0887"
                          ],
                          [
                            0.1111111111111111,
                            "#46039f"
                          ],
                          [
                            0.2222222222222222,
                            "#7201a8"
                          ],
                          [
                            0.3333333333333333,
                            "#9c179e"
                          ],
                          [
                            0.4444444444444444,
                            "#bd3786"
                          ],
                          [
                            0.5555555555555556,
                            "#d8576b"
                          ],
                          [
                            0.6666666666666666,
                            "#ed7953"
                          ],
                          [
                            0.7777777777777778,
                            "#fb9f3a"
                          ],
                          [
                            0.8888888888888888,
                            "#fdca26"
                          ],
                          [
                            1,
                            "#f0f921"
                          ]
                        ],
                        "type": "histogram2d"
                      }
                    ],
                    "histogram2dcontour": [
                      {
                        "colorbar": {
                          "outlinewidth": 0,
                          "ticks": ""
                        },
                        "colorscale": [
                          [
                            0,
                            "#0d0887"
                          ],
                          [
                            0.1111111111111111,
                            "#46039f"
                          ],
                          [
                            0.2222222222222222,
                            "#7201a8"
                          ],
                          [
                            0.3333333333333333,
                            "#9c179e"
                          ],
                          [
                            0.4444444444444444,
                            "#bd3786"
                          ],
                          [
                            0.5555555555555556,
                            "#d8576b"
                          ],
                          [
                            0.6666666666666666,
                            "#ed7953"
                          ],
                          [
                            0.7777777777777778,
                            "#fb9f3a"
                          ],
                          [
                            0.8888888888888888,
                            "#fdca26"
                          ],
                          [
                            1,
                            "#f0f921"
                          ]
                        ],
                        "type": "histogram2dcontour"
                      }
                    ],
                    "mesh3d": [
                      {
                        "colorbar": {
                          "outlinewidth": 0,
                          "ticks": ""
                        },
                        "type": "mesh3d"
                      }
                    ],
                    "parcoords": [
                      {
                        "line": {
                          "colorbar": {
                            "outlinewidth": 0,
                            "ticks": ""
                          }
                        },
                        "type": "parcoords"
                      }
                    ],
                    "pie": [
                      {
                        "automargin": true,
                        "type": "pie"
                      }
                    ],
                    "scatter": [
                      {
                        "fillpattern": {
                          "fillmode": "overlay",
                          "size": 10,
                          "solidity": 0.2
                        },
                        "type": "scatter"
                      }
                    ],
                    "scatter3d": [
                      {
                        "line": {
                          "colorbar": {
                            "outlinewidth": 0,
                            "ticks": ""
                          }
                        },
                        "marker": {
                          "colorbar": {
                            "outlinewidth": 0,
                            "ticks": ""
                          }
                        },
                        "type": "scatter3d"
                      }
                    ],
                    "scattercarpet": [
                      {
                        "marker": {
                          "colorbar": {
                            "outlinewidth": 0,
                            "ticks": ""
                          }
                        },
                        "type": "scattercarpet"
                      }
                    ],
                    "scattergeo": [
                      {
                        "marker": {
                          "colorbar": {
                            "outlinewidth": 0,
                            "ticks": ""
                          }
                        },
                        "type": "scattergeo"
                      }
                    ],
                    "scattergl": [
                      {
                        "marker": {
                          "colorbar": {
                            "outlinewidth": 0,
                            "ticks": ""
                          }
                        },
                        "type": "scattergl"
                      }
                    ],
                    "scattermapbox": [
                      {
                        "marker": {
                          "colorbar": {
                            "outlinewidth": 0,
                            "ticks": ""
                          }
                        },
                        "type": "scattermapbox"
                      }
                    ],
                    "scatterpolar": [
                      {
                        "marker": {
                          "colorbar": {
                            "outlinewidth": 0,
                            "ticks": ""
                          }
                        },
                        "type": "scatterpolar"
                      }
                    ],
                    "scatterpolargl": [
                      {
                        "marker": {
                          "colorbar": {
                            "outlinewidth": 0,
                            "ticks": ""
                          }
                        },
                        "type": "scatterpolargl"
                      }
                    ],
                    "scatterternary": [
                      {
                        "marker": {
                          "colorbar": {
                            "outlinewidth": 0,
                            "ticks": ""
                          }
                        },
                        "type": "scatterternary"
                      }
                    ],
                    "surface": [
                      {
                        "colorbar": {
                          "outlinewidth": 0,
                          "ticks": ""
                        },
                        "colorscale": [
                          [
                            0,
                            "#0d0887"
                          ],
                          [
                            0.1111111111111111,
                            "#46039f"
                          ],
                          [
                            0.2222222222222222,
                            "#7201a8"
                          ],
                          [
                            0.3333333333333333,
                            "#9c179e"
                          ],
                          [
                            0.4444444444444444,
                            "#bd3786"
                          ],
                          [
                            0.5555555555555556,
                            "#d8576b"
                          ],
                          [
                            0.6666666666666666,
                            "#ed7953"
                          ],
                          [
                            0.7777777777777778,
                            "#fb9f3a"
                          ],
                          [
                            0.8888888888888888,
                            "#fdca26"
                          ],
                          [
                            1,
                            "#f0f921"
                          ]
                        ],
                        "type": "surface"
                      }
                    ],
                    "table": [
                      {
                        "cells": {
                          "fill": {
                            "color": "#EBF0F8"
                          },
                          "line": {
                            "color": "white"
                          }
                        },
                        "header": {
                          "fill": {
                            "color": "#C8D4E3"
                          },
                          "line": {
                            "color": "white"
                          }
                        },
                        "type": "table"
                      }
                    ]
                  },
                  "layout": {
                    "annotationdefaults": {
                      "arrowcolor": "#2a3f5f",
                      "arrowhead": 0,
                      "arrowwidth": 1
                    },
                    "autotypenumbers": "strict",
                    "coloraxis": {
                      "colorbar": {
                        "outlinewidth": 0,
                        "ticks": ""
                      }
                    },
                    "colorscale": {
                      "diverging": [
                        [
                          0,
                          "#8e0152"
                        ],
                        [
                          0.1,
                          "#c51b7d"
                        ],
                        [
                          0.2,
                          "#de77ae"
                        ],
                        [
                          0.3,
                          "#f1b6da"
                        ],
                        [
                          0.4,
                          "#fde0ef"
                        ],
                        [
                          0.5,
                          "#f7f7f7"
                        ],
                        [
                          0.6,
                          "#e6f5d0"
                        ],
                        [
                          0.7,
                          "#b8e186"
                        ],
                        [
                          0.8,
                          "#7fbc41"
                        ],
                        [
                          0.9,
                          "#4d9221"
                        ],
                        [
                          1,
                          "#276419"
                        ]
                      ],
                      "sequential": [
                        [
                          0,
                          "#0d0887"
                        ],
                        [
                          0.1111111111111111,
                          "#46039f"
                        ],
                        [
                          0.2222222222222222,
                          "#7201a8"
                        ],
                        [
                          0.3333333333333333,
                          "#9c179e"
                        ],
                        [
                          0.4444444444444444,
                          "#bd3786"
                        ],
                        [
                          0.5555555555555556,
                          "#d8576b"
                        ],
                        [
                          0.6666666666666666,
                          "#ed7953"
                        ],
                        [
                          0.7777777777777778,
                          "#fb9f3a"
                        ],
                        [
                          0.8888888888888888,
                          "#fdca26"
                        ],
                        [
                          1,
                          "#f0f921"
                        ]
                      ],
                      "sequentialminus": [
                        [
                          0,
                          "#0d0887"
                        ],
                        [
                          0.1111111111111111,
                          "#46039f"
                        ],
                        [
                          0.2222222222222222,
                          "#7201a8"
                        ],
                        [
                          0.3333333333333333,
                          "#9c179e"
                        ],
                        [
                          0.4444444444444444,
                          "#bd3786"
                        ],
                        [
                          0.5555555555555556,
                          "#d8576b"
                        ],
                        [
                          0.6666666666666666,
                          "#ed7953"
                        ],
                        [
                          0.7777777777777778,
                          "#fb9f3a"
                        ],
                        [
                          0.8888888888888888,
                          "#fdca26"
                        ],
                        [
                          1,
                          "#f0f921"
                        ]
                      ]
                    },
                    "colorway": [
                      "#636efa",
                      "#EF553B",
                      "#00cc96",
                      "#ab63fa",
                      "#FFA15A",
                      "#19d3f3",
                      "#FF6692",
                      "#B6E880",
                      "#FF97FF",
                      "#FECB52"
                    ],
                    "font": {
                      "color": "#2a3f5f"
                    },
                    "geo": {
                      "bgcolor": "white",
                      "lakecolor": "white",
                      "landcolor": "#E5ECF6",
                      "showlakes": true,
                      "showland": true,
                      "subunitcolor": "white"
                    },
                    "hoverlabel": {
                      "align": "left"
                    },
                    "hovermode": "closest",
                    "mapbox": {
                      "style": "light"
                    },
                    "paper_bgcolor": "white",
                    "plot_bgcolor": "#E5ECF6",
                    "polar": {
                      "angularaxis": {
                        "gridcolor": "white",
                        "linecolor": "white",
                        "ticks": ""
                      },
                      "bgcolor": "#E5ECF6",
                      "radialaxis": {
                        "gridcolor": "white",
                        "linecolor": "white",
                        "ticks": ""
                      }
                    },
                    "scene": {
                      "xaxis": {
                        "backgroundcolor": "#E5ECF6",
                        "gridcolor": "white",
                        "gridwidth": 2,
                        "linecolor": "white",
                        "showbackground": true,
                        "ticks": "",
                        "zerolinecolor": "white"
                      },
                      "yaxis": {
                        "backgroundcolor": "#E5ECF6",
                        "gridcolor": "white",
                        "gridwidth": 2,
                        "linecolor": "white",
                        "showbackground": true,
                        "ticks": "",
                        "zerolinecolor": "white"
                      },
                      "zaxis": {
                        "backgroundcolor": "#E5ECF6",
                        "gridcolor": "white",
                        "gridwidth": 2,
                        "linecolor": "white",
                        "showbackground": true,
                        "ticks": "",
                        "zerolinecolor": "white"
                      }
                    },
                    "shapedefaults": {
                      "line": {
                        "color": "#2a3f5f"
                      }
                    },
                    "ternary": {
                      "aaxis": {
                        "gridcolor": "white",
                        "linecolor": "white",
                        "ticks": ""
                      },
                      "baxis": {
                        "gridcolor": "white",
                        "linecolor": "white",
                        "ticks": ""
                      },
                      "bgcolor": "#E5ECF6",
                      "caxis": {
                        "gridcolor": "white",
                        "linecolor": "white",
                        "ticks": ""
                      }
                    },
                    "title": {
                      "x": 0.05
                    },
                    "xaxis": {
                      "automargin": true,
                      "gridcolor": "white",
                      "linecolor": "white",
                      "ticks": "",
                      "title": {
                        "standoff": 15
                      },
                      "zerolinecolor": "white",
                      "zerolinewidth": 2
                    },
                    "yaxis": {
                      "automargin": true,
                      "gridcolor": "white",
                      "linecolor": "white",
                      "ticks": "",
                      "title": {
                        "standoff": 15
                      },
                      "zerolinecolor": "white",
                      "zerolinewidth": 2
                    }
                  }
                }
              }
            }
          },
          "metadata": {},
          "output_type": "display_data"
        }
      ],
      "source": [
        "fig = px.scatter_3d(data, x='age', y='chol',z = 'target',color='target')\n",
        "fig.update_layout(margin=dict(l=0, r=0, b=0, t=0))\n",
        "fig.show()"
      ]
    },
    {
      "cell_type": "code",
      "execution_count": null,
      "metadata": {
        "id": "UFr9Hjfzhe3k",
        "outputId": "315956c6-5ec0-4c33-ded7-977a5baf23c0"
      },
      "outputs": [
        {
          "data": {
            "text/plain": [
              "Text(0.5, 1.0, 'Thalach Vs Trestbps')"
            ]
          },
          "execution_count": 49,
          "metadata": {},
          "output_type": "execute_result"
        },
        {
          "data": {
            "image/png": "[encoded data removed]",
            "text/plain": [
              "<Figure size 432x288 with 1 Axes>"
            ]
          },
          "metadata": {},
          "output_type": "display_data"
        }
      ],
      "source": [
        "# trestbps\n",
        "plt.scatter(x=data['thalach'].loc[data['target'] == 0],y=data['trestbps'].loc[data['target'] == 0],label = \"Target = 0\")\n",
        "plt.scatter(x=data['thalach'].loc[data['target'] == 1],y=data['trestbps'].loc[data['target'] == 1],label = \"Target = 1\")\n",
        "plt.xlabel(\"Thalach\")\n",
        "plt.ylabel(\"Trestbps\")\n",
        "plt.grid()\n",
        "plt.legend()\n",
        "plt.title(\"Thalach Vs Trestbps\")"
      ]
    },
    {
      "cell_type": "code",
      "execution_count": null,
      "metadata": {
        "id": "bxOxt_jphe3k",
        "outputId": "0e8c7ff1-cf70-4378-8f22-bb3e9938a5b7"
      },
      "outputs": [
        {
          "data": {
            "text/plain": [
              "Text(0.5, 1.0, 'Thalach Vs Cp')"
            ]
          },
          "execution_count": 50,
          "metadata": {},
          "output_type": "execute_result"
        },
        {
          "data": {
            "image/png": "[encoded data removed]",
            "text/plain": [
              "<Figure size 432x288 with 1 Axes>"
            ]
          },
          "metadata": {},
          "output_type": "display_data"
        }
      ],
      "source": [
        "# cp\n",
        "# plt.scatter(x=data['thalach'],y=data['cp'])\n",
        "plt.scatter(x=data['thalach'].loc[data['target'] == 0],y=data['cp'].loc[data['target'] == 0],label = \"Target = 0\")\n",
        "plt.scatter(x=data['thalach'].loc[data['target'] == 1],y=data['cp'].loc[data['target'] == 1],label = \"Target = 1\")\n",
        "\n",
        "plt.xlabel(\"Thalach\")\n",
        "plt.ylabel(\"Cp\")\n",
        "plt.grid()\n",
        "plt.legend()\n",
        "plt.title(\"Thalach Vs Cp\")"
      ]
    },
    {
      "cell_type": "code",
      "execution_count": null,
      "metadata": {
        "id": "g_DXeFeEhe3k",
        "outputId": "41878652-205c-40c6-be31-d13829d0ccb1"
      },
      "outputs": [
        {
          "data": {
            "text/plain": [
              "Text(0.5, 1.0, 'Sex Vs Chol')"
            ]
          },
          "execution_count": 51,
          "metadata": {},
          "output_type": "execute_result"
        },
        {
          "data": {
            "image/png": "[encoded data removed]",
            "text/plain": [
              "<Figure size 432x288 with 1 Axes>"
            ]
          },
          "metadata": {},
          "output_type": "display_data"
        }
      ],
      "source": [
        "plt.scatter(x=data['sex'].loc[data['target'] == 1],y=data['chol'].loc[data['target'] == 1],label = \"Target = 1\")\n",
        "plt.scatter(x=data['sex'].loc[data['target'] == 0],y=data['chol'].loc[data['target'] == 0],label = \"Target = 0\")\n",
        "\n",
        "plt.xlabel(\"Sex\")\n",
        "plt.ylabel(\"Chol\")\n",
        "plt.legend()\n",
        "plt.grid()\n",
        "plt.title(\"Sex Vs Chol\")"
      ]
    },
    {
      "cell_type": "code",
      "execution_count": null,
      "metadata": {
        "id": "uxamWRp8he3l",
        "outputId": "8e774f45-e89c-4036-d2d4-93858b012a52"
      },
      "outputs": [
        {
          "data": {
            "application/vnd.plotly.v1+json": {
              "config": {
                "plotlyServerURL": "https://plot.ly"
              },
              "data": [
                {
                  "hovertemplate": "sex=%{x}<br>chol=%{y}<br>target=%{marker.color}<extra></extra>",
                  "legendgroup": "",
                  "marker": {
                    "color": [
                      1,
                      1,
                      1,
                      1,
                      1,
                      1,
                      1,
                      1,
                      1,
                      1,
                      1,
                      1,
                      1,
                      1,
                      1,
                      1,
                      1,
                      1,
                      1,
                      1,
                      1,
                      1,
                      1,
                      1,
                      1,
                      1,
                      1,
                      1,
                      1,
                      1,
                      1,
                      1,
                      1,
                      1,
                      1,
                      1,
                      1,
                      1,
                      1,
                      1,
                      1,
                      1,
                      1,
                      1,
                      1,
                      1,
                      1,
                      1,
                      1,
                      1,
                      1,
                      1,
                      1,
                      1,
                      1,
                      1,
                      1,
                      1,
                      1,
                      1,
                      1,
                      1,
                      1,
                      1,
                      1,
                      1,
                      1,
                      1,
                      1,
                      1,
                      1,
                      1,
                      1,
                      1,
                      1,
                      1,
                      1,
                      1,
                      1,
                      1,
                      1,
                      1,
                      1,
                      1,
                      1,
                      1,
                      1,
                      1,
                      1,
                      1,
                      1,
                      1,
                      1,
                      1,
                      1,
                      1,
                      1,
                      1,
                      1,
                      1,
                      1,
                      1,
                      1,
                      1,
                      1,
                      1,
                      1,
                      1,
                      1,
                      1,
                      1,
                      1,
                      1,
                      1,
                      1,
                      1,
                      1,
                      1,
                      1,
                      0,
                      0,
                      0,
                      0,
                      0,
                      0,
                      0,
                      0,
                      0,
                      0,
                      0,
                      0,
                      0,
                      0,
                      0,
                      0,
                      0,
                      0,
                      0,
                      0,
                      0,
                      0,
                      0,
                      0,
                      0,
                      0,
                      0,
                      0,
                      0,
                      0,
                      0,
                      0,
                      0,
                      0,
                      0,
                      0,
                      0,
                      0,
                      0,
                      0,
                      0,
                      0,
                      0,
                      0,
                      0,
                      0,
                      0,
                      0,
                      0,
                      0,
                      0,
                      0,
                      0,
                      0,
                      0,
                      0,
                      0,
                      0,
                      0,
                      0,
                      0,
                      0,
                      0,
                      0,
                      0,
                      0,
                      0,
                      0,
                      0,
                      0,
                      0,
                      0,
                      0,
                      0,
                      0,
                      0,
                      0,
                      0,
                      0,
                      0,
                      0,
                      0,
                      0,
                      0,
                      0,
                      0,
                      0,
                      0,
                      0,
                      0,
                      0,
                      0,
                      0
                    ],
                    "coloraxis": "coloraxis",
                    "symbol": "circle"
                  },
                  "mode": "markers",
                  "name": "",
                  "scene": "scene",
                  "showlegend": false,
                  "type": "scatter3d",
                  "x": [
                    1,
                    1,
                    0,
                    1,
                    0,
                    0,
                    1,
                    1,
                    1,
                    1,
                    1,
                    0,
                    0,
                    0,
                    0,
                    1,
                    1,
                    0,
                    1,
                    0,
                    1,
                    1,
                    1,
                    1,
                    0,
                    0,
                    0,
                    0,
                    1,
                    1,
                    1,
                    1,
                    0,
                    0,
                    0,
                    1,
                    1,
                    1,
                    1,
                    1,
                    0,
                    0,
                    1,
                    1,
                    1,
                    0,
                    1,
                    0,
                    1,
                    0,
                    1,
                    1,
                    0,
                    1,
                    1,
                    1,
                    1,
                    0,
                    0,
                    1,
                    1,
                    0,
                    1,
                    1,
                    0,
                    0,
                    1,
                    1,
                    1,
                    1,
                    1,
                    1,
                    1,
                    1,
                    0,
                    0,
                    0,
                    1,
                    0,
                    1,
                    1,
                    1,
                    0,
                    0,
                    1,
                    0,
                    0,
                    0,
                    1,
                    0,
                    0,
                    0,
                    0,
                    0,
                    1,
                    1,
                    0,
                    0,
                    0,
                    1,
                    1,
                    1,
                    0,
                    1,
                    0,
                    1,
                    0,
                    0,
                    1,
                    0,
                    1,
                    0,
                    0,
                    1,
                    1,
                    1,
                    1,
                    1,
                    1,
                    1,
                    1,
                    1,
                    1,
                    1,
                    1,
                    1,
                    1,
                    1,
                    1,
                    0,
                    0,
                    1,
                    1,
                    1,
                    1,
                    1,
                    0,
                    1,
                    1,
                    1,
                    1,
                    1,
                    1,
                    1,
                    0,
                    1,
                    1,
                    1,
                    1,
                    1,
                    0,
                    1,
                    0,
                    1,
                    1,
                    1,
                    1,
                    1,
                    1,
                    1,
                    1,
                    1,
                    1,
                    1,
                    1,
                    1,
                    1,
                    1,
                    1,
                    1,
                    1,
                    1,
                    1,
                    1,
                    1,
                    0,
                    1,
                    1,
                    0,
                    1,
                    1,
                    1,
                    1,
                    0,
                    0,
                    1,
                    1,
                    1,
                    1,
                    1,
                    1,
                    1,
                    1,
                    1,
                    0,
                    1,
                    1,
                    1,
                    1,
                    1,
                    1,
                    0,
                    1,
                    1,
                    1,
                    1,
                    1,
                    1,
                    0,
                    1,
                    1,
                    0
                  ],
                  "y": [
                    233,
                    250,
                    204,
                    236,
                    354,
                    294,
                    199,
                    168,
                    239,
                    266,
                    211,
                    283,
                    219,
                    340,
                    226,
                    247,
                    243,
                    302,
                    175,
                    417,
                    219,
                    273,
                    213,
                    232,
                    269,
                    360,
                    308,
                    264,
                    321,
                    325,
                    235,
                    257,
                    216,
                    234,
                    256,
                    302,
                    201,
                    222,
                    260,
                    182,
                    303,
                    265,
                    186,
                    203,
                    211,
                    183,
                    222,
                    234,
                    220,
                    209,
                    258,
                    261,
                    213,
                    245,
                    221,
                    240,
                    298,
                    265,
                    564,
                    277,
                    197,
                    214,
                    207,
                    223,
                    288,
                    394,
                    233,
                    315,
                    246,
                    244,
                    270,
                    240,
                    196,
                    234,
                    244,
                    254,
                    325,
                    126,
                    313,
                    211,
                    214,
                    193,
                    204,
                    243,
                    271,
                    268,
                    267,
                    210,
                    204,
                    277,
                    196,
                    269,
                    201,
                    271,
                    295,
                    235,
                    306,
                    269,
                    178,
                    208,
                    201,
                    263,
                    295,
                    303,
                    197,
                    245,
                    242,
                    240,
                    180,
                    149,
                    227,
                    278,
                    220,
                    253,
                    192,
                    220,
                    240,
                    175,
                    175,
                    229,
                    254,
                    203,
                    256,
                    284,
                    224,
                    230,
                    335,
                    177,
                    353,
                    225,
                    330,
                    230,
                    290,
                    253,
                    233,
                    172,
                    305,
                    188,
                    282,
                    185,
                    326,
                    267,
                    255,
                    239,
                    258,
                    188,
                    177,
                    229,
                    260,
                    219,
                    307,
                    249,
                    341,
                    330,
                    254,
                    256,
                    217,
                    282,
                    239,
                    174,
                    281,
                    198,
                    243,
                    289,
                    246,
                    322,
                    299,
                    300,
                    293,
                    304,
                    282,
                    269,
                    212,
                    274,
                    184,
                    409,
                    283,
                    254,
                    294,
                    299,
                    273,
                    309,
                    200,
                    244,
                    228,
                    206,
                    212,
                    149,
                    234,
                    237,
                    275,
                    212,
                    218,
                    261,
                    319,
                    166,
                    218,
                    223,
                    311,
                    204,
                    232,
                    205,
                    203,
                    318,
                    212,
                    169,
                    187,
                    176,
                    241,
                    193,
                    131,
                    236
                  ],
                  "z": [
                    1,
                    1,
                    1,
                    1,
                    1,
                    1,
                    1,
                    1,
                    1,
                    1,
                    1,
                    1,
                    1,
                    1,
                    1,
                    1,
                    1,
                    1,
                    1,
                    1,
                    1,
                    1,
                    1,
                    1,
                    1,
                    1,
                    1,
                    1,
                    1,
                    1,
                    1,
                    1,
                    1,
                    1,
                    1,
                    1,
                    1,
                    1,
                    1,
                    1,
                    1,
                    1,
                    1,
                    1,
                    1,
                    1,
                    1,
                    1,
                    1,
                    1,
                    1,
                    1,
                    1,
                    1,
                    1,
                    1,
                    1,
                    1,
                    1,
                    1,
                    1,
                    1,
                    1,
                    1,
                    1,
                    1,
                    1,
                    1,
                    1,
                    1,
                    1,
                    1,
                    1,
                    1,
                    1,
                    1,
                    1,
                    1,
                    1,
                    1,
                    1,
                    1,
                    1,
                    1,
                    1,
                    1,
                    1,
                    1,
                    1,
                    1,
                    1,
                    1,
                    1,
                    1,
                    1,
                    1,
                    1,
                    1,
                    1,
                    1,
                    1,
                    1,
                    1,
                    1,
                    1,
                    1,
                    1,
                    1,
                    1,
                    1,
                    1,
                    1,
                    1,
                    1,
                    1,
                    1,
                    1,
                    1,
                    1,
                    0,
                    0,
                    0,
                    0,
                    0,
                    0,
                    0,
                    0,
                    0,
                    0,
                    0,
                    0,
                    0,
                    0,
                    0,
                    0,
                    0,
                    0,
                    0,
                    0,
                    0,
                    0,
                    0,
                    0,
                    0,
                    0,
                    0,
                    0,
                    0,
                    0,
                    0,
                    0,
                    0,
                    0,
                    0,
                    0,
                    0,
                    0,
                    0,
                    0,
                    0,
                    0,
                    0,
                    0,
                    0,
                    0,
                    0,
                    0,
                    0,
                    0,
                    0,
                    0,
                    0,
                    0,
                    0,
                    0,
                    0,
                    0,
                    0,
                    0,
                    0,
                    0,
                    0,
                    0,
                    0,
                    0,
                    0,
                    0,
                    0,
                    0,
                    0,
                    0,
                    0,
                    0,
                    0,
                    0,
                    0,
                    0,
                    0,
                    0,
                    0,
                    0,
                    0,
                    0,
                    0,
                    0,
                    0,
                    0,
                    0,
                    0,
                    0,
                    0,
                    0
                  ]
                }
              ],
              "layout": {
                "coloraxis": {
                  "colorbar": {
                    "title": {
                      "text": "target"
                    }
                  },
                  "colorscale": [
                    [
                      0,
                      "#0d0887"
                    ],
                    [
                      0.1111111111111111,
                      "#46039f"
                    ],
                    [
                      0.2222222222222222,
                      "#7201a8"
                    ],
                    [
                      0.3333333333333333,
                      "#9c179e"
                    ],
                    [
                      0.4444444444444444,
                      "#bd3786"
                    ],
                    [
                      0.5555555555555556,
                      "#d8576b"
                    ],
                    [
                      0.6666666666666666,
                      "#ed7953"
                    ],
                    [
                      0.7777777777777778,
                      "#fb9f3a"
                    ],
                    [
                      0.8888888888888888,
                      "#fdca26"
                    ],
                    [
                      1,
                      "#f0f921"
                    ]
                  ]
                },
                "legend": {
                  "tracegroupgap": 0
                },
                "margin": {
                  "b": 0,
                  "l": 0,
                  "r": 0,
                  "t": 0
                },
                "scene": {
                  "domain": {
                    "x": [
                      0,
                      1
                    ],
                    "y": [
                      0,
                      1
                    ]
                  },
                  "xaxis": {
                    "title": {
                      "text": "sex"
                    }
                  },
                  "yaxis": {
                    "title": {
                      "text": "chol"
                    }
                  },
                  "zaxis": {
                    "title": {
                      "text": "target"
                    }
                  }
                },
                "template": {
                  "data": {
                    "bar": [
                      {
                        "error_x": {
                          "color": "#2a3f5f"
                        },
                        "error_y": {
                          "color": "#2a3f5f"
                        },
                        "marker": {
                          "line": {
                            "color": "#E5ECF6",
                            "width": 0.5
                          },
                          "pattern": {
                            "fillmode": "overlay",
                            "size": 10,
                            "solidity": 0.2
                          }
                        },
                        "type": "bar"
                      }
                    ],
                    "barpolar": [
                      {
                        "marker": {
                          "line": {
                            "color": "#E5ECF6",
                            "width": 0.5
                          },
                          "pattern": {
                            "fillmode": "overlay",
                            "size": 10,
                            "solidity": 0.2
                          }
                        },
                        "type": "barpolar"
                      }
                    ],
                    "carpet": [
                      {
                        "aaxis": {
                          "endlinecolor": "#2a3f5f",
                          "gridcolor": "white",
                          "linecolor": "white",
                          "minorgridcolor": "white",
                          "startlinecolor": "#2a3f5f"
                        },
                        "baxis": {
                          "endlinecolor": "#2a3f5f",
                          "gridcolor": "white",
                          "linecolor": "white",
                          "minorgridcolor": "white",
                          "startlinecolor": "#2a3f5f"
                        },
                        "type": "carpet"
                      }
                    ],
                    "choropleth": [
                      {
                        "colorbar": {
                          "outlinewidth": 0,
                          "ticks": ""
                        },
                        "type": "choropleth"
                      }
                    ],
                    "contour": [
                      {
                        "colorbar": {
                          "outlinewidth": 0,
                          "ticks": ""
                        },
                        "colorscale": [
                          [
                            0,
                            "#0d0887"
                          ],
                          [
                            0.1111111111111111,
                            "#46039f"
                          ],
                          [
                            0.2222222222222222,
                            "#7201a8"
                          ],
                          [
                            0.3333333333333333,
                            "#9c179e"
                          ],
                          [
                            0.4444444444444444,
                            "#bd3786"
                          ],
                          [
                            0.5555555555555556,
                            "#d8576b"
                          ],
                          [
                            0.6666666666666666,
                            "#ed7953"
                          ],
                          [
                            0.7777777777777778,
                            "#fb9f3a"
                          ],
                          [
                            0.8888888888888888,
                            "#fdca26"
                          ],
                          [
                            1,
                            "#f0f921"
                          ]
                        ],
                        "type": "contour"
                      }
                    ],
                    "contourcarpet": [
                      {
                        "colorbar": {
                          "outlinewidth": 0,
                          "ticks": ""
                        },
                        "type": "contourcarpet"
                      }
                    ],
                    "heatmap": [
                      {
                        "colorbar": {
                          "outlinewidth": 0,
                          "ticks": ""
                        },
                        "colorscale": [
                          [
                            0,
                            "#0d0887"
                          ],
                          [
                            0.1111111111111111,
                            "#46039f"
                          ],
                          [
                            0.2222222222222222,
                            "#7201a8"
                          ],
                          [
                            0.3333333333333333,
                            "#9c179e"
                          ],
                          [
                            0.4444444444444444,
                            "#bd3786"
                          ],
                          [
                            0.5555555555555556,
                            "#d8576b"
                          ],
                          [
                            0.6666666666666666,
                            "#ed7953"
                          ],
                          [
                            0.7777777777777778,
                            "#fb9f3a"
                          ],
                          [
                            0.8888888888888888,
                            "#fdca26"
                          ],
                          [
                            1,
                            "#f0f921"
                          ]
                        ],
                        "type": "heatmap"
                      }
                    ],
                    "heatmapgl": [
                      {
                        "colorbar": {
                          "outlinewidth": 0,
                          "ticks": ""
                        },
                        "colorscale": [
                          [
                            0,
                            "#0d0887"
                          ],
                          [
                            0.1111111111111111,
                            "#46039f"
                          ],
                          [
                            0.2222222222222222,
                            "#7201a8"
                          ],
                          [
                            0.3333333333333333,
                            "#9c179e"
                          ],
                          [
                            0.4444444444444444,
                            "#bd3786"
                          ],
                          [
                            0.5555555555555556,
                            "#d8576b"
                          ],
                          [
                            0.6666666666666666,
                            "#ed7953"
                          ],
                          [
                            0.7777777777777778,
                            "#fb9f3a"
                          ],
                          [
                            0.8888888888888888,
                            "#fdca26"
                          ],
                          [
                            1,
                            "#f0f921"
                          ]
                        ],
                        "type": "heatmapgl"
                      }
                    ],
                    "histogram": [
                      {
                        "marker": {
                          "pattern": {
                            "fillmode": "overlay",
                            "size": 10,
                            "solidity": 0.2
                          }
                        },
                        "type": "histogram"
                      }
                    ],
                    "histogram2d": [
                      {
                        "colorbar": {
                          "outlinewidth": 0,
                          "ticks": ""
                        },
                        "colorscale": [
                          [
                            0,
                            "#0d0887"
                          ],
                          [
                            0.1111111111111111,
                            "#46039f"
                          ],
                          [
                            0.2222222222222222,
                            "#7201a8"
                          ],
                          [
                            0.3333333333333333,
                            "#9c179e"
                          ],
                          [
                            0.4444444444444444,
                            "#bd3786"
                          ],
                          [
                            0.5555555555555556,
                            "#d8576b"
                          ],
                          [
                            0.6666666666666666,
                            "#ed7953"
                          ],
                          [
                            0.7777777777777778,
                            "#fb9f3a"
                          ],
                          [
                            0.8888888888888888,
                            "#fdca26"
                          ],
                          [
                            1,
                            "#f0f921"
                          ]
                        ],
                        "type": "histogram2d"
                      }
                    ],
                    "histogram2dcontour": [
                      {
                        "colorbar": {
                          "outlinewidth": 0,
                          "ticks": ""
                        },
                        "colorscale": [
                          [
                            0,
                            "#0d0887"
                          ],
                          [
                            0.1111111111111111,
                            "#46039f"
                          ],
                          [
                            0.2222222222222222,
                            "#7201a8"
                          ],
                          [
                            0.3333333333333333,
                            "#9c179e"
                          ],
                          [
                            0.4444444444444444,
                            "#bd3786"
                          ],
                          [
                            0.5555555555555556,
                            "#d8576b"
                          ],
                          [
                            0.6666666666666666,
                            "#ed7953"
                          ],
                          [
                            0.7777777777777778,
                            "#fb9f3a"
                          ],
                          [
                            0.8888888888888888,
                            "#fdca26"
                          ],
                          [
                            1,
                            "#f0f921"
                          ]
                        ],
                        "type": "histogram2dcontour"
                      }
                    ],
                    "mesh3d": [
                      {
                        "colorbar": {
                          "outlinewidth": 0,
                          "ticks": ""
                        },
                        "type": "mesh3d"
                      }
                    ],
                    "parcoords": [
                      {
                        "line": {
                          "colorbar": {
                            "outlinewidth": 0,
                            "ticks": ""
                          }
                        },
                        "type": "parcoords"
                      }
                    ],
                    "pie": [
                      {
                        "automargin": true,
                        "type": "pie"
                      }
                    ],
                    "scatter": [
                      {
                        "fillpattern": {
                          "fillmode": "overlay",
                          "size": 10,
                          "solidity": 0.2
                        },
                        "type": "scatter"
                      }
                    ],
                    "scatter3d": [
                      {
                        "line": {
                          "colorbar": {
                            "outlinewidth": 0,
                            "ticks": ""
                          }
                        },
                        "marker": {
                          "colorbar": {
                            "outlinewidth": 0,
                            "ticks": ""
                          }
                        },
                        "type": "scatter3d"
                      }
                    ],
                    "scattercarpet": [
                      {
                        "marker": {
                          "colorbar": {
                            "outlinewidth": 0,
                            "ticks": ""
                          }
                        },
                        "type": "scattercarpet"
                      }
                    ],
                    "scattergeo": [
                      {
                        "marker": {
                          "colorbar": {
                            "outlinewidth": 0,
                            "ticks": ""
                          }
                        },
                        "type": "scattergeo"
                      }
                    ],
                    "scattergl": [
                      {
                        "marker": {
                          "colorbar": {
                            "outlinewidth": 0,
                            "ticks": ""
                          }
                        },
                        "type": "scattergl"
                      }
                    ],
                    "scattermapbox": [
                      {
                        "marker": {
                          "colorbar": {
                            "outlinewidth": 0,
                            "ticks": ""
                          }
                        },
                        "type": "scattermapbox"
                      }
                    ],
                    "scatterpolar": [
                      {
                        "marker": {
                          "colorbar": {
                            "outlinewidth": 0,
                            "ticks": ""
                          }
                        },
                        "type": "scatterpolar"
                      }
                    ],
                    "scatterpolargl": [
                      {
                        "marker": {
                          "colorbar": {
                            "outlinewidth": 0,
                            "ticks": ""
                          }
                        },
                        "type": "scatterpolargl"
                      }
                    ],
                    "scatterternary": [
                      {
                        "marker": {
                          "colorbar": {
                            "outlinewidth": 0,
                            "ticks": ""
                          }
                        },
                        "type": "scatterternary"
                      }
                    ],
                    "surface": [
                      {
                        "colorbar": {
                          "outlinewidth": 0,
                          "ticks": ""
                        },
                        "colorscale": [
                          [
                            0,
                            "#0d0887"
                          ],
                          [
                            0.1111111111111111,
                            "#46039f"
                          ],
                          [
                            0.2222222222222222,
                            "#7201a8"
                          ],
                          [
                            0.3333333333333333,
                            "#9c179e"
                          ],
                          [
                            0.4444444444444444,
                            "#bd3786"
                          ],
                          [
                            0.5555555555555556,
                            "#d8576b"
                          ],
                          [
                            0.6666666666666666,
                            "#ed7953"
                          ],
                          [
                            0.7777777777777778,
                            "#fb9f3a"
                          ],
                          [
                            0.8888888888888888,
                            "#fdca26"
                          ],
                          [
                            1,
                            "#f0f921"
                          ]
                        ],
                        "type": "surface"
                      }
                    ],
                    "table": [
                      {
                        "cells": {
                          "fill": {
                            "color": "#EBF0F8"
                          },
                          "line": {
                            "color": "white"
                          }
                        },
                        "header": {
                          "fill": {
                            "color": "#C8D4E3"
                          },
                          "line": {
                            "color": "white"
                          }
                        },
                        "type": "table"
                      }
                    ]
                  },
                  "layout": {
                    "annotationdefaults": {
                      "arrowcolor": "#2a3f5f",
                      "arrowhead": 0,
                      "arrowwidth": 1
                    },
                    "autotypenumbers": "strict",
                    "coloraxis": {
                      "colorbar": {
                        "outlinewidth": 0,
                        "ticks": ""
                      }
                    },
                    "colorscale": {
                      "diverging": [
                        [
                          0,
                          "#8e0152"
                        ],
                        [
                          0.1,
                          "#c51b7d"
                        ],
                        [
                          0.2,
                          "#de77ae"
                        ],
                        [
                          0.3,
                          "#f1b6da"
                        ],
                        [
                          0.4,
                          "#fde0ef"
                        ],
                        [
                          0.5,
                          "#f7f7f7"
                        ],
                        [
                          0.6,
                          "#e6f5d0"
                        ],
                        [
                          0.7,
                          "#b8e186"
                        ],
                        [
                          0.8,
                          "#7fbc41"
                        ],
                        [
                          0.9,
                          "#4d9221"
                        ],
                        [
                          1,
                          "#276419"
                        ]
                      ],
                      "sequential": [
                        [
                          0,
                          "#0d0887"
                        ],
                        [
                          0.1111111111111111,
                          "#46039f"
                        ],
                        [
                          0.2222222222222222,
                          "#7201a8"
                        ],
                        [
                          0.3333333333333333,
                          "#9c179e"
                        ],
                        [
                          0.4444444444444444,
                          "#bd3786"
                        ],
                        [
                          0.5555555555555556,
                          "#d8576b"
                        ],
                        [
                          0.6666666666666666,
                          "#ed7953"
                        ],
                        [
                          0.7777777777777778,
                          "#fb9f3a"
                        ],
                        [
                          0.8888888888888888,
                          "#fdca26"
                        ],
                        [
                          1,
                          "#f0f921"
                        ]
                      ],
                      "sequentialminus": [
                        [
                          0,
                          "#0d0887"
                        ],
                        [
                          0.1111111111111111,
                          "#46039f"
                        ],
                        [
                          0.2222222222222222,
                          "#7201a8"
                        ],
                        [
                          0.3333333333333333,
                          "#9c179e"
                        ],
                        [
                          0.4444444444444444,
                          "#bd3786"
                        ],
                        [
                          0.5555555555555556,
                          "#d8576b"
                        ],
                        [
                          0.6666666666666666,
                          "#ed7953"
                        ],
                        [
                          0.7777777777777778,
                          "#fb9f3a"
                        ],
                        [
                          0.8888888888888888,
                          "#fdca26"
                        ],
                        [
                          1,
                          "#f0f921"
                        ]
                      ]
                    },
                    "colorway": [
                      "#636efa",
                      "#EF553B",
                      "#00cc96",
                      "#ab63fa",
                      "#FFA15A",
                      "#19d3f3",
                      "#FF6692",
                      "#B6E880",
                      "#FF97FF",
                      "#FECB52"
                    ],
                    "font": {
                      "color": "#2a3f5f"
                    },
                    "geo": {
                      "bgcolor": "white",
                      "lakecolor": "white",
                      "landcolor": "#E5ECF6",
                      "showlakes": true,
                      "showland": true,
                      "subunitcolor": "white"
                    },
                    "hoverlabel": {
                      "align": "left"
                    },
                    "hovermode": "closest",
                    "mapbox": {
                      "style": "light"
                    },
                    "paper_bgcolor": "white",
                    "plot_bgcolor": "#E5ECF6",
                    "polar": {
                      "angularaxis": {
                        "gridcolor": "white",
                        "linecolor": "white",
                        "ticks": ""
                      },
                      "bgcolor": "#E5ECF6",
                      "radialaxis": {
                        "gridcolor": "white",
                        "linecolor": "white",
                        "ticks": ""
                      }
                    },
                    "scene": {
                      "xaxis": {
                        "backgroundcolor": "#E5ECF6",
                        "gridcolor": "white",
                        "gridwidth": 2,
                        "linecolor": "white",
                        "showbackground": true,
                        "ticks": "",
                        "zerolinecolor": "white"
                      },
                      "yaxis": {
                        "backgroundcolor": "#E5ECF6",
                        "gridcolor": "white",
                        "gridwidth": 2,
                        "linecolor": "white",
                        "showbackground": true,
                        "ticks": "",
                        "zerolinecolor": "white"
                      },
                      "zaxis": {
                        "backgroundcolor": "#E5ECF6",
                        "gridcolor": "white",
                        "gridwidth": 2,
                        "linecolor": "white",
                        "showbackground": true,
                        "ticks": "",
                        "zerolinecolor": "white"
                      }
                    },
                    "shapedefaults": {
                      "line": {
                        "color": "#2a3f5f"
                      }
                    },
                    "ternary": {
                      "aaxis": {
                        "gridcolor": "white",
                        "linecolor": "white",
                        "ticks": ""
                      },
                      "baxis": {
                        "gridcolor": "white",
                        "linecolor": "white",
                        "ticks": ""
                      },
                      "bgcolor": "#E5ECF6",
                      "caxis": {
                        "gridcolor": "white",
                        "linecolor": "white",
                        "ticks": ""
                      }
                    },
                    "title": {
                      "x": 0.05
                    },
                    "xaxis": {
                      "automargin": true,
                      "gridcolor": "white",
                      "linecolor": "white",
                      "ticks": "",
                      "title": {
                        "standoff": 15
                      },
                      "zerolinecolor": "white",
                      "zerolinewidth": 2
                    },
                    "yaxis": {
                      "automargin": true,
                      "gridcolor": "white",
                      "linecolor": "white",
                      "ticks": "",
                      "title": {
                        "standoff": 15
                      },
                      "zerolinecolor": "white",
                      "zerolinewidth": 2
                    }
                  }
                }
              }
            }
          },
          "metadata": {},
          "output_type": "display_data"
        }
      ],
      "source": [
        "fig = px.scatter_3d(data, x='sex', y='chol',z = 'target',color='target')\n",
        "fig.update_layout(margin=dict(l=0, r=0, b=0, t=0))\n",
        "fig.show()"
      ]
    },
    {
      "cell_type": "code",
      "execution_count": null,
      "metadata": {
        "id": "7eCdoObmhe3l",
        "outputId": "9c60cd85-e504-479a-89bf-f79adfc98739"
      },
      "outputs": [
        {
          "data": {
            "text/plain": [
              "Text(0.5, 1.0, 'Sex Vs Cp')"
            ]
          },
          "execution_count": 52,
          "metadata": {},
          "output_type": "execute_result"
        },
        {
          "data": {
            "image/png": "[encoded data removed]",
            "text/plain": [
              "<Figure size 432x288 with 1 Axes>"
            ]
          },
          "metadata": {},
          "output_type": "display_data"
        }
      ],
      "source": [
        "plt.scatter(x=data['sex'].loc[data['target'] == 1],y=data['cp'].loc[data['target'] == 1],label = \"Target = 1\")\n",
        "plt.scatter(x=data['sex'].loc[data['target'] == 0],y=data['cp'].loc[data['target'] == 0],label = \"Target = 0\")\n",
        "\n",
        "plt.xlabel(\"Sex\")\n",
        "plt.ylabel(\"Cp\")\n",
        "plt.legend()\n",
        "plt.grid()\n",
        "plt.title(\"Sex Vs Cp\")"
      ]
    },
    {
      "cell_type": "code",
      "execution_count": null,
      "metadata": {
        "id": "_yY0-g2uhe3l",
        "outputId": "ee6e0871-e3dd-458d-b55e-e4b37529345d"
      },
      "outputs": [
        {
          "data": {
            "application/vnd.plotly.v1+json": {
              "config": {
                "plotlyServerURL": "https://plot.ly"
              },
              "data": [
                {
                  "hovertemplate": "sex=%{x}<br>cp=%{y}<br>target=%{marker.color}<extra></extra>",
                  "legendgroup": "",
                  "marker": {
                    "color": [
                      1,
                      1,
                      1,
                      1,
                      1,
                      1,
                      1,
                      1,
                      1,
                      1,
                      1,
                      1,
                      1,
                      1,
                      1,
                      1,
                      1,
                      1,
                      1,
                      1,
                      1,
                      1,
                      1,
                      1,
                      1,
                      1,
                      1,
                      1,
                      1,
                      1,
                      1,
                      1,
                      1,
                      1,
                      1,
                      1,
                      1,
                      1,
                      1,
                      1,
                      1,
                      1,
                      1,
                      1,
                      1,
                      1,
                      1,
                      1,
                      1,
                      1,
                      1,
                      1,
                      1,
                      1,
                      1,
                      1,
                      1,
                      1,
                      1,
                      1,
                      1,
                      1,
                      1,
                      1,
                      1,
                      1,
                      1,
                      1,
                      1,
                      1,
                      1,
                      1,
                      1,
                      1,
                      1,
                      1,
                      1,
                      1,
                      1,
                      1,
                      1,
                      1,
                      1,
                      1,
                      1,
                      1,
                      1,
                      1,
                      1,
                      1,
                      1,
                      1,
                      1,
                      1,
                      1,
                      1,
                      1,
                      1,
                      1,
                      1,
                      1,
                      1,
                      1,
                      1,
                      1,
                      1,
                      1,
                      1,
                      1,
                      1,
                      1,
                      1,
                      1,
                      1,
                      1,
                      1,
                      1,
                      1,
                      1,
                      0,
                      0,
                      0,
                      0,
                      0,
                      0,
                      0,
                      0,
                      0,
                      0,
                      0,
                      0,
                      0,
                      0,
                      0,
                      0,
                      0,
                      0,
                      0,
                      0,
                      0,
                      0,
                      0,
                      0,
                      0,
                      0,
                      0,
                      0,
                      0,
                      0,
                      0,
                      0,
                      0,
                      0,
                      0,
                      0,
                      0,
                      0,
                      0,
                      0,
                      0,
                      0,
                      0,
                      0,
                      0,
                      0,
                      0,
                      0,
                      0,
                      0,
                      0,
                      0,
                      0,
                      0,
                      0,
                      0,
                      0,
                      0,
                      0,
                      0,
                      0,
                      0,
                      0,
                      0,
                      0,
                      0,
                      0,
                      0,
                      0,
                      0,
                      0,
                      0,
                      0,
                      0,
                      0,
                      0,
                      0,
                      0,
                      0,
                      0,
                      0,
                      0,
                      0,
                      0,
                      0,
                      0,
                      0,
                      0,
                      0,
                      0,
                      0,
                      0,
                      0
                    ],
                    "coloraxis": "coloraxis",
                    "symbol": "circle"
                  },
                  "mode": "markers",
                  "name": "",
                  "scene": "scene",
                  "showlegend": false,
                  "type": "scatter3d",
                  "x": [
                    1,
                    1,
                    0,
                    1,
                    0,
                    0,
                    1,
                    1,
                    1,
                    1,
                    1,
                    0,
                    0,
                    0,
                    0,
                    1,
                    1,
                    0,
                    1,
                    0,
                    1,
                    1,
                    1,
                    1,
                    0,
                    0,
                    0,
                    0,
                    1,
                    1,
                    1,
                    1,
                    0,
                    0,
                    0,
                    1,
                    1,
                    1,
                    1,
                    1,
                    0,
                    0,
                    1,
                    1,
                    1,
                    0,
                    1,
                    0,
                    1,
                    0,
                    1,
                    1,
                    0,
                    1,
                    1,
                    1,
                    1,
                    0,
                    0,
                    1,
                    1,
                    0,
                    1,
                    1,
                    0,
                    0,
                    1,
                    1,
                    1,
                    1,
                    1,
                    1,
                    1,
                    1,
                    0,
                    0,
                    0,
                    1,
                    0,
                    1,
                    1,
                    1,
                    0,
                    0,
                    1,
                    0,
                    0,
                    0,
                    1,
                    0,
                    0,
                    0,
                    0,
                    0,
                    1,
                    1,
                    0,
                    0,
                    0,
                    1,
                    1,
                    1,
                    0,
                    1,
                    0,
                    1,
                    0,
                    0,
                    1,
                    0,
                    1,
                    0,
                    0,
                    1,
                    1,
                    1,
                    1,
                    1,
                    1,
                    1,
                    1,
                    1,
                    1,
                    1,
                    1,
                    1,
                    1,
                    1,
                    1,
                    0,
                    0,
                    1,
                    1,
                    1,
                    1,
                    1,
                    0,
                    1,
                    1,
                    1,
                    1,
                    1,
                    1,
                    1,
                    0,
                    1,
                    1,
                    1,
                    1,
                    1,
                    0,
                    1,
                    0,
                    1,
                    1,
                    1,
                    1,
                    1,
                    1,
                    1,
                    1,
                    1,
                    1,
                    1,
                    1,
                    1,
                    1,
                    1,
                    1,
                    1,
                    1,
                    1,
                    1,
                    1,
                    1,
                    0,
                    1,
                    1,
                    0,
                    1,
                    1,
                    1,
                    1,
                    0,
                    0,
                    1,
                    1,
                    1,
                    1,
                    1,
                    1,
                    1,
                    1,
                    1,
                    0,
                    1,
                    1,
                    1,
                    1,
                    1,
                    1,
                    0,
                    1,
                    1,
                    1,
                    1,
                    1,
                    1,
                    0,
                    1,
                    1,
                    0
                  ],
                  "y": [
                    3,
                    2,
                    1,
                    1,
                    0,
                    1,
                    2,
                    2,
                    0,
                    1,
                    3,
                    3,
                    2,
                    2,
                    3,
                    0,
                    2,
                    1,
                    2,
                    2,
                    1,
                    2,
                    3,
                    2,
                    2,
                    2,
                    2,
                    0,
                    2,
                    1,
                    2,
                    2,
                    2,
                    0,
                    2,
                    0,
                    1,
                    0,
                    0,
                    3,
                    0,
                    2,
                    3,
                    1,
                    2,
                    0,
                    2,
                    1,
                    1,
                    0,
                    2,
                    0,
                    2,
                    2,
                    1,
                    2,
                    3,
                    0,
                    2,
                    2,
                    1,
                    2,
                    0,
                    2,
                    1,
                    0,
                    0,
                    2,
                    2,
                    3,
                    3,
                    2,
                    2,
                    3,
                    1,
                    0,
                    0,
                    2,
                    2,
                    0,
                    2,
                    3,
                    1,
                    0,
                    0,
                    2,
                    2,
                    1,
                    0,
                    2,
                    2,
                    1,
                    2,
                    1,
                    1,
                    1,
                    1,
                    0,
                    2,
                    1,
                    0,
                    0,
                    2,
                    0,
                    2,
                    1,
                    2,
                    3,
                    2,
                    0,
                    3,
                    2,
                    2,
                    2,
                    1,
                    1,
                    1,
                    2,
                    2,
                    0,
                    0,
                    0,
                    2,
                    1,
                    2,
                    0,
                    2,
                    0,
                    0,
                    0,
                    0,
                    2,
                    0,
                    0,
                    2,
                    0,
                    0,
                    0,
                    0,
                    2,
                    0,
                    0,
                    0,
                    0,
                    0,
                    2,
                    0,
                    2,
                    0,
                    0,
                    0,
                    0,
                    0,
                    0,
                    0,
                    0,
                    0,
                    3,
                    0,
                    0,
                    1,
                    0,
                    2,
                    0,
                    0,
                    0,
                    0,
                    0,
                    0,
                    0,
                    0,
                    2,
                    0,
                    0,
                    0,
                    0,
                    1,
                    2,
                    0,
                    0,
                    3,
                    0,
                    0,
                    0,
                    0,
                    0,
                    0,
                    2,
                    3,
                    0,
                    0,
                    0,
                    0,
                    1,
                    1,
                    0,
                    2,
                    0,
                    0,
                    3,
                    1,
                    0,
                    0,
                    0,
                    2,
                    0,
                    0,
                    0,
                    0,
                    0,
                    0,
                    1
                  ],
                  "z": [
                    1,
                    1,
                    1,
                    1,
                    1,
                    1,
                    1,
                    1,
                    1,
                    1,
                    1,
                    1,
                    1,
                    1,
                    1,
                    1,
                    1,
                    1,
                    1,
                    1,
                    1,
                    1,
                    1,
                    1,
                    1,
                    1,
                    1,
                    1,
                    1,
                    1,
                    1,
                    1,
                    1,
                    1,
                    1,
                    1,
                    1,
                    1,
                    1,
                    1,
                    1,
                    1,
                    1,
                    1,
                    1,
                    1,
                    1,
                    1,
                    1,
                    1,
                    1,
                    1,
                    1,
                    1,
                    1,
                    1,
                    1,
                    1,
                    1,
                    1,
                    1,
                    1,
                    1,
                    1,
                    1,
                    1,
                    1,
                    1,
                    1,
                    1,
                    1,
                    1,
                    1,
                    1,
                    1,
                    1,
                    1,
                    1,
                    1,
                    1,
                    1,
                    1,
                    1,
                    1,
                    1,
                    1,
                    1,
                    1,
                    1,
                    1,
                    1,
                    1,
                    1,
                    1,
                    1,
                    1,
                    1,
                    1,
                    1,
                    1,
                    1,
                    1,
                    1,
                    1,
                    1,
                    1,
                    1,
                    1,
                    1,
                    1,
                    1,
                    1,
                    1,
                    1,
                    1,
                    1,
                    1,
                    1,
                    1,
                    0,
                    0,
                    0,
                    0,
                    0,
                    0,
                    0,
                    0,
                    0,
                    0,
                    0,
                    0,
                    0,
                    0,
                    0,
                    0,
                    0,
                    0,
                    0,
                    0,
                    0,
                    0,
                    0,
                    0,
                    0,
                    0,
                    0,
                    0,
                    0,
                    0,
                    0,
                    0,
                    0,
                    0,
                    0,
                    0,
                    0,
                    0,
                    0,
                    0,
                    0,
                    0,
                    0,
                    0,
                    0,
                    0,
                    0,
                    0,
                    0,
                    0,
                    0,
                    0,
                    0,
                    0,
                    0,
                    0,
                    0,
                    0,
                    0,
                    0,
                    0,
                    0,
                    0,
                    0,
                    0,
                    0,
                    0,
                    0,
                    0,
                    0,
                    0,
                    0,
                    0,
                    0,
                    0,
                    0,
                    0,
                    0,
                    0,
                    0,
                    0,
                    0,
                    0,
                    0,
                    0,
                    0,
                    0,
                    0,
                    0,
                    0,
                    0,
                    0,
                    0
                  ]
                }
              ],
              "layout": {
                "coloraxis": {
                  "colorbar": {
                    "title": {
                      "text": "target"
                    }
                  },
                  "colorscale": [
                    [
                      0,
                      "#0d0887"
                    ],
                    [
                      0.1111111111111111,
                      "#46039f"
                    ],
                    [
                      0.2222222222222222,
                      "#7201a8"
                    ],
                    [
                      0.3333333333333333,
                      "#9c179e"
                    ],
                    [
                      0.4444444444444444,
                      "#bd3786"
                    ],
                    [
                      0.5555555555555556,
                      "#d8576b"
                    ],
                    [
                      0.6666666666666666,
                      "#ed7953"
                    ],
                    [
                      0.7777777777777778,
                      "#fb9f3a"
                    ],
                    [
                      0.8888888888888888,
                      "#fdca26"
                    ],
                    [
                      1,
                      "#f0f921"
                    ]
                  ]
                },
                "legend": {
                  "tracegroupgap": 0
                },
                "margin": {
                  "b": 0,
                  "l": 0,
                  "r": 0,
                  "t": 0
                },
                "scene": {
                  "domain": {
                    "x": [
                      0,
                      1
                    ],
                    "y": [
                      0,
                      1
                    ]
                  },
                  "xaxis": {
                    "title": {
                      "text": "sex"
                    }
                  },
                  "yaxis": {
                    "title": {
                      "text": "cp"
                    }
                  },
                  "zaxis": {
                    "title": {
                      "text": "target"
                    }
                  }
                },
                "template": {
                  "data": {
                    "bar": [
                      {
                        "error_x": {
                          "color": "#2a3f5f"
                        },
                        "error_y": {
                          "color": "#2a3f5f"
                        },
                        "marker": {
                          "line": {
                            "color": "#E5ECF6",
                            "width": 0.5
                          },
                          "pattern": {
                            "fillmode": "overlay",
                            "size": 10,
                            "solidity": 0.2
                          }
                        },
                        "type": "bar"
                      }
                    ],
                    "barpolar": [
                      {
                        "marker": {
                          "line": {
                            "color": "#E5ECF6",
                            "width": 0.5
                          },
                          "pattern": {
                            "fillmode": "overlay",
                            "size": 10,
                            "solidity": 0.2
                          }
                        },
                        "type": "barpolar"
                      }
                    ],
                    "carpet": [
                      {
                        "aaxis": {
                          "endlinecolor": "#2a3f5f",
                          "gridcolor": "white",
                          "linecolor": "white",
                          "minorgridcolor": "white",
                          "startlinecolor": "#2a3f5f"
                        },
                        "baxis": {
                          "endlinecolor": "#2a3f5f",
                          "gridcolor": "white",
                          "linecolor": "white",
                          "minorgridcolor": "white",
                          "startlinecolor": "#2a3f5f"
                        },
                        "type": "carpet"
                      }
                    ],
                    "choropleth": [
                      {
                        "colorbar": {
                          "outlinewidth": 0,
                          "ticks": ""
                        },
                        "type": "choropleth"
                      }
                    ],
                    "contour": [
                      {
                        "colorbar": {
                          "outlinewidth": 0,
                          "ticks": ""
                        },
                        "colorscale": [
                          [
                            0,
                            "#0d0887"
                          ],
                          [
                            0.1111111111111111,
                            "#46039f"
                          ],
                          [
                            0.2222222222222222,
                            "#7201a8"
                          ],
                          [
                            0.3333333333333333,
                            "#9c179e"
                          ],
                          [
                            0.4444444444444444,
                            "#bd3786"
                          ],
                          [
                            0.5555555555555556,
                            "#d8576b"
                          ],
                          [
                            0.6666666666666666,
                            "#ed7953"
                          ],
                          [
                            0.7777777777777778,
                            "#fb9f3a"
                          ],
                          [
                            0.8888888888888888,
                            "#fdca26"
                          ],
                          [
                            1,
                            "#f0f921"
                          ]
                        ],
                        "type": "contour"
                      }
                    ],
                    "contourcarpet": [
                      {
                        "colorbar": {
                          "outlinewidth": 0,
                          "ticks": ""
                        },
                        "type": "contourcarpet"
                      }
                    ],
                    "heatmap": [
                      {
                        "colorbar": {
                          "outlinewidth": 0,
                          "ticks": ""
                        },
                        "colorscale": [
                          [
                            0,
                            "#0d0887"
                          ],
                          [
                            0.1111111111111111,
                            "#46039f"
                          ],
                          [
                            0.2222222222222222,
                            "#7201a8"
                          ],
                          [
                            0.3333333333333333,
                            "#9c179e"
                          ],
                          [
                            0.4444444444444444,
                            "#bd3786"
                          ],
                          [
                            0.5555555555555556,
                            "#d8576b"
                          ],
                          [
                            0.6666666666666666,
                            "#ed7953"
                          ],
                          [
                            0.7777777777777778,
                            "#fb9f3a"
                          ],
                          [
                            0.8888888888888888,
                            "#fdca26"
                          ],
                          [
                            1,
                            "#f0f921"
                          ]
                        ],
                        "type": "heatmap"
                      }
                    ],
                    "heatmapgl": [
                      {
                        "colorbar": {
                          "outlinewidth": 0,
                          "ticks": ""
                        },
                        "colorscale": [
                          [
                            0,
                            "#0d0887"
                          ],
                          [
                            0.1111111111111111,
                            "#46039f"
                          ],
                          [
                            0.2222222222222222,
                            "#7201a8"
                          ],
                          [
                            0.3333333333333333,
                            "#9c179e"
                          ],
                          [
                            0.4444444444444444,
                            "#bd3786"
                          ],
                          [
                            0.5555555555555556,
                            "#d8576b"
                          ],
                          [
                            0.6666666666666666,
                            "#ed7953"
                          ],
                          [
                            0.7777777777777778,
                            "#fb9f3a"
                          ],
                          [
                            0.8888888888888888,
                            "#fdca26"
                          ],
                          [
                            1,
                            "#f0f921"
                          ]
                        ],
                        "type": "heatmapgl"
                      }
                    ],
                    "histogram": [
                      {
                        "marker": {
                          "pattern": {
                            "fillmode": "overlay",
                            "size": 10,
                            "solidity": 0.2
                          }
                        },
                        "type": "histogram"
                      }
                    ],
                    "histogram2d": [
                      {
                        "colorbar": {
                          "outlinewidth": 0,
                          "ticks": ""
                        },
                        "colorscale": [
                          [
                            0,
                            "#0d0887"
                          ],
                          [
                            0.1111111111111111,
                            "#46039f"
                          ],
                          [
                            0.2222222222222222,
                            "#7201a8"
                          ],
                          [
                            0.3333333333333333,
                            "#9c179e"
                          ],
                          [
                            0.4444444444444444,
                            "#bd3786"
                          ],
                          [
                            0.5555555555555556,
                            "#d8576b"
                          ],
                          [
                            0.6666666666666666,
                            "#ed7953"
                          ],
                          [
                            0.7777777777777778,
                            "#fb9f3a"
                          ],
                          [
                            0.8888888888888888,
                            "#fdca26"
                          ],
                          [
                            1,
                            "#f0f921"
                          ]
                        ],
                        "type": "histogram2d"
                      }
                    ],
                    "histogram2dcontour": [
                      {
                        "colorbar": {
                          "outlinewidth": 0,
                          "ticks": ""
                        },
                        "colorscale": [
                          [
                            0,
                            "#0d0887"
                          ],
                          [
                            0.1111111111111111,
                            "#46039f"
                          ],
                          [
                            0.2222222222222222,
                            "#7201a8"
                          ],
                          [
                            0.3333333333333333,
                            "#9c179e"
                          ],
                          [
                            0.4444444444444444,
                            "#bd3786"
                          ],
                          [
                            0.5555555555555556,
                            "#d8576b"
                          ],
                          [
                            0.6666666666666666,
                            "#ed7953"
                          ],
                          [
                            0.7777777777777778,
                            "#fb9f3a"
                          ],
                          [
                            0.8888888888888888,
                            "#fdca26"
                          ],
                          [
                            1,
                            "#f0f921"
                          ]
                        ],
                        "type": "histogram2dcontour"
                      }
                    ],
                    "mesh3d": [
                      {
                        "colorbar": {
                          "outlinewidth": 0,
                          "ticks": ""
                        },
                        "type": "mesh3d"
                      }
                    ],
                    "parcoords": [
                      {
                        "line": {
                          "colorbar": {
                            "outlinewidth": 0,
                            "ticks": ""
                          }
                        },
                        "type": "parcoords"
                      }
                    ],
                    "pie": [
                      {
                        "automargin": true,
                        "type": "pie"
                      }
                    ],
                    "scatter": [
                      {
                        "fillpattern": {
                          "fillmode": "overlay",
                          "size": 10,
                          "solidity": 0.2
                        },
                        "type": "scatter"
                      }
                    ],
                    "scatter3d": [
                      {
                        "line": {
                          "colorbar": {
                            "outlinewidth": 0,
                            "ticks": ""
                          }
                        },
                        "marker": {
                          "colorbar": {
                            "outlinewidth": 0,
                            "ticks": ""
                          }
                        },
                        "type": "scatter3d"
                      }
                    ],
                    "scattercarpet": [
                      {
                        "marker": {
                          "colorbar": {
                            "outlinewidth": 0,
                            "ticks": ""
                          }
                        },
                        "type": "scattercarpet"
                      }
                    ],
                    "scattergeo": [
                      {
                        "marker": {
                          "colorbar": {
                            "outlinewidth": 0,
                            "ticks": ""
                          }
                        },
                        "type": "scattergeo"
                      }
                    ],
                    "scattergl": [
                      {
                        "marker": {
                          "colorbar": {
                            "outlinewidth": 0,
                            "ticks": ""
                          }
                        },
                        "type": "scattergl"
                      }
                    ],
                    "scattermapbox": [
                      {
                        "marker": {
                          "colorbar": {
                            "outlinewidth": 0,
                            "ticks": ""
                          }
                        },
                        "type": "scattermapbox"
                      }
                    ],
                    "scatterpolar": [
                      {
                        "marker": {
                          "colorbar": {
                            "outlinewidth": 0,
                            "ticks": ""
                          }
                        },
                        "type": "scatterpolar"
                      }
                    ],
                    "scatterpolargl": [
                      {
                        "marker": {
                          "colorbar": {
                            "outlinewidth": 0,
                            "ticks": ""
                          }
                        },
                        "type": "scatterpolargl"
                      }
                    ],
                    "scatterternary": [
                      {
                        "marker": {
                          "colorbar": {
                            "outlinewidth": 0,
                            "ticks": ""
                          }
                        },
                        "type": "scatterternary"
                      }
                    ],
                    "surface": [
                      {
                        "colorbar": {
                          "outlinewidth": 0,
                          "ticks": ""
                        },
                        "colorscale": [
                          [
                            0,
                            "#0d0887"
                          ],
                          [
                            0.1111111111111111,
                            "#46039f"
                          ],
                          [
                            0.2222222222222222,
                            "#7201a8"
                          ],
                          [
                            0.3333333333333333,
                            "#9c179e"
                          ],
                          [
                            0.4444444444444444,
                            "#bd3786"
                          ],
                          [
                            0.5555555555555556,
                            "#d8576b"
                          ],
                          [
                            0.6666666666666666,
                            "#ed7953"
                          ],
                          [
                            0.7777777777777778,
                            "#fb9f3a"
                          ],
                          [
                            0.8888888888888888,
                            "#fdca26"
                          ],
                          [
                            1,
                            "#f0f921"
                          ]
                        ],
                        "type": "surface"
                      }
                    ],
                    "table": [
                      {
                        "cells": {
                          "fill": {
                            "color": "#EBF0F8"
                          },
                          "line": {
                            "color": "white"
                          }
                        },
                        "header": {
                          "fill": {
                            "color": "#C8D4E3"
                          },
                          "line": {
                            "color": "white"
                          }
                        },
                        "type": "table"
                      }
                    ]
                  },
                  "layout": {
                    "annotationdefaults": {
                      "arrowcolor": "#2a3f5f",
                      "arrowhead": 0,
                      "arrowwidth": 1
                    },
                    "autotypenumbers": "strict",
                    "coloraxis": {
                      "colorbar": {
                        "outlinewidth": 0,
                        "ticks": ""
                      }
                    },
                    "colorscale": {
                      "diverging": [
                        [
                          0,
                          "#8e0152"
                        ],
                        [
                          0.1,
                          "#c51b7d"
                        ],
                        [
                          0.2,
                          "#de77ae"
                        ],
                        [
                          0.3,
                          "#f1b6da"
                        ],
                        [
                          0.4,
                          "#fde0ef"
                        ],
                        [
                          0.5,
                          "#f7f7f7"
                        ],
                        [
                          0.6,
                          "#e6f5d0"
                        ],
                        [
                          0.7,
                          "#b8e186"
                        ],
                        [
                          0.8,
                          "#7fbc41"
                        ],
                        [
                          0.9,
                          "#4d9221"
                        ],
                        [
                          1,
                          "#276419"
                        ]
                      ],
                      "sequential": [
                        [
                          0,
                          "#0d0887"
                        ],
                        [
                          0.1111111111111111,
                          "#46039f"
                        ],
                        [
                          0.2222222222222222,
                          "#7201a8"
                        ],
                        [
                          0.3333333333333333,
                          "#9c179e"
                        ],
                        [
                          0.4444444444444444,
                          "#bd3786"
                        ],
                        [
                          0.5555555555555556,
                          "#d8576b"
                        ],
                        [
                          0.6666666666666666,
                          "#ed7953"
                        ],
                        [
                          0.7777777777777778,
                          "#fb9f3a"
                        ],
                        [
                          0.8888888888888888,
                          "#fdca26"
                        ],
                        [
                          1,
                          "#f0f921"
                        ]
                      ],
                      "sequentialminus": [
                        [
                          0,
                          "#0d0887"
                        ],
                        [
                          0.1111111111111111,
                          "#46039f"
                        ],
                        [
                          0.2222222222222222,
                          "#7201a8"
                        ],
                        [
                          0.3333333333333333,
                          "#9c179e"
                        ],
                        [
                          0.4444444444444444,
                          "#bd3786"
                        ],
                        [
                          0.5555555555555556,
                          "#d8576b"
                        ],
                        [
                          0.6666666666666666,
                          "#ed7953"
                        ],
                        [
                          0.7777777777777778,
                          "#fb9f3a"
                        ],
                        [
                          0.8888888888888888,
                          "#fdca26"
                        ],
                        [
                          1,
                          "#f0f921"
                        ]
                      ]
                    },
                    "colorway": [
                      "#636efa",
                      "#EF553B",
                      "#00cc96",
                      "#ab63fa",
                      "#FFA15A",
                      "#19d3f3",
                      "#FF6692",
                      "#B6E880",
                      "#FF97FF",
                      "#FECB52"
                    ],
                    "font": {
                      "color": "#2a3f5f"
                    },
                    "geo": {
                      "bgcolor": "white",
                      "lakecolor": "white",
                      "landcolor": "#E5ECF6",
                      "showlakes": true,
                      "showland": true,
                      "subunitcolor": "white"
                    },
                    "hoverlabel": {
                      "align": "left"
                    },
                    "hovermode": "closest",
                    "mapbox": {
                      "style": "light"
                    },
                    "paper_bgcolor": "white",
                    "plot_bgcolor": "#E5ECF6",
                    "polar": {
                      "angularaxis": {
                        "gridcolor": "white",
                        "linecolor": "white",
                        "ticks": ""
                      },
                      "bgcolor": "#E5ECF6",
                      "radialaxis": {
                        "gridcolor": "white",
                        "linecolor": "white",
                        "ticks": ""
                      }
                    },
                    "scene": {
                      "xaxis": {
                        "backgroundcolor": "#E5ECF6",
                        "gridcolor": "white",
                        "gridwidth": 2,
                        "linecolor": "white",
                        "showbackground": true,
                        "ticks": "",
                        "zerolinecolor": "white"
                      },
                      "yaxis": {
                        "backgroundcolor": "#E5ECF6",
                        "gridcolor": "white",
                        "gridwidth": 2,
                        "linecolor": "white",
                        "showbackground": true,
                        "ticks": "",
                        "zerolinecolor": "white"
                      },
                      "zaxis": {
                        "backgroundcolor": "#E5ECF6",
                        "gridcolor": "white",
                        "gridwidth": 2,
                        "linecolor": "white",
                        "showbackground": true,
                        "ticks": "",
                        "zerolinecolor": "white"
                      }
                    },
                    "shapedefaults": {
                      "line": {
                        "color": "#2a3f5f"
                      }
                    },
                    "ternary": {
                      "aaxis": {
                        "gridcolor": "white",
                        "linecolor": "white",
                        "ticks": ""
                      },
                      "baxis": {
                        "gridcolor": "white",
                        "linecolor": "white",
                        "ticks": ""
                      },
                      "bgcolor": "#E5ECF6",
                      "caxis": {
                        "gridcolor": "white",
                        "linecolor": "white",
                        "ticks": ""
                      }
                    },
                    "title": {
                      "x": 0.05
                    },
                    "xaxis": {
                      "automargin": true,
                      "gridcolor": "white",
                      "linecolor": "white",
                      "ticks": "",
                      "title": {
                        "standoff": 15
                      },
                      "zerolinecolor": "white",
                      "zerolinewidth": 2
                    },
                    "yaxis": {
                      "automargin": true,
                      "gridcolor": "white",
                      "linecolor": "white",
                      "ticks": "",
                      "title": {
                        "standoff": 15
                      },
                      "zerolinecolor": "white",
                      "zerolinewidth": 2
                    }
                  }
                }
              }
            }
          },
          "metadata": {},
          "output_type": "display_data"
        }
      ],
      "source": [
        "fig = px.scatter_3d(data, x='sex', y='cp',z = 'target',color='target')\n",
        "fig.update_layout(margin=dict(l=0, r=0, b=0, t=0))\n",
        "fig.show()"
      ]
    },
    {
      "cell_type": "markdown",
      "metadata": {
        "id": "xZ0oDx_Vhe3l"
      },
      "source": [
        "using 3D Graphs give better interpretation for the data \n",
        "most features are linearly separable so we will loop over all feature combination to get best TWO "
      ]
    },
    {
      "cell_type": "code",
      "execution_count": null,
      "metadata": {
        "id": "QUYzSu9Whe3l",
        "outputId": "ded15ace-233f-4c42-d6e7-ed5a67828b49"
      },
      "outputs": [
        {
          "name": "stdout",
          "output_type": "stream",
          "text": [
            "\u001b[35mLogistic Regression Info. of age and sex:- \n",
            "\u001b[30mBias = 9.92572263049239e-05\n",
            "\u001b[30mWeight_0 = 0.002638834164464123\n",
            "\u001b[30mWeight_1 = -0.00010882989206748988\n",
            "\u001b[30mCost/Loss = 0.6897010518041796\n",
            "\u001b[30mNumber of Iterations = 26\n",
            "\u001b[36mTrain Accuracy = 0.5613207547169812\n",
            "\u001b[36mTest Accuracy = 0.5054945054945055\n",
            "\u001b[35mLogistic Regression Info. of age and cp:- \n",
            "\u001b[30mBias = 0.00011369911912979171\n",
            "\u001b[30mWeight_0 = 0.0027726839795628585\n",
            "\u001b[30mWeight_1 = 0.0008507823246201176\n",
            "\u001b[30mCost/Loss = 0.6894586456822253\n",
            "\u001b[30mNumber of Iterations = 32\n",
            "\u001b[36mTrain Accuracy = 0.5613207547169812\n",
            "\u001b[36mTest Accuracy = 0.5054945054945055\n",
            "\u001b[35mLogistic Regression Info. of age and trestbps:- \n",
            "\u001b[30mBias = 0.0003372945557679159\n",
            "\u001b[30mWeight_0 = -0.017147616798215012\n",
            "\u001b[30mWeight_1 = 0.008718208741239861\n",
            "\u001b[30mCost/Loss = 0.6775332132570665\n",
            "\u001b[30mNumber of Iterations = 397\n",
            "\u001b[36mTrain Accuracy = 0.5707547169811321\n",
            "\u001b[36mTest Accuracy = 0.5054945054945055\n",
            "\u001b[35mLogistic Regression Info. of age and chol:- \n",
            "\u001b[30mBias = 0.00018891168056472772\n",
            "\u001b[30mWeight_0 = -0.012506968376933585\n",
            "\u001b[30mWeight_1 = 0.003605370388240177\n",
            "\u001b[30mCost/Loss = 0.678759612424267\n",
            "\u001b[30mNumber of Iterations = 241\n",
            "\u001b[36mTrain Accuracy = 0.589622641509434\n",
            "\u001b[36mTest Accuracy = 0.45054945054945056\n",
            "\u001b[35mLogistic Regression Info. of age and fbs:- \n",
            "\u001b[30mBias = 9.92436478244606e-05\n",
            "\u001b[30mWeight_0 = 0.0026381117247641205\n",
            "\u001b[30mWeight_1 = 1.4965930515417794e-05\n",
            "\u001b[30mCost/Loss = 0.6897067260155366\n",
            "\u001b[30mNumber of Iterations = 26\n",
            "\u001b[36mTrain Accuracy = 0.5613207547169812\n",
            "\u001b[36mTest Accuracy = 0.5054945054945055\n",
            "\u001b[35mLogistic Regression Info. of age and restecg:- \n",
            "\u001b[30mBias = 9.923232429106232e-05\n",
            "\u001b[30mWeight_0 = 0.0026375278758167652\n",
            "\u001b[30mWeight_1 = 0.00011708773890796047\n",
            "\u001b[30mCost/Loss = 0.689702431720431\n",
            "\u001b[30mNumber of Iterations = 26\n",
            "\u001b[36mTrain Accuracy = 0.5613207547169812\n",
            "\u001b[36mTest Accuracy = 0.5054945054945055\n",
            "\u001b[35mLogistic Regression Info. of age and thalach:- \n",
            "\u001b[30mBias = -0.0006656214397770929\n",
            "\u001b[30mWeight_0 = -0.04688905832242723\n",
            "\u001b[30mWeight_1 = 0.019175279412339433\n",
            "\u001b[30mCost/Loss = 0.6111710949730986\n",
            "\u001b[30mNumber of Iterations = 500\n",
            "\u001b[36mTrain Accuracy = 0.6415094339622641\n",
            "\u001b[36mTest Accuracy = 0.6813186813186813\n",
            "\u001b[35mLogistic Regression Info. of age and exang:- \n",
            "\u001b[30mBias = 0.00010178589890216574\n",
            "\u001b[30mWeight_0 = 0.002667927091681323\n",
            "\u001b[30mWeight_1 = -0.00022362745319615926\n",
            "\u001b[30mCost/Loss = 0.6896789702702422\n",
            "\u001b[30mNumber of Iterations = 27\n",
            "\u001b[36mTrain Accuracy = 0.5613207547169812\n",
            "\u001b[36mTest Accuracy = 0.5054945054945055\n",
            "\u001b[35mLogistic Regression Info. of age and oldpeak:- \n",
            "\u001b[30mBias = 0.00010681212237294898\n",
            "\u001b[30mWeight_0 = 0.0027243769850337895\n",
            "\u001b[30mWeight_1 = -0.0005213593150588087\n",
            "\u001b[30mCost/Loss = 0.6895839155184157\n",
            "\u001b[30mNumber of Iterations = 29\n",
            "\u001b[36mTrain Accuracy = 0.5613207547169812\n",
            "\u001b[36mTest Accuracy = 0.5054945054945055\n",
            "\u001b[35mLogistic Regression Info. of age and slope:- \n",
            "\u001b[30mBias = 0.0001016630405802099\n",
            "\u001b[30mWeight_0 = 0.002661439004802439\n",
            "\u001b[30mWeight_1 = 0.00038736031812223754\n",
            "\u001b[30mCost/Loss = 0.6896515360679378\n",
            "\u001b[30mNumber of Iterations = 27\n",
            "\u001b[36mTrain Accuracy = 0.5613207547169812\n",
            "\u001b[36mTest Accuracy = 0.5054945054945055\n",
            "\u001b[35mLogistic Regression Info. of age and ca:- \n",
            "\u001b[30mBias = 0.00010678088487073097\n",
            "\u001b[30mWeight_0 = 0.002722665542021126\n",
            "\u001b[30mWeight_1 = -0.0004839776888336614\n",
            "\u001b[30mCost/Loss = 0.6895993818443076\n",
            "\u001b[30mNumber of Iterations = 29\n",
            "\u001b[36mTrain Accuracy = 0.5613207547169812\n",
            "\u001b[36mTest Accuracy = 0.5054945054945055\n",
            "\u001b[35mLogistic Regression Info. of age and thal:- \n",
            "\u001b[30mBias = 9.92615276660338e-05\n",
            "\u001b[30mWeight_0 = 0.0026390896957565664\n",
            "\u001b[30mWeight_1 = -6.60105500226701e-05\n",
            "\u001b[30mCost/Loss = 0.6897028491520221\n",
            "\u001b[30mNumber of Iterations = 26\n",
            "\u001b[36mTrain Accuracy = 0.5613207547169812\n",
            "\u001b[36mTest Accuracy = 0.5054945054945055\n",
            "\u001b[35mLogistic Regression Info. of sex and cp:- \n",
            "\u001b[30mBias = 1.8393646028588235e-05\n",
            "\u001b[30mWeight_0 = -7.784734031519715e-06\n",
            "\u001b[30mWeight_1 = 8.773079422202893e-05\n",
            "\u001b[30mCost/Loss = 0.6931201959539453\n",
            "\u001b[30mNumber of Iterations = 3\n",
            "\u001b[36mTrain Accuracy = 0.4858490566037736\n",
            "\u001b[36mTest Accuracy = 0.4835164835164835\n",
            "\u001b[35mLogistic Regression Info. of sex and trestbps:- \n",
            "\u001b[30mBias = 1.638143640386824e-05\n",
            "\u001b[30mWeight_0 = -3.647957872449365e-05\n",
            "\u001b[30mWeight_1 = 0.0016653629186609573\n",
            "\u001b[30mCost/Loss = 0.6868383754139699\n",
            "\u001b[30mNumber of Iterations = 7\n",
            "\u001b[36mTrain Accuracy = 0.5613207547169812\n",
            "\u001b[36mTest Accuracy = 0.5054945054945055\n",
            "\u001b[35mLogistic Regression Info. of sex and chol:- \n",
            "\u001b[30mBias = 6.203531793810733e-06\n",
            "\u001b[30mWeight_0 = -4.261760982441116e-05\n",
            "\u001b[30mWeight_1 = 0.0009582727094524876\n",
            "\u001b[30mCost/Loss = 0.686150407808127\n",
            "\u001b[30mNumber of Iterations = 7\n",
            "\u001b[36mTrain Accuracy = 0.5613207547169812\n",
            "\u001b[36mTest Accuracy = 0.5054945054945055\n",
            "\u001b[35mLogistic Regression Info. of sex and fbs:- \n",
            "\u001b[30mBias = 1.8395890751353617e-05\n",
            "\u001b[30mWeight_0 = -7.783210519995076e-06\n",
            "\u001b[30mWeight_1 = 2.8301296898384434e-06\n",
            "\u001b[30mCost/Loss = 0.6931458239120397\n",
            "\u001b[30mNumber of Iterations = 3\n",
            "\u001b[36mTrain Accuracy = 0.4386792452830189\n",
            "\u001b[36mTest Accuracy = 0.4945054945054945\n",
            "\u001b[35mLogistic Regression Info. of sex and restecg:- \n",
            "\u001b[30mBias = 1.8395685166302217e-05\n",
            "\u001b[30mWeight_0 = -7.783351025088494e-06\n",
            "\u001b[30mWeight_1 = 1.6980737422707865e-05\n",
            "\u001b[30mCost/Loss = 0.693144889492635\n",
            "\u001b[30mNumber of Iterations = 3\n",
            "\u001b[36mTrain Accuracy = 0.4386792452830189\n",
            "\u001b[36mTest Accuracy = 0.4945054945054945\n",
            "\u001b[35mLogistic Regression Info. of sex and thalach:- \n",
            "\u001b[30mBias = -1.2818506149090635e-06\n",
            "\u001b[30mWeight_0 = -4.184093679487388e-05\n",
            "\u001b[30mWeight_1 = 0.00239395145267767\n",
            "\u001b[30mCost/Loss = 0.6766889175348108\n",
            "\u001b[30mNumber of Iterations = 6\n",
            "\u001b[36mTrain Accuracy = 0.5613207547169812\n",
            "\u001b[36mTest Accuracy = 0.5054945054945055\n",
            "\u001b[35mLogistic Regression Info. of sex and exang:- \n",
            "\u001b[30mBias = 1.839607230802811e-05\n",
            "\u001b[30mWeight_0 = -7.783069346381124e-06\n",
            "\u001b[30mWeight_1 = -2.264143150335813e-05\n",
            "\u001b[30mCost/Loss = 0.6931441418134059\n",
            "\u001b[30mNumber of Iterations = 3\n",
            "\u001b[36mTrain Accuracy = 0.4386792452830189\n",
            "\u001b[36mTest Accuracy = 0.4945054945054945\n",
            "\u001b[35mLogistic Regression Info. of sex and oldpeak:- \n",
            "\u001b[30mBias = 1.839703778047702e-05\n",
            "\u001b[30mWeight_0 = -7.782312621629184e-06\n",
            "\u001b[30mWeight_1 = -4.648367992880458e-05\n",
            "\u001b[30mCost/Loss = 0.6931386482192955\n",
            "\u001b[30mNumber of Iterations = 3\n",
            "\u001b[36mTrain Accuracy = 0.4386792452830189\n",
            "\u001b[36mTest Accuracy = 0.4945054945054945\n",
            "\u001b[35mLogistic Regression Info. of sex and slope:- \n",
            "\u001b[30mBias = 1.8394005388512194e-05\n",
            "\u001b[30mWeight_0 = -7.784479384733512e-06\n",
            "\u001b[30mWeight_1 = 5.306235751826464e-05\n",
            "\u001b[30mCost/Loss = 0.6931364657633566\n",
            "\u001b[30mNumber of Iterations = 3\n",
            "\u001b[36mTrain Accuracy = 0.4386792452830189\n",
            "\u001b[36mTest Accuracy = 0.4945054945054945\n",
            "\u001b[35mLogistic Regression Info. of sex and ca:- \n",
            "\u001b[30mBias = 1.8396695149898783e-05\n",
            "\u001b[30mWeight_0 = -7.782556304674975e-06\n",
            "\u001b[30mWeight_1 = -4.457402008140252e-05\n",
            "\u001b[30mCost/Loss = 0.6931392278266002\n",
            "\u001b[30mNumber of Iterations = 3\n",
            "\u001b[36mTrain Accuracy = 0.4386792452830189\n",
            "\u001b[36mTest Accuracy = 0.4945054945054945\n",
            "\u001b[35mLogistic Regression Info. of sex and thal:- \n",
            "\u001b[30mBias = 1.8395410864211762e-05\n",
            "\u001b[30mWeight_0 = -7.783554249532166e-06\n",
            "\u001b[30mWeight_1 = 8.488617811925666e-06\n",
            "\u001b[30mCost/Loss = 0.6931456105005839\n",
            "\u001b[30mNumber of Iterations = 3\n",
            "\u001b[36mTrain Accuracy = 0.4386792452830189\n",
            "\u001b[36mTest Accuracy = 0.4945054945054945\n",
            "\u001b[35mLogistic Regression Info. of cp and trestbps:- \n",
            "\u001b[30mBias = 1.6373366665341068e-05\n",
            "\u001b[30mWeight_0 = 0.0001769806604881234\n",
            "\u001b[30mWeight_1 = 0.0016642861622358516\n",
            "\u001b[30mCost/Loss = 0.686799194245515\n",
            "\u001b[30mNumber of Iterations = 7\n",
            "\u001b[36mTrain Accuracy = 0.5613207547169812\n",
            "\u001b[36mTest Accuracy = 0.5054945054945055\n",
            "\u001b[35mLogistic Regression Info. of cp and chol:- \n",
            "\u001b[30mBias = 6.439584512968416e-06\n",
            "\u001b[30mWeight_0 = 0.0001908218565998322\n",
            "\u001b[30mWeight_1 = 0.0009268573030870504\n",
            "\u001b[30mCost/Loss = 0.6861064913646362\n",
            "\u001b[30mNumber of Iterations = 8\n",
            "\u001b[36mTrain Accuracy = 0.5613207547169812\n",
            "\u001b[36mTest Accuracy = 0.5054945054945055\n",
            "\u001b[35mLogistic Regression Info. of cp and fbs:- \n",
            "\u001b[30mBias = 1.8393500423982978e-05\n",
            "\u001b[30mWeight_0 = 8.773064402997897e-05\n",
            "\u001b[30mWeight_1 = 2.8296637054832917e-06\n",
            "\u001b[30mCost/Loss = 0.6931203714277515\n",
            "\u001b[30mNumber of Iterations = 3\n",
            "\u001b[36mTrain Accuracy = 0.4858490566037736\n",
            "\u001b[36mTest Accuracy = 0.4835164835164835\n",
            "\u001b[35mLogistic Regression Info. of cp and restecg:- \n",
            "\u001b[30mBias = 1.839329484411303e-05\n",
            "\u001b[30mWeight_0 = 8.773044813029215e-05\n",
            "\u001b[30mWeight_1 = 1.6979583189597804e-05\n",
            "\u001b[30mCost/Loss = 0.6931194373129889\n",
            "\u001b[30mNumber of Iterations = 3\n",
            "\u001b[36mTrain Accuracy = 0.589622641509434\n",
            "\u001b[36mTest Accuracy = 0.6043956043956044\n",
            "\u001b[35mLogistic Regression Info. of cp and thalach:- \n",
            "\u001b[30mBias = -1.2870123553849449e-06\n",
            "\u001b[30mWeight_0 = 0.00013481560433785088\n",
            "\u001b[30mWeight_1 = 0.002393143834277733\n",
            "\u001b[30mCost/Loss = 0.6766660018344848\n",
            "\u001b[30mNumber of Iterations = 6\n",
            "\u001b[36mTrain Accuracy = 0.5613207547169812\n",
            "\u001b[36mTest Accuracy = 0.5054945054945055\n",
            "\u001b[35mLogistic Regression Info. of cp and exang:- \n",
            "\u001b[30mBias = 1.83936819809458e-05\n",
            "\u001b[30mWeight_0 = 8.773071444739435e-05\n",
            "\u001b[30mWeight_1 = -2.264169465336531e-05\n",
            "\u001b[30mCost/Loss = 0.69311868920785\n",
            "\u001b[30mNumber of Iterations = 3\n",
            "\u001b[36mTrain Accuracy = 0.4858490566037736\n",
            "\u001b[36mTest Accuracy = 0.4835164835164835\n",
            "\u001b[35mLogistic Regression Info. of cp and oldpeak:- \n",
            "\u001b[30mBias = 0.003001366898697131\n",
            "\u001b[30mWeight_0 = 0.01445140302823547\n",
            "\u001b[30mWeight_1 = -0.007743574311000938\n",
            "\u001b[30mCost/Loss = 0.687590782502781\n",
            "\u001b[30mNumber of Iterations = 500\n",
            "\u001b[36mTrain Accuracy = 0.7594339622641509\n",
            "\u001b[36mTest Accuracy = 0.7362637362637363\n",
            "\u001b[35mLogistic Regression Info. of cp and slope:- \n",
            "\u001b[30mBias = 0.002878084755852516\n",
            "\u001b[30mWeight_0 = 0.014328332866058283\n",
            "\u001b[30mWeight_1 = 0.008550946763062187\n",
            "\u001b[30mCost/Loss = 0.6874120396843513\n",
            "\u001b[30mNumber of Iterations = 500\n",
            "\u001b[36mTrain Accuracy = 0.5613207547169812\n",
            "\u001b[36mTest Accuracy = 0.5054945054945055\n",
            "\u001b[35mLogistic Regression Info. of cp and ca:- \n",
            "\u001b[30mBias = 0.0029872533784966455\n",
            "\u001b[30mWeight_0 = 0.0144367774433569\n",
            "\u001b[30mWeight_1 = -0.0074279508180555955\n",
            "\u001b[30mCost/Loss = 0.6876966540829215\n",
            "\u001b[30mNumber of Iterations = 500\n",
            "\u001b[36mTrain Accuracy = 0.7688679245283019\n",
            "\u001b[36mTest Accuracy = 0.7692307692307693\n",
            "\u001b[35mLogistic Regression Info. of cp and thal:- \n",
            "\u001b[30mBias = 1.8393020638460652e-05\n",
            "\u001b[30mWeight_0 = 8.773018593723213e-05\n",
            "\u001b[30mWeight_1 = 8.483412641071264e-06\n",
            "\u001b[30mCost/Loss = 0.6931201587303507\n",
            "\u001b[30mNumber of Iterations = 3\n",
            "\u001b[36mTrain Accuracy = 0.6556603773584906\n",
            "\u001b[36mTest Accuracy = 0.6373626373626373\n",
            "\u001b[35mLogistic Regression Info. of trestbps and chol:- \n",
            "\u001b[30mBias = 1.1191244399885057e-05\n",
            "\u001b[30mWeight_0 = 0.00035650184508783137\n",
            "\u001b[30mWeight_1 = 0.0014698290702637553\n",
            "\u001b[30mCost/Loss = 0.6901955933865993\n",
            "\u001b[30mNumber of Iterations = 17\n",
            "\u001b[36mTrain Accuracy = 0.5613207547169812\n",
            "\u001b[36mTest Accuracy = 0.5054945054945055\n",
            "\u001b[35mLogistic Regression Info. of trestbps and fbs:- \n",
            "\u001b[30mBias = 1.6380507735500263e-05\n",
            "\u001b[30mWeight_0 = 0.0016652426817847664\n",
            "\u001b[30mWeight_1 = 2.4659831520835717e-06\n",
            "\u001b[30mCost/Loss = 0.6868407126188916\n",
            "\u001b[30mNumber of Iterations = 7\n",
            "\u001b[36mTrain Accuracy = 0.5613207547169812\n",
            "\u001b[36mTest Accuracy = 0.5054945054945055\n",
            "\u001b[35mLogistic Regression Info. of trestbps and restecg:- \n",
            "\u001b[30mBias = 1.6379959372997606e-05\n",
            "\u001b[30mWeight_0 = 0.0016651726499178115\n",
            "\u001b[30mWeight_1 = 2.6190590345693643e-05\n",
            "\u001b[30mCost/Loss = 0.6868399665441397\n",
            "\u001b[30mNumber of Iterations = 7\n",
            "\u001b[36mTrain Accuracy = 0.5613207547169812\n",
            "\u001b[36mTest Accuracy = 0.5054945054945055\n",
            "\u001b[35mLogistic Regression Info. of trestbps and thalach:- \n",
            "\u001b[30mBias = -0.0003329029072482669\n",
            "\u001b[30mWeight_0 = -0.02897530887695105\n",
            "\u001b[30mWeight_1 = 0.0274978889542319\n",
            "\u001b[30mCost/Loss = 0.6104865530724993\n",
            "\u001b[30mNumber of Iterations = 328\n",
            "\u001b[36mTrain Accuracy = 0.6509433962264151\n",
            "\u001b[36mTest Accuracy = 0.7472527472527473\n",
            "\u001b[35mLogistic Regression Info. of trestbps and exang:- \n",
            "\u001b[30mBias = 1.6381228944759694e-05\n",
            "\u001b[30mWeight_0 = 0.0016653358585279289\n",
            "\u001b[30mWeight_1 = -6.0802863016037606e-05\n",
            "\u001b[30mCost/Loss = 0.6868351146685756\n",
            "\u001b[30mNumber of Iterations = 7\n",
            "\u001b[36mTrain Accuracy = 0.5613207547169812\n",
            "\u001b[36mTest Accuracy = 0.5054945054945055\n",
            "\u001b[35mLogistic Regression Info. of trestbps and oldpeak:- \n",
            "\u001b[30mBias = 1.638544479230895e-05\n",
            "\u001b[30mWeight_0 = 0.0016659013701528981\n",
            "\u001b[30mWeight_1 = -0.00013474613164869673\n",
            "\u001b[30mCost/Loss = 0.68681245029067\n",
            "\u001b[30mNumber of Iterations = 7\n",
            "\u001b[36mTrain Accuracy = 0.5613207547169812\n",
            "\u001b[36mTest Accuracy = 0.5054945054945055\n",
            "\u001b[35mLogistic Regression Info. of trestbps and slope:- \n",
            "\u001b[30mBias = 1.637539709008762e-05\n",
            "\u001b[30mWeight_0 = 0.0016645814722883547\n",
            "\u001b[30mWeight_1 = 8.593967861622104e-05\n",
            "\u001b[30mCost/Loss = 0.6868323078895905\n",
            "\u001b[30mNumber of Iterations = 7\n",
            "\u001b[36mTrain Accuracy = 0.5613207547169812\n",
            "\u001b[36mTest Accuracy = 0.5054945054945055\n",
            "\u001b[35mLogistic Regression Info. of trestbps and ca:- \n",
            "\u001b[30mBias = 1.63838269307521e-05\n",
            "\u001b[30mWeight_0 = 0.001665683640004941\n",
            "\u001b[30mWeight_1 = -0.00012310799143597256\n",
            "\u001b[30mCost/Loss = 0.6868175188167306\n",
            "\u001b[30mNumber of Iterations = 7\n",
            "\u001b[36mTrain Accuracy = 0.5613207547169812\n",
            "\u001b[36mTest Accuracy = 0.5054945054945055\n",
            "\u001b[35mLogistic Regression Info. of trestbps and thal:- \n",
            "\u001b[30mBias = 1.6383409083673825e-05\n",
            "\u001b[30mWeight_0 = 0.001665625106767307\n",
            "\u001b[30mWeight_1 = -4.17707279054343e-05\n",
            "\u001b[30mCost/Loss = 0.6868365455342212\n",
            "\u001b[30mNumber of Iterations = 7\n",
            "\u001b[36mTrain Accuracy = 0.5613207547169812\n",
            "\u001b[36mTest Accuracy = 0.5054945054945055\n",
            "\u001b[35mLogistic Regression Info. of chol and fbs:- \n",
            "\u001b[30mBias = 6.202965766215974e-06\n",
            "\u001b[30mWeight_0 = 0.0009581706668295333\n",
            "\u001b[30mWeight_1 = 1.0567461201259407e-06\n",
            "\u001b[30mCost/Loss = 0.6861531536365916\n",
            "\u001b[30mNumber of Iterations = 7\n",
            "\u001b[36mTrain Accuracy = 0.5613207547169812\n",
            "\u001b[36mTest Accuracy = 0.5054945054945055\n",
            "\u001b[35mLogistic Regression Info. of chol and restecg:- \n",
            "\u001b[30mBias = 6.2027494531366515e-06\n",
            "\u001b[30mWeight_0 = 0.0009581349732233024\n",
            "\u001b[30mWeight_1 = 2.1753201626034865e-05\n",
            "\u001b[30mCost/Loss = 0.6861525355085879\n",
            "\u001b[30mNumber of Iterations = 7\n",
            "\u001b[36mTrain Accuracy = 0.5613207547169812\n",
            "\u001b[36mTest Accuracy = 0.5054945054945055\n",
            "\u001b[35mLogistic Regression Info. of chol and thalach:- \n",
            "\u001b[30mBias = -0.00027623058699900076\n",
            "\u001b[30mWeight_0 = -0.0077045378265714354\n",
            "\u001b[30mWeight_1 = 0.01520153896059186\n",
            "\u001b[30mCost/Loss = 0.6491331910408515\n",
            "\u001b[30mNumber of Iterations = 175\n",
            "\u001b[36mTrain Accuracy = 0.6226415094339622\n",
            "\u001b[36mTest Accuracy = 0.6373626373626373\n",
            "\u001b[35mLogistic Regression Info. of chol and exang:- \n",
            "\u001b[30mBias = 6.2032779031788345e-06\n",
            "\u001b[30mWeight_0 = 0.000958240590824962\n",
            "\u001b[30mWeight_1 = -6.409933572312416e-05\n",
            "\u001b[30mCost/Loss = 0.6861471789350309\n",
            "\u001b[30mNumber of Iterations = 7\n",
            "\u001b[36mTrain Accuracy = 0.5613207547169812\n",
            "\u001b[36mTest Accuracy = 0.5054945054945055\n",
            "\u001b[35mLogistic Regression Info. of chol and oldpeak:- \n",
            "\u001b[30mBias = 6.446186500611227e-06\n",
            "\u001b[30mWeight_0 = 0.0009281195429725127\n",
            "\u001b[30mWeight_1 = -0.00016545866274618812\n",
            "\u001b[30mCost/Loss = 0.6861162235150493\n",
            "\u001b[30mNumber of Iterations = 8\n",
            "\u001b[36mTrain Accuracy = 0.5613207547169812\n",
            "\u001b[36mTest Accuracy = 0.5054945054945055\n",
            "\u001b[35mLogistic Regression Info. of chol and slope:- \n",
            "\u001b[30mBias = 6.201256509993931e-06\n",
            "\u001b[30mWeight_0 = 0.0009578218445564654\n",
            "\u001b[30mWeight_1 = 7.127527027660856e-05\n",
            "\u001b[30mCost/Loss = 0.6861464484094716\n",
            "\u001b[30mNumber of Iterations = 7\n",
            "\u001b[36mTrain Accuracy = 0.5613207547169812\n",
            "\u001b[36mTest Accuracy = 0.5054945054945055\n",
            "\u001b[35mLogistic Regression Info. of chol and ca:- \n",
            "\u001b[30mBias = 6.204511512866413e-06\n",
            "\u001b[30mWeight_0 = 0.000958500929224138\n",
            "\u001b[30mWeight_1 = -0.0001302990560536172\n",
            "\u001b[30mCost/Loss = 0.6861283987900723\n",
            "\u001b[30mNumber of Iterations = 7\n",
            "\u001b[36mTrain Accuracy = 0.5613207547169812\n",
            "\u001b[36mTest Accuracy = 0.5054945054945055\n",
            "\u001b[35mLogistic Regression Info. of chol and thal:- \n",
            "\u001b[30mBias = 6.205512301129549e-06\n",
            "\u001b[30mWeight_0 = 0.0009587270207484518\n",
            "\u001b[30mWeight_1 = -6.541104654428659e-05\n",
            "\u001b[30mCost/Loss = 0.6861462312403368\n",
            "\u001b[30mNumber of Iterations = 7\n",
            "\u001b[36mTrain Accuracy = 0.5613207547169812\n",
            "\u001b[36mTest Accuracy = 0.5054945054945055\n",
            "\u001b[35mLogistic Regression Info. of fbs and restecg:- \n",
            "\u001b[30mBias = 1.839553956818123e-05\n",
            "\u001b[30mWeight_0 = 2.830082548405877e-06\n",
            "\u001b[30mWeight_1 = 1.6980665166151817e-05\n",
            "\u001b[30mCost/Loss = 0.6931450647672714\n",
            "\u001b[30mNumber of Iterations = 3\n",
            "\u001b[36mTrain Accuracy = 0.4386792452830189\n",
            "\u001b[36mTest Accuracy = 0.4945054945054945\n",
            "\u001b[35mLogistic Regression Info. of fbs and thalach:- \n",
            "\u001b[30mBias = -1.2826807110452583e-06\n",
            "\u001b[30mWeight_0 = -3.172607977722774e-08\n",
            "\u001b[30mWeight_1 = 0.002393830222381809\n",
            "\u001b[30mCost/Loss = 0.6766925793818629\n",
            "\u001b[30mNumber of Iterations = 6\n",
            "\u001b[36mTrain Accuracy = 0.5613207547169812\n",
            "\u001b[36mTest Accuracy = 0.5054945054945055\n",
            "\u001b[35mLogistic Regression Info. of fbs and exang:- \n",
            "\u001b[30mBias = 1.8395926711285776e-05\n",
            "\u001b[30mWeight_0 = 2.830135279891759e-06\n",
            "\u001b[30mWeight_1 = -2.264148073087431e-05\n",
            "\u001b[30mCost/Loss = 0.6931443170490178\n",
            "\u001b[30mNumber of Iterations = 3\n",
            "\u001b[36mTrain Accuracy = 0.4386792452830189\n",
            "\u001b[36mTest Accuracy = 0.4945054945054945\n",
            "\u001b[35mLogistic Regression Info. of fbs and oldpeak:- \n",
            "\u001b[30mBias = 1.8396892189096268e-05\n",
            "\u001b[30mWeight_0 = 2.830286187073546e-06\n",
            "\u001b[30mWeight_1 = -4.6483839786012874e-05\n",
            "\u001b[30mCost/Loss = 0.6931388233496436\n",
            "\u001b[30mNumber of Iterations = 3\n",
            "\u001b[36mTrain Accuracy = 0.4386792452830189\n",
            "\u001b[36mTest Accuracy = 0.4945054945054945\n",
            "\u001b[35mLogistic Regression Info. of fbs and slope:- \n",
            "\u001b[30mBias = 1.8393859786294893e-05\n",
            "\u001b[30mWeight_0 = 2.829826989429427e-06\n",
            "\u001b[30mWeight_1 = 5.306215526131391e-05\n",
            "\u001b[30mCost/Loss = 0.6931366411964237\n",
            "\u001b[30mNumber of Iterations = 3\n",
            "\u001b[36mTrain Accuracy = 0.4386792452830189\n",
            "\u001b[36mTest Accuracy = 0.4945054945054945\n",
            "\u001b[35mLogistic Regression Info. of fbs and ca:- \n",
            "\u001b[30mBias = 1.8396549556548012e-05\n",
            "\u001b[30mWeight_0 = 2.830282043188071e-06\n",
            "\u001b[30mWeight_1 = -4.457414398107079e-05\n",
            "\u001b[30mCost/Loss = 0.6931394029887484\n",
            "\u001b[30mNumber of Iterations = 3\n",
            "\u001b[36mTrain Accuracy = 0.4386792452830189\n",
            "\u001b[36mTest Accuracy = 0.4945054945054945\n",
            "\u001b[35mLogistic Regression Info. of fbs and thal:- \n",
            "\u001b[30mBias = 1.8395265271343075e-05\n",
            "\u001b[30mWeight_0 = 2.830035496594877e-06\n",
            "\u001b[30mWeight_1 = 8.488271309657716e-06\n",
            "\u001b[30mCost/Loss = 0.6931457858037945\n",
            "\u001b[30mNumber of Iterations = 3\n",
            "\u001b[36mTrain Accuracy = 0.4386792452830189\n",
            "\u001b[36mTest Accuracy = 0.4945054945054945\n",
            "\u001b[35mLogistic Regression Info. of restecg and thalach:- \n",
            "\u001b[30mBias = -1.2829567446261789e-06\n",
            "\u001b[30mWeight_0 = 1.4642816141195985e-05\n",
            "\u001b[30mWeight_1 = 0.0023937903571284096\n",
            "\u001b[30mCost/Loss = 0.6766924144663299\n",
            "\u001b[30mNumber of Iterations = 6\n",
            "\u001b[36mTrain Accuracy = 0.5613207547169812\n",
            "\u001b[36mTest Accuracy = 0.5054945054945055\n",
            "\u001b[35mLogistic Regression Info. of restecg and exang:- \n",
            "\u001b[30mBias = 1.8395721125514326e-05\n",
            "\u001b[30mWeight_0 = 1.6980752273374612e-05\n",
            "\u001b[30mWeight_1 = -2.2641539469532555e-05\n",
            "\u001b[30mCost/Loss = 0.6931433826256745\n",
            "\u001b[30mNumber of Iterations = 3\n",
            "\u001b[36mTrain Accuracy = 0.4386792452830189\n",
            "\u001b[36mTest Accuracy = 0.4945054945054945\n",
            "\u001b[35mLogistic Regression Info. of restecg and oldpeak:- \n",
            "\u001b[30mBias = 1.8396686602873553e-05\n",
            "\u001b[30mWeight_0 = 1.6981265911774983e-05\n",
            "\u001b[30mWeight_1 = -4.648404683879041e-05\n",
            "\u001b[30mCost/Loss = 0.6931378887880583\n",
            "\u001b[30mNumber of Iterations = 3\n",
            "\u001b[36mTrain Accuracy = 0.4386792452830189\n",
            "\u001b[36mTest Accuracy = 0.4945054945054945\n",
            "\u001b[35mLogistic Regression Info. of restecg and slope:- \n",
            "\u001b[30mBias = 1.8393654208025563e-05\n",
            "\u001b[30mWeight_0 = 1.6979693327976765e-05\n",
            "\u001b[30mWeight_1 = 5.3061857907881785e-05\n",
            "\u001b[30mCost/Loss = 0.6931357070581922\n",
            "\u001b[30mNumber of Iterations = 3\n",
            "\u001b[36mTrain Accuracy = 0.4386792452830189\n",
            "\u001b[36mTest Accuracy = 0.4945054945054945\n",
            "\u001b[35mLogistic Regression Info. of restecg and ca:- \n",
            "\u001b[30mBias = 1.8396343970338098e-05\n",
            "\u001b[30mWeight_0 = 1.698105322378173e-05\n",
            "\u001b[30mWeight_1 = -4.457427914602809e-05\n",
            "\u001b[30mCost/Loss = 0.6931384684871584\n",
            "\u001b[30mNumber of Iterations = 3\n",
            "\u001b[36mTrain Accuracy = 0.4386792452830189\n",
            "\u001b[36mTest Accuracy = 0.4945054945054945\n",
            "\u001b[35mLogistic Regression Info. of restecg and thal:- \n",
            "\u001b[30mBias = 1.839505969601419e-05\n",
            "\u001b[30mWeight_0 = 1.6980416220365045e-05\n",
            "\u001b[30mWeight_1 = 8.487789076339116e-06\n",
            "\u001b[30mCost/Loss = 0.6931448514708276\n",
            "\u001b[30mNumber of Iterations = 3\n",
            "\u001b[36mTrain Accuracy = 0.4386792452830189\n",
            "\u001b[36mTest Accuracy = 0.4945054945054945\n",
            "\u001b[35mLogistic Regression Info. of thalach and exang:- \n",
            "\u001b[30mBias = -1.282125617995594e-06\n",
            "\u001b[30mWeight_0 = 0.002393900411644321\n",
            "\u001b[30mWeight_1 = -5.587985136037707e-05\n",
            "\u001b[30mCost/Loss = 0.6766869734479222\n",
            "\u001b[30mNumber of Iterations = 6\n",
            "\u001b[36mTrain Accuracy = 0.5613207547169812\n",
            "\u001b[36mTest Accuracy = 0.5054945054945055\n",
            "\u001b[35mLogistic Regression Info. of thalach and oldpeak:- \n",
            "\u001b[30mBias = -1.2787271392778378e-06\n",
            "\u001b[30mWeight_0 = 0.002394354716050583\n",
            "\u001b[30mWeight_1 = -0.00012818450626915113\n",
            "\u001b[30mCost/Loss = 0.6766621328446161\n",
            "\u001b[30mNumber of Iterations = 6\n",
            "\u001b[36mTrain Accuracy = 0.5613207547169812\n",
            "\u001b[36mTest Accuracy = 0.5054945054945055\n",
            "\u001b[35mLogistic Regression Info. of thalach and slope:- \n",
            "\u001b[30mBias = -1.2852106913992061e-06\n",
            "\u001b[30mWeight_0 = 0.0023934402211706935\n",
            "\u001b[30mWeight_1 = 5.037275537889389e-05\n",
            "\u001b[30mCost/Loss = 0.6766902583954613\n",
            "\u001b[30mNumber of Iterations = 6\n",
            "\u001b[36mTrain Accuracy = 0.5613207547169812\n",
            "\u001b[36mTest Accuracy = 0.5054945054945055\n",
            "\u001b[35mLogistic Regression Info. of thalach and ca:- \n",
            "\u001b[30mBias = -1.2801062424489938e-06\n",
            "\u001b[30mWeight_0 = 0.002394181679786228\n",
            "\u001b[30mWeight_1 = -0.00011522184847302732\n",
            "\u001b[30mCost/Loss = 0.6766684158114629\n",
            "\u001b[30mNumber of Iterations = 6\n",
            "\u001b[36mTrain Accuracy = 0.5613207547169812\n",
            "\u001b[36mTest Accuracy = 0.5054945054945055\n",
            "\u001b[35mLogistic Regression Info. of thalach and thal:- \n",
            "\u001b[30mBias = -1.2784889642581154e-06\n",
            "\u001b[30mWeight_0 = 0.0023944490561631595\n",
            "\u001b[30mWeight_1 = -7.081674081494942e-05\n",
            "\u001b[30mCost/Loss = 0.6766800179208514\n",
            "\u001b[30mNumber of Iterations = 6\n",
            "\u001b[36mTrain Accuracy = 0.5613207547169812\n",
            "\u001b[36mTest Accuracy = 0.5054945054945055\n",
            "\u001b[35mLogistic Regression Info. of exang and oldpeak:- \n",
            "\u001b[30mBias = 1.8397073743664966e-05\n",
            "\u001b[30mWeight_0 = -2.2640992264141723e-05\n",
            "\u001b[30mWeight_1 = -4.6483592686032375e-05\n",
            "\u001b[30mCost/Loss = 0.6931371414241262\n",
            "\u001b[30mNumber of Iterations = 3\n",
            "\u001b[36mTrain Accuracy = 0.4386792452830189\n",
            "\u001b[36mTest Accuracy = 0.4945054945054945\n",
            "\u001b[35mLogistic Regression Info. of exang and slope:- \n",
            "\u001b[30mBias = 1.8394041342088485e-05\n",
            "\u001b[30mWeight_0 = -2.2641965483648808e-05\n",
            "\u001b[30mWeight_1 = 5.306237853326424e-05\n",
            "\u001b[30mCost/Loss = 0.6931349588820257\n",
            "\u001b[30mNumber of Iterations = 3\n",
            "\u001b[36mTrain Accuracy = 0.4386792452830189\n",
            "\u001b[36mTest Accuracy = 0.4945054945054945\n",
            "\u001b[35mLogistic Regression Info. of exang and ca:- \n",
            "\u001b[30mBias = 1.8396731112739392e-05\n",
            "\u001b[30mWeight_0 = -2.264119880252744e-05\n",
            "\u001b[30mWeight_1 = -4.4573991461435204e-05\n",
            "\u001b[30mCost/Loss = 0.6931377209851066\n",
            "\u001b[30mNumber of Iterations = 3\n",
            "\u001b[36mTrain Accuracy = 0.4386792452830189\n",
            "\u001b[36mTest Accuracy = 0.4945054945054945\n",
            "\u001b[35mLogistic Regression Info. of exang and thal:- \n",
            "\u001b[30mBias = 1.839544682038918e-05\n",
            "\u001b[30mWeight_0 = -2.264164058313719e-05\n",
            "\u001b[30mWeight_1 = 8.488730856686833e-06\n",
            "\u001b[30mCost/Loss = 0.6931441036218351\n",
            "\u001b[30mNumber of Iterations = 3\n",
            "\u001b[36mTrain Accuracy = 0.4386792452830189\n",
            "\u001b[36mTest Accuracy = 0.4945054945054945\n",
            "\u001b[35mLogistic Regression Info. of oldpeak and slope:- \n",
            "\u001b[30mBias = 1.8395006818208937e-05\n",
            "\u001b[30mWeight_0 = -4.648516494858682e-05\n",
            "\u001b[30mWeight_1 = 5.306334060501621e-05\n",
            "\u001b[30mCost/Loss = 0.6931294643389974\n",
            "\u001b[30mNumber of Iterations = 3\n",
            "\u001b[36mTrain Accuracy = 0.4386792452830189\n",
            "\u001b[36mTest Accuracy = 0.4945054945054945\n",
            "\u001b[35mLogistic Regression Info. of oldpeak and ca:- \n",
            "\u001b[30mBias = 1.8397696578686253e-05\n",
            "\u001b[30mWeight_0 = -4.648288651434848e-05\n",
            "\u001b[30mWeight_1 = -4.4573150116666054e-05\n",
            "\u001b[30mCost/Loss = 0.6931322279178262\n",
            "\u001b[30mNumber of Iterations = 3\n",
            "\u001b[36mTrain Accuracy = 0.4386792452830189\n",
            "\u001b[36mTest Accuracy = 0.4945054945054945\n",
            "\u001b[35mLogistic Regression Info. of oldpeak and thal:- \n",
            "\u001b[30mBias = 1.839641225693547e-05\n",
            "\u001b[30mWeight_0 = -4.648433610090264e-05\n",
            "\u001b[30mWeight_1 = 8.491072030627989e-06\n",
            "\u001b[30mCost/Loss = 0.6931386095983229\n",
            "\u001b[30mNumber of Iterations = 3\n",
            "\u001b[36mTrain Accuracy = 0.4386792452830189\n",
            "\u001b[36mTest Accuracy = 0.4945054945054945\n",
            "\u001b[35mLogistic Regression Info. of slope and ca:- \n",
            "\u001b[30mBias = 1.839466418328146e-05\n",
            "\u001b[30mWeight_0 = 5.306329514667487e-05\n",
            "\u001b[30mWeight_1 = -4.457547208294977e-05\n",
            "\u001b[30mCost/Loss = 0.6931300440180846\n",
            "\u001b[30mNumber of Iterations = 3\n",
            "\u001b[36mTrain Accuracy = 0.4386792452830189\n",
            "\u001b[36mTest Accuracy = 0.4945054945054945\n",
            "\u001b[35mLogistic Regression Info. of slope and thal:- \n",
            "\u001b[30mBias = 1.839337999460495e-05\n",
            "\u001b[30mWeight_0 = 5.3061476615277815e-05\n",
            "\u001b[30mWeight_1 = 8.48395939115534e-06\n",
            "\u001b[30mCost/Loss = 0.6931364284294298\n",
            "\u001b[30mNumber of Iterations = 3\n",
            "\u001b[36mTrain Accuracy = 0.4386792452830189\n",
            "\u001b[36mTest Accuracy = 0.4945054945054945\n",
            "\u001b[35mLogistic Regression Info. of ca and thal:- \n",
            "\u001b[30mBias = 1.8396069638584217e-05\n",
            "\u001b[30mWeight_0 = -4.457450241490202e-05\n",
            "\u001b[30mWeight_1 = 8.49023521401513e-06\n",
            "\u001b[30mCost/Loss = 0.6931391893556461\n",
            "\u001b[30mNumber of Iterations = 3\n",
            "\u001b[36mTrain Accuracy = 0.4386792452830189\n",
            "\u001b[36mTest Accuracy = 0.4945054945054945\n",
            "\u001b[32mBest Train Accuracy = 0.7688679245283019\n",
            "\u001b[32mBest Test Accuracy = 0.7692307692307693\n"
          ]
        }
      ],
      "source": [
        "\n",
        "new_data = data.drop('target',axis=1)\n",
        "feature = new_data.columns\n",
        "iterations = 500\n",
        "alpha = 1e-4\n",
        "label = data[['target']]\n",
        "\n",
        "best_accuracy_train = 0.0\n",
        "best_accuracy_test = 0.0\n",
        "\n",
        "for f1 in range(len(feature)):\n",
        "    for f2 in range(len(feature)):\n",
        "        if f2 > f1 :\n",
        "            \n",
        "            new_features = pd.DataFrame([data[feature[f1]],data[feature[f2]]] ).T\n",
        "            # print(new_features)\n",
        "            weight, weight_history, costs, hypothesis, loops = logisicRegression(new_features,label,iterations,alpha)\n",
        "            prediction_train = predict(new_features,label, weight)\n",
        "            prediction_test = predict(test[[feature[f1],feature[f2]]],test[['target']],weight) \n",
        "            print(Fore.MAGENTA + \"Logistic Regression Info. of {} and {}:- \".format(feature[f1],feature[f2]))\n",
        "            print(Fore.BLACK +\"Bias = {}\".format(weight[0][0]))\n",
        "            print(Fore.BLACK +\"Weight_0 = {}\".format(weight[1][0]))\n",
        "            print(Fore.BLACK +\"Weight_1 = {}\".format(weight[2][0]))\n",
        "            print(Fore.BLACK +\"Cost/Loss = {}\".format(costs[loops-1]))\n",
        "            print(Fore.BLACK +\"Number of Iterations = {}\".format(loops))\n",
        "            \n",
        "            current_train_accuracy = prediction_train\n",
        "            #prediction_train.loc[prediction_train['Prediction']==prediction_train['target']].shape[0] / prediction_train.shape[0] * 100\n",
        "            current_test_accuracy = prediction_test \n",
        "            #prediction_test.loc[prediction_test['Prediction']==prediction_test['target']].shape[0] / prediction_test.shape[0] * 100\n",
        "            print(Fore.CYAN + \"Train Accuracy = {}\".format(current_train_accuracy))\n",
        "            print(Fore.CYAN + \"Test Accuracy = {}\".format(current_test_accuracy))\n",
        "            if current_train_accuracy > best_accuracy_train:\n",
        "                best_accuracy_train = current_train_accuracy\n",
        "            if current_test_accuracy > best_accuracy_test:\n",
        "                best_accuracy_test = current_test_accuracy\n",
        "\n",
        "print(Fore.GREEN + \"Best Train Accuracy = {}\".format(best_accuracy_train))\n",
        "print(Fore.GREEN + \"Best Test Accuracy = {}\".format(best_accuracy_test))\n"
      ]
    },
    {
      "cell_type": "markdown",
      "metadata": {
        "id": "LpS8OtEwhe3m"
      },
      "source": [
        "We get Best Accuracy from cp and ca features"
      ]
    },
    {
      "cell_type": "markdown",
      "metadata": {
        "id": "EMexDNJqhe3m"
      },
      "source": [
        "#### Shuffeling Data"
      ]
    },
    {
      "cell_type": "markdown",
      "metadata": {
        "id": "O4duCDzChe3m"
      },
      "source": [
        "As we notice that shuffling data dosen't enhanced the accuracy "
      ]
    },
    {
      "cell_type": "code",
      "execution_count": null,
      "metadata": {
        "id": "0JDNL62Mhe3m",
        "outputId": "e4c24fab-a63f-4c1f-da7e-6d40049856f2"
      },
      "outputs": [
        {
          "data": {
            "text/html": [
              "<div>\n",
              "<style scoped>\n",
              "    .dataframe tbody tr th:only-of-type {\n",
              "        vertical-align: middle;\n",
              "    }\n",
              "\n",
              "    .dataframe tbody tr th {\n",
              "        vertical-align: top;\n",
              "    }\n",
              "\n",
              "    .dataframe thead th {\n",
              "        text-align: right;\n",
              "    }\n",
              "</style>\n",
              "<table border=\"1\" class=\"dataframe\">\n",
              "  <thead>\n",
              "    <tr style=\"text-align: right;\">\n",
              "      <th></th>\n",
              "      <th>age</th>\n",
              "      <th>sex</th>\n",
              "      <th>cp</th>\n",
              "      <th>trestbps</th>\n",
              "      <th>chol</th>\n",
              "      <th>fbs</th>\n",
              "      <th>restecg</th>\n",
              "      <th>thalach</th>\n",
              "      <th>exang</th>\n",
              "      <th>oldpeak</th>\n",
              "      <th>slope</th>\n",
              "      <th>ca</th>\n",
              "      <th>thal</th>\n",
              "      <th>target</th>\n",
              "    </tr>\n",
              "  </thead>\n",
              "  <tbody>\n",
              "    <tr>\n",
              "      <th>0</th>\n",
              "      <td>63</td>\n",
              "      <td>1</td>\n",
              "      <td>3</td>\n",
              "      <td>145</td>\n",
              "      <td>233</td>\n",
              "      <td>1</td>\n",
              "      <td>0</td>\n",
              "      <td>150</td>\n",
              "      <td>0</td>\n",
              "      <td>2.3</td>\n",
              "      <td>0</td>\n",
              "      <td>0</td>\n",
              "      <td>1</td>\n",
              "      <td>1</td>\n",
              "    </tr>\n",
              "    <tr>\n",
              "      <th>1</th>\n",
              "      <td>37</td>\n",
              "      <td>1</td>\n",
              "      <td>2</td>\n",
              "      <td>130</td>\n",
              "      <td>250</td>\n",
              "      <td>0</td>\n",
              "      <td>1</td>\n",
              "      <td>187</td>\n",
              "      <td>0</td>\n",
              "      <td>3.5</td>\n",
              "      <td>0</td>\n",
              "      <td>0</td>\n",
              "      <td>2</td>\n",
              "      <td>1</td>\n",
              "    </tr>\n",
              "    <tr>\n",
              "      <th>2</th>\n",
              "      <td>41</td>\n",
              "      <td>0</td>\n",
              "      <td>1</td>\n",
              "      <td>130</td>\n",
              "      <td>204</td>\n",
              "      <td>0</td>\n",
              "      <td>0</td>\n",
              "      <td>172</td>\n",
              "      <td>0</td>\n",
              "      <td>1.4</td>\n",
              "      <td>2</td>\n",
              "      <td>0</td>\n",
              "      <td>2</td>\n",
              "      <td>1</td>\n",
              "    </tr>\n",
              "    <tr>\n",
              "      <th>3</th>\n",
              "      <td>56</td>\n",
              "      <td>1</td>\n",
              "      <td>1</td>\n",
              "      <td>120</td>\n",
              "      <td>236</td>\n",
              "      <td>0</td>\n",
              "      <td>1</td>\n",
              "      <td>178</td>\n",
              "      <td>0</td>\n",
              "      <td>0.8</td>\n",
              "      <td>2</td>\n",
              "      <td>0</td>\n",
              "      <td>2</td>\n",
              "      <td>1</td>\n",
              "    </tr>\n",
              "    <tr>\n",
              "      <th>4</th>\n",
              "      <td>57</td>\n",
              "      <td>0</td>\n",
              "      <td>0</td>\n",
              "      <td>120</td>\n",
              "      <td>354</td>\n",
              "      <td>0</td>\n",
              "      <td>1</td>\n",
              "      <td>163</td>\n",
              "      <td>1</td>\n",
              "      <td>0.6</td>\n",
              "      <td>2</td>\n",
              "      <td>0</td>\n",
              "      <td>2</td>\n",
              "      <td>1</td>\n",
              "    </tr>\n",
              "  </tbody>\n",
              "</table>\n",
              "</div>"
            ],
            "text/plain": [
              "   age  sex  cp  trestbps  chol  fbs  restecg  thalach  exang  oldpeak  slope  \\\n",
              "0   63    1   3       145   233    1        0      150      0      2.3      0   \n",
              "1   37    1   2       130   250    0        1      187      0      3.5      0   \n",
              "2   41    0   1       130   204    0        0      172      0      1.4      2   \n",
              "3   56    1   1       120   236    0        1      178      0      0.8      2   \n",
              "4   57    0   0       120   354    0        1      163      1      0.6      2   \n",
              "\n",
              "   ca  thal  target  \n",
              "0   0     1       1  \n",
              "1   0     2       1  \n",
              "2   0     2       1  \n",
              "3   0     2       1  \n",
              "4   0     2       1  "
            ]
          },
          "execution_count": 112,
          "metadata": {},
          "output_type": "execute_result"
        }
      ],
      "source": [
        "data.head()"
      ]
    },
    {
      "cell_type": "code",
      "execution_count": null,
      "metadata": {
        "id": "GNYww99hhe3m",
        "outputId": "15bfbf11-e3dc-40b5-a8d9-0f86de5f66ed"
      },
      "outputs": [
        {
          "data": {
            "text/html": [
              "<div>\n",
              "<style scoped>\n",
              "    .dataframe tbody tr th:only-of-type {\n",
              "        vertical-align: middle;\n",
              "    }\n",
              "\n",
              "    .dataframe tbody tr th {\n",
              "        vertical-align: top;\n",
              "    }\n",
              "\n",
              "    .dataframe thead th {\n",
              "        text-align: right;\n",
              "    }\n",
              "</style>\n",
              "<table border=\"1\" class=\"dataframe\">\n",
              "  <thead>\n",
              "    <tr style=\"text-align: right;\">\n",
              "      <th></th>\n",
              "      <th>age</th>\n",
              "      <th>sex</th>\n",
              "      <th>cp</th>\n",
              "      <th>trestbps</th>\n",
              "      <th>chol</th>\n",
              "      <th>fbs</th>\n",
              "      <th>restecg</th>\n",
              "      <th>thalach</th>\n",
              "      <th>exang</th>\n",
              "      <th>oldpeak</th>\n",
              "      <th>slope</th>\n",
              "      <th>ca</th>\n",
              "      <th>thal</th>\n",
              "      <th>target</th>\n",
              "    </tr>\n",
              "  </thead>\n",
              "  <tbody>\n",
              "    <tr>\n",
              "      <th>0</th>\n",
              "      <td>38</td>\n",
              "      <td>1</td>\n",
              "      <td>2</td>\n",
              "      <td>138</td>\n",
              "      <td>175</td>\n",
              "      <td>0</td>\n",
              "      <td>1</td>\n",
              "      <td>173</td>\n",
              "      <td>0</td>\n",
              "      <td>0.0</td>\n",
              "      <td>2</td>\n",
              "      <td>4</td>\n",
              "      <td>2</td>\n",
              "      <td>1</td>\n",
              "    </tr>\n",
              "    <tr>\n",
              "      <th>1</th>\n",
              "      <td>46</td>\n",
              "      <td>1</td>\n",
              "      <td>1</td>\n",
              "      <td>101</td>\n",
              "      <td>197</td>\n",
              "      <td>1</td>\n",
              "      <td>1</td>\n",
              "      <td>156</td>\n",
              "      <td>0</td>\n",
              "      <td>0.0</td>\n",
              "      <td>2</td>\n",
              "      <td>0</td>\n",
              "      <td>3</td>\n",
              "      <td>1</td>\n",
              "    </tr>\n",
              "    <tr>\n",
              "      <th>2</th>\n",
              "      <td>56</td>\n",
              "      <td>1</td>\n",
              "      <td>2</td>\n",
              "      <td>130</td>\n",
              "      <td>256</td>\n",
              "      <td>1</td>\n",
              "      <td>0</td>\n",
              "      <td>142</td>\n",
              "      <td>1</td>\n",
              "      <td>0.6</td>\n",
              "      <td>1</td>\n",
              "      <td>1</td>\n",
              "      <td>1</td>\n",
              "      <td>0</td>\n",
              "    </tr>\n",
              "    <tr>\n",
              "      <th>3</th>\n",
              "      <td>48</td>\n",
              "      <td>1</td>\n",
              "      <td>0</td>\n",
              "      <td>130</td>\n",
              "      <td>256</td>\n",
              "      <td>1</td>\n",
              "      <td>0</td>\n",
              "      <td>150</td>\n",
              "      <td>1</td>\n",
              "      <td>0.0</td>\n",
              "      <td>2</td>\n",
              "      <td>2</td>\n",
              "      <td>3</td>\n",
              "      <td>0</td>\n",
              "    </tr>\n",
              "    <tr>\n",
              "      <th>4</th>\n",
              "      <td>65</td>\n",
              "      <td>1</td>\n",
              "      <td>0</td>\n",
              "      <td>135</td>\n",
              "      <td>254</td>\n",
              "      <td>0</td>\n",
              "      <td>0</td>\n",
              "      <td>127</td>\n",
              "      <td>0</td>\n",
              "      <td>2.8</td>\n",
              "      <td>1</td>\n",
              "      <td>1</td>\n",
              "      <td>3</td>\n",
              "      <td>0</td>\n",
              "    </tr>\n",
              "  </tbody>\n",
              "</table>\n",
              "</div>"
            ],
            "text/plain": [
              "   age  sex  cp  trestbps  chol  fbs  restecg  thalach  exang  oldpeak  slope  \\\n",
              "0   38    1   2       138   175    0        1      173      0      0.0      2   \n",
              "1   46    1   1       101   197    1        1      156      0      0.0      2   \n",
              "2   56    1   2       130   256    1        0      142      1      0.6      1   \n",
              "3   48    1   0       130   256    1        0      150      1      0.0      2   \n",
              "4   65    1   0       135   254    0        0      127      0      2.8      1   \n",
              "\n",
              "   ca  thal  target  \n",
              "0   4     2       1  \n",
              "1   0     3       1  \n",
              "2   1     1       0  \n",
              "3   2     3       0  \n",
              "4   1     3       0  "
            ]
          },
          "execution_count": 115,
          "metadata": {},
          "output_type": "execute_result"
        }
      ],
      "source": [
        "data_shuffled = data.sample(frac=1).reset_index(drop=True)\n",
        "data_shuffled.head()"
      ]
    },
    {
      "cell_type": "code",
      "execution_count": null,
      "metadata": {
        "id": "JHkElI1rhe3m",
        "outputId": "ac6a37b6-fe81-4bd1-ce94-3d9b9c24c569"
      },
      "outputs": [
        {
          "name": "stdout",
          "output_type": "stream",
          "text": [
            "\u001b[35mLogistic Regression Info. of age and sex:- \n",
            "\u001b[30mBias = 9.759878428244922e-05\n",
            "\u001b[30mWeight_0 = 0.0028402067728230244\n",
            "\u001b[30mWeight_1 = 0.00018885774362219936\n",
            "\u001b[30mCost/Loss = 0.6892234708892071\n",
            "\u001b[30mNumber of Iterations = 27\n",
            "\u001b[36mTrain Accuracy = 0.5613207547169812\n",
            "\u001b[36mTest Accuracy = 0.5054945054945055\n",
            "\u001b[35mLogistic Regression Info. of age and cp:- \n",
            "\u001b[30mBias = 9.762865088023868e-05\n",
            "\u001b[30mWeight_0 = 0.002841788833349078\n",
            "\u001b[30mWeight_1 = -3.151243881934777e-05\n",
            "\u001b[30mCost/Loss = 0.6892336495851263\n",
            "\u001b[30mNumber of Iterations = 27\n",
            "\u001b[36mTrain Accuracy = 0.5613207547169812\n",
            "\u001b[36mTest Accuracy = 0.5054945054945055\n",
            "\u001b[35mLogistic Regression Info. of age and trestbps:- \n",
            "\u001b[30mBias = 0.00021589081172430422\n",
            "\u001b[30mWeight_0 = -0.009131755565550893\n",
            "\u001b[30mWeight_1 = 0.005398802757047225\n",
            "\u001b[30mCost/Loss = 0.6828848893404614\n",
            "\u001b[30mNumber of Iterations = 254\n",
            "\u001b[36mTrain Accuracy = 0.5566037735849056\n",
            "\u001b[36mTest Accuracy = 0.4945054945054945\n",
            "\u001b[35mLogistic Regression Info. of age and chol:- \n",
            "\u001b[30mBias = 0.00012790730780850085\n",
            "\u001b[30mWeight_0 = -0.011162365969568891\n",
            "\u001b[30mWeight_1 = 0.0033457755345259145\n",
            "\u001b[30mCost/Loss = 0.6794519009195042\n",
            "\u001b[30mNumber of Iterations = 224\n",
            "\u001b[36mTrain Accuracy = 0.5613207547169812\n",
            "\u001b[36mTest Accuracy = 0.4725274725274725\n",
            "\u001b[35mLogistic Regression Info. of age and fbs:- \n",
            "\u001b[30mBias = 9.762479489580737e-05\n",
            "\u001b[30mWeight_0 = 0.002841579175363026\n",
            "\u001b[30mWeight_1 = 1.942807953567445e-06\n",
            "\u001b[30mCost/Loss = 0.6892345209640748\n",
            "\u001b[30mNumber of Iterations = 27\n",
            "\u001b[36mTrain Accuracy = 0.5613207547169812\n",
            "\u001b[36mTest Accuracy = 0.5054945054945055\n",
            "\u001b[35mLogistic Regression Info. of age and restecg:- \n",
            "\u001b[30mBias = 9.762263432138461e-05\n",
            "\u001b[30mWeight_0 = 0.002841469082908355\n",
            "\u001b[30mWeight_1 = 1.70027627427432e-05\n",
            "\u001b[30mCost/Loss = 0.6892345584059022\n",
            "\u001b[30mNumber of Iterations = 27\n",
            "\u001b[36mTrain Accuracy = 0.5613207547169812\n",
            "\u001b[36mTest Accuracy = 0.5054945054945055\n",
            "\u001b[35mLogistic Regression Info. of age and thalach:- \n",
            "\u001b[30mBias = 9.027360119506191e-05\n",
            "\u001b[30mWeight_0 = -0.009695852515984942\n",
            "\u001b[30mWeight_1 = 0.005039937570417862\n",
            "\u001b[30mCost/Loss = 0.6799195060045511\n",
            "\u001b[30mNumber of Iterations = 207\n",
            "\u001b[36mTrain Accuracy = 0.5707547169811321\n",
            "\u001b[36mTest Accuracy = 0.5494505494505495\n",
            "\u001b[35mLogistic Regression Info. of age and exang:- \n",
            "\u001b[30mBias = 9.7618746284083e-05\n",
            "\u001b[30mWeight_0 = 0.00284123710637029\n",
            "\u001b[30mWeight_1 = 0.00010618440820416297\n",
            "\u001b[30mCost/Loss = 0.6892308909667619\n",
            "\u001b[30mNumber of Iterations = 27\n",
            "\u001b[36mTrain Accuracy = 0.5613207547169812\n",
            "\u001b[36mTest Accuracy = 0.5054945054945055\n",
            "\u001b[35mLogistic Regression Info. of age and oldpeak:- \n",
            "\u001b[30mBias = 9.758343235531013e-05\n",
            "\u001b[30mWeight_0 = 0.002839206558519503\n",
            "\u001b[30mWeight_1 = 0.0002179985383198685\n",
            "\u001b[30mCost/Loss = 0.6892206141804769\n",
            "\u001b[30mNumber of Iterations = 27\n",
            "\u001b[36mTrain Accuracy = 0.5613207547169812\n",
            "\u001b[36mTest Accuracy = 0.5054945054945055\n",
            "\u001b[35mLogistic Regression Info. of age and slope:- \n",
            "\u001b[30mBias = 9.760637347277021e-05\n",
            "\u001b[30mWeight_0 = 0.0028406214317576784\n",
            "\u001b[30mWeight_1 = 5.054692720383745e-05\n",
            "\u001b[30mCost/Loss = 0.6892348182760335\n",
            "\u001b[30mNumber of Iterations = 27\n",
            "\u001b[36mTrain Accuracy = 0.5613207547169812\n",
            "\u001b[36mTest Accuracy = 0.5054945054945055\n",
            "\u001b[35mLogistic Regression Info. of age and ca:- \n",
            "\u001b[30mBias = 9.76262614860295e-05\n",
            "\u001b[30mWeight_0 = 0.002841663721945405\n",
            "\u001b[30mWeight_1 = -1.9067420948559165e-05\n",
            "\u001b[30mCost/Loss = 0.6892341646245371\n",
            "\u001b[30mNumber of Iterations = 27\n",
            "\u001b[36mTrain Accuracy = 0.5613207547169812\n",
            "\u001b[36mTest Accuracy = 0.5054945054945055\n",
            "\u001b[35mLogistic Regression Info. of age and thal:- \n",
            "\u001b[30mBias = 9.749789998105322e-05\n",
            "\u001b[30mWeight_0 = 0.0028347472746032523\n",
            "\u001b[30mWeight_1 = 0.00026233488662518584\n",
            "\u001b[30mCost/Loss = 0.6892192611992581\n",
            "\u001b[30mNumber of Iterations = 27\n",
            "\u001b[36mTrain Accuracy = 0.5613207547169812\n",
            "\u001b[36mTest Accuracy = 0.5054945054945055\n",
            "\u001b[35mLogistic Regression Info. of sex and cp:- \n",
            "\u001b[30mBias = 1.8395203582214267e-05\n",
            "\u001b[30mWeight_0 = 2.6178398496759536e-05\n",
            "\u001b[30mWeight_1 = 4.2441249454503885e-06\n",
            "\u001b[30mCost/Loss = 0.6931437082875662\n",
            "\u001b[30mNumber of Iterations = 3\n",
            "\u001b[36mTrain Accuracy = 0.4386792452830189\n",
            "\u001b[36mTest Accuracy = 0.4945054945054945\n",
            "\u001b[35mLogistic Regression Info. of sex and trestbps:- \n",
            "\u001b[30mBias = 1.6697290871871066e-05\n",
            "\u001b[30mWeight_0 = 4.2982447818149245e-05\n",
            "\u001b[30mWeight_1 = 0.0016449318409487983\n",
            "\u001b[30mCost/Loss = 0.6869895665036183\n",
            "\u001b[30mNumber of Iterations = 7\n",
            "\u001b[36mTrain Accuracy = 0.5613207547169812\n",
            "\u001b[36mTest Accuracy = 0.5054945054945055\n",
            "\u001b[35mLogistic Regression Info. of sex and chol:- \n",
            "\u001b[30mBias = 5.122989023073546e-06\n",
            "\u001b[30mWeight_0 = 3.5905428157747635e-05\n",
            "\u001b[30mWeight_1 = 0.0009861610645016073\n",
            "\u001b[30mCost/Loss = 0.6857335940343804\n",
            "\u001b[30mNumber of Iterations = 7\n",
            "\u001b[36mTrain Accuracy = 0.5613207547169812\n",
            "\u001b[36mTest Accuracy = 0.5054945054945055\n",
            "\u001b[35mLogistic Regression Info. of sex and fbs:- \n",
            "\u001b[30mBias = 1.8395307367037478e-05\n",
            "\u001b[30mWeight_0 = 2.6178468743242188e-05\n",
            "\u001b[30mWeight_1 = 1.4149485769346801e-06\n",
            "\u001b[30mCost/Loss = 0.6931437616168802\n",
            "\u001b[30mNumber of Iterations = 3\n",
            "\u001b[36mTrain Accuracy = 0.4386792452830189\n",
            "\u001b[36mTest Accuracy = 0.4945054945054945\n",
            "\u001b[35mLogistic Regression Info. of sex and restecg:- \n",
            "\u001b[30mBias = 1.8395240620228118e-05\n",
            "\u001b[30mWeight_0 = 2.6178423188633915e-05\n",
            "\u001b[30mWeight_1 = 5.659838530261941e-06\n",
            "\u001b[30mCost/Loss = 0.6931436615361444\n",
            "\u001b[30mNumber of Iterations = 3\n",
            "\u001b[36mTrain Accuracy = 0.4386792452830189\n",
            "\u001b[36mTest Accuracy = 0.4945054945054945\n",
            "\u001b[35mLogistic Regression Info. of sex and thalach:- \n",
            "\u001b[30mBias = 1.06901903343598e-05\n",
            "\u001b[30mWeight_0 = 2.9850265007194093e-05\n",
            "\u001b[30mWeight_1 = 0.0016060219901502463\n",
            "\u001b[30mCost/Loss = 0.6855512367400266\n",
            "\u001b[30mNumber of Iterations = 5\n",
            "\u001b[36mTrain Accuracy = 0.5613207547169812\n",
            "\u001b[36mTest Accuracy = 0.5054945054945055\n",
            "\u001b[35mLogistic Regression Info. of sex and exang:- \n",
            "\u001b[30mBias = 1.8395205909571697e-05\n",
            "\u001b[30mWeight_0 = 2.617838914588616e-05\n",
            "\u001b[30mWeight_1 = 1.4150543403707751e-05\n",
            "\u001b[30mCost/Loss = 0.693143100872889\n",
            "\u001b[30mNumber of Iterations = 3\n",
            "\u001b[36mTrain Accuracy = 0.4386792452830189\n",
            "\u001b[36mTest Accuracy = 0.4945054945054945\n",
            "\u001b[35mLogistic Regression Info. of sex and oldpeak:- \n",
            "\u001b[30mBias = 1.8394532665105658e-05\n",
            "\u001b[30mWeight_0 = 2.617786149226981e-05\n",
            "\u001b[30mWeight_1 = 3.19077309341667e-05\n",
            "\u001b[30mCost/Loss = 0.6931403750044167\n",
            "\u001b[30mNumber of Iterations = 3\n",
            "\u001b[36mTrain Accuracy = 0.44339622641509435\n",
            "\u001b[36mTest Accuracy = 0.4835164835164835\n",
            "\u001b[35mLogistic Regression Info. of sex and slope:- \n",
            "\u001b[30mBias = 1.839473126731767e-05\n",
            "\u001b[30mWeight_0 = 2.6178081117820576e-05\n",
            "\u001b[30mWeight_1 = 1.6271313401759917e-05\n",
            "\u001b[30mCost/Loss = 0.6931428860057827\n",
            "\u001b[30mNumber of Iterations = 3\n",
            "\u001b[36mTrain Accuracy = 0.4386792452830189\n",
            "\u001b[36mTest Accuracy = 0.4945054945054945\n",
            "\u001b[35mLogistic Regression Info. of sex and ca:- \n",
            "\u001b[30mBias = 1.839524971751018e-05\n",
            "\u001b[30mWeight_0 = 2.617842127202938e-05\n",
            "\u001b[30mWeight_1 = 3.536896324532565e-06\n",
            "\u001b[30mCost/Loss = 0.6931437266154905\n",
            "\u001b[30mNumber of Iterations = 3\n",
            "\u001b[36mTrain Accuracy = 0.4386792452830189\n",
            "\u001b[36mTest Accuracy = 0.4945054945054945\n",
            "\u001b[35mLogistic Regression Info. of sex and thal:- \n",
            "\u001b[30mBias = 1.8392614551729983e-05\n",
            "\u001b[30mWeight_0 = 2.6176539823783898e-05\n",
            "\u001b[30mWeight_1 = 4.668932587838851e-05\n",
            "\u001b[30mCost/Loss = 0.6931365034966342\n",
            "\u001b[30mNumber of Iterations = 3\n",
            "\u001b[36mTrain Accuracy = 0.4386792452830189\n",
            "\u001b[36mTest Accuracy = 0.4945054945054945\n",
            "\u001b[35mLogistic Regression Info. of cp and trestbps:- \n",
            "\u001b[30mBias = 1.669905963676436e-05\n",
            "\u001b[30mWeight_0 = -1.7475123234757927e-05\n",
            "\u001b[30mWeight_1 = 0.001645162194651691\n",
            "\u001b[30mCost/Loss = 0.6869909453552164\n",
            "\u001b[30mNumber of Iterations = 7\n",
            "\u001b[36mTrain Accuracy = 0.5613207547169812\n",
            "\u001b[36mTest Accuracy = 0.5054945054945055\n",
            "\u001b[35mLogistic Regression Info. of cp and chol:- \n",
            "\u001b[30mBias = 5.123989218464332e-06\n",
            "\u001b[30mWeight_0 = -2.8340994332982918e-05\n",
            "\u001b[30mWeight_1 = 0.000986348221134524\n",
            "\u001b[30mCost/Loss = 0.6857339982027872\n",
            "\u001b[30mNumber of Iterations = 7\n",
            "\u001b[36mTrain Accuracy = 0.5613207547169812\n",
            "\u001b[36mTest Accuracy = 0.5054945054945055\n",
            "\u001b[35mLogistic Regression Info. of cp and fbs:- \n",
            "\u001b[30mBias = 1.8395652044619764e-05\n",
            "\u001b[30mWeight_0 = 4.244574655108604e-06\n",
            "\u001b[30mWeight_1 = 1.4149980551737405e-06\n",
            "\u001b[30mCost/Loss = 0.6931459858539637\n",
            "\u001b[30mNumber of Iterations = 3\n",
            "\u001b[36mTrain Accuracy = 0.4386792452830189\n",
            "\u001b[36mTest Accuracy = 0.4945054945054945\n",
            "\u001b[35mLogistic Regression Info. of cp and restecg:- \n",
            "\u001b[30mBias = 1.8395585297401822e-05\n",
            "\u001b[30mWeight_0 = 4.244511746520184e-06\n",
            "\u001b[30mWeight_1 = 5.660014414349003e-06\n",
            "\u001b[30mCost/Loss = 0.6931458857578061\n",
            "\u001b[30mNumber of Iterations = 3\n",
            "\u001b[36mTrain Accuracy = 0.4386792452830189\n",
            "\u001b[36mTest Accuracy = 0.4945054945054945\n",
            "\u001b[35mLogistic Regression Info. of cp and thalach:- \n",
            "\u001b[30mBias = 1.0691137022016215e-05\n",
            "\u001b[30mWeight_0 = -1.4245862804470044e-05\n",
            "\u001b[30mWeight_1 = 0.0016061631738792917\n",
            "\u001b[30mCost/Loss = 0.6855518763141133\n",
            "\u001b[30mNumber of Iterations = 5\n",
            "\u001b[36mTrain Accuracy = 0.5613207547169812\n",
            "\u001b[36mTest Accuracy = 0.5054945054945055\n",
            "\u001b[35mLogistic Regression Info. of cp and exang:- \n",
            "\u001b[30mBias = 1.8395550586633204e-05\n",
            "\u001b[30mWeight_0 = 4.244546788512731e-06\n",
            "\u001b[30mWeight_1 = 1.4150687247078424e-05\n",
            "\u001b[30mCost/Loss = 0.6931453250772175\n",
            "\u001b[30mNumber of Iterations = 3\n",
            "\u001b[36mTrain Accuracy = 0.4386792452830189\n",
            "\u001b[36mTest Accuracy = 0.4945054945054945\n",
            "\u001b[35mLogistic Regression Info. of cp and oldpeak:- \n",
            "\u001b[30mBias = 1.839487734191607e-05\n",
            "\u001b[30mWeight_0 = 4.243875171807398e-06\n",
            "\u001b[30mWeight_1 = 3.1908138265948475e-05\n",
            "\u001b[30mCost/Loss = 0.6931425990260545\n",
            "\u001b[30mNumber of Iterations = 3\n",
            "\u001b[36mTrain Accuracy = 0.4386792452830189\n",
            "\u001b[36mTest Accuracy = 0.4835164835164835\n",
            "\u001b[35mLogistic Regression Info. of cp and slope:- \n",
            "\u001b[30mBias = 1.8395075942374912e-05\n",
            "\u001b[30mWeight_0 = 4.243963933594468e-06\n",
            "\u001b[30mWeight_1 = 1.6271781978692296e-05\n",
            "\u001b[30mCost/Loss = 0.6931451101169639\n",
            "\u001b[30mNumber of Iterations = 3\n",
            "\u001b[36mTrain Accuracy = 0.4386792452830189\n",
            "\u001b[36mTest Accuracy = 0.4945054945054945\n",
            "\u001b[35mLogistic Regression Info. of cp and ca:- \n",
            "\u001b[30mBias = 1.839559439340297e-05\n",
            "\u001b[30mWeight_0 = 4.244528434714349e-06\n",
            "\u001b[30mWeight_1 = 3.537211961166144e-06\n",
            "\u001b[30mCost/Loss = 0.6931459508351344\n",
            "\u001b[30mNumber of Iterations = 3\n",
            "\u001b[36mTrain Accuracy = 0.4386792452830189\n",
            "\u001b[36mTest Accuracy = 0.4945054945054945\n",
            "\u001b[35mLogistic Regression Info. of cp and thal:- \n",
            "\u001b[30mBias = 1.8392959224119035e-05\n",
            "\u001b[30mWeight_0 = 4.2419828128037895e-06\n",
            "\u001b[30mWeight_1 = 4.669017315990882e-05\n",
            "\u001b[30mCost/Loss = 0.6931387270755637\n",
            "\u001b[30mNumber of Iterations = 3\n",
            "\u001b[36mTrain Accuracy = 0.4386792452830189\n",
            "\u001b[36mTest Accuracy = 0.4945054945054945\n",
            "\u001b[35mLogistic Regression Info. of trestbps and chol:- \n",
            "\u001b[30mBias = 6.465054450544005e-06\n",
            "\u001b[30mWeight_0 = 0.000629474347923452\n",
            "\u001b[30mWeight_1 = 0.0015548252577548317\n",
            "\u001b[30mCost/Loss = 0.6925175072543853\n",
            "\u001b[30mNumber of Iterations = 3\n",
            "\u001b[36mTrain Accuracy = 0.5613207547169812\n",
            "\u001b[36mTest Accuracy = 0.5054945054945055\n",
            "\u001b[35mLogistic Regression Info. of trestbps and fbs:- \n",
            "\u001b[30mBias = 1.6698536400937446e-05\n",
            "\u001b[30mWeight_0 = 0.0016450921054012447\n",
            "\u001b[30mWeight_1 = -7.863185918287094e-07\n",
            "\u001b[30mCost/Loss = 0.6869916902356127\n",
            "\u001b[30mNumber of Iterations = 7\n",
            "\u001b[36mTrain Accuracy = 0.5613207547169812\n",
            "\u001b[36mTest Accuracy = 0.5054945054945055\n",
            "\u001b[35mLogistic Regression Info. of trestbps and restecg:- \n",
            "\u001b[30mBias = 1.6698494440335746e-05\n",
            "\u001b[30mWeight_0 = 0.0016450869103671578\n",
            "\u001b[30mWeight_1 = -6.27648485418254e-08\n",
            "\u001b[30mCost/Loss = 0.6869916932947284\n",
            "\u001b[30mNumber of Iterations = 7\n",
            "\u001b[36mTrain Accuracy = 0.5613207547169812\n",
            "\u001b[36mTest Accuracy = 0.5054945054945055\n",
            "\u001b[35mLogistic Regression Info. of trestbps and thalach:- \n",
            "\u001b[30mBias = 2.6220528028017743e-05\n",
            "\u001b[30mWeight_0 = -0.001688503910333588\n",
            "\u001b[30mWeight_1 = 0.0030474174728930097\n",
            "\u001b[30mCost/Loss = 0.6846386463765975\n",
            "\u001b[30mNumber of Iterations = 74\n",
            "\u001b[36mTrain Accuracy = 0.5566037735849056\n",
            "\u001b[36mTest Accuracy = 0.5054945054945055\n",
            "\u001b[35mLogistic Regression Info. of trestbps and exang:- \n",
            "\u001b[30mBias = 1.669822346342014e-05\n",
            "\u001b[30mWeight_0 = 0.0016450518483743638\n",
            "\u001b[30mWeight_1 = 2.5140074652818676e-05\n",
            "\u001b[30mCost/Loss = 0.6869909206964765\n",
            "\u001b[30mNumber of Iterations = 7\n",
            "\u001b[36mTrain Accuracy = 0.5613207547169812\n",
            "\u001b[36mTest Accuracy = 0.5054945054945055\n",
            "\u001b[35mLogistic Regression Info. of trestbps and oldpeak:- \n",
            "\u001b[30mBias = 1.669655993949355e-05\n",
            "\u001b[30mWeight_0 = 0.001644828552832086\n",
            "\u001b[30mWeight_1 = 4.8470827491334076e-05\n",
            "\u001b[30mCost/Loss = 0.686989166959695\n",
            "\u001b[30mNumber of Iterations = 7\n",
            "\u001b[36mTrain Accuracy = 0.5613207547169812\n",
            "\u001b[36mTest Accuracy = 0.5054945054945055\n",
            "\u001b[35mLogistic Regression Info. of trestbps and slope:- \n",
            "\u001b[30mBias = 1.669817482125659e-05\n",
            "\u001b[30mWeight_0 = 0.0016450463938279263\n",
            "\u001b[30mWeight_1 = 5.535660641875384e-07\n",
            "\u001b[30mCost/Loss = 0.6869917117600125\n",
            "\u001b[30mNumber of Iterations = 7\n",
            "\u001b[36mTrain Accuracy = 0.5613207547169812\n",
            "\u001b[36mTest Accuracy = 0.5054945054945055\n",
            "\u001b[35mLogistic Regression Info. of trestbps and ca:- \n",
            "\u001b[30mBias = 1.669874710600284e-05\n",
            "\u001b[30mWeight_0 = 0.0016451201704995595\n",
            "\u001b[30mWeight_1 = -1.0625344356395718e-05\n",
            "\u001b[30mCost/Loss = 0.6869914014194825\n",
            "\u001b[30mNumber of Iterations = 7\n",
            "\u001b[36mTrain Accuracy = 0.5613207547169812\n",
            "\u001b[36mTest Accuracy = 0.5054945054945055\n",
            "\u001b[35mLogistic Regression Info. of trestbps and thal:- \n",
            "\u001b[30mBias = 1.6693363677709676e-05\n",
            "\u001b[30mWeight_0 = 0.0016444162845147177\n",
            "\u001b[30mWeight_1 = 4.809718352935924e-05\n",
            "\u001b[30mCost/Loss = 0.686990325566454\n",
            "\u001b[30mNumber of Iterations = 7\n",
            "\u001b[36mTrain Accuracy = 0.5613207547169812\n",
            "\u001b[36mTest Accuracy = 0.5054945054945055\n",
            "\u001b[35mLogistic Regression Info. of chol and fbs:- \n",
            "\u001b[30mBias = 5.123477625943306e-06\n",
            "\u001b[30mWeight_0 = 0.0009862445196323958\n",
            "\u001b[30mWeight_1 = -2.408161627546333e-06\n",
            "\u001b[30mCost/Loss = 0.6857352927633885\n",
            "\u001b[30mNumber of Iterations = 7\n",
            "\u001b[36mTrain Accuracy = 0.5613207547169812\n",
            "\u001b[36mTest Accuracy = 0.5054945054945055\n",
            "\u001b[35mLogistic Regression Info. of chol and restecg:- \n",
            "\u001b[30mBias = 5.1235202156159246e-06\n",
            "\u001b[30mWeight_0 = 0.0009862530304008072\n",
            "\u001b[30mWeight_1 = -5.18730950373588e-06\n",
            "\u001b[30mCost/Loss = 0.6857352509598043\n",
            "\u001b[30mNumber of Iterations = 7\n",
            "\u001b[36mTrain Accuracy = 0.5613207547169812\n",
            "\u001b[36mTest Accuracy = 0.5054945054945055\n",
            "\u001b[35mLogistic Regression Info. of chol and thalach:- \n",
            "\u001b[30mBias = -1.351797390184777e-05\n",
            "\u001b[30mWeight_0 = -0.0017447206220117459\n",
            "\u001b[30mWeight_1 = -0.0003051479945254936\n",
            "\u001b[30mCost/Loss = 0.7521130452025373\n",
            "\u001b[30mNumber of Iterations = 500\n",
            "\u001b[36mTrain Accuracy = 0.4386792452830189\n",
            "\u001b[36mTest Accuracy = 0.4945054945054945\n",
            "\u001b[35mLogistic Regression Info. of chol and exang:- \n",
            "\u001b[30mBias = 5.123368957310353e-06\n",
            "\u001b[30mWeight_0 = 0.0009862204722295076\n",
            "\u001b[30mWeight_1 = 2.14170471442733e-05\n",
            "\u001b[30mCost/Loss = 0.6857346843007736\n",
            "\u001b[30mNumber of Iterations = 7\n",
            "\u001b[36mTrain Accuracy = 0.5613207547169812\n",
            "\u001b[36mTest Accuracy = 0.5054945054945055\n",
            "\u001b[35mLogistic Regression Info. of chol and oldpeak:- \n",
            "\u001b[30mBias = 5.1228414344317e-06\n",
            "\u001b[30mWeight_0 = 0.0009861185225428597\n",
            "\u001b[30mWeight_1 = 3.762658497441359e-05\n",
            "\u001b[30mCost/Loss = 0.6857334848573365\n",
            "\u001b[30mNumber of Iterations = 7\n",
            "\u001b[36mTrain Accuracy = 0.5613207547169812\n",
            "\u001b[36mTest Accuracy = 0.5054945054945055\n",
            "\u001b[35mLogistic Regression Info. of chol and slope:- \n",
            "\u001b[30mBias = 5.123865237722199e-06\n",
            "\u001b[30mWeight_0 = 0.0009863328621054009\n",
            "\u001b[30mWeight_1 = -1.6112943478309446e-05\n",
            "\u001b[30mCost/Loss = 0.6857348071745429\n",
            "\u001b[30mNumber of Iterations = 7\n",
            "\u001b[36mTrain Accuracy = 0.5613207547169812\n",
            "\u001b[36mTest Accuracy = 0.5054945054945055\n",
            "\u001b[35mLogistic Regression Info. of chol and ca:- \n",
            "\u001b[30mBias = 5.1236960082904075e-06\n",
            "\u001b[30mWeight_0 = 0.000986292658786995\n",
            "\u001b[30mWeight_1 = -1.881711712041653e-05\n",
            "\u001b[30mCost/Loss = 0.6857347232516148\n",
            "\u001b[30mNumber of Iterations = 7\n",
            "\u001b[36mTrain Accuracy = 0.5613207547169812\n",
            "\u001b[36mTest Accuracy = 0.5054945054945055\n",
            "\u001b[35mLogistic Regression Info. of chol and thal:- \n",
            "\u001b[30mBias = 5.1226719204646246e-06\n",
            "\u001b[30mWeight_0 = 0.0009860932906229935\n",
            "\u001b[30mWeight_1 = 2.1225100620648e-05\n",
            "\u001b[30mCost/Loss = 0.685734939445407\n",
            "\u001b[30mNumber of Iterations = 7\n",
            "\u001b[36mTrain Accuracy = 0.5613207547169812\n",
            "\u001b[36mTest Accuracy = 0.5054945054945055\n",
            "\u001b[35mLogistic Regression Info. of fbs and restecg:- \n",
            "\u001b[30mBias = 1.839568908565333e-05\n",
            "\u001b[30mWeight_0 = 1.4150109033969557e-06\n",
            "\u001b[30mWeight_1 = 5.660064806590168e-06\n",
            "\u001b[30mCost/Loss = 0.6931459391130086\n",
            "\u001b[30mNumber of Iterations = 3\n",
            "\u001b[36mTrain Accuracy = 0.4386792452830189\n",
            "\u001b[36mTest Accuracy = 0.4945054945054945\n",
            "\u001b[35mLogistic Regression Info. of fbs and thalach:- \n",
            "\u001b[30mBias = 1.0690846192642831e-05\n",
            "\u001b[30mWeight_0 = -6.265744477140603e-07\n",
            "\u001b[30mWeight_1 = 0.001606117732946673\n",
            "\u001b[30mCost/Loss = 0.6855525903964924\n",
            "\u001b[30mNumber of Iterations = 5\n",
            "\u001b[36mTrain Accuracy = 0.5613207547169812\n",
            "\u001b[36mTest Accuracy = 0.5054945054945055\n",
            "\u001b[35mLogistic Regression Info. of fbs and exang:- \n",
            "\u001b[30mBias = 1.839565437538678e-05\n",
            "\u001b[30mWeight_0 = 1.4150028934202264e-06\n",
            "\u001b[30mWeight_1 = 1.4150696090562871e-05\n",
            "\u001b[30mCost/Loss = 0.6931453784350861\n",
            "\u001b[30mNumber of Iterations = 3\n",
            "\u001b[36mTrain Accuracy = 0.4386792452830189\n",
            "\u001b[36mTest Accuracy = 0.4945054945054945\n",
            "\u001b[35mLogistic Regression Info. of fbs and oldpeak:- \n",
            "\u001b[30mBias = 1.8394981124346684e-05\n",
            "\u001b[30mWeight_0 = 1.4148976627496385e-06\n",
            "\u001b[30mWeight_1 = 3.190822686366114e-05\n",
            "\u001b[30mCost/Loss = 0.6931426523389058\n",
            "\u001b[30mNumber of Iterations = 3\n",
            "\u001b[36mTrain Accuracy = 0.4386792452830189\n",
            "\u001b[36mTest Accuracy = 0.4835164835164835\n",
            "\u001b[35mLogistic Regression Info. of fbs and slope:- \n",
            "\u001b[30mBias = 1.839517972441292e-05\n",
            "\u001b[30mWeight_0 = 1.4149332268913087e-06\n",
            "\u001b[30mWeight_1 = 1.627193564920536e-05\n",
            "\u001b[30mCost/Loss = 0.6931451634352553\n",
            "\u001b[30mNumber of Iterations = 3\n",
            "\u001b[36mTrain Accuracy = 0.4386792452830189\n",
            "\u001b[36mTest Accuracy = 0.4945054945054945\n",
            "\u001b[35mLogistic Regression Info. of fbs and ca:- \n",
            "\u001b[30mBias = 1.8395698181670144e-05\n",
            "\u001b[30mWeight_0 = 1.4150058141686694e-06\n",
            "\u001b[30mWeight_1 = 3.5372705290289814e-06\n",
            "\u001b[30mCost/Loss = 0.6931460041916389\n",
            "\u001b[30mNumber of Iterations = 3\n",
            "\u001b[36mTrain Accuracy = 0.4386792452830189\n",
            "\u001b[36mTest Accuracy = 0.4945054945054945\n",
            "\u001b[35mLogistic Regression Info. of fbs and thal:- \n",
            "\u001b[30mBias = 1.8393062987089738e-05\n",
            "\u001b[30mWeight_0 = 1.4146176063762926e-06\n",
            "\u001b[30mWeight_1 = 4.669039719964713e-05\n",
            "\u001b[30mCost/Loss = 0.6931387802612535\n",
            "\u001b[30mNumber of Iterations = 3\n",
            "\u001b[36mTrain Accuracy = 0.4386792452830189\n",
            "\u001b[36mTest Accuracy = 0.4945054945054945\n",
            "\u001b[35mLogistic Regression Info. of restecg and thalach:- \n",
            "\u001b[30mBias = 1.069082577942701e-05\n",
            "\u001b[30mWeight_0 = -6.983638766103914e-07\n",
            "\u001b[30mWeight_1 = 0.0016061148717749665\n",
            "\u001b[30mCost/Loss = 0.6855525853759826\n",
            "\u001b[30mNumber of Iterations = 5\n",
            "\u001b[36mTrain Accuracy = 0.5613207547169812\n",
            "\u001b[36mTest Accuracy = 0.5054945054945055\n",
            "\u001b[35mLogistic Regression Info. of restecg and exang:- \n",
            "\u001b[30mBias = 1.839558762768014e-05\n",
            "\u001b[30mWeight_0 = 5.660015245848143e-06\n",
            "\u001b[30mWeight_1 = 1.4150677067510063e-05\n",
            "\u001b[30mCost/Loss = 0.6931452783389643\n",
            "\u001b[30mNumber of Iterations = 3\n",
            "\u001b[36mTrain Accuracy = 0.4386792452830189\n",
            "\u001b[36mTest Accuracy = 0.4945054945054945\n",
            "\u001b[35mLogistic Regression Info. of restecg and oldpeak:- \n",
            "\u001b[30mBias = 1.8394914378526048e-05\n",
            "\u001b[30mWeight_0 = 5.6596575743503335e-06\n",
            "\u001b[30mWeight_1 = 3.190815965124231e-05\n",
            "\u001b[30mCost/Loss = 0.6931425522740365\n",
            "\u001b[30mNumber of Iterations = 3\n",
            "\u001b[36mTrain Accuracy = 0.44339622641509435\n",
            "\u001b[36mTest Accuracy = 0.4835164835164835\n",
            "\u001b[35mLogistic Regression Info. of restecg and slope:- \n",
            "\u001b[30mBias = 1.83951129787729e-05\n",
            "\u001b[30mWeight_0 = 5.659767617845172e-06\n",
            "\u001b[30mWeight_1 = 1.627183903516433e-05\n",
            "\u001b[30mCost/Loss = 0.693145063360844\n",
            "\u001b[30mNumber of Iterations = 3\n",
            "\u001b[36mTrain Accuracy = 0.4386792452830189\n",
            "\u001b[36mTest Accuracy = 0.4945054945054945\n",
            "\u001b[35mLogistic Regression Info. of restecg and ca:- \n",
            "\u001b[30mBias = 1.839563143408555e-05\n",
            "\u001b[30mWeight_0 = 5.660036523178973e-06\n",
            "\u001b[30mWeight_1 = 3.5372273103748218e-06\n",
            "\u001b[30mCost/Loss = 0.6931459040935765\n",
            "\u001b[30mNumber of Iterations = 3\n",
            "\u001b[36mTrain Accuracy = 0.4386792452830189\n",
            "\u001b[36mTest Accuracy = 0.4945054945054945\n",
            "\u001b[35mLogistic Regression Info. of restecg and thal:- \n",
            "\u001b[30mBias = 1.8392996247563835e-05\n",
            "\u001b[30mWeight_0 = 5.658673838076946e-06\n",
            "\u001b[30mWeight_1 = 4.6690240528937434e-05\n",
            "\u001b[30mCost/Loss = 0.6931386802825393\n",
            "\u001b[30mNumber of Iterations = 3\n",
            "\u001b[36mTrain Accuracy = 0.4386792452830189\n",
            "\u001b[36mTest Accuracy = 0.4945054945054945\n",
            "\u001b[35mLogistic Regression Info. of thalach and exang:- \n",
            "\u001b[30mBias = 1.0690668572449304e-05\n",
            "\u001b[30mWeight_0 = 0.0016060950261415627\n",
            "\u001b[30mWeight_1 = 1.8030774559058827e-05\n",
            "\u001b[30mCost/Loss = 0.6855520464634981\n",
            "\u001b[30mNumber of Iterations = 5\n",
            "\u001b[36mTrain Accuracy = 0.5613207547169812\n",
            "\u001b[36mTest Accuracy = 0.5054945054945055\n",
            "\u001b[35mLogistic Regression Info. of thalach and oldpeak:- \n",
            "\u001b[30mBias = 1.068970986918812e-05\n",
            "\u001b[30mWeight_0 = 0.0016059664879202549\n",
            "\u001b[30mWeight_1 = 3.471502524625606e-05\n",
            "\u001b[30mCost/Loss = 0.6855508467463937\n",
            "\u001b[30mNumber of Iterations = 5\n",
            "\u001b[36mTrain Accuracy = 0.5613207547169812\n",
            "\u001b[36mTest Accuracy = 0.5054945054945055\n",
            "\u001b[35mLogistic Regression Info. of thalach and slope:- \n",
            "\u001b[30mBias = 1.0690697708095198e-05\n",
            "\u001b[30mWeight_0 = 0.0016060947441014991\n",
            "\u001b[30mWeight_1 = -2.1253935950245095e-06\n",
            "\u001b[30mCost/Loss = 0.6855525248261166\n",
            "\u001b[30mNumber of Iterations = 5\n",
            "\u001b[36mTrain Accuracy = 0.5613207547169812\n",
            "\u001b[36mTest Accuracy = 0.5054945054945055\n",
            "\u001b[35mLogistic Regression Info. of thalach and ca:- \n",
            "\u001b[30mBias = 1.0690948730935836e-05\n",
            "\u001b[30mWeight_0 = 0.0016061324666105643\n",
            "\u001b[30mWeight_1 = -7.776567090875665e-06\n",
            "\u001b[30mCost/Loss = 0.6855523634026538\n",
            "\u001b[30mNumber of Iterations = 5\n",
            "\u001b[36mTrain Accuracy = 0.5613207547169812\n",
            "\u001b[36mTest Accuracy = 0.5054945054945055\n",
            "\u001b[35mLogistic Regression Info. of thalach and thal:- \n",
            "\u001b[30mBias = 1.0688094884734857e-05\n",
            "\u001b[30mWeight_0 = 0.0016057160261170017\n",
            "\u001b[30mWeight_1 = 3.177080503536991e-05\n",
            "\u001b[30mCost/Loss = 0.6855520966808999\n",
            "\u001b[30mNumber of Iterations = 5\n",
            "\u001b[36mTrain Accuracy = 0.5613207547169812\n",
            "\u001b[36mTest Accuracy = 0.5054945054945055\n",
            "\u001b[35mLogistic Regression Info. of exang and oldpeak:- \n",
            "\u001b[30mBias = 1.8394879667965796e-05\n",
            "\u001b[30mWeight_0 = 1.4150364743095724e-05\n",
            "\u001b[30mWeight_1 = 3.190808459171447e-05\n",
            "\u001b[30mCost/Loss = 0.6931419916358431\n",
            "\u001b[30mNumber of Iterations = 3\n",
            "\u001b[36mTrain Accuracy = 0.44339622641509435\n",
            "\u001b[36mTest Accuracy = 0.4835164835164835\n",
            "\u001b[35mLogistic Regression Info. of exang and slope:- \n",
            "\u001b[30mBias = 1.8395078267916985e-05\n",
            "\u001b[30mWeight_0 = 1.4150548080248666e-05\n",
            "\u001b[30mWeight_1 = 1.6271813001179816e-05\n",
            "\u001b[30mCost/Loss = 0.6931445026897948\n",
            "\u001b[30mNumber of Iterations = 3\n",
            "\u001b[36mTrain Accuracy = 0.4386792452830189\n",
            "\u001b[36mTest Accuracy = 0.4945054945054945\n",
            "\u001b[35mLogistic Regression Info. of exang and ca:- \n",
            "\u001b[30mBias = 1.8395596723975987e-05\n",
            "\u001b[30mWeight_0 = 1.4150675649759883e-05\n",
            "\u001b[30mWeight_1 = 3.537187594564375e-06\n",
            "\u001b[30mCost/Loss = 0.693145343417809\n",
            "\u001b[30mNumber of Iterations = 3\n",
            "\u001b[36mTrain Accuracy = 0.4386792452830189\n",
            "\u001b[36mTest Accuracy = 0.4945054945054945\n",
            "\u001b[35mLogistic Regression Info. of exang and thal:- \n",
            "\u001b[30mBias = 1.839296153562213e-05\n",
            "\u001b[30mWeight_0 = 1.4149800202371092e-05\n",
            "\u001b[30mWeight_1 = 4.6690137396540314e-05\n",
            "\u001b[30mCost/Loss = 0.6931381196846912\n",
            "\u001b[30mNumber of Iterations = 3\n",
            "\u001b[36mTrain Accuracy = 0.4386792452830189\n",
            "\u001b[36mTest Accuracy = 0.4945054945054945\n",
            "\u001b[35mLogistic Regression Info. of oldpeak and slope:- \n",
            "\u001b[30mBias = 1.8394405027685385e-05\n",
            "\u001b[30mWeight_0 = 3.19078225843104e-05\n",
            "\u001b[30mWeight_1 = 1.6271139801025185e-05\n",
            "\u001b[30mCost/Loss = 0.693141776773672\n",
            "\u001b[30mNumber of Iterations = 3\n",
            "\u001b[36mTrain Accuracy = 0.4386792452830189\n",
            "\u001b[36mTest Accuracy = 0.4835164835164835\n",
            "\u001b[35mLogistic Regression Info. of oldpeak and ca:- \n",
            "\u001b[30mBias = 1.8394923476797403e-05\n",
            "\u001b[30mWeight_0 = 3.1908157478414464e-05\n",
            "\u001b[30mWeight_1 = 3.5366013555462915e-06\n",
            "\u001b[30mCost/Loss = 0.6931426173536973\n",
            "\u001b[30mNumber of Iterations = 3\n",
            "\u001b[36mTrain Accuracy = 0.4386792452830189\n",
            "\u001b[36mTest Accuracy = 0.4835164835164835\n",
            "\u001b[35mLogistic Regression Info. of oldpeak and thal:- \n",
            "\u001b[30mBias = 1.8392288336353142e-05\n",
            "\u001b[30mWeight_0 = 3.1905443311696394e-05\n",
            "\u001b[30mWeight_1 = 4.668850361534563e-05\n",
            "\u001b[30mCost/Loss = 0.6931353948571799\n",
            "\u001b[30mNumber of Iterations = 3\n",
            "\u001b[36mTrain Accuracy = 0.4669811320754717\n",
            "\u001b[36mTest Accuracy = 0.2857142857142857\n",
            "\u001b[35mLogistic Regression Info. of slope and ca:- \n",
            "\u001b[30mBias = 1.839512207574963e-05\n",
            "\u001b[30mWeight_0 = 1.6271853890155632e-05\n",
            "\u001b[30mWeight_1 = 3.536865381064935e-06\n",
            "\u001b[30mCost/Loss = 0.6931451284353214\n",
            "\u001b[30mNumber of Iterations = 3\n",
            "\u001b[36mTrain Accuracy = 0.4386792452830189\n",
            "\u001b[36mTest Accuracy = 0.4945054945054945\n",
            "\u001b[35mLogistic Regression Info. of slope and thal:- \n",
            "\u001b[30mBias = 1.839248694804719e-05\n",
            "\u001b[30mWeight_0 = 1.6268127264133125e-05\n",
            "\u001b[30mWeight_1 = 4.668907969735939e-05\n",
            "\u001b[30mCost/Loss = 0.6931379055060645\n",
            "\u001b[30mNumber of Iterations = 3\n",
            "\u001b[36mTrain Accuracy = 0.4386792452830189\n",
            "\u001b[36mTest Accuracy = 0.4945054945054945\n",
            "\u001b[35mLogistic Regression Info. of ca and thal:- \n",
            "\u001b[30mBias = 1.8393005349409624e-05\n",
            "\u001b[30mWeight_0 = 3.53524416223901e-06\n",
            "\u001b[30mWeight_1 = 4.669025548250817e-05\n",
            "\u001b[30mCost/Loss = 0.6931387453493927\n",
            "\u001b[30mNumber of Iterations = 3\n",
            "\u001b[36mTrain Accuracy = 0.4386792452830189\n",
            "\u001b[36mTest Accuracy = 0.4945054945054945\n",
            "\u001b[32mBest Train Accuracy = 0.5707547169811321\n",
            "\u001b[32mBest Test Accuracy = 0.5494505494505495\n"
          ]
        }
      ],
      "source": [
        "new_data = data_shuffled.drop('target',axis=1)\n",
        "feature = new_data.columns\n",
        "iterations = 500\n",
        "alpha = 1e-4\n",
        "label = data_shuffled[['target']]\n",
        "\n",
        "best_accuracy_train = 0.0\n",
        "best_accuracy_test = 0.0\n",
        "\n",
        "for f1 in range(len(feature)):\n",
        "    for f2 in range(len(feature)):\n",
        "        if f2 > f1 :\n",
        "            \n",
        "            new_features = pd.DataFrame([data[feature[f1]],data[feature[f2]]] ).T\n",
        "            # print(new_features)\n",
        "            weight, weight_history, costs, hypothesis, loops = logisicRegression(new_features,label,iterations,alpha)\n",
        "            prediction_train = predict(new_features,label, weight)\n",
        "            prediction_test = predict(test[[feature[f1],feature[f2]]],test[['target']],weight) \n",
        "            print(Fore.MAGENTA + \"Logistic Regression Info. of {} and {}:- \".format(feature[f1],feature[f2]))\n",
        "            print(Fore.BLACK +\"Bias = {}\".format(weight[0][0]))\n",
        "            print(Fore.BLACK +\"Weight_0 = {}\".format(weight[1][0]))\n",
        "            print(Fore.BLACK +\"Weight_1 = {}\".format(weight[2][0]))\n",
        "            print(Fore.BLACK +\"Cost/Loss = {}\".format(costs[loops-1]))\n",
        "            print(Fore.BLACK +\"Number of Iterations = {}\".format(loops))\n",
        "            \n",
        "            current_train_accuracy = prediction_train\n",
        "            #prediction_train.loc[prediction_train['Prediction']==prediction_train['target']].shape[0] / prediction_train.shape[0] * 100\n",
        "            current_test_accuracy = prediction_test\n",
        "            #prediction_test.loc[prediction_test['Prediction']==prediction_test['target']].shape[0] / prediction_test.shape[0] * 100\n",
        "            print(Fore.CYAN + \"Train Accuracy = {}\".format(current_train_accuracy))\n",
        "            print(Fore.CYAN + \"Test Accuracy = {}\".format(current_test_accuracy))\n",
        "            if current_train_accuracy > best_accuracy_train:\n",
        "                best_accuracy_train = current_train_accuracy\n",
        "            if current_test_accuracy > best_accuracy_test:\n",
        "                best_accuracy_test = current_test_accuracy\n",
        "\n",
        "print(Fore.GREEN + \"Best Train Accuracy = {}\".format(best_accuracy_train))\n",
        "print(Fore.GREEN + \"Best Test Accuracy = {}\".format(best_accuracy_test))\n"
      ]
    },
    {
      "cell_type": "markdown",
      "metadata": {
        "id": "riR8-WEQhe3n"
      },
      "source": [
        "##### Change Learning Rate"
      ]
    },
    {
      "cell_type": "code",
      "execution_count": null,
      "metadata": {
        "id": "qUyud6dmhe3n",
        "outputId": "0194699a-7148-4dd7-ae2e-23c8d425c1bb"
      },
      "outputs": [
        {
          "name": "stdout",
          "output_type": "stream",
          "text": [
            "\u001b[35mLogistic Regression Info. of cp and ca:- \n",
            "\u001b[30mLearning Rate = 0.1\n",
            "\u001b[30mBias = -0.02630977940387888\n",
            "\u001b[30mWeight_0 = 0.9670190067850307\n",
            "\u001b[30mWeight_1 = -0.886156028715589\n",
            "\u001b[30mCost/Loss = 0.5088471622952192\n",
            "\u001b[30mNumber of Iterations = 199\n",
            "\u001b[36mTrain Accuracy = 0.7452830188679245\n",
            "\u001b[36mTest Accuracy = 0.7582417582417582\n",
            "\u001b[35mLogistic Regression Info. of cp and ca:- \n",
            "\u001b[30mLearning Rate = 0.01\n",
            "\u001b[30mBias = 0.03638634265972913\n",
            "\u001b[30mWeight_0 = 0.6389988510378193\n",
            "\u001b[30mWeight_1 = -0.5302797706641558\n",
            "\u001b[30mCost/Loss = 0.5309068882743722\n",
            "\u001b[30mNumber of Iterations = 500\n",
            "\u001b[36mTrain Accuracy = 0.7641509433962265\n",
            "\u001b[36mTest Accuracy = 0.7472527472527473\n",
            "\u001b[35mLogistic Regression Info. of cp and ca:- \n",
            "\u001b[30mLearning Rate = 0.001\n",
            "\u001b[30mBias = 0.02371952542812612\n",
            "\u001b[30mWeight_0 = 0.12934964946080849\n",
            "\u001b[30mWeight_1 = -0.07361631357721912\n",
            "\u001b[30mCost/Loss = 0.647530551719338\n",
            "\u001b[30mNumber of Iterations = 500\n",
            "\u001b[36mTrain Accuracy = 0.7547169811320755\n",
            "\u001b[36mTest Accuracy = 0.7692307692307693\n",
            "\u001b[35mLogistic Regression Info. of cp and ca:- \n",
            "\u001b[30mLearning Rate = 0.0001\n",
            "\u001b[30mBias = 0.002987253378496644\n",
            "\u001b[30mWeight_0 = 0.014436777443356892\n",
            "\u001b[30mWeight_1 = -0.0074279508180555955\n",
            "\u001b[30mCost/Loss = 0.6876966540829215\n",
            "\u001b[30mNumber of Iterations = 500\n",
            "\u001b[36mTrain Accuracy = 0.7688679245283019\n",
            "\u001b[36mTest Accuracy = 0.7692307692307693\n",
            "\u001b[35mLogistic Regression Info. of cp and ca:- \n",
            "\u001b[30mLearning Rate = 1e-05\n",
            "\u001b[30mBias = 1.8396034251503182e-06\n",
            "\u001b[30mWeight_0 = 8.773539726200973e-06\n",
            "\u001b[30mWeight_1 = -4.457547025431065e-06\n",
            "\u001b[30mCost/Loss = 0.6931438396049656\n",
            "\u001b[30mNumber of Iterations = 3\n",
            "\u001b[36mTrain Accuracy = 0.4386792452830189\n",
            "\u001b[36mTest Accuracy = 0.4945054945054945\n",
            "\u001b[35mLogistic Regression Info. of cp and ca:- \n",
            "\u001b[30mLearning Rate = 1e-06\n",
            "\u001b[30mBias = 1.8396207198686044e-07\n",
            "\u001b[30mWeight_0 = 8.773580387705673e-07\n",
            "\u001b[30mWeight_1 = -4.457547155376351e-07\n",
            "\u001b[30mCost/Loss = 0.6931468464612043\n",
            "\u001b[30mNumber of Iterations = 3\n",
            "\u001b[36mTrain Accuracy = 0.4386792452830189\n",
            "\u001b[36mTest Accuracy = 0.4945054945054945\n",
            "\u001b[32mBest Train Accuracy = 0.7688679245283019\n",
            "\u001b[32mBest Test Accuracy = 0.7692307692307693\n",
            "\u001b[32mBest Learning Rate = 0.0001\n"
          ]
        }
      ],
      "source": [
        "iterations = 500\n",
        "alphas = [1e-1,1e-2,1e-3,1e-4,1e-5,1e-6]\n",
        "best_alpha = 0\n",
        "label = data[['target']]\n",
        "\n",
        "best_accuracy_train = 0.0\n",
        "best_accuracy_test = 0.0\n",
        "\n",
        "for alpha in alphas :\n",
        "    new_features = data[['cp','ca']]\n",
        "    # print(new_features)\n",
        "    weight, weight_history, costs, hypothesis, loops = logisicRegression(new_features,label,iterations,alpha)\n",
        "    prediction_train = predict(new_features,label, weight)\n",
        "    prediction_test = predict(test[['cp','ca']],test[['target']],weight) \n",
        "    print(Fore.MAGENTA + \"Logistic Regression Info. of {} and {}:- \".format('cp','ca'))\n",
        "    print(Fore.BLACK +\"Learning Rate = {}\".format(alpha))\n",
        "    print(Fore.BLACK +\"Bias = {}\".format(weight[0][0]))\n",
        "    print(Fore.BLACK +\"Weight_0 = {}\".format(weight[1][0]))\n",
        "    print(Fore.BLACK +\"Weight_1 = {}\".format(weight[2][0]))\n",
        "    print(Fore.BLACK +\"Cost/Loss = {}\".format(costs[loops-1]))\n",
        "    print(Fore.BLACK +\"Number of Iterations = {}\".format(loops))\n",
        "    \n",
        "    current_train_accuracy = prediction_train\n",
        "    #prediction_train.loc[prediction_train['Prediction']==prediction_train['target']].shape[0] / prediction_train.shape[0] * 100\n",
        "    current_test_accuracy = prediction_test\n",
        "    #prediction_test.loc[prediction_test['Prediction']==prediction_test['target']].shape[0] / prediction_test.shape[0] * 100\n",
        "    print(Fore.CYAN + \"Train Accuracy = {}\".format(current_train_accuracy))\n",
        "    print(Fore.CYAN + \"Test Accuracy = {}\".format(current_test_accuracy))\n",
        "    if current_train_accuracy > best_accuracy_train:\n",
        "        best_accuracy_train = current_train_accuracy\n",
        "        best_alpha = alpha\n",
        "    if current_test_accuracy > best_accuracy_test:\n",
        "        best_accuracy_test = current_test_accuracy\n",
        "\n",
        "print(Fore.GREEN + \"Best Train Accuracy = {}\".format(best_accuracy_train))\n",
        "print(Fore.GREEN + \"Best Test Accuracy = {}\".format(best_accuracy_test))\n",
        "print(Fore.GREEN + \"Best Learning Rate = {}\".format(best_alpha))\n"
      ]
    },
    {
      "cell_type": "markdown",
      "metadata": {
        "id": "TyDIzBX4he3n"
      },
      "source": [
        "Here we tried Very big learning rate (step) that leads to a relatively generalized model and less numer of iterations that safe alot of time but in some situations it may overshouts while when we use a very small learning rate that leads to alot of iterations and if it too small it may never reach local min."
      ]
    },
    {
      "cell_type": "markdown",
      "metadata": {
        "id": "LvogcCkShe3o"
      },
      "source": [
        "##### Change Iterations"
      ]
    },
    {
      "cell_type": "code",
      "execution_count": null,
      "metadata": {
        "id": "NyRdSy78he3o",
        "outputId": "79f7c353-9486-4974-b856-a79ba8700eed"
      },
      "outputs": [
        {
          "name": "stdout",
          "output_type": "stream",
          "text": [
            "\u001b[35mLogistic Regression Info. of cp and ca:- \n",
            "\u001b[30mBias = 1.226351039627117e-05\n",
            "\u001b[30mWeight_0 = 5.848906005251041e-05\n",
            "\u001b[30mWeight_1 = -2.9716976320532183e-05\n",
            "\u001b[30mCost/Loss = 0.6931249087277557\n",
            "\u001b[30mNumber of Iterations = 2\n",
            "\u001b[36mTrain Accuracy = 0.4386792452830189\n",
            "\u001b[36mTest Accuracy = 0.4945054945054945\n",
            "\u001b[35mLogistic Regression Info. of cp and ca:- \n",
            "\u001b[30mBias = 2.452445882261791e-05\n",
            "\u001b[30mWeight_0 = 0.00011697209655363667\n",
            "\u001b[30mWeight_1 = -5.943393325906207e-05\n",
            "\u001b[30mCost/Loss = 0.6931026407383085\n",
            "\u001b[30mNumber of Iterations = 4\n",
            "\u001b[36mTrain Accuracy = 0.6367924528301887\n",
            "\u001b[36mTest Accuracy = 0.6043956043956044\n",
            "\u001b[35mLogistic Regression Info. of cp and ca:- \n",
            "\u001b[30mBias = 4.9038671513978524e-05\n",
            "\u001b[30mWeight_0 = 0.0002339201020176866\n",
            "\u001b[30mWeight_1 = -0.00011886778790367801\n",
            "\u001b[30mCost/Loss = 0.6930581162842229\n",
            "\u001b[30mNumber of Iterations = 8\n",
            "\u001b[36mTrain Accuracy = 0.75\n",
            "\u001b[36mTest Accuracy = 0.7472527472527473\n",
            "\u001b[35mLogistic Regression Info. of cp and ca:- \n",
            "\u001b[30mBias = 6.129193665309392e-05\n",
            "\u001b[30mWeight_0 = 0.00029238507253844903\n",
            "\u001b[30mWeight_1 = -0.00014858468506668578\n",
            "\u001b[30mCost/Loss = 0.6930358598178704\n",
            "\u001b[30mNumber of Iterations = 10\n",
            "\u001b[36mTrain Accuracy = 0.7358490566037735\n",
            "\u001b[36mTest Accuracy = 0.7692307692307693\n",
            "\u001b[35mLogistic Regression Info. of cp and ca:- \n",
            "\u001b[30mBias = 0.0001225198677607772\n",
            "\u001b[30mWeight_0 = 0.0005846196341814977\n",
            "\u001b[30mWeight_1 = -0.00029716885843220406\n",
            "\u001b[30mCost/Loss = 0.6929246350587606\n",
            "\u001b[30mNumber of Iterations = 20\n",
            "\u001b[36mTrain Accuracy = 0.7358490566037735\n",
            "\u001b[36mTest Accuracy = 0.7692307692307693\n",
            "\u001b[35mLogistic Regression Info. of cp and ca:- \n",
            "\u001b[30mBias = 0.0006100456632920193\n",
            "\u001b[30mWeight_0 = 0.0029170894079839607\n",
            "\u001b[30mWeight_1 = -0.0014858197621674528\n",
            "\u001b[30mCost/Loss = 0.6920382795629894\n",
            "\u001b[30mNumber of Iterations = 100\n",
            "\u001b[36mTrain Accuracy = 0.7688679245283019\n",
            "\u001b[36mTest Accuracy = 0.7692307692307693\n",
            "\u001b[35mLogistic Regression Info. of cp and ca:- \n",
            "\u001b[30mBias = 0.002987253378496644\n",
            "\u001b[30mWeight_0 = 0.014436777443356892\n",
            "\u001b[30mWeight_1 = -0.0074279508180555955\n",
            "\u001b[30mCost/Loss = 0.6876966540829215\n",
            "\u001b[30mNumber of Iterations = 500\n",
            "\u001b[36mTrain Accuracy = 0.7688679245283019\n",
            "\u001b[36mTest Accuracy = 0.7692307692307693\n",
            "\u001b[35mLogistic Regression Info. of cp and ca:- \n",
            "\u001b[30mBias = 0.007289856745692864\n",
            "\u001b[30mWeight_0 = 0.035960738061544185\n",
            "\u001b[30mWeight_1 = -0.018855215642453342\n",
            "\u001b[30mCost/Loss = 0.6797429880306911\n",
            "\u001b[30mNumber of Iterations = 1270\n",
            "\u001b[36mTrain Accuracy = 0.7688679245283019\n",
            "\u001b[36mTest Accuracy = 0.7692307692307693\n",
            "\u001b[32mBest Train Accuracy = 0.7688679245283019\n",
            "\u001b[32mBest Test Accuracy = 0.7692307692307693\n"
          ]
        }
      ],
      "source": [
        "iterations = [2,4,8,10,20,100,500,1500]\n",
        "alpha = 0.0001\n",
        "label = data[['target']]\n",
        "\n",
        "best_accuracy_train = 0.0\n",
        "best_accuracy_test = 0.0\n",
        "\n",
        "for i in iterations :\n",
        "    new_features = data[['cp','ca']]\n",
        "    # print(new_features)\n",
        "    weight, weight_history, costs, hypothesis, loops = logisicRegression(new_features,label,i,alpha)\n",
        "    prediction_train = predict(new_features,label, weight)\n",
        "    prediction_test = predict(test[['cp','ca']],test[['target']],weight) \n",
        "    print(Fore.MAGENTA + \"Logistic Regression Info. of {} and {}:- \".format('cp','ca'))\n",
        "    print(Fore.BLACK +\"Bias = {}\".format(weight[0][0]))\n",
        "    print(Fore.BLACK +\"Weight_0 = {}\".format(weight[1][0]))\n",
        "    print(Fore.BLACK +\"Weight_1 = {}\".format(weight[2][0]))\n",
        "    print(Fore.BLACK +\"Cost/Loss = {}\".format(costs[loops-1]))\n",
        "    print(Fore.BLACK +\"Number of Iterations = {}\".format(loops))\n",
        "    \n",
        "    current_train_accuracy = prediction_train\n",
        "    #prediction_train.loc[prediction_train['Prediction']==prediction_train['target']].shape[0] / prediction_train.shape[0] * 100\n",
        "    current_test_accuracy = prediction_test\n",
        "    #prediction_test.loc[prediction_test['Prediction']==prediction_test['target']].shape[0] / prediction_test.shape[0] * 100\n",
        "    print(Fore.CYAN + \"Train Accuracy = {}\".format(current_train_accuracy))\n",
        "    print(Fore.CYAN + \"Test Accuracy = {}\".format(current_test_accuracy))\n",
        "    if current_train_accuracy > best_accuracy_train:\n",
        "        best_accuracy_train = current_train_accuracy\n",
        "        best_alpha = alpha\n",
        "    if current_test_accuracy > best_accuracy_test:\n",
        "        best_accuracy_test = current_test_accuracy\n",
        "\n",
        "print(Fore.GREEN + \"Best Train Accuracy = {}\".format(best_accuracy_train))\n",
        "print(Fore.GREEN + \"Best Test Accuracy = {}\".format(best_accuracy_test))\n"
      ]
    },
    {
      "cell_type": "markdown",
      "metadata": {
        "id": "9UACxY20he3o"
      },
      "source": [
        "we notice that the more iterations the model make the more generalize and gradient descent get better values but it may fall in local min. that can't get away from and in other situation where number of iterations is so big that stopping condition in Logistic Regression function will use as the difference between loss_0 and loss_1 is very small that there is no learning   "
      ]
    },
    {
      "cell_type": "code",
      "execution_count": null,
      "metadata": {
        "id": "JipLX9E5he3o"
      },
      "outputs": [],
      "source": []
    }
  ],
  "metadata": {
    "kernelspec": {
      "display_name": "Python 3.9.7 ('base')",
      "language": "python",
      "name": "python3"
    },
    "language_info": {
      "codemirror_mode": {
        "name": "ipython",
        "version": 3
      },
      "file_extension": ".py",
      "mimetype": "text/x-python",
      "name": "python",
      "nbconvert_exporter": "python",
      "pygments_lexer": "ipython3",
      "version": "3.9.7"
    },
    "orig_nbformat": 4,
    "vscode": {
      "interpreter": {
        "hash": "ad2bdc8ecc057115af97d19610ffacc2b4e99fae6737bb82f5d7fb13d2f2c186"
      }
    },
    "colab": {
      "provenance": [],
      "include_colab_link": true
    }
  },
  "nbformat": 4,
  "nbformat_minor": 0
}