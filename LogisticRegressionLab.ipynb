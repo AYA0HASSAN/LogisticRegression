{
  "cells": [
    {
      "cell_type": "markdown",
      "metadata": {
        "id": "view-in-github",
        "colab_type": "text"
      },
      "source": [
        "<a href=\"https://colab.research.google.com/github/AYA0HASSAN/LogisticRegression/blob/main/LogisticRegressionLab.ipynb\" target=\"_parent\"><img src=\"https://colab.research.google.com/assets/colab-badge.svg\" alt=\"Open In Colab\"/></a>"
      ]
    },
    {
      "cell_type": "markdown",
      "metadata": {
        "id": "ArFsxND20JQ_"
      },
      "source": [
        "## Logistic Regression From Scratch\n",
        "#### Authors : Aya Hassan "
      ]
    },
    {
      "cell_type": "code",
      "execution_count": null,
      "metadata": {
        "id": "HaamVe4F0JRE",
        "outputId": "94739bf7-8499-4c72-f07f-64a2282c1baf"
      },
      "outputs": [
        {
          "name": "stdout",
          "output_type": "stream",
          "text": [
            "Requirement already satisfied: plotly-express in c:\\programdata\\anaconda3\\lib\\site-packages (0.4.1)\n",
            "Requirement already satisfied: patsy>=0.5 in c:\\programdata\\anaconda3\\lib\\site-packages (from plotly-express) (0.5.2)\n",
            "Requirement already satisfied: statsmodels>=0.9.0 in c:\\programdata\\anaconda3\\lib\\site-packages (from plotly-express) (0.12.2)\n",
            "Requirement already satisfied: scipy>=0.18 in c:\\programdata\\anaconda3\\lib\\site-packages (from plotly-express) (1.7.1)\n",
            "Requirement already satisfied: pandas>=0.20.0 in c:\\programdata\\anaconda3\\lib\\site-packages (from plotly-express) (1.3.4)\n",
            "Requirement already satisfied: numpy>=1.11 in c:\\programdata\\anaconda3\\lib\\site-packages (from plotly-express) (1.20.3)\n",
            "Requirement already satisfied: plotly>=4.1.0 in c:\\programdata\\anaconda3\\lib\\site-packages (from plotly-express) (5.11.0)\n",
            "Requirement already satisfied: pytz>=2017.3 in c:\\programdata\\anaconda3\\lib\\site-packages (from pandas>=0.20.0->plotly-express) (2021.3)\n",
            "Requirement already satisfied: python-dateutil>=2.7.3 in c:\\programdata\\anaconda3\\lib\\site-packages (from pandas>=0.20.0->plotly-express) (2.8.2)\n",
            "Requirement already satisfied: six in c:\\programdata\\anaconda3\\lib\\site-packages (from patsy>=0.5->plotly-express) (1.16.0)\n",
            "Requirement already satisfied: tenacity>=6.2.0 in c:\\programdata\\anaconda3\\lib\\site-packages (from plotly>=4.1.0->plotly-express) (8.1.0)\n"
          ]
        }
      ],
      "source": [
        "! pip install plotly-express"
      ]
    },
    {
      "cell_type": "code",
      "execution_count": null,
      "metadata": {
        "id": "7uNOXRgK0JRH"
      },
      "outputs": [],
      "source": [
        "import numpy as np\n",
        "import matplotlib.pyplot as plt\n",
        "import pandas as pd\n",
        "import seaborn as sns\n",
        "from colorama import Fore\n",
        "import plotly.express as px\n"
      ]
    },
    {
      "cell_type": "markdown",
      "metadata": {
        "id": "4dAyLNy30JRH"
      },
      "source": [
        "## Functions"
      ]
    },
    {
      "cell_type": "code",
      "execution_count": null,
      "metadata": {
        "id": "6Dze3Jep0JRI"
      },
      "outputs": [],
      "source": [
        "def sigmoid(y):\n",
        "    return 1/(1+np.exp(-y))"
      ]
    },
    {
      "cell_type": "code",
      "execution_count": null,
      "metadata": {
        "id": "z2rOcR1O0JRI"
      },
      "outputs": [],
      "source": [
        "def gradientDescent(features,yHat,label):\n",
        "    return np.dot(features.T ,(yHat - label)) / label.shape[0]"
      ]
    },
    {
      "cell_type": "code",
      "execution_count": null,
      "metadata": {
        "id": "3yIxpbDo0JRJ"
      },
      "outputs": [],
      "source": [
        "def updateWeightLoss(weight , learningRate , gradient):\n",
        "    return weight - learningRate * gradient"
      ]
    },
    {
      "cell_type": "code",
      "execution_count": null,
      "metadata": {
        "id": "IhT7MbO10JRJ"
      },
      "outputs": [],
      "source": [
        "def loss(yHat,label):\n",
        "    return (- label * np.log(yHat) - (1-label) * np.log(1-yHat)).mean()"
      ]
    },
    {
      "cell_type": "markdown",
      "metadata": {
        "id": "SqErtLNy0JRK"
      },
      "source": [
        "y = a1x1 + a2x2 + b "
      ]
    },
    {
      "cell_type": "code",
      "execution_count": null,
      "metadata": {
        "id": "QQlWUe7c0JRK"
      },
      "outputs": [],
      "source": [
        "def logisicRegression(features,labels,iterations,learningRate = 0.001):\n",
        "    \n",
        "    # Initizalize Weights\n",
        "    features = np.c_[np.ones((features.shape[0],1)),features]\n",
        "    dimention = features.shape[1]\n",
        "    weight = np.zeros((dimention,1))\n",
        "    weight_history = np.zeros((iterations,dimention))\n",
        "    costs = np.zeros(iterations)\n",
        "    hypothesis = np.zeros((iterations,len(labels)))\n",
        "    loops = 0\n",
        "    \n",
        "    for i in range(iterations):\n",
        "        # predict y(target)\n",
        "        yHat = np.dot(features,weight)\n",
        "        yHat = sigmoid(yHat)\n",
        "        gradient = gradientDescent(features,yHat,labels)\n",
        "        weight = updateWeightLoss(weight,learningRate,gradient)\n",
        "        yHat = np.dot(features,weight)\n",
        "        yHat = sigmoid(yHat)\n",
        "        costs[i] = loss(yHat,labels)\n",
        "        weight_history[i,:] = weight.T\n",
        "        hypothesis[i,:] = yHat.T\n",
        "        loops +=1\n",
        "        # Stop Conditions\n",
        "        if i > 1 :\n",
        "            if abs(costs[i-1] - costs[i]) <= 1e-6:\n",
        "                break\n",
        "        \n",
        "    return weight, weight_history, costs, hypothesis, loops"
      ]
    },
    {
      "cell_type": "code",
      "execution_count": null,
      "metadata": {
        "id": "eNO0Qr2z0JRL"
      },
      "outputs": [],
      "source": [
        "def predict(features,label, theta):\n",
        "    summ=0\n",
        "    features = np.c_[np.ones((features.shape[0],1)),features]\n",
        "    yHat = np.dot(features,theta)\n",
        "    ySig = sigmoid(yHat)\n",
        "    result = pd.DataFrame(np.around(ySig,decimals=4)).join(label)\n",
        "    \n",
        "    result['Prediction'] = result[0].apply(lambda x:0 if x <= 0.5 else 1)\n",
        "    \n",
        "    for i in range(len(label)):\n",
        "        if result['Prediction'].values[i] == label.values[i]:\n",
        "            summ+=1\n",
        "    # print(\"====================\",summ/len(label))\n",
        "    \n",
        "    #print(\"=========\",accuracy_score(label,result['Prediction'].values))\n",
        "    #print(result)\n",
        "    return summ/len(label)# accuracy_score(label,result['Prediction'].values)#result"
      ]
    },
    {
      "cell_type": "markdown",
      "metadata": {
        "id": "RyMTJ38-0JRL"
      },
      "source": [
        "## Load Data"
      ]
    },
    {
      "cell_type": "code",
      "execution_count": null,
      "metadata": {
        "id": "KYmBgQFX0JRL",
        "outputId": "d811af2a-9cbb-42da-d4cd-d5120bdff5e5"
      },
      "outputs": [
        {
          "name": "stdout",
          "output_type": "stream",
          "text": [
            "<class 'pandas.core.frame.DataFrame'>\n",
            "RangeIndex: 303 entries, 0 to 302\n",
            "Data columns (total 14 columns):\n",
            " #   Column    Non-Null Count  Dtype  \n",
            "---  ------    --------------  -----  \n",
            " 0   age       303 non-null    int64  \n",
            " 1   sex       303 non-null    int64  \n",
            " 2   cp        303 non-null    int64  \n",
            " 3   trestbps  303 non-null    int64  \n",
            " 4   chol      303 non-null    int64  \n",
            " 5   fbs       303 non-null    int64  \n",
            " 6   restecg   303 non-null    int64  \n",
            " 7   thalach   303 non-null    int64  \n",
            " 8   exang     303 non-null    int64  \n",
            " 9   oldpeak   303 non-null    float64\n",
            " 10  slope     303 non-null    int64  \n",
            " 11  ca        303 non-null    int64  \n",
            " 12  thal      303 non-null    int64  \n",
            " 13  target    303 non-null    int64  \n",
            "dtypes: float64(1), int64(13)\n",
            "memory usage: 33.3 KB\n"
          ]
        }
      ],
      "source": [
        "data = pd.read_csv(\"heart.csv\")\n",
        "data.info()"
      ]
    },
    {
      "cell_type": "code",
      "execution_count": null,
      "metadata": {
        "id": "UdkO05N70JRM",
        "outputId": "653d6bb8-302d-4094-ecb8-688f5bd32f71"
      },
      "outputs": [
        {
          "data": {
            "text/html": [
              "<div>\n",
              "<style scoped>\n",
              "    .dataframe tbody tr th:only-of-type {\n",
              "        vertical-align: middle;\n",
              "    }\n",
              "\n",
              "    .dataframe tbody tr th {\n",
              "        vertical-align: top;\n",
              "    }\n",
              "\n",
              "    .dataframe thead th {\n",
              "        text-align: right;\n",
              "    }\n",
              "</style>\n",
              "<table border=\"1\" class=\"dataframe\">\n",
              "  <thead>\n",
              "    <tr style=\"text-align: right;\">\n",
              "      <th></th>\n",
              "      <th>age</th>\n",
              "      <th>sex</th>\n",
              "      <th>cp</th>\n",
              "      <th>trestbps</th>\n",
              "      <th>chol</th>\n",
              "      <th>fbs</th>\n",
              "      <th>restecg</th>\n",
              "      <th>thalach</th>\n",
              "      <th>exang</th>\n",
              "      <th>oldpeak</th>\n",
              "      <th>slope</th>\n",
              "      <th>ca</th>\n",
              "      <th>thal</th>\n",
              "      <th>target</th>\n",
              "    </tr>\n",
              "  </thead>\n",
              "  <tbody>\n",
              "    <tr>\n",
              "      <th>0</th>\n",
              "      <td>63</td>\n",
              "      <td>1</td>\n",
              "      <td>3</td>\n",
              "      <td>145</td>\n",
              "      <td>233</td>\n",
              "      <td>1</td>\n",
              "      <td>0</td>\n",
              "      <td>150</td>\n",
              "      <td>0</td>\n",
              "      <td>2.3</td>\n",
              "      <td>0</td>\n",
              "      <td>0</td>\n",
              "      <td>1</td>\n",
              "      <td>1</td>\n",
              "    </tr>\n",
              "    <tr>\n",
              "      <th>1</th>\n",
              "      <td>37</td>\n",
              "      <td>1</td>\n",
              "      <td>2</td>\n",
              "      <td>130</td>\n",
              "      <td>250</td>\n",
              "      <td>0</td>\n",
              "      <td>1</td>\n",
              "      <td>187</td>\n",
              "      <td>0</td>\n",
              "      <td>3.5</td>\n",
              "      <td>0</td>\n",
              "      <td>0</td>\n",
              "      <td>2</td>\n",
              "      <td>1</td>\n",
              "    </tr>\n",
              "    <tr>\n",
              "      <th>2</th>\n",
              "      <td>41</td>\n",
              "      <td>0</td>\n",
              "      <td>1</td>\n",
              "      <td>130</td>\n",
              "      <td>204</td>\n",
              "      <td>0</td>\n",
              "      <td>0</td>\n",
              "      <td>172</td>\n",
              "      <td>0</td>\n",
              "      <td>1.4</td>\n",
              "      <td>2</td>\n",
              "      <td>0</td>\n",
              "      <td>2</td>\n",
              "      <td>1</td>\n",
              "    </tr>\n",
              "    <tr>\n",
              "      <th>3</th>\n",
              "      <td>56</td>\n",
              "      <td>1</td>\n",
              "      <td>1</td>\n",
              "      <td>120</td>\n",
              "      <td>236</td>\n",
              "      <td>0</td>\n",
              "      <td>1</td>\n",
              "      <td>178</td>\n",
              "      <td>0</td>\n",
              "      <td>0.8</td>\n",
              "      <td>2</td>\n",
              "      <td>0</td>\n",
              "      <td>2</td>\n",
              "      <td>1</td>\n",
              "    </tr>\n",
              "    <tr>\n",
              "      <th>4</th>\n",
              "      <td>57</td>\n",
              "      <td>0</td>\n",
              "      <td>0</td>\n",
              "      <td>120</td>\n",
              "      <td>354</td>\n",
              "      <td>0</td>\n",
              "      <td>1</td>\n",
              "      <td>163</td>\n",
              "      <td>1</td>\n",
              "      <td>0.6</td>\n",
              "      <td>2</td>\n",
              "      <td>0</td>\n",
              "      <td>2</td>\n",
              "      <td>1</td>\n",
              "    </tr>\n",
              "  </tbody>\n",
              "</table>\n",
              "</div>"
            ],
            "text/plain": [
              "   age  sex  cp  trestbps  chol  fbs  restecg  thalach  exang  oldpeak  slope  \\\n",
              "0   63    1   3       145   233    1        0      150      0      2.3      0   \n",
              "1   37    1   2       130   250    0        1      187      0      3.5      0   \n",
              "2   41    0   1       130   204    0        0      172      0      1.4      2   \n",
              "3   56    1   1       120   236    0        1      178      0      0.8      2   \n",
              "4   57    0   0       120   354    0        1      163      1      0.6      2   \n",
              "\n",
              "   ca  thal  target  \n",
              "0   0     1       1  \n",
              "1   0     2       1  \n",
              "2   0     2       1  \n",
              "3   0     2       1  \n",
              "4   0     2       1  "
            ]
          },
          "execution_count": 10,
          "metadata": {},
          "output_type": "execute_result"
        }
      ],
      "source": [
        "data.head()"
      ]
    },
    {
      "cell_type": "code",
      "execution_count": null,
      "metadata": {
        "id": "DK9TlPFx0JRM",
        "outputId": "2b6a6183-4a7e-4937-b202-ed0d829f2890"
      },
      "outputs": [
        {
          "name": "stderr",
          "output_type": "stream",
          "text": [
            "c:\\ProgramData\\Anaconda3\\lib\\site-packages\\seaborn\\_decorators.py:36: FutureWarning: Pass the following variable as a keyword arg: x. From version 0.12, the only valid positional argument will be `data`, and passing other arguments without an explicit keyword will result in an error or misinterpretation.\n",
            "  warnings.warn(\n"
          ]
        },
        {
          "data": {
            "text/plain": [
              "<AxesSubplot:xlabel='target', ylabel='count'>"
            ]
          },
          "execution_count": 11,
          "metadata": {},
          "output_type": "execute_result"
        },
        {
          "data": {
            "image/png": "[encoded data removed]",
            "text/plain": [
              "<Figure size 432x288 with 1 Axes>"
            ]
          },
          "metadata": {},
          "output_type": "display_data"
        }
      ],
      "source": [
        "sns.countplot(data['target'])"
      ]
    },
    {
      "cell_type": "markdown",
      "metadata": {
        "id": "rh3KbxKC0JRM"
      },
      "source": [
        "Our data is not perfectly balanced but also doesn't have a huge difference between the two classes that difference is reasonable"
      ]
    },
    {
      "cell_type": "markdown",
      "metadata": {
        "id": "qp3xkJWR0JRN"
      },
      "source": [
        "### Spliting into Train Test"
      ]
    },
    {
      "cell_type": "markdown",
      "metadata": {
        "id": "3SQMvbNG0JRN"
      },
      "source": [
        "data (train) is 70%\n",
        "test is 30%"
      ]
    },
    {
      "cell_type": "code",
      "execution_count": null,
      "metadata": {
        "id": "DKbYHgRL0JRN"
      },
      "outputs": [],
      "source": [
        "np.random.seed(123)\n",
        "test = data.sample(frac=0.30)\n",
        "idx = list(test.index)\n",
        "for i in idx:\n",
        "    data = data.drop(i)"
      ]
    },
    {
      "cell_type": "markdown",
      "metadata": {
        "id": "vK_XKefl0JRN"
      },
      "source": [
        "# Feature Selection"
      ]
    },
    {
      "cell_type": "markdown",
      "metadata": {
        "id": "OLdBvOpv0JRN"
      },
      "source": [
        "## Visualization"
      ]
    },
    {
      "cell_type": "markdown",
      "metadata": {
        "id": "1rsTZA_g0JRO"
      },
      "source": [
        "Distribution of each feature"
      ]
    },
    {
      "cell_type": "code",
      "execution_count": null,
      "metadata": {
        "id": "Ai-DoOZx0JRO",
        "outputId": "05a2210a-f41d-412f-cfb0-12b336167962"
      },
      "outputs": [
        {
          "data": {
            "image/png": "[encoded data removed]",
            "text/plain": [
              "<Figure size 1080x864 with 16 Axes>"
            ]
          },
          "metadata": {},
          "output_type": "display_data"
        }
      ],
      "source": [
        "features = data.drop('target',axis=1)\n",
        "target = data[['target']]\n",
        "fig, ax = plt.subplots(4, 4, figsize=(15, 12))\n",
        "for variable, subplot in zip(features, ax.flatten()):\n",
        "    g=sns.histplot(data[variable],bins=30, kde=True, ax=subplot)\n",
        "    g.lines[0].set_color('crimson')\n",
        "    g.axvline(x=data[variable].mean(), color='m', label='Mean', linestyle='--', linewidth=2)\n",
        "plt.tight_layout()"
      ]
    },
    {
      "cell_type": "markdown",
      "metadata": {
        "id": "zwZ-vSeC0JRO"
      },
      "source": [
        "#### From histogram we notice that features that have a reltively normal distribution and other are categories "
      ]
    },
    {
      "cell_type": "markdown",
      "metadata": {
        "id": "GbKd1FaC0JRO"
      },
      "source": [
        "Heatmap for get correlation between feature to ensure that there is no redundant features or highly correlated features"
      ]
    },
    {
      "cell_type": "code",
      "execution_count": null,
      "metadata": {
        "id": "q7FoNjFU0JRO",
        "outputId": "b31359ee-a38e-4bd0-bf7c-c5699a5bb04c"
      },
      "outputs": [
        {
          "data": {
            "text/plain": [
              "<AxesSubplot:>"
            ]
          },
          "execution_count": 14,
          "metadata": {},
          "output_type": "execute_result"
        },
        {
          "data": {
            "image/png": "[encoded data removed]",
            "text/plain": [
              "<Figure size 1080x1080 with 2 Axes>"
            ]
          },
          "metadata": {},
          "output_type": "display_data"
        }
      ],
      "source": [
        "plt.figure(figsize=(15,15))\n",
        "sns.heatmap(data.corr(), annot=True)"
      ]
    },
    {
      "cell_type": "code",
      "execution_count": null,
      "metadata": {
        "id": "bmGM_Nrt0JRO",
        "outputId": "c1d33803-8392-475b-b4ef-05b693bcd810"
      },
      "outputs": [
        {
          "data": {
            "text/plain": [
              "<matplotlib.legend.Legend at 0x1dbb2571160>"
            ]
          },
          "execution_count": 15,
          "metadata": {},
          "output_type": "execute_result"
        },
        {
          "data": {
            "image/png": "[encoded data removed]",
            "text/plain": [
              "<Figure size 432x288 with 1 Axes>"
            ]
          },
          "metadata": {},
          "output_type": "display_data"
        }
      ],
      "source": [
        "\n",
        "plt.scatter(x=data['age'].loc[data['target'] == 0],y=data['ca'].loc[data['target'] == 0],label = \"Target = 0\")\n",
        "plt.scatter(x=data['age'].loc[data['target'] == 1],y=data['ca'].loc[data['target'] == 1],label = \"Target = 1\")\n",
        "\n",
        "plt.xlabel(\"Age\")\n",
        "plt.ylabel(\"Ca\")\n",
        "plt.grid()\n",
        "plt.title(\"Age Vs Ca\")\n",
        "plt.legend()"
      ]
    },
    {
      "cell_type": "code",
      "execution_count": null,
      "metadata": {
        "id": "fXByV6M60JRP",
        "outputId": "65a29c6d-db2e-4b05-ce0b-30b09d626766"
      },
      "outputs": [
        {
          "data": {
            "application/vnd.plotly.v1+json": {
              "config": {
                "plotlyServerURL": "https://plot.ly"
              },
              "data": [
                {
                  "hovertemplate": "age=%{x}<br>ca=%{y}<br>target=%{marker.color}<extra></extra>",
                  "legendgroup": "",
                  "marker": {
                    "color": [
                      1,
                      1,
                      1,
                      1,
                      1,
                      1,
                      1,
                      1,
                      1,
                      1,
                      1,
                      1,
                      1,
                      1,
                      1,
                      1,
                      1,
                      1,
                      1,
                      1,
                      1,
                      1,
                      1,
                      1,
                      1,
                      1,
                      1,
                      1,
                      1,
                      1,
                      1,
                      1,
                      1,
                      1,
                      1,
                      1,
                      1,
                      1,
                      1,
                      1,
                      1,
                      1,
                      1,
                      1,
                      1,
                      1,
                      1,
                      1,
                      1,
                      1,
                      1,
                      1,
                      1,
                      1,
                      1,
                      1,
                      1,
                      1,
                      1,
                      1,
                      1,
                      1,
                      1,
                      1,
                      1,
                      1,
                      1,
                      1,
                      1,
                      1,
                      1,
                      1,
                      1,
                      1,
                      1,
                      1,
                      1,
                      1,
                      1,
                      1,
                      1,
                      1,
                      1,
                      1,
                      1,
                      1,
                      1,
                      1,
                      1,
                      1,
                      1,
                      1,
                      1,
                      1,
                      1,
                      1,
                      1,
                      1,
                      1,
                      1,
                      1,
                      1,
                      1,
                      1,
                      1,
                      1,
                      1,
                      1,
                      1,
                      1,
                      1,
                      1,
                      1,
                      1,
                      1,
                      1,
                      1,
                      1,
                      1,
                      0,
                      0,
                      0,
                      0,
                      0,
                      0,
                      0,
                      0,
                      0,
                      0,
                      0,
                      0,
                      0,
                      0,
                      0,
                      0,
                      0,
                      0,
                      0,
                      0,
                      0,
                      0,
                      0,
                      0,
                      0,
                      0,
                      0,
                      0,
                      0,
                      0,
                      0,
                      0,
                      0,
                      0,
                      0,
                      0,
                      0,
                      0,
                      0,
                      0,
                      0,
                      0,
                      0,
                      0,
                      0,
                      0,
                      0,
                      0,
                      0,
                      0,
                      0,
                      0,
                      0,
                      0,
                      0,
                      0,
                      0,
                      0,
                      0,
                      0,
                      0,
                      0,
                      0,
                      0,
                      0,
                      0,
                      0,
                      0,
                      0,
                      0,
                      0,
                      0,
                      0,
                      0,
                      0,
                      0,
                      0,
                      0,
                      0,
                      0,
                      0,
                      0,
                      0,
                      0,
                      0,
                      0,
                      0,
                      0,
                      0,
                      0,
                      0,
                      0,
                      0
                    ],
                    "coloraxis": "coloraxis",
                    "symbol": "circle"
                  },
                  "mode": "markers",
                  "name": "",
                  "scene": "scene",
                  "showlegend": false,
                  "type": "scatter3d",
                  "x": [
                    63,
                    37,
                    41,
                    56,
                    57,
                    56,
                    52,
                    57,
                    54,
                    49,
                    64,
                    58,
                    50,
                    58,
                    66,
                    43,
                    61,
                    71,
                    51,
                    65,
                    44,
                    54,
                    51,
                    54,
                    65,
                    65,
                    51,
                    53,
                    39,
                    52,
                    44,
                    47,
                    53,
                    53,
                    51,
                    66,
                    52,
                    48,
                    45,
                    34,
                    57,
                    71,
                    52,
                    41,
                    58,
                    35,
                    51,
                    45,
                    44,
                    62,
                    54,
                    51,
                    43,
                    51,
                    59,
                    58,
                    52,
                    42,
                    67,
                    68,
                    46,
                    54,
                    57,
                    52,
                    54,
                    62,
                    52,
                    43,
                    53,
                    42,
                    59,
                    42,
                    50,
                    69,
                    50,
                    50,
                    64,
                    57,
                    64,
                    43,
                    41,
                    56,
                    46,
                    46,
                    59,
                    41,
                    54,
                    34,
                    47,
                    67,
                    52,
                    74,
                    54,
                    49,
                    42,
                    41,
                    41,
                    49,
                    60,
                    62,
                    57,
                    64,
                    51,
                    43,
                    76,
                    70,
                    44,
                    60,
                    42,
                    71,
                    64,
                    66,
                    39,
                    47,
                    35,
                    58,
                    56,
                    38,
                    38,
                    67,
                    63,
                    53,
                    56,
                    58,
                    58,
                    60,
                    64,
                    43,
                    55,
                    65,
                    61,
                    58,
                    44,
                    60,
                    50,
                    41,
                    51,
                    54,
                    60,
                    60,
                    59,
                    62,
                    52,
                    59,
                    60,
                    49,
                    59,
                    57,
                    61,
                    39,
                    61,
                    56,
                    43,
                    63,
                    65,
                    48,
                    55,
                    65,
                    54,
                    70,
                    62,
                    35,
                    47,
                    55,
                    64,
                    70,
                    51,
                    58,
                    60,
                    77,
                    35,
                    70,
                    64,
                    57,
                    56,
                    56,
                    54,
                    69,
                    62,
                    67,
                    59,
                    45,
                    50,
                    62,
                    66,
                    54,
                    66,
                    49,
                    61,
                    67,
                    47,
                    52,
                    58,
                    57,
                    58,
                    61,
                    59,
                    40,
                    46,
                    59,
                    57,
                    55,
                    61,
                    58,
                    67,
                    44,
                    63,
                    59,
                    57,
                    68,
                    57,
                    57
                  ],
                  "y": [
                    0,
                    0,
                    0,
                    0,
                    0,
                    0,
                    0,
                    0,
                    0,
                    0,
                    0,
                    0,
                    0,
                    0,
                    0,
                    0,
                    0,
                    2,
                    0,
                    1,
                    0,
                    1,
                    1,
                    0,
                    0,
                    0,
                    1,
                    0,
                    0,
                    0,
                    0,
                    0,
                    0,
                    0,
                    0,
                    0,
                    1,
                    0,
                    0,
                    0,
                    1,
                    1,
                    0,
                    0,
                    0,
                    0,
                    0,
                    0,
                    0,
                    0,
                    0,
                    0,
                    0,
                    0,
                    0,
                    0,
                    0,
                    0,
                    0,
                    1,
                    0,
                    0,
                    0,
                    4,
                    1,
                    0,
                    3,
                    1,
                    3,
                    2,
                    0,
                    0,
                    0,
                    1,
                    0,
                    0,
                    0,
                    1,
                    0,
                    0,
                    0,
                    0,
                    0,
                    0,
                    0,
                    0,
                    0,
                    0,
                    0,
                    1,
                    0,
                    1,
                    1,
                    0,
                    0,
                    0,
                    0,
                    0,
                    0,
                    0,
                    0,
                    1,
                    0,
                    0,
                    0,
                    0,
                    1,
                    0,
                    0,
                    0,
                    0,
                    1,
                    0,
                    0,
                    0,
                    4,
                    0,
                    4,
                    4,
                    2,
                    1,
                    0,
                    1,
                    0,
                    2,
                    2,
                    0,
                    0,
                    1,
                    3,
                    0,
                    1,
                    1,
                    1,
                    1,
                    0,
                    0,
                    1,
                    2,
                    0,
                    0,
                    2,
                    1,
                    1,
                    2,
                    3,
                    1,
                    1,
                    1,
                    0,
                    0,
                    1,
                    0,
                    3,
                    1,
                    2,
                    0,
                    1,
                    1,
                    0,
                    1,
                    0,
                    0,
                    1,
                    1,
                    3,
                    0,
                    2,
                    2,
                    3,
                    0,
                    1,
                    2,
                    1,
                    1,
                    2,
                    1,
                    3,
                    3,
                    2,
                    0,
                    3,
                    0,
                    0,
                    2,
                    1,
                    1,
                    3,
                    2,
                    0,
                    1,
                    2,
                    1,
                    0,
                    2,
                    1,
                    1,
                    0,
                    2,
                    2,
                    1,
                    1,
                    1,
                    3,
                    0,
                    0,
                    2,
                    2,
                    0,
                    2,
                    1,
                    1
                  ],
                  "z": [
                    1,
                    1,
                    1,
                    1,
                    1,
                    1,
                    1,
                    1,
                    1,
                    1,
                    1,
                    1,
                    1,
                    1,
                    1,
                    1,
                    1,
                    1,
                    1,
                    1,
                    1,
                    1,
                    1,
                    1,
                    1,
                    1,
                    1,
                    1,
                    1,
                    1,
                    1,
                    1,
                    1,
                    1,
                    1,
                    1,
                    1,
                    1,
                    1,
                    1,
                    1,
                    1,
                    1,
                    1,
                    1,
                    1,
                    1,
                    1,
                    1,
                    1,
                    1,
                    1,
                    1,
                    1,
                    1,
                    1,
                    1,
                    1,
                    1,
                    1,
                    1,
                    1,
                    1,
                    1,
                    1,
                    1,
                    1,
                    1,
                    1,
                    1,
                    1,
                    1,
                    1,
                    1,
                    1,
                    1,
                    1,
                    1,
                    1,
                    1,
                    1,
                    1,
                    1,
                    1,
                    1,
                    1,
                    1,
                    1,
                    1,
                    1,
                    1,
                    1,
                    1,
                    1,
                    1,
                    1,
                    1,
                    1,
                    1,
                    1,
                    1,
                    1,
                    1,
                    1,
                    1,
                    1,
                    1,
                    1,
                    1,
                    1,
                    1,
                    1,
                    1,
                    1,
                    1,
                    1,
                    1,
                    1,
                    1,
                    0,
                    0,
                    0,
                    0,
                    0,
                    0,
                    0,
                    0,
                    0,
                    0,
                    0,
                    0,
                    0,
                    0,
                    0,
                    0,
                    0,
                    0,
                    0,
                    0,
                    0,
                    0,
                    0,
                    0,
                    0,
                    0,
                    0,
                    0,
                    0,
                    0,
                    0,
                    0,
                    0,
                    0,
                    0,
                    0,
                    0,
                    0,
                    0,
                    0,
                    0,
                    0,
                    0,
                    0,
                    0,
                    0,
                    0,
                    0,
                    0,
                    0,
                    0,
                    0,
                    0,
                    0,
                    0,
                    0,
                    0,
                    0,
                    0,
                    0,
                    0,
                    0,
                    0,
                    0,
                    0,
                    0,
                    0,
                    0,
                    0,
                    0,
                    0,
                    0,
                    0,
                    0,
                    0,
                    0,
                    0,
                    0,
                    0,
                    0,
                    0,
                    0,
                    0,
                    0,
                    0,
                    0,
                    0,
                    0,
                    0,
                    0,
                    0,
                    0,
                    0
                  ]
                }
              ],
              "layout": {
                "coloraxis": {
                  "colorbar": {
                    "title": {
                      "text": "target"
                    }
                  },
                  "colorscale": [
                    [
                      0,
                      "#0d0887"
                    ],
                    [
                      0.1111111111111111,
                      "#46039f"
                    ],
                    [
                      0.2222222222222222,
                      "#7201a8"
                    ],
                    [
                      0.3333333333333333,
                      "#9c179e"
                    ],
                    [
                      0.4444444444444444,
                      "#bd3786"
                    ],
                    [
                      0.5555555555555556,
                      "#d8576b"
                    ],
                    [
                      0.6666666666666666,
                      "#ed7953"
                    ],
                    [
                      0.7777777777777778,
                      "#fb9f3a"
                    ],
                    [
                      0.8888888888888888,
                      "#fdca26"
                    ],
                    [
                      1,
                      "#f0f921"
                    ]
                  ]
                },
                "legend": {
                  "tracegroupgap": 0
                },
                "margin": {
                  "b": 0,
                  "l": 0,
                  "r": 0,
                  "t": 0
                },
                "scene": {
                  "domain": {
                    "x": [
                      0,
                      1
                    ],
                    "y": [
                      0,
                      1
                    ]
                  },
                  "xaxis": {
                    "title": {
                      "text": "age"
                    }
                  },
                  "yaxis": {
                    "title": {
                      "text": "ca"
                    }
                  },
                  "zaxis": {
                    "title": {
                      "text": "target"
                    }
                  }
                },
                "template": {
                  "data": {
                    "bar": [
                      {
                        "error_x": {
                          "color": "#2a3f5f"
                        },
                        "error_y": {
                          "color": "#2a3f5f"
                        },
                        "marker": {
                          "line": {
                            "color": "#E5ECF6",
                            "width": 0.5
                          },
                          "pattern": {
                            "fillmode": "overlay",
                            "size": 10,
                            "solidity": 0.2
                          }
                        },
                        "type": "bar"
                      }
                    ],
                    "barpolar": [
                      {
                        "marker": {
                          "line": {
                            "color": "#E5ECF6",
                            "width": 0.5
                          },
                          "pattern": {
                            "fillmode": "overlay",
                            "size": 10,
                            "solidity": 0.2
                          }
                        },
                        "type": "barpolar"
                      }
                    ],
                    "carpet": [
                      {
                        "aaxis": {
                          "endlinecolor": "#2a3f5f",
                          "gridcolor": "white",
                          "linecolor": "white",
                          "minorgridcolor": "white",
                          "startlinecolor": "#2a3f5f"
                        },
                        "baxis": {
                          "endlinecolor": "#2a3f5f",
                          "gridcolor": "white",
                          "linecolor": "white",
                          "minorgridcolor": "white",
                          "startlinecolor": "#2a3f5f"
                        },
                        "type": "carpet"
                      }
                    ],
                    "choropleth": [
                      {
                        "colorbar": {
                          "outlinewidth": 0,
                          "ticks": ""
                        },
                        "type": "choropleth"
                      }
                    ],
                    "contour": [
                      {
                        "colorbar": {
                          "outlinewidth": 0,
                          "ticks": ""
                        },
                        "colorscale": [
                          [
                            0,
                            "#0d0887"
                          ],
                          [
                            0.1111111111111111,
                            "#46039f"
                          ],
                          [
                            0.2222222222222222,
                            "#7201a8"
                          ],
                          [
                            0.3333333333333333,
                            "#9c179e"
                          ],
                          [
                            0.4444444444444444,
                            "#bd3786"
                          ],
                          [
                            0.5555555555555556,
                            "#d8576b"
                          ],
                          [
                            0.6666666666666666,
                            "#ed7953"
                          ],
                          [
                            0.7777777777777778,
                            "#fb9f3a"
                          ],
                          [
                            0.8888888888888888,
                            "#fdca26"
                          ],
                          [
                            1,
                            "#f0f921"
                          ]
                        ],
                        "type": "contour"
                      }
                    ],
                    "contourcarpet": [
                      {
                        "colorbar": {
                          "outlinewidth": 0,
                          "ticks": ""
                        },
                        "type": "contourcarpet"
                      }
                    ],
                    "heatmap": [
                      {
                        "colorbar": {
                          "outlinewidth": 0,
                          "ticks": ""
                        },
                        "colorscale": [
                          [
                            0,
                            "#0d0887"
                          ],
                          [
                            0.1111111111111111,
                            "#46039f"
                          ],
                          [
                            0.2222222222222222,
                            "#7201a8"
                          ],
                          [
                            0.3333333333333333,
                            "#9c179e"
                          ],
                          [
                            0.4444444444444444,
                            "#bd3786"
                          ],
                          [
                            0.5555555555555556,
                            "#d8576b"
                          ],
                          [
                            0.6666666666666666,
                            "#ed7953"
                          ],
                          [
                            0.7777777777777778,
                            "#fb9f3a"
                          ],
                          [
                            0.8888888888888888,
                            "#fdca26"
                          ],
                          [
                            1,
                            "#f0f921"
                          ]
                        ],
                        "type": "heatmap"
                      }
                    ],
                    "heatmapgl": [
                      {
                        "colorbar": {
                          "outlinewidth": 0,
                          "ticks": ""
                        },
                        "colorscale": [
                          [
                            0,
                            "#0d0887"
                          ],
                          [
                            0.1111111111111111,
                            "#46039f"
                          ],
                          [
                            0.2222222222222222,
                            "#7201a8"
                          ],
                          [
                            0.3333333333333333,
                            "#9c179e"
                          ],
                          [
                            0.4444444444444444,
                            "#bd3786"
                          ],
                          [
                            0.5555555555555556,
                            "#d8576b"
                          ],
                          [
                            0.6666666666666666,
                            "#ed7953"
                          ],
                          [
                            0.7777777777777778,
                            "#fb9f3a"
                          ],
                          [
                            0.8888888888888888,
                            "#fdca26"
                          ],
                          [
                            1,
                            "#f0f921"
                          ]
                        ],
                        "type": "heatmapgl"
                      }
                    ],
                    "histogram": [
                      {
                        "marker": {
                          "pattern": {
                            "fillmode": "overlay",
                            "size": 10,
                            "solidity": 0.2
                          }
                        },
                        "type": "histogram"
                      }
                    ],
                    "histogram2d": [
                      {
                        "colorbar": {
                          "outlinewidth": 0,
                          "ticks": ""
                        },
                        "colorscale": [
                          [
                            0,
                            "#0d0887"
                          ],
                          [
                            0.1111111111111111,
                            "#46039f"
                          ],
                          [
                            0.2222222222222222,
                            "#7201a8"
                          ],
                          [
                            0.3333333333333333,
                            "#9c179e"
                          ],
                          [
                            0.4444444444444444,
                            "#bd3786"
                          ],
                          [
                            0.5555555555555556,
                            "#d8576b"
                          ],
                          [
                            0.6666666666666666,
                            "#ed7953"
                          ],
                          [
                            0.7777777777777778,
                            "#fb9f3a"
                          ],
                          [
                            0.8888888888888888,
                            "#fdca26"
                          ],
                          [
                            1,
                            "#f0f921"
                          ]
                        ],
                        "type": "histogram2d"
                      }
                    ],
                    "histogram2dcontour": [
                      {
                        "colorbar": {
                          "outlinewidth": 0,
                          "ticks": ""
                        },
                        "colorscale": [
                          [
                            0,
                            "#0d0887"
                          ],
                          [
                            0.1111111111111111,
                            "#46039f"
                          ],
                          [
                            0.2222222222222222,
                            "#7201a8"
                          ],
                          [
                            0.3333333333333333,
                            "#9c179e"
                          ],
                          [
                            0.4444444444444444,
                            "#bd3786"
                          ],
                          [
                            0.5555555555555556,
                            "#d8576b"
                          ],
                          [
                            0.6666666666666666,
                            "#ed7953"
                          ],
                          [
                            0.7777777777777778,
                            "#fb9f3a"
                          ],
                          [
                            0.8888888888888888,
                            "#fdca26"
                          ],
                          [
                            1,
                            "#f0f921"
                          ]
                        ],
                        "type": "histogram2dcontour"
                      }
                    ],
                    "mesh3d": [
                      {
                        "colorbar": {
                          "outlinewidth": 0,
                          "ticks": ""
                        },
                        "type": "mesh3d"
                      }
                    ],
                    "parcoords": [
                      {
                        "line": {
                          "colorbar": {
                            "outlinewidth": 0,
                            "ticks": ""
                          }
                        },
                        "type": "parcoords"
                      }
                    ],
                    "pie": [
                      {
                        "automargin": true,
                        "type": "pie"
                      }
                    ],
                    "scatter": [
                      {
                        "fillpattern": {
                          "fillmode": "overlay",
                          "size": 10,
                          "solidity": 0.2
                        },
                        "type": "scatter"
                      }
                    ],
                    "scatter3d": [
                      {
                        "line": {
                          "colorbar": {
                            "outlinewidth": 0,
                            "ticks": ""
                          }
                        },
                        "marker": {
                          "colorbar": {
                            "outlinewidth": 0,
                            "ticks": ""
                          }
                        },
                        "type": "scatter3d"
                      }
                    ],
                    "scattercarpet": [
                      {
                        "marker": {
                          "colorbar": {
                            "outlinewidth": 0,
                            "ticks": ""
                          }
                        },
                        "type": "scattercarpet"
                      }
                    ],
                    "scattergeo": [
                      {
                        "marker": {
                          "colorbar": {
                            "outlinewidth": 0,
                            "ticks": ""
                          }
                        },
                        "type": "scattergeo"
                      }
                    ],
                    "scattergl": [
                      {
                        "marker": {
                          "colorbar": {
                            "outlinewidth": 0,
                            "ticks": ""
                          }
                        },
                        "type": "scattergl"
                      }
                    ],
                    "scattermapbox": [
                      {
                        "marker": {
                          "colorbar": {
                            "outlinewidth": 0,
                            "ticks": ""
                          }
                        },
                        "type": "scattermapbox"
                      }
                    ],
                    "scatterpolar": [
                      {
                        "marker": {
                          "colorbar": {
                            "outlinewidth": 0,
                            "ticks": ""
                          }
                        },
                        "type": "scatterpolar"
                      }
                    ],
                    "scatterpolargl": [
                      {
                        "marker": {
                          "colorbar": {
                            "outlinewidth": 0,
                            "ticks": ""
                          }
                        },
                        "type": "scatterpolargl"
                      }
                    ],
                    "scatterternary": [
                      {
                        "marker": {
                          "colorbar": {
                            "outlinewidth": 0,
                            "ticks": ""
                          }
                        },
                        "type": "scatterternary"
                      }
                    ],
                    "surface": [
                      {
                        "colorbar": {
                          "outlinewidth": 0,
                          "ticks": ""
                        },
                        "colorscale": [
                          [
                            0,
                            "#0d0887"
                          ],
                          [
                            0.1111111111111111,
                            "#46039f"
                          ],
                          [
                            0.2222222222222222,
                            "#7201a8"
                          ],
                          [
                            0.3333333333333333,
                            "#9c179e"
                          ],
                          [
                            0.4444444444444444,
                            "#bd3786"
                          ],
                          [
                            0.5555555555555556,
                            "#d8576b"
                          ],
                          [
                            0.6666666666666666,
                            "#ed7953"
                          ],
                          [
                            0.7777777777777778,
                            "#fb9f3a"
                          ],
                          [
                            0.8888888888888888,
                            "#fdca26"
                          ],
                          [
                            1,
                            "#f0f921"
                          ]
                        ],
                        "type": "surface"
                      }
                    ],
                    "table": [
                      {
                        "cells": {
                          "fill": {
                            "color": "#EBF0F8"
                          },
                          "line": {
                            "color": "white"
                          }
                        },
                        "header": {
                          "fill": {
                            "color": "#C8D4E3"
                          },
                          "line": {
                            "color": "white"
                          }
                        },
                        "type": "table"
                      }
                    ]
                  },
                  "layout": {
                    "annotationdefaults": {
                      "arrowcolor": "#2a3f5f",
                      "arrowhead": 0,
                      "arrowwidth": 1
                    },
                    "autotypenumbers": "strict",
                    "coloraxis": {
                      "colorbar": {
                        "outlinewidth": 0,
                        "ticks": ""
                      }
                    },
                    "colorscale": {
                      "diverging": [
                        [
                          0,
                          "#8e0152"
                        ],
                        [
                          0.1,
                          "#c51b7d"
                        ],
                        [
                          0.2,
                          "#de77ae"
                        ],
                        [
                          0.3,
                          "#f1b6da"
                        ],
                        [
                          0.4,
                          "#fde0ef"
                        ],
                        [
                          0.5,
                          "#f7f7f7"
                        ],
                        [
                          0.6,
                          "#e6f5d0"
                        ],
                        [
                          0.7,
                          "#b8e186"
                        ],
                        [
                          0.8,
                          "#7fbc41"
                        ],
                        [
                          0.9,
                          "#4d9221"
                        ],
                        [
                          1,
                          "#276419"
                        ]
                      ],
                      "sequential": [
                        [
                          0,
                          "#0d0887"
                        ],
                        [
                          0.1111111111111111,
                          "#46039f"
                        ],
                        [
                          0.2222222222222222,
                          "#7201a8"
                        ],
                        [
                          0.3333333333333333,
                          "#9c179e"
                        ],
                        [
                          0.4444444444444444,
                          "#bd3786"
                        ],
                        [
                          0.5555555555555556,
                          "#d8576b"
                        ],
                        [
                          0.6666666666666666,
                          "#ed7953"
                        ],
                        [
                          0.7777777777777778,
                          "#fb9f3a"
                        ],
                        [
                          0.8888888888888888,
                          "#fdca26"
                        ],
                        [
                          1,
                          "#f0f921"
                        ]
                      ],
                      "sequentialminus": [
                        [
                          0,
                          "#0d0887"
                        ],
                        [
                          0.1111111111111111,
                          "#46039f"
                        ],
                        [
                          0.2222222222222222,
                          "#7201a8"
                        ],
                        [
                          0.3333333333333333,
                          "#9c179e"
                        ],
                        [
                          0.4444444444444444,
                          "#bd3786"
                        ],
                        [
                          0.5555555555555556,
                          "#d8576b"
                        ],
                        [
                          0.6666666666666666,
                          "#ed7953"
                        ],
                        [
                          0.7777777777777778,
                          "#fb9f3a"
                        ],
                        [
                          0.8888888888888888,
                          "#fdca26"
                        ],
                        [
                          1,
                          "#f0f921"
                        ]
                      ]
                    },
                    "colorway": [
                      "#636efa",
                      "#EF553B",
                      "#00cc96",
                      "#ab63fa",
                      "#FFA15A",
                      "#19d3f3",
                      "#FF6692",
                      "#B6E880",
                      "#FF97FF",
                      "#FECB52"
                    ],
                    "font": {
                      "color": "#2a3f5f"
                    },
                    "geo": {
                      "bgcolor": "white",
                      "lakecolor": "white",
                      "landcolor": "#E5ECF6",
                      "showlakes": true,
                      "showland": true,
                      "subunitcolor": "white"
                    },
                    "hoverlabel": {
                      "align": "left"
                    },
                    "hovermode": "closest",
                    "mapbox": {
                      "style": "light"
                    },
                    "paper_bgcolor": "white",
                    "plot_bgcolor": "#E5ECF6",
                    "polar": {
                      "angularaxis": {
                        "gridcolor": "white",
                        "linecolor": "white",
                        "ticks": ""
                      },
                      "bgcolor": "#E5ECF6",
                      "radialaxis": {
                        "gridcolor": "white",
                        "linecolor": "white",
                        "ticks": ""
                      }
                    },
                    "scene": {
                      "xaxis": {
                        "backgroundcolor": "#E5ECF6",
                        "gridcolor": "white",
                        "gridwidth": 2,
                        "linecolor": "white",
                        "showbackground": true,
                        "ticks": "",
                        "zerolinecolor": "white"
                      },
                      "yaxis": {
                        "backgroundcolor": "#E5ECF6",
                        "gridcolor": "white",
                        "gridwidth": 2,
                        "linecolor": "white",
                        "showbackground": true,
                        "ticks": "",
                        "zerolinecolor": "white"
                      },
                      "zaxis": {
                        "backgroundcolor": "#E5ECF6",
                        "gridcolor": "white",
                        "gridwidth": 2,
                        "linecolor": "white",
                        "showbackground": true,
                        "ticks": "",
                        "zerolinecolor": "white"
                      }
                    },
                    "shapedefaults": {
                      "line": {
                        "color": "#2a3f5f"
                      }
                    },
                    "ternary": {
                      "aaxis": {
                        "gridcolor": "white",
                        "linecolor": "white",
                        "ticks": ""
                      },
                      "baxis": {
                        "gridcolor": "white",
                        "linecolor": "white",
                        "ticks": ""
                      },
                      "bgcolor": "#E5ECF6",
                      "caxis": {
                        "gridcolor": "white",
                        "linecolor": "white",
                        "ticks": ""
                      }
                    },
                    "title": {
                      "x": 0.05
                    },
                    "xaxis": {
                      "automargin": true,
                      "gridcolor": "white",
                      "linecolor": "white",
                      "ticks": "",
                      "title": {
                        "standoff": 15
                      },
                      "zerolinecolor": "white",
                      "zerolinewidth": 2
                    },
                    "yaxis": {
                      "automargin": true,
                      "gridcolor": "white",
                      "linecolor": "white",
                      "ticks": "",
                      "title": {
                        "standoff": 15
                      },
                      "zerolinecolor": "white",
                      "zerolinewidth": 2
                    }
                  }
                }
              }
            }
          },
          "metadata": {},
          "output_type": "display_data"
        }
      ],
      "source": [
        "fig = px.scatter_3d(data, x='age', y='ca',z = 'target',color='target')\n",
        "fig.update_layout(margin=dict(l=0, r=0, b=0, t=0))\n",
        "fig.show()"
      ]
    },
    {
      "cell_type": "code",
      "execution_count": null,
      "metadata": {
        "id": "evtmzw6G0JRP",
        "outputId": "8593ae91-01a0-4235-aa01-5e8f619a2461"
      },
      "outputs": [
        {
          "data": {
            "text/plain": [
              "Text(0.5, 1.0, 'Age Vs Chol')"
            ]
          },
          "execution_count": 17,
          "metadata": {},
          "output_type": "execute_result"
        },
        {
          "data": {
            "image/png": "[encoded data removed]",
            "text/plain": [
              "<Figure size 432x288 with 1 Axes>"
            ]
          },
          "metadata": {},
          "output_type": "display_data"
        }
      ],
      "source": [
        "\n",
        "plt.scatter(x=data['age'].loc[data['target'] == 0],y=data['chol'].loc[data['target'] == 0],label = \"Target = 0\")\n",
        "plt.scatter(x=data['age'].loc[data['target'] == 1],y=data['chol'].loc[data['target'] == 1],label = \"Target = 1\")\n",
        "\n",
        "plt.xlabel(\"Age\")\n",
        "plt.ylabel(\"Chol\")\n",
        "plt.grid()\n",
        "plt.legend()\n",
        "plt.title(\"Age Vs Chol\")"
      ]
    },
    {
      "cell_type": "code",
      "execution_count": null,
      "metadata": {
        "id": "iMHyWXBU0JRP",
        "outputId": "cf135a94-3fef-45aa-e70e-4fceb84a90ce"
      },
      "outputs": [
        {
          "data": {
            "application/vnd.plotly.v1+json": {
              "config": {
                "plotlyServerURL": "https://plot.ly"
              },
              "data": [
                {
                  "hovertemplate": "age=%{x}<br>chol=%{y}<br>target=%{marker.color}<extra></extra>",
                  "legendgroup": "",
                  "marker": {
                    "color": [
                      1,
                      1,
                      1,
                      1,
                      1,
                      1,
                      1,
                      1,
                      1,
                      1,
                      1,
                      1,
                      1,
                      1,
                      1,
                      1,
                      1,
                      1,
                      1,
                      1,
                      1,
                      1,
                      1,
                      1,
                      1,
                      1,
                      1,
                      1,
                      1,
                      1,
                      1,
                      1,
                      1,
                      1,
                      1,
                      1,
                      1,
                      1,
                      1,
                      1,
                      1,
                      1,
                      1,
                      1,
                      1,
                      1,
                      1,
                      1,
                      1,
                      1,
                      1,
                      1,
                      1,
                      1,
                      1,
                      1,
                      1,
                      1,
                      1,
                      1,
                      1,
                      1,
                      1,
                      1,
                      1,
                      1,
                      1,
                      1,
                      1,
                      1,
                      1,
                      1,
                      1,
                      1,
                      1,
                      1,
                      1,
                      1,
                      1,
                      1,
                      1,
                      1,
                      1,
                      1,
                      1,
                      1,
                      1,
                      1,
                      1,
                      1,
                      1,
                      1,
                      1,
                      1,
                      1,
                      1,
                      1,
                      1,
                      1,
                      1,
                      1,
                      1,
                      1,
                      1,
                      1,
                      1,
                      1,
                      1,
                      1,
                      1,
                      1,
                      1,
                      1,
                      1,
                      1,
                      1,
                      1,
                      1,
                      1,
                      0,
                      0,
                      0,
                      0,
                      0,
                      0,
                      0,
                      0,
                      0,
                      0,
                      0,
                      0,
                      0,
                      0,
                      0,
                      0,
                      0,
                      0,
                      0,
                      0,
                      0,
                      0,
                      0,
                      0,
                      0,
                      0,
                      0,
                      0,
                      0,
                      0,
                      0,
                      0,
                      0,
                      0,
                      0,
                      0,
                      0,
                      0,
                      0,
                      0,
                      0,
                      0,
                      0,
                      0,
                      0,
                      0,
                      0,
                      0,
                      0,
                      0,
                      0,
                      0,
                      0,
                      0,
                      0,
                      0,
                      0,
                      0,
                      0,
                      0,
                      0,
                      0,
                      0,
                      0,
                      0,
                      0,
                      0,
                      0,
                      0,
                      0,
                      0,
                      0,
                      0,
                      0,
                      0,
                      0,
                      0,
                      0,
                      0,
                      0,
                      0,
                      0,
                      0,
                      0,
                      0,
                      0,
                      0,
                      0,
                      0,
                      0,
                      0,
                      0,
                      0
                    ],
                    "coloraxis": "coloraxis",
                    "symbol": "circle"
                  },
                  "mode": "markers",
                  "name": "",
                  "scene": "scene",
                  "showlegend": false,
                  "type": "scatter3d",
                  "x": [
                    63,
                    37,
                    41,
                    56,
                    57,
                    56,
                    52,
                    57,
                    54,
                    49,
                    64,
                    58,
                    50,
                    58,
                    66,
                    43,
                    61,
                    71,
                    51,
                    65,
                    44,
                    54,
                    51,
                    54,
                    65,
                    65,
                    51,
                    53,
                    39,
                    52,
                    44,
                    47,
                    53,
                    53,
                    51,
                    66,
                    52,
                    48,
                    45,
                    34,
                    57,
                    71,
                    52,
                    41,
                    58,
                    35,
                    51,
                    45,
                    44,
                    62,
                    54,
                    51,
                    43,
                    51,
                    59,
                    58,
                    52,
                    42,
                    67,
                    68,
                    46,
                    54,
                    57,
                    52,
                    54,
                    62,
                    52,
                    43,
                    53,
                    42,
                    59,
                    42,
                    50,
                    69,
                    50,
                    50,
                    64,
                    57,
                    64,
                    43,
                    41,
                    56,
                    46,
                    46,
                    59,
                    41,
                    54,
                    34,
                    47,
                    67,
                    52,
                    74,
                    54,
                    49,
                    42,
                    41,
                    41,
                    49,
                    60,
                    62,
                    57,
                    64,
                    51,
                    43,
                    76,
                    70,
                    44,
                    60,
                    42,
                    71,
                    64,
                    66,
                    39,
                    47,
                    35,
                    58,
                    56,
                    38,
                    38,
                    67,
                    63,
                    53,
                    56,
                    58,
                    58,
                    60,
                    64,
                    43,
                    55,
                    65,
                    61,
                    58,
                    44,
                    60,
                    50,
                    41,
                    51,
                    54,
                    60,
                    60,
                    59,
                    62,
                    52,
                    59,
                    60,
                    49,
                    59,
                    57,
                    61,
                    39,
                    61,
                    56,
                    43,
                    63,
                    65,
                    48,
                    55,
                    65,
                    54,
                    70,
                    62,
                    35,
                    47,
                    55,
                    64,
                    70,
                    51,
                    58,
                    60,
                    77,
                    35,
                    70,
                    64,
                    57,
                    56,
                    56,
                    54,
                    69,
                    62,
                    67,
                    59,
                    45,
                    50,
                    62,
                    66,
                    54,
                    66,
                    49,
                    61,
                    67,
                    47,
                    52,
                    58,
                    57,
                    58,
                    61,
                    59,
                    40,
                    46,
                    59,
                    57,
                    55,
                    61,
                    58,
                    67,
                    44,
                    63,
                    59,
                    57,
                    68,
                    57,
                    57
                  ],
                  "y": [
                    233,
                    250,
                    204,
                    236,
                    354,
                    294,
                    199,
                    168,
                    239,
                    266,
                    211,
                    283,
                    219,
                    340,
                    226,
                    247,
                    243,
                    302,
                    175,
                    417,
                    219,
                    273,
                    213,
                    232,
                    269,
                    360,
                    308,
                    264,
                    321,
                    325,
                    235,
                    257,
                    216,
                    234,
                    256,
                    302,
                    201,
                    222,
                    260,
                    182,
                    303,
                    265,
                    186,
                    203,
                    211,
                    183,
                    222,
                    234,
                    220,
                    209,
                    258,
                    261,
                    213,
                    245,
                    221,
                    240,
                    298,
                    265,
                    564,
                    277,
                    197,
                    214,
                    207,
                    223,
                    288,
                    394,
                    233,
                    315,
                    246,
                    244,
                    270,
                    240,
                    196,
                    234,
                    244,
                    254,
                    325,
                    126,
                    313,
                    211,
                    214,
                    193,
                    204,
                    243,
                    271,
                    268,
                    267,
                    210,
                    204,
                    277,
                    196,
                    269,
                    201,
                    271,
                    295,
                    235,
                    306,
                    269,
                    178,
                    208,
                    201,
                    263,
                    295,
                    303,
                    197,
                    245,
                    242,
                    240,
                    180,
                    149,
                    227,
                    278,
                    220,
                    253,
                    192,
                    220,
                    240,
                    175,
                    175,
                    229,
                    254,
                    203,
                    256,
                    284,
                    224,
                    230,
                    335,
                    177,
                    353,
                    225,
                    330,
                    230,
                    290,
                    253,
                    233,
                    172,
                    305,
                    188,
                    282,
                    185,
                    326,
                    267,
                    255,
                    239,
                    258,
                    188,
                    177,
                    229,
                    260,
                    219,
                    307,
                    249,
                    341,
                    330,
                    254,
                    256,
                    217,
                    282,
                    239,
                    174,
                    281,
                    198,
                    243,
                    289,
                    246,
                    322,
                    299,
                    300,
                    293,
                    304,
                    282,
                    269,
                    212,
                    274,
                    184,
                    409,
                    283,
                    254,
                    294,
                    299,
                    273,
                    309,
                    200,
                    244,
                    228,
                    206,
                    212,
                    149,
                    234,
                    237,
                    275,
                    212,
                    218,
                    261,
                    319,
                    166,
                    218,
                    223,
                    311,
                    204,
                    232,
                    205,
                    203,
                    318,
                    212,
                    169,
                    187,
                    176,
                    241,
                    193,
                    131,
                    236
                  ],
                  "z": [
                    1,
                    1,
                    1,
                    1,
                    1,
                    1,
                    1,
                    1,
                    1,
                    1,
                    1,
                    1,
                    1,
                    1,
                    1,
                    1,
                    1,
                    1,
                    1,
                    1,
                    1,
                    1,
                    1,
                    1,
                    1,
                    1,
                    1,
                    1,
                    1,
                    1,
                    1,
                    1,
                    1,
                    1,
                    1,
                    1,
                    1,
                    1,
                    1,
                    1,
                    1,
                    1,
                    1,
                    1,
                    1,
                    1,
                    1,
                    1,
                    1,
                    1,
                    1,
                    1,
                    1,
                    1,
                    1,
                    1,
                    1,
                    1,
                    1,
                    1,
                    1,
                    1,
                    1,
                    1,
                    1,
                    1,
                    1,
                    1,
                    1,
                    1,
                    1,
                    1,
                    1,
                    1,
                    1,
                    1,
                    1,
                    1,
                    1,
                    1,
                    1,
                    1,
                    1,
                    1,
                    1,
                    1,
                    1,
                    1,
                    1,
                    1,
                    1,
                    1,
                    1,
                    1,
                    1,
                    1,
                    1,
                    1,
                    1,
                    1,
                    1,
                    1,
                    1,
                    1,
                    1,
                    1,
                    1,
                    1,
                    1,
                    1,
                    1,
                    1,
                    1,
                    1,
                    1,
                    1,
                    1,
                    1,
                    1,
                    0,
                    0,
                    0,
                    0,
                    0,
                    0,
                    0,
                    0,
                    0,
                    0,
                    0,
                    0,
                    0,
                    0,
                    0,
                    0,
                    0,
                    0,
                    0,
                    0,
                    0,
                    0,
                    0,
                    0,
                    0,
                    0,
                    0,
                    0,
                    0,
                    0,
                    0,
                    0,
                    0,
                    0,
                    0,
                    0,
                    0,
                    0,
                    0,
                    0,
                    0,
                    0,
                    0,
                    0,
                    0,
                    0,
                    0,
                    0,
                    0,
                    0,
                    0,
                    0,
                    0,
                    0,
                    0,
                    0,
                    0,
                    0,
                    0,
                    0,
                    0,
                    0,
                    0,
                    0,
                    0,
                    0,
                    0,
                    0,
                    0,
                    0,
                    0,
                    0,
                    0,
                    0,
                    0,
                    0,
                    0,
                    0,
                    0,
                    0,
                    0,
                    0,
                    0,
                    0,
                    0,
                    0,
                    0,
                    0,
                    0,
                    0,
                    0,
                    0,
                    0
                  ]
                }
              ],
              "layout": {
                "coloraxis": {
                  "colorbar": {
                    "title": {
                      "text": "target"
                    }
                  },
                  "colorscale": [
                    [
                      0,
                      "#0d0887"
                    ],
                    [
                      0.1111111111111111,
                      "#46039f"
                    ],
                    [
                      0.2222222222222222,
                      "#7201a8"
                    ],
                    [
                      0.3333333333333333,
                      "#9c179e"
                    ],
                    [
                      0.4444444444444444,
                      "#bd3786"
                    ],
                    [
                      0.5555555555555556,
                      "#d8576b"
                    ],
                    [
                      0.6666666666666666,
                      "#ed7953"
                    ],
                    [
                      0.7777777777777778,
                      "#fb9f3a"
                    ],
                    [
                      0.8888888888888888,
                      "#fdca26"
                    ],
                    [
                      1,
                      "#f0f921"
                    ]
                  ]
                },
                "legend": {
                  "tracegroupgap": 0
                },
                "margin": {
                  "b": 0,
                  "l": 0,
                  "r": 0,
                  "t": 0
                },
                "scene": {
                  "domain": {
                    "x": [
                      0,
                      1
                    ],
                    "y": [
                      0,
                      1
                    ]
                  },
                  "xaxis": {
                    "title": {
                      "text": "age"
                    }
                  },
                  "yaxis": {
                    "title": {
                      "text": "chol"
                    }
                  },
                  "zaxis": {
                    "title": {
                      "text": "target"
                    }
                  }
                },
                "template": {
                  "data": {
                    "bar": [
                      {
                        "error_x": {
                          "color": "#2a3f5f"
                        },
                        "error_y": {
                          "color": "#2a3f5f"
                        },
                        "marker": {
                          "line": {
                            "color": "#E5ECF6",
                            "width": 0.5
                          },
                          "pattern": {
                            "fillmode": "overlay",
                            "size": 10,
                            "solidity": 0.2
                          }
                        },
                        "type": "bar"
                      }
                    ],
                    "barpolar": [
                      {
                        "marker": {
                          "line": {
                            "color": "#E5ECF6",
                            "width": 0.5
                          },
                          "pattern": {
                            "fillmode": "overlay",
                            "size": 10,
                            "solidity": 0.2
                          }
                        },
                        "type": "barpolar"
                      }
                    ],
                    "carpet": [
                      {
                        "aaxis": {
                          "endlinecolor": "#2a3f5f",
                          "gridcolor": "white",
                          "linecolor": "white",
                          "minorgridcolor": "white",
                          "startlinecolor": "#2a3f5f"
                        },
                        "baxis": {
                          "endlinecolor": "#2a3f5f",
                          "gridcolor": "white",
                          "linecolor": "white",
                          "minorgridcolor": "white",
                          "startlinecolor": "#2a3f5f"
                        },
                        "type": "carpet"
                      }
                    ],
                    "choropleth": [
                      {
                        "colorbar": {
                          "outlinewidth": 0,
                          "ticks": ""
                        },
                        "type": "choropleth"
                      }
                    ],
                    "contour": [
                      {
                        "colorbar": {
                          "outlinewidth": 0,
                          "ticks": ""
                        },
                        "colorscale": [
                          [
                            0,
                            "#0d0887"
                          ],
                          [
                            0.1111111111111111,
                            "#46039f"
                          ],
                          [
                            0.2222222222222222,
                            "#7201a8"
                          ],
                          [
                            0.3333333333333333,
                            "#9c179e"
                          ],
                          [
                            0.4444444444444444,
                            "#bd3786"
                          ],
                          [
                            0.5555555555555556,
                            "#d8576b"
                          ],
                          [
                            0.6666666666666666,
                            "#ed7953"
                          ],
                          [
                            0.7777777777777778,
                            "#fb9f3a"
                          ],
                          [
                            0.8888888888888888,
                            "#fdca26"
                          ],
                          [
                            1,
                            "#f0f921"
                          ]
                        ],
                        "type": "contour"
                      }
                    ],
                    "contourcarpet": [
                      {
                        "colorbar": {
                          "outlinewidth": 0,
                          "ticks": ""
                        },
                        "type": "contourcarpet"
                      }
                    ],
                    "heatmap": [
                      {
                        "colorbar": {
                          "outlinewidth": 0,
                          "ticks": ""
                        },
                        "colorscale": [
                          [
                            0,
                            "#0d0887"
                          ],
                          [
                            0.1111111111111111,
                            "#46039f"
                          ],
                          [
                            0.2222222222222222,
                            "#7201a8"
                          ],
                          [
                            0.3333333333333333,
                            "#9c179e"
                          ],
                          [
                            0.4444444444444444,
                            "#bd3786"
                          ],
                          [
                            0.5555555555555556,
                            "#d8576b"
                          ],
                          [
                            0.6666666666666666,
                            "#ed7953"
                          ],
                          [
                            0.7777777777777778,
                            "#fb9f3a"
                          ],
                          [
                            0.8888888888888888,
                            "#fdca26"
                          ],
                          [
                            1,
                            "#f0f921"
                          ]
                        ],
                        "type": "heatmap"
                      }
                    ],
                    "heatmapgl": [
                      {
                        "colorbar": {
                          "outlinewidth": 0,
                          "ticks": ""
                        },
                        "colorscale": [
                          [
                            0,
                            "#0d0887"
                          ],
                          [
                            0.1111111111111111,
                            "#46039f"
                          ],
                          [
                            0.2222222222222222,
                            "#7201a8"
                          ],
                          [
                            0.3333333333333333,
                            "#9c179e"
                          ],
                          [
                            0.4444444444444444,
                            "#bd3786"
                          ],
                          [
                            0.5555555555555556,
                            "#d8576b"
                          ],
                          [
                            0.6666666666666666,
                            "#ed7953"
                          ],
                          [
                            0.7777777777777778,
                            "#fb9f3a"
                          ],
                          [
                            0.8888888888888888,
                            "#fdca26"
                          ],
                          [
                            1,
                            "#f0f921"
                          ]
                        ],
                        "type": "heatmapgl"
                      }
                    ],
                    "histogram": [
                      {
                        "marker": {
                          "pattern": {
                            "fillmode": "overlay",
                            "size": 10,
                            "solidity": 0.2
                          }
                        },
                        "type": "histogram"
                      }
                    ],
                    "histogram2d": [
                      {
                        "colorbar": {
                          "outlinewidth": 0,
                          "ticks": ""
                        },
                        "colorscale": [
                          [
                            0,
                            "#0d0887"
                          ],
                          [
                            0.1111111111111111,
                            "#46039f"
                          ],
                          [
                            0.2222222222222222,
                            "#7201a8"
                          ],
                          [
                            0.3333333333333333,
                            "#9c179e"
                          ],
                          [
                            0.4444444444444444,
                            "#bd3786"
                          ],
                          [
                            0.5555555555555556,
                            "#d8576b"
                          ],
                          [
                            0.6666666666666666,
                            "#ed7953"
                          ],
                          [
                            0.7777777777777778,
                            "#fb9f3a"
                          ],
                          [
                            0.8888888888888888,
                            "#fdca26"
                          ],
                          [
                            1,
                            "#f0f921"
                          ]
                        ],
                        "type": "histogram2d"
                      }
                    ],
                    "histogram2dcontour": [
                      {
                        "colorbar": {
                          "outlinewidth": 0,
                          "ticks": ""
                        },
                        "colorscale": [
                          [
                            0,
                            "#0d0887"
                          ],
                          [
                            0.1111111111111111,
                            "#46039f"
                          ],
                          [
                            0.2222222222222222,
                            "#7201a8"
                          ],
                          [
                            0.3333333333333333,
                            "#9c179e"
                          ],
                          [
                            0.4444444444444444,
                            "#bd3786"
                          ],
                          [
                            0.5555555555555556,
                            "#d8576b"
                          ],
                          [
                            0.6666666666666666,
                            "#ed7953"
                          ],
                          [
                            0.7777777777777778,
                            "#fb9f3a"
                          ],
                          [
                            0.8888888888888888,
                            "#fdca26"
                          ],
                          [
                            1,
                            "#f0f921"
                          ]
                        ],
                        "type": "histogram2dcontour"
                      }
                    ],
                    "mesh3d": [
                      {
                        "colorbar": {
                          "outlinewidth": 0,
                          "ticks": ""
                        },
                        "type": "mesh3d"
                      }
                    ],
                    "parcoords": [
                      {
                        "line": {
                          "colorbar": {
                            "outlinewidth": 0,
                            "ticks": ""
                          }
                        },
                        "type": "parcoords"
                      }
                    ],
                    "pie": [
                      {
                        "automargin": true,
                        "type": "pie"
                      }
                    ],
                    "scatter": [
                      {
                        "fillpattern": {
                          "fillmode": "overlay",
                          "size": 10,
                          "solidity": 0.2
                        },
                        "type": "scatter"
                      }
                    ],
                    "scatter3d": [
                      {
                        "line": {
                          "colorbar": {
                            "outlinewidth": 0,
                            "ticks": ""
                          }
                        },
                        "marker": {
                          "colorbar": {
                            "outlinewidth": 0,
                            "ticks": ""
                          }
                        },
                        "type": "scatter3d"
                      }
                    ],
                    "scattercarpet": [
                      {
                        "marker": {
                          "colorbar": {
                            "outlinewidth": 0,
                            "ticks": ""
                          }
                        },
                        "type": "scattercarpet"
                      }
                    ],
                    "scattergeo": [
                      {
                        "marker": {
                          "colorbar": {
                            "outlinewidth": 0,
                            "ticks": ""
                          }
                        },
                        "type": "scattergeo"
                      }
                    ],
                    "scattergl": [
                      {
                        "marker": {
                          "colorbar": {
                            "outlinewidth": 0,
                            "ticks": ""
                          }
                        },
                        "type": "scattergl"
                      }
                    ],
                    "scattermapbox": [
                      {
                        "marker": {
                          "colorbar": {
                            "outlinewidth": 0,
                            "ticks": ""
                          }
                        },
                        "type": "scattermapbox"
                      }
                    ],
                    "scatterpolar": [
                      {
                        "marker": {
                          "colorbar": {
                            "outlinewidth": 0,
                            "ticks": ""
                          }
                        },
                        "type": "scatterpolar"
                      }
                    ],
                    "scatterpolargl": [
                      {
                        "marker": {
                          "colorbar": {
                            "outlinewidth": 0,
                            "ticks": ""
                          }
                        },
                        "type": "scatterpolargl"
                      }
                    ],
                    "scatterternary": [
                      {
                        "marker": {
                          "colorbar": {
                            "outlinewidth": 0,
                            "ticks": ""
                          }
                        },
                        "type": "scatterternary"
                      }
                    ],
                    "surface": [
                      {
                        "colorbar": {
                          "outlinewidth": 0,
                          "ticks": ""
                        },
                        "colorscale": [
                          [
                            0,
                            "#0d0887"
                          ],
                          [
                            0.1111111111111111,
                            "#46039f"
                          ],
                          [
                            0.2222222222222222,
                            "#7201a8"
                          ],
                          [
                            0.3333333333333333,
                            "#9c179e"
                          ],
                          [
                            0.4444444444444444,
                            "#bd3786"
                          ],
                          [
                            0.5555555555555556,
                            "#d8576b"
                          ],
                          [
                            0.6666666666666666,
                            "#ed7953"
                          ],
                          [
                            0.7777777777777778,
                            "#fb9f3a"
                          ],
                          [
                            0.8888888888888888,
                            "#fdca26"
                          ],
                          [
                            1,
                            "#f0f921"
                          ]
                        ],
                        "type": "surface"
                      }
                    ],
                    "table": [
                      {
                        "cells": {
                          "fill": {
                            "color": "#EBF0F8"
                          },
                          "line": {
                            "color": "white"
                          }
                        },
                        "header": {
                          "fill": {
                            "color": "#C8D4E3"
                          },
                          "line": {
                            "color": "white"
                          }
                        },
                        "type": "table"
                      }
                    ]
                  },
                  "layout": {
                    "annotationdefaults": {
                      "arrowcolor": "#2a3f5f",
                      "arrowhead": 0,
                      "arrowwidth": 1
                    },
                    "autotypenumbers": "strict",
                    "coloraxis": {
                      "colorbar": {
                        "outlinewidth": 0,
                        "ticks": ""
                      }
                    },
                    "colorscale": {
                      "diverging": [
                        [
                          0,
                          "#8e0152"
                        ],
                        [
                          0.1,
                          "#c51b7d"
                        ],
                        [
                          0.2,
                          "#de77ae"
                        ],
                        [
                          0.3,
                          "#f1b6da"
                        ],
                        [
                          0.4,
                          "#fde0ef"
                        ],
                        [
                          0.5,
                          "#f7f7f7"
                        ],
                        [
                          0.6,
                          "#e6f5d0"
                        ],
                        [
                          0.7,
                          "#b8e186"
                        ],
                        [
                          0.8,
                          "#7fbc41"
                        ],
                        [
                          0.9,
                          "#4d9221"
                        ],
                        [
                          1,
                          "#276419"
                        ]
                      ],
                      "sequential": [
                        [
                          0,
                          "#0d0887"
                        ],
                        [
                          0.1111111111111111,
                          "#46039f"
                        ],
                        [
                          0.2222222222222222,
                          "#7201a8"
                        ],
                        [
                          0.3333333333333333,
                          "#9c179e"
                        ],
                        [
                          0.4444444444444444,
                          "#bd3786"
                        ],
                        [
                          0.5555555555555556,
                          "#d8576b"
                        ],
                        [
                          0.6666666666666666,
                          "#ed7953"
                        ],
                        [
                          0.7777777777777778,
                          "#fb9f3a"
                        ],
                        [
                          0.8888888888888888,
                          "#fdca26"
                        ],
                        [
                          1,
                          "#f0f921"
                        ]
                      ],
                      "sequentialminus": [
                        [
                          0,
                          "#0d0887"
                        ],
                        [
                          0.1111111111111111,
                          "#46039f"
                        ],
                        [
                          0.2222222222222222,
                          "#7201a8"
                        ],
                        [
                          0.3333333333333333,
                          "#9c179e"
                        ],
                        [
                          0.4444444444444444,
                          "#bd3786"
                        ],
                        [
                          0.5555555555555556,
                          "#d8576b"
                        ],
                        [
                          0.6666666666666666,
                          "#ed7953"
                        ],
                        [
                          0.7777777777777778,
                          "#fb9f3a"
                        ],
                        [
                          0.8888888888888888,
                          "#fdca26"
                        ],
                        [
                          1,
                          "#f0f921"
                        ]
                      ]
                    },
                    "colorway": [
                      "#636efa",
                      "#EF553B",
                      "#00cc96",
                      "#ab63fa",
                      "#FFA15A",
                      "#19d3f3",
                      "#FF6692",
                      "#B6E880",
                      "#FF97FF",
                      "#FECB52"
                    ],
                    "font": {
                      "color": "#2a3f5f"
                    },
                    "geo": {
                      "bgcolor": "white",
                      "lakecolor": "white",
                      "landcolor": "#E5ECF6",
                      "showlakes": true,
                      "showland": true,
                      "subunitcolor": "white"
                    },
                    "hoverlabel": {
                      "align": "left"
                    },
                    "hovermode": "closest",
                    "mapbox": {
                      "style": "light"
                    },
                    "paper_bgcolor": "white",
                    "plot_bgcolor": "#E5ECF6",
                    "polar": {
                      "angularaxis": {
                        "gridcolor": "white",
                        "linecolor": "white",
                        "ticks": ""
                      },
                      "bgcolor": "#E5ECF6",
                      "radialaxis": {
                        "gridcolor": "white",
                        "linecolor": "white",
                        "ticks": ""
                      }
                    },
                    "scene": {
                      "xaxis": {
                        "backgroundcolor": "#E5ECF6",
                        "gridcolor": "white",
                        "gridwidth": 2,
                        "linecolor": "white",
                        "showbackground": true,
                        "ticks": "",
                        "zerolinecolor": "white"
                      },
                      "yaxis": {
                        "backgroundcolor": "#E5ECF6",
                        "gridcolor": "white",
                        "gridwidth": 2,
                        "linecolor": "white",
                        "showbackground": true,
                        "ticks": "",
                        "zerolinecolor": "white"
                      },
                      "zaxis": {
                        "backgroundcolor": "#E5ECF6",
                        "gridcolor": "white",
                        "gridwidth": 2,
                        "linecolor": "white",
                        "showbackground": true,
                        "ticks": "",
                        "zerolinecolor": "white"
                      }
                    },
                    "shapedefaults": {
                      "line": {
                        "color": "#2a3f5f"
                      }
                    },
                    "ternary": {
                      "aaxis": {
                        "gridcolor": "white",
                        "linecolor": "white",
                        "ticks": ""
                      },
                      "baxis": {
                        "gridcolor": "white",
                        "linecolor": "white",
                        "ticks": ""
                      },
                      "bgcolor": "#E5ECF6",
                      "caxis": {
                        "gridcolor": "white",
                        "linecolor": "white",
                        "ticks": ""
                      }
                    },
                    "title": {
                      "x": 0.05
                    },
                    "xaxis": {
                      "automargin": true,
                      "gridcolor": "white",
                      "linecolor": "white",
                      "ticks": "",
                      "title": {
                        "standoff": 15
                      },
                      "zerolinecolor": "white",
                      "zerolinewidth": 2
                    },
                    "yaxis": {
                      "automargin": true,
                      "gridcolor": "white",
                      "linecolor": "white",
                      "ticks": "",
                      "title": {
                        "standoff": 15
                      },
                      "zerolinecolor": "white",
                      "zerolinewidth": 2
                    }
                  }
                }
              }
            }
          },
          "metadata": {},
          "output_type": "display_data"
        }
      ],
      "source": [
        "fig = px.scatter_3d(data, x='age', y='chol',z = 'target',color='target')\n",
        "fig.update_layout(margin=dict(l=0, r=0, b=0, t=0))\n",
        "fig.show()"
      ]
    },
    {
      "cell_type": "code",
      "execution_count": null,
      "metadata": {
        "id": "BgfGbrII0JRP",
        "outputId": "f7463540-204e-4b06-fb4c-0d16ee017e62"
      },
      "outputs": [
        {
          "data": {
            "text/plain": [
              "Text(0.5, 1.0, 'Thalach Vs Trestbps')"
            ]
          },
          "execution_count": 19,
          "metadata": {},
          "output_type": "execute_result"
        },
        {
          "data": {
            "image/png": "[encoded data removed]",
            "text/plain": [
              "<Figure size 432x288 with 1 Axes>"
            ]
          },
          "metadata": {},
          "output_type": "display_data"
        }
      ],
      "source": [
        "# trestbps\n",
        "plt.scatter(x=data['thalach'].loc[data['target'] == 0],y=data['trestbps'].loc[data['target'] == 0],label = \"Target = 0\")\n",
        "plt.scatter(x=data['thalach'].loc[data['target'] == 1],y=data['trestbps'].loc[data['target'] == 1],label = \"Target = 1\")\n",
        "plt.xlabel(\"Thalach\")\n",
        "plt.ylabel(\"Trestbps\")\n",
        "plt.grid()\n",
        "plt.legend()\n",
        "plt.title(\"Thalach Vs Trestbps\")"
      ]
    },
    {
      "cell_type": "code",
      "execution_count": null,
      "metadata": {
        "id": "0cKqeQ2x0JRQ",
        "outputId": "df51916f-619b-48dd-f2c7-e73667825e79"
      },
      "outputs": [
        {
          "data": {
            "text/plain": [
              "Text(0.5, 1.0, 'Thalach Vs Cp')"
            ]
          },
          "execution_count": 20,
          "metadata": {},
          "output_type": "execute_result"
        },
        {
          "data": {
            "image/png": "[encoded data removed]",
            "text/plain": [
              "<Figure size 432x288 with 1 Axes>"
            ]
          },
          "metadata": {},
          "output_type": "display_data"
        }
      ],
      "source": [
        "# cp\n",
        "# plt.scatter(x=data['thalach'],y=data['cp'])\n",
        "plt.scatter(x=data['thalach'].loc[data['target'] == 0],y=data['cp'].loc[data['target'] == 0],label = \"Target = 0\")\n",
        "plt.scatter(x=data['thalach'].loc[data['target'] == 1],y=data['cp'].loc[data['target'] == 1],label = \"Target = 1\")\n",
        "\n",
        "plt.xlabel(\"Thalach\")\n",
        "plt.ylabel(\"Cp\")\n",
        "plt.grid()\n",
        "plt.legend()\n",
        "plt.title(\"Thalach Vs Cp\")"
      ]
    },
    {
      "cell_type": "code",
      "execution_count": null,
      "metadata": {
        "id": "XckR3YvL0JRQ",
        "outputId": "2884bd54-9fac-443b-a3ac-4c8e502b1f3b"
      },
      "outputs": [
        {
          "data": {
            "text/plain": [
              "Text(0.5, 1.0, 'Sex Vs Chol')"
            ]
          },
          "execution_count": 21,
          "metadata": {},
          "output_type": "execute_result"
        },
        {
          "data": {
            "image/png": "[encoded data removed]",
            "text/plain": [
              "<Figure size 432x288 with 1 Axes>"
            ]
          },
          "metadata": {},
          "output_type": "display_data"
        }
      ],
      "source": [
        "plt.scatter(x=data['sex'].loc[data['target'] == 1],y=data['chol'].loc[data['target'] == 1],label = \"Target = 1\")\n",
        "plt.scatter(x=data['sex'].loc[data['target'] == 0],y=data['chol'].loc[data['target'] == 0],label = \"Target = 0\")\n",
        "\n",
        "plt.xlabel(\"Sex\")\n",
        "plt.ylabel(\"Chol\")\n",
        "plt.legend()\n",
        "plt.grid()\n",
        "plt.title(\"Sex Vs Chol\")"
      ]
    },
    {
      "cell_type": "code",
      "execution_count": null,
      "metadata": {
        "id": "1V8Kmlrf0JRQ",
        "outputId": "ffae3d4d-f800-4d62-da39-e2ca6ce41d44"
      },
      "outputs": [
        {
          "data": {
            "application/vnd.plotly.v1+json": {
              "config": {
                "plotlyServerURL": "https://plot.ly"
              },
              "data": [
                {
                  "hovertemplate": "sex=%{x}<br>chol=%{y}<br>target=%{marker.color}<extra></extra>",
                  "legendgroup": "",
                  "marker": {
                    "color": [
                      1,
                      1,
                      1,
                      1,
                      1,
                      1,
                      1,
                      1,
                      1,
                      1,
                      1,
                      1,
                      1,
                      1,
                      1,
                      1,
                      1,
                      1,
                      1,
                      1,
                      1,
                      1,
                      1,
                      1,
                      1,
                      1,
                      1,
                      1,
                      1,
                      1,
                      1,
                      1,
                      1,
                      1,
                      1,
                      1,
                      1,
                      1,
                      1,
                      1,
                      1,
                      1,
                      1,
                      1,
                      1,
                      1,
                      1,
                      1,
                      1,
                      1,
                      1,
                      1,
                      1,
                      1,
                      1,
                      1,
                      1,
                      1,
                      1,
                      1,
                      1,
                      1,
                      1,
                      1,
                      1,
                      1,
                      1,
                      1,
                      1,
                      1,
                      1,
                      1,
                      1,
                      1,
                      1,
                      1,
                      1,
                      1,
                      1,
                      1,
                      1,
                      1,
                      1,
                      1,
                      1,
                      1,
                      1,
                      1,
                      1,
                      1,
                      1,
                      1,
                      1,
                      1,
                      1,
                      1,
                      1,
                      1,
                      1,
                      1,
                      1,
                      1,
                      1,
                      1,
                      1,
                      1,
                      1,
                      1,
                      1,
                      1,
                      1,
                      1,
                      1,
                      1,
                      1,
                      1,
                      1,
                      1,
                      1,
                      0,
                      0,
                      0,
                      0,
                      0,
                      0,
                      0,
                      0,
                      0,
                      0,
                      0,
                      0,
                      0,
                      0,
                      0,
                      0,
                      0,
                      0,
                      0,
                      0,
                      0,
                      0,
                      0,
                      0,
                      0,
                      0,
                      0,
                      0,
                      0,
                      0,
                      0,
                      0,
                      0,
                      0,
                      0,
                      0,
                      0,
                      0,
                      0,
                      0,
                      0,
                      0,
                      0,
                      0,
                      0,
                      0,
                      0,
                      0,
                      0,
                      0,
                      0,
                      0,
                      0,
                      0,
                      0,
                      0,
                      0,
                      0,
                      0,
                      0,
                      0,
                      0,
                      0,
                      0,
                      0,
                      0,
                      0,
                      0,
                      0,
                      0,
                      0,
                      0,
                      0,
                      0,
                      0,
                      0,
                      0,
                      0,
                      0,
                      0,
                      0,
                      0,
                      0,
                      0,
                      0,
                      0,
                      0,
                      0,
                      0,
                      0,
                      0,
                      0,
                      0
                    ],
                    "coloraxis": "coloraxis",
                    "symbol": "circle"
                  },
                  "mode": "markers",
                  "name": "",
                  "scene": "scene",
                  "showlegend": false,
                  "type": "scatter3d",
                  "x": [
                    1,
                    1,
                    0,
                    1,
                    0,
                    0,
                    1,
                    1,
                    1,
                    1,
                    1,
                    0,
                    0,
                    0,
                    0,
                    1,
                    1,
                    0,
                    1,
                    0,
                    1,
                    1,
                    1,
                    1,
                    0,
                    0,
                    0,
                    0,
                    1,
                    1,
                    1,
                    1,
                    0,
                    0,
                    0,
                    1,
                    1,
                    1,
                    1,
                    1,
                    0,
                    0,
                    1,
                    1,
                    1,
                    0,
                    1,
                    0,
                    1,
                    0,
                    1,
                    1,
                    0,
                    1,
                    1,
                    1,
                    1,
                    0,
                    0,
                    1,
                    1,
                    0,
                    1,
                    1,
                    0,
                    0,
                    1,
                    1,
                    1,
                    1,
                    1,
                    1,
                    1,
                    1,
                    0,
                    0,
                    0,
                    1,
                    0,
                    1,
                    1,
                    1,
                    0,
                    0,
                    1,
                    0,
                    0,
                    0,
                    1,
                    0,
                    0,
                    0,
                    0,
                    0,
                    1,
                    1,
                    0,
                    0,
                    0,
                    1,
                    1,
                    1,
                    0,
                    1,
                    0,
                    1,
                    0,
                    0,
                    1,
                    0,
                    1,
                    0,
                    0,
                    1,
                    1,
                    1,
                    1,
                    1,
                    1,
                    1,
                    1,
                    1,
                    1,
                    1,
                    1,
                    1,
                    1,
                    1,
                    1,
                    0,
                    0,
                    1,
                    1,
                    1,
                    1,
                    1,
                    0,
                    1,
                    1,
                    1,
                    1,
                    1,
                    1,
                    1,
                    0,
                    1,
                    1,
                    1,
                    1,
                    1,
                    0,
                    1,
                    0,
                    1,
                    1,
                    1,
                    1,
                    1,
                    1,
                    1,
                    1,
                    1,
                    1,
                    1,
                    1,
                    1,
                    1,
                    1,
                    1,
                    1,
                    1,
                    1,
                    1,
                    1,
                    1,
                    0,
                    1,
                    1,
                    0,
                    1,
                    1,
                    1,
                    1,
                    0,
                    0,
                    1,
                    1,
                    1,
                    1,
                    1,
                    1,
                    1,
                    1,
                    1,
                    0,
                    1,
                    1,
                    1,
                    1,
                    1,
                    1,
                    0,
                    1,
                    1,
                    1,
                    1,
                    1,
                    1,
                    0,
                    1,
                    1,
                    0
                  ],
                  "y": [
                    233,
                    250,
                    204,
                    236,
                    354,
                    294,
                    199,
                    168,
                    239,
                    266,
                    211,
                    283,
                    219,
                    340,
                    226,
                    247,
                    243,
                    302,
                    175,
                    417,
                    219,
                    273,
                    213,
                    232,
                    269,
                    360,
                    308,
                    264,
                    321,
                    325,
                    235,
                    257,
                    216,
                    234,
                    256,
                    302,
                    201,
                    222,
                    260,
                    182,
                    303,
                    265,
                    186,
                    203,
                    211,
                    183,
                    222,
                    234,
                    220,
                    209,
                    258,
                    261,
                    213,
                    245,
                    221,
                    240,
                    298,
                    265,
                    564,
                    277,
                    197,
                    214,
                    207,
                    223,
                    288,
                    394,
                    233,
                    315,
                    246,
                    244,
                    270,
                    240,
                    196,
                    234,
                    244,
                    254,
                    325,
                    126,
                    313,
                    211,
                    214,
                    193,
                    204,
                    243,
                    271,
                    268,
                    267,
                    210,
                    204,
                    277,
                    196,
                    269,
                    201,
                    271,
                    295,
                    235,
                    306,
                    269,
                    178,
                    208,
                    201,
                    263,
                    295,
                    303,
                    197,
                    245,
                    242,
                    240,
                    180,
                    149,
                    227,
                    278,
                    220,
                    253,
                    192,
                    220,
                    240,
                    175,
                    175,
                    229,
                    254,
                    203,
                    256,
                    284,
                    224,
                    230,
                    335,
                    177,
                    353,
                    225,
                    330,
                    230,
                    290,
                    253,
                    233,
                    172,
                    305,
                    188,
                    282,
                    185,
                    326,
                    267,
                    255,
                    239,
                    258,
                    188,
                    177,
                    229,
                    260,
                    219,
                    307,
                    249,
                    341,
                    330,
                    254,
                    256,
                    217,
                    282,
                    239,
                    174,
                    281,
                    198,
                    243,
                    289,
                    246,
                    322,
                    299,
                    300,
                    293,
                    304,
                    282,
                    269,
                    212,
                    274,
                    184,
                    409,
                    283,
                    254,
                    294,
                    299,
                    273,
                    309,
                    200,
                    244,
                    228,
                    206,
                    212,
                    149,
                    234,
                    237,
                    275,
                    212,
                    218,
                    261,
                    319,
                    166,
                    218,
                    223,
                    311,
                    204,
                    232,
                    205,
                    203,
                    318,
                    212,
                    169,
                    187,
                    176,
                    241,
                    193,
                    131,
                    236
                  ],
                  "z": [
                    1,
                    1,
                    1,
                    1,
                    1,
                    1,
                    1,
                    1,
                    1,
                    1,
                    1,
                    1,
                    1,
                    1,
                    1,
                    1,
                    1,
                    1,
                    1,
                    1,
                    1,
                    1,
                    1,
                    1,
                    1,
                    1,
                    1,
                    1,
                    1,
                    1,
                    1,
                    1,
                    1,
                    1,
                    1,
                    1,
                    1,
                    1,
                    1,
                    1,
                    1,
                    1,
                    1,
                    1,
                    1,
                    1,
                    1,
                    1,
                    1,
                    1,
                    1,
                    1,
                    1,
                    1,
                    1,
                    1,
                    1,
                    1,
                    1,
                    1,
                    1,
                    1,
                    1,
                    1,
                    1,
                    1,
                    1,
                    1,
                    1,
                    1,
                    1,
                    1,
                    1,
                    1,
                    1,
                    1,
                    1,
                    1,
                    1,
                    1,
                    1,
                    1,
                    1,
                    1,
                    1,
                    1,
                    1,
                    1,
                    1,
                    1,
                    1,
                    1,
                    1,
                    1,
                    1,
                    1,
                    1,
                    1,
                    1,
                    1,
                    1,
                    1,
                    1,
                    1,
                    1,
                    1,
                    1,
                    1,
                    1,
                    1,
                    1,
                    1,
                    1,
                    1,
                    1,
                    1,
                    1,
                    1,
                    1,
                    0,
                    0,
                    0,
                    0,
                    0,
                    0,
                    0,
                    0,
                    0,
                    0,
                    0,
                    0,
                    0,
                    0,
                    0,
                    0,
                    0,
                    0,
                    0,
                    0,
                    0,
                    0,
                    0,
                    0,
                    0,
                    0,
                    0,
                    0,
                    0,
                    0,
                    0,
                    0,
                    0,
                    0,
                    0,
                    0,
                    0,
                    0,
                    0,
                    0,
                    0,
                    0,
                    0,
                    0,
                    0,
                    0,
                    0,
                    0,
                    0,
                    0,
                    0,
                    0,
                    0,
                    0,
                    0,
                    0,
                    0,
                    0,
                    0,
                    0,
                    0,
                    0,
                    0,
                    0,
                    0,
                    0,
                    0,
                    0,
                    0,
                    0,
                    0,
                    0,
                    0,
                    0,
                    0,
                    0,
                    0,
                    0,
                    0,
                    0,
                    0,
                    0,
                    0,
                    0,
                    0,
                    0,
                    0,
                    0,
                    0,
                    0,
                    0,
                    0,
                    0
                  ]
                }
              ],
              "layout": {
                "coloraxis": {
                  "colorbar": {
                    "title": {
                      "text": "target"
                    }
                  },
                  "colorscale": [
                    [
                      0,
                      "#0d0887"
                    ],
                    [
                      0.1111111111111111,
                      "#46039f"
                    ],
                    [
                      0.2222222222222222,
                      "#7201a8"
                    ],
                    [
                      0.3333333333333333,
                      "#9c179e"
                    ],
                    [
                      0.4444444444444444,
                      "#bd3786"
                    ],
                    [
                      0.5555555555555556,
                      "#d8576b"
                    ],
                    [
                      0.6666666666666666,
                      "#ed7953"
                    ],
                    [
                      0.7777777777777778,
                      "#fb9f3a"
                    ],
                    [
                      0.8888888888888888,
                      "#fdca26"
                    ],
                    [
                      1,
                      "#f0f921"
                    ]
                  ]
                },
                "legend": {
                  "tracegroupgap": 0
                },
                "margin": {
                  "b": 0,
                  "l": 0,
                  "r": 0,
                  "t": 0
                },
                "scene": {
                  "domain": {
                    "x": [
                      0,
                      1
                    ],
                    "y": [
                      0,
                      1
                    ]
                  },
                  "xaxis": {
                    "title": {
                      "text": "sex"
                    }
                  },
                  "yaxis": {
                    "title": {
                      "text": "chol"
                    }
                  },
                  "zaxis": {
                    "title": {
                      "text": "target"
                    }
                  }
                },
                "template": {
                  "data": {
                    "bar": [
                      {
                        "error_x": {
                          "color": "#2a3f5f"
                        },
                        "error_y": {
                          "color": "#2a3f5f"
                        },
                        "marker": {
                          "line": {
                            "color": "#E5ECF6",
                            "width": 0.5
                          },
                          "pattern": {
                            "fillmode": "overlay",
                            "size": 10,
                            "solidity": 0.2
                          }
                        },
                        "type": "bar"
                      }
                    ],
                    "barpolar": [
                      {
                        "marker": {
                          "line": {
                            "color": "#E5ECF6",
                            "width": 0.5
                          },
                          "pattern": {
                            "fillmode": "overlay",
                            "size": 10,
                            "solidity": 0.2
                          }
                        },
                        "type": "barpolar"
                      }
                    ],
                    "carpet": [
                      {
                        "aaxis": {
                          "endlinecolor": "#2a3f5f",
                          "gridcolor": "white",
                          "linecolor": "white",
                          "minorgridcolor": "white",
                          "startlinecolor": "#2a3f5f"
                        },
                        "baxis": {
                          "endlinecolor": "#2a3f5f",
                          "gridcolor": "white",
                          "linecolor": "white",
                          "minorgridcolor": "white",
                          "startlinecolor": "#2a3f5f"
                        },
                        "type": "carpet"
                      }
                    ],
                    "choropleth": [
                      {
                        "colorbar": {
                          "outlinewidth": 0,
                          "ticks": ""
                        },
                        "type": "choropleth"
                      }
                    ],
                    "contour": [
                      {
                        "colorbar": {
                          "outlinewidth": 0,
                          "ticks": ""
                        },
                        "colorscale": [
                          [
                            0,
                            "#0d0887"
                          ],
                          [
                            0.1111111111111111,
                            "#46039f"
                          ],
                          [
                            0.2222222222222222,
                            "#7201a8"
                          ],
                          [
                            0.3333333333333333,
                            "#9c179e"
                          ],
                          [
                            0.4444444444444444,
                            "#bd3786"
                          ],
                          [
                            0.5555555555555556,
                            "#d8576b"
                          ],
                          [
                            0.6666666666666666,
                            "#ed7953"
                          ],
                          [
                            0.7777777777777778,
                            "#fb9f3a"
                          ],
                          [
                            0.8888888888888888,
                            "#fdca26"
                          ],
                          [
                            1,
                            "#f0f921"
                          ]
                        ],
                        "type": "contour"
                      }
                    ],
                    "contourcarpet": [
                      {
                        "colorbar": {
                          "outlinewidth": 0,
                          "ticks": ""
                        },
                        "type": "contourcarpet"
                      }
                    ],
                    "heatmap": [
                      {
                        "colorbar": {
                          "outlinewidth": 0,
                          "ticks": ""
                        },
                        "colorscale": [
                          [
                            0,
                            "#0d0887"
                          ],
                          [
                            0.1111111111111111,
                            "#46039f"
                          ],
                          [
                            0.2222222222222222,
                            "#7201a8"
                          ],
                          [
                            0.3333333333333333,
                            "#9c179e"
                          ],
                          [
                            0.4444444444444444,
                            "#bd3786"
                          ],
                          [
                            0.5555555555555556,
                            "#d8576b"
                          ],
                          [
                            0.6666666666666666,
                            "#ed7953"
                          ],
                          [
                            0.7777777777777778,
                            "#fb9f3a"
                          ],
                          [
                            0.8888888888888888,
                            "#fdca26"
                          ],
                          [
                            1,
                            "#f0f921"
                          ]
                        ],
                        "type": "heatmap"
                      }
                    ],
                    "heatmapgl": [
                      {
                        "colorbar": {
                          "outlinewidth": 0,
                          "ticks": ""
                        },
                        "colorscale": [
                          [
                            0,
                            "#0d0887"
                          ],
                          [
                            0.1111111111111111,
                            "#46039f"
                          ],
                          [
                            0.2222222222222222,
                            "#7201a8"
                          ],
                          [
                            0.3333333333333333,
                            "#9c179e"
                          ],
                          [
                            0.4444444444444444,
                            "#bd3786"
                          ],
                          [
                            0.5555555555555556,
                            "#d8576b"
                          ],
                          [
                            0.6666666666666666,
                            "#ed7953"
                          ],
                          [
                            0.7777777777777778,
                            "#fb9f3a"
                          ],
                          [
                            0.8888888888888888,
                            "#fdca26"
                          ],
                          [
                            1,
                            "#f0f921"
                          ]
                        ],
                        "type": "heatmapgl"
                      }
                    ],
                    "histogram": [
                      {
                        "marker": {
                          "pattern": {
                            "fillmode": "overlay",
                            "size": 10,
                            "solidity": 0.2
                          }
                        },
                        "type": "histogram"
                      }
                    ],
                    "histogram2d": [
                      {
                        "colorbar": {
                          "outlinewidth": 0,
                          "ticks": ""
                        },
                        "colorscale": [
                          [
                            0,
                            "#0d0887"
                          ],
                          [
                            0.1111111111111111,
                            "#46039f"
                          ],
                          [
                            0.2222222222222222,
                            "#7201a8"
                          ],
                          [
                            0.3333333333333333,
                            "#9c179e"
                          ],
                          [
                            0.4444444444444444,
                            "#bd3786"
                          ],
                          [
                            0.5555555555555556,
                            "#d8576b"
                          ],
                          [
                            0.6666666666666666,
                            "#ed7953"
                          ],
                          [
                            0.7777777777777778,
                            "#fb9f3a"
                          ],
                          [
                            0.8888888888888888,
                            "#fdca26"
                          ],
                          [
                            1,
                            "#f0f921"
                          ]
                        ],
                        "type": "histogram2d"
                      }
                    ],
                    "histogram2dcontour": [
                      {
                        "colorbar": {
                          "outlinewidth": 0,
                          "ticks": ""
                        },
                        "colorscale": [
                          [
                            0,
                            "#0d0887"
                          ],
                          [
                            0.1111111111111111,
                            "#46039f"
                          ],
                          [
                            0.2222222222222222,
                            "#7201a8"
                          ],
                          [
                            0.3333333333333333,
                            "#9c179e"
                          ],
                          [
                            0.4444444444444444,
                            "#bd3786"
                          ],
                          [
                            0.5555555555555556,
                            "#d8576b"
                          ],
                          [
                            0.6666666666666666,
                            "#ed7953"
                          ],
                          [
                            0.7777777777777778,
                            "#fb9f3a"
                          ],
                          [
                            0.8888888888888888,
                            "#fdca26"
                          ],
                          [
                            1,
                            "#f0f921"
                          ]
                        ],
                        "type": "histogram2dcontour"
                      }
                    ],
                    "mesh3d": [
                      {
                        "colorbar": {
                          "outlinewidth": 0,
                          "ticks": ""
                        },
                        "type": "mesh3d"
                      }
                    ],
                    "parcoords": [
                      {
                        "line": {
                          "colorbar": {
                            "outlinewidth": 0,
                            "ticks": ""
                          }
                        },
                        "type": "parcoords"
                      }
                    ],
                    "pie": [
                      {
                        "automargin": true,
                        "type": "pie"
                      }
                    ],
                    "scatter": [
                      {
                        "fillpattern": {
                          "fillmode": "overlay",
                          "size": 10,
                          "solidity": 0.2
                        },
                        "type": "scatter"
                      }
                    ],
                    "scatter3d": [
                      {
                        "line": {
                          "colorbar": {
                            "outlinewidth": 0,
                            "ticks": ""
                          }
                        },
                        "marker": {
                          "colorbar": {
                            "outlinewidth": 0,
                            "ticks": ""
                          }
                        },
                        "type": "scatter3d"
                      }
                    ],
                    "scattercarpet": [
                      {
                        "marker": {
                          "colorbar": {
                            "outlinewidth": 0,
                            "ticks": ""
                          }
                        },
                        "type": "scattercarpet"
                      }
                    ],
                    "scattergeo": [
                      {
                        "marker": {
                          "colorbar": {
                            "outlinewidth": 0,
                            "ticks": ""
                          }
                        },
                        "type": "scattergeo"
                      }
                    ],
                    "scattergl": [
                      {
                        "marker": {
                          "colorbar": {
                            "outlinewidth": 0,
                            "ticks": ""
                          }
                        },
                        "type": "scattergl"
                      }
                    ],
                    "scattermapbox": [
                      {
                        "marker": {
                          "colorbar": {
                            "outlinewidth": 0,
                            "ticks": ""
                          }
                        },
                        "type": "scattermapbox"
                      }
                    ],
                    "scatterpolar": [
                      {
                        "marker": {
                          "colorbar": {
                            "outlinewidth": 0,
                            "ticks": ""
                          }
                        },
                        "type": "scatterpolar"
                      }
                    ],
                    "scatterpolargl": [
                      {
                        "marker": {
                          "colorbar": {
                            "outlinewidth": 0,
                            "ticks": ""
                          }
                        },
                        "type": "scatterpolargl"
                      }
                    ],
                    "scatterternary": [
                      {
                        "marker": {
                          "colorbar": {
                            "outlinewidth": 0,
                            "ticks": ""
                          }
                        },
                        "type": "scatterternary"
                      }
                    ],
                    "surface": [
                      {
                        "colorbar": {
                          "outlinewidth": 0,
                          "ticks": ""
                        },
                        "colorscale": [
                          [
                            0,
                            "#0d0887"
                          ],
                          [
                            0.1111111111111111,
                            "#46039f"
                          ],
                          [
                            0.2222222222222222,
                            "#7201a8"
                          ],
                          [
                            0.3333333333333333,
                            "#9c179e"
                          ],
                          [
                            0.4444444444444444,
                            "#bd3786"
                          ],
                          [
                            0.5555555555555556,
                            "#d8576b"
                          ],
                          [
                            0.6666666666666666,
                            "#ed7953"
                          ],
                          [
                            0.7777777777777778,
                            "#fb9f3a"
                          ],
                          [
                            0.8888888888888888,
                            "#fdca26"
                          ],
                          [
                            1,
                            "#f0f921"
                          ]
                        ],
                        "type": "surface"
                      }
                    ],
                    "table": [
                      {
                        "cells": {
                          "fill": {
                            "color": "#EBF0F8"
                          },
                          "line": {
                            "color": "white"
                          }
                        },
                        "header": {
                          "fill": {
                            "color": "#C8D4E3"
                          },
                          "line": {
                            "color": "white"
                          }
                        },
                        "type": "table"
                      }
                    ]
                  },
                  "layout": {
                    "annotationdefaults": {
                      "arrowcolor": "#2a3f5f",
                      "arrowhead": 0,
                      "arrowwidth": 1
                    },
                    "autotypenumbers": "strict",
                    "coloraxis": {
                      "colorbar": {
                        "outlinewidth": 0,
                        "ticks": ""
                      }
                    },
                    "colorscale": {
                      "diverging": [
                        [
                          0,
                          "#8e0152"
                        ],
                        [
                          0.1,
                          "#c51b7d"
                        ],
                        [
                          0.2,
                          "#de77ae"
                        ],
                        [
                          0.3,
                          "#f1b6da"
                        ],
                        [
                          0.4,
                          "#fde0ef"
                        ],
                        [
                          0.5,
                          "#f7f7f7"
                        ],
                        [
                          0.6,
                          "#e6f5d0"
                        ],
                        [
                          0.7,
                          "#b8e186"
                        ],
                        [
                          0.8,
                          "#7fbc41"
                        ],
                        [
                          0.9,
                          "#4d9221"
                        ],
                        [
                          1,
                          "#276419"
                        ]
                      ],
                      "sequential": [
                        [
                          0,
                          "#0d0887"
                        ],
                        [
                          0.1111111111111111,
                          "#46039f"
                        ],
                        [
                          0.2222222222222222,
                          "#7201a8"
                        ],
                        [
                          0.3333333333333333,
                          "#9c179e"
                        ],
                        [
                          0.4444444444444444,
                          "#bd3786"
                        ],
                        [
                          0.5555555555555556,
                          "#d8576b"
                        ],
                        [
                          0.6666666666666666,
                          "#ed7953"
                        ],
                        [
                          0.7777777777777778,
                          "#fb9f3a"
                        ],
                        [
                          0.8888888888888888,
                          "#fdca26"
                        ],
                        [
                          1,
                          "#f0f921"
                        ]
                      ],
                      "sequentialminus": [
                        [
                          0,
                          "#0d0887"
                        ],
                        [
                          0.1111111111111111,
                          "#46039f"
                        ],
                        [
                          0.2222222222222222,
                          "#7201a8"
                        ],
                        [
                          0.3333333333333333,
                          "#9c179e"
                        ],
                        [
                          0.4444444444444444,
                          "#bd3786"
                        ],
                        [
                          0.5555555555555556,
                          "#d8576b"
                        ],
                        [
                          0.6666666666666666,
                          "#ed7953"
                        ],
                        [
                          0.7777777777777778,
                          "#fb9f3a"
                        ],
                        [
                          0.8888888888888888,
                          "#fdca26"
                        ],
                        [
                          1,
                          "#f0f921"
                        ]
                      ]
                    },
                    "colorway": [
                      "#636efa",
                      "#EF553B",
                      "#00cc96",
                      "#ab63fa",
                      "#FFA15A",
                      "#19d3f3",
                      "#FF6692",
                      "#B6E880",
                      "#FF97FF",
                      "#FECB52"
                    ],
                    "font": {
                      "color": "#2a3f5f"
                    },
                    "geo": {
                      "bgcolor": "white",
                      "lakecolor": "white",
                      "landcolor": "#E5ECF6",
                      "showlakes": true,
                      "showland": true,
                      "subunitcolor": "white"
                    },
                    "hoverlabel": {
                      "align": "left"
                    },
                    "hovermode": "closest",
                    "mapbox": {
                      "style": "light"
                    },
                    "paper_bgcolor": "white",
                    "plot_bgcolor": "#E5ECF6",
                    "polar": {
                      "angularaxis": {
                        "gridcolor": "white",
                        "linecolor": "white",
                        "ticks": ""
                      },
                      "bgcolor": "#E5ECF6",
                      "radialaxis": {
                        "gridcolor": "white",
                        "linecolor": "white",
                        "ticks": ""
                      }
                    },
                    "scene": {
                      "xaxis": {
                        "backgroundcolor": "#E5ECF6",
                        "gridcolor": "white",
                        "gridwidth": 2,
                        "linecolor": "white",
                        "showbackground": true,
                        "ticks": "",
                        "zerolinecolor": "white"
                      },
                      "yaxis": {
                        "backgroundcolor": "#E5ECF6",
                        "gridcolor": "white",
                        "gridwidth": 2,
                        "linecolor": "white",
                        "showbackground": true,
                        "ticks": "",
                        "zerolinecolor": "white"
                      },
                      "zaxis": {
                        "backgroundcolor": "#E5ECF6",
                        "gridcolor": "white",
                        "gridwidth": 2,
                        "linecolor": "white",
                        "showbackground": true,
                        "ticks": "",
                        "zerolinecolor": "white"
                      }
                    },
                    "shapedefaults": {
                      "line": {
                        "color": "#2a3f5f"
                      }
                    },
                    "ternary": {
                      "aaxis": {
                        "gridcolor": "white",
                        "linecolor": "white",
                        "ticks": ""
                      },
                      "baxis": {
                        "gridcolor": "white",
                        "linecolor": "white",
                        "ticks": ""
                      },
                      "bgcolor": "#E5ECF6",
                      "caxis": {
                        "gridcolor": "white",
                        "linecolor": "white",
                        "ticks": ""
                      }
                    },
                    "title": {
                      "x": 0.05
                    },
                    "xaxis": {
                      "automargin": true,
                      "gridcolor": "white",
                      "linecolor": "white",
                      "ticks": "",
                      "title": {
                        "standoff": 15
                      },
                      "zerolinecolor": "white",
                      "zerolinewidth": 2
                    },
                    "yaxis": {
                      "automargin": true,
                      "gridcolor": "white",
                      "linecolor": "white",
                      "ticks": "",
                      "title": {
                        "standoff": 15
                      },
                      "zerolinecolor": "white",
                      "zerolinewidth": 2
                    }
                  }
                }
              }
            }
          },
          "metadata": {},
          "output_type": "display_data"
        }
      ],
      "source": [
        "fig = px.scatter_3d(data, x='sex', y='chol',z = 'target',color='target')\n",
        "fig.update_layout(margin=dict(l=0, r=0, b=0, t=0))\n",
        "fig.show()"
      ]
    },
    {
      "cell_type": "code",
      "execution_count": null,
      "metadata": {
        "id": "nhpG-bBA0JRR",
        "outputId": "86f2aee4-bdcc-4c78-b778-921efbf6e636"
      },
      "outputs": [
        {
          "data": {
            "text/plain": [
              "Text(0.5, 1.0, 'Sex Vs Cp')"
            ]
          },
          "execution_count": 23,
          "metadata": {},
          "output_type": "execute_result"
        },
        {
          "data": {
            "image/png": "[encoded data removed]",
            "text/plain": [
              "<Figure size 432x288 with 1 Axes>"
            ]
          },
          "metadata": {},
          "output_type": "display_data"
        }
      ],
      "source": [
        "plt.scatter(x=data['sex'].loc[data['target'] == 1],y=data['cp'].loc[data['target'] == 1],label = \"Target = 1\")\n",
        "plt.scatter(x=data['sex'].loc[data['target'] == 0],y=data['cp'].loc[data['target'] == 0],label = \"Target = 0\")\n",
        "\n",
        "plt.xlabel(\"Sex\")\n",
        "plt.ylabel(\"Cp\")\n",
        "plt.legend()\n",
        "plt.grid()\n",
        "plt.title(\"Sex Vs Cp\")"
      ]
    },
    {
      "cell_type": "code",
      "execution_count": null,
      "metadata": {
        "id": "aIpxiTYh0JRR",
        "outputId": "0c27ed1b-26fc-4b71-ce2f-b1125aebb8c5"
      },
      "outputs": [
        {
          "data": {
            "application/vnd.plotly.v1+json": {
              "config": {
                "plotlyServerURL": "https://plot.ly"
              },
              "data": [
                {
                  "hovertemplate": "sex=%{x}<br>cp=%{y}<br>target=%{marker.color}<extra></extra>",
                  "legendgroup": "",
                  "marker": {
                    "color": [
                      1,
                      1,
                      1,
                      1,
                      1,
                      1,
                      1,
                      1,
                      1,
                      1,
                      1,
                      1,
                      1,
                      1,
                      1,
                      1,
                      1,
                      1,
                      1,
                      1,
                      1,
                      1,
                      1,
                      1,
                      1,
                      1,
                      1,
                      1,
                      1,
                      1,
                      1,
                      1,
                      1,
                      1,
                      1,
                      1,
                      1,
                      1,
                      1,
                      1,
                      1,
                      1,
                      1,
                      1,
                      1,
                      1,
                      1,
                      1,
                      1,
                      1,
                      1,
                      1,
                      1,
                      1,
                      1,
                      1,
                      1,
                      1,
                      1,
                      1,
                      1,
                      1,
                      1,
                      1,
                      1,
                      1,
                      1,
                      1,
                      1,
                      1,
                      1,
                      1,
                      1,
                      1,
                      1,
                      1,
                      1,
                      1,
                      1,
                      1,
                      1,
                      1,
                      1,
                      1,
                      1,
                      1,
                      1,
                      1,
                      1,
                      1,
                      1,
                      1,
                      1,
                      1,
                      1,
                      1,
                      1,
                      1,
                      1,
                      1,
                      1,
                      1,
                      1,
                      1,
                      1,
                      1,
                      1,
                      1,
                      1,
                      1,
                      1,
                      1,
                      1,
                      1,
                      1,
                      1,
                      1,
                      1,
                      1,
                      0,
                      0,
                      0,
                      0,
                      0,
                      0,
                      0,
                      0,
                      0,
                      0,
                      0,
                      0,
                      0,
                      0,
                      0,
                      0,
                      0,
                      0,
                      0,
                      0,
                      0,
                      0,
                      0,
                      0,
                      0,
                      0,
                      0,
                      0,
                      0,
                      0,
                      0,
                      0,
                      0,
                      0,
                      0,
                      0,
                      0,
                      0,
                      0,
                      0,
                      0,
                      0,
                      0,
                      0,
                      0,
                      0,
                      0,
                      0,
                      0,
                      0,
                      0,
                      0,
                      0,
                      0,
                      0,
                      0,
                      0,
                      0,
                      0,
                      0,
                      0,
                      0,
                      0,
                      0,
                      0,
                      0,
                      0,
                      0,
                      0,
                      0,
                      0,
                      0,
                      0,
                      0,
                      0,
                      0,
                      0,
                      0,
                      0,
                      0,
                      0,
                      0,
                      0,
                      0,
                      0,
                      0,
                      0,
                      0,
                      0,
                      0,
                      0,
                      0,
                      0
                    ],
                    "coloraxis": "coloraxis",
                    "symbol": "circle"
                  },
                  "mode": "markers",
                  "name": "",
                  "scene": "scene",
                  "showlegend": false,
                  "type": "scatter3d",
                  "x": [
                    1,
                    1,
                    0,
                    1,
                    0,
                    0,
                    1,
                    1,
                    1,
                    1,
                    1,
                    0,
                    0,
                    0,
                    0,
                    1,
                    1,
                    0,
                    1,
                    0,
                    1,
                    1,
                    1,
                    1,
                    0,
                    0,
                    0,
                    0,
                    1,
                    1,
                    1,
                    1,
                    0,
                    0,
                    0,
                    1,
                    1,
                    1,
                    1,
                    1,
                    0,
                    0,
                    1,
                    1,
                    1,
                    0,
                    1,
                    0,
                    1,
                    0,
                    1,
                    1,
                    0,
                    1,
                    1,
                    1,
                    1,
                    0,
                    0,
                    1,
                    1,
                    0,
                    1,
                    1,
                    0,
                    0,
                    1,
                    1,
                    1,
                    1,
                    1,
                    1,
                    1,
                    1,
                    0,
                    0,
                    0,
                    1,
                    0,
                    1,
                    1,
                    1,
                    0,
                    0,
                    1,
                    0,
                    0,
                    0,
                    1,
                    0,
                    0,
                    0,
                    0,
                    0,
                    1,
                    1,
                    0,
                    0,
                    0,
                    1,
                    1,
                    1,
                    0,
                    1,
                    0,
                    1,
                    0,
                    0,
                    1,
                    0,
                    1,
                    0,
                    0,
                    1,
                    1,
                    1,
                    1,
                    1,
                    1,
                    1,
                    1,
                    1,
                    1,
                    1,
                    1,
                    1,
                    1,
                    1,
                    1,
                    0,
                    0,
                    1,
                    1,
                    1,
                    1,
                    1,
                    0,
                    1,
                    1,
                    1,
                    1,
                    1,
                    1,
                    1,
                    0,
                    1,
                    1,
                    1,
                    1,
                    1,
                    0,
                    1,
                    0,
                    1,
                    1,
                    1,
                    1,
                    1,
                    1,
                    1,
                    1,
                    1,
                    1,
                    1,
                    1,
                    1,
                    1,
                    1,
                    1,
                    1,
                    1,
                    1,
                    1,
                    1,
                    1,
                    0,
                    1,
                    1,
                    0,
                    1,
                    1,
                    1,
                    1,
                    0,
                    0,
                    1,
                    1,
                    1,
                    1,
                    1,
                    1,
                    1,
                    1,
                    1,
                    0,
                    1,
                    1,
                    1,
                    1,
                    1,
                    1,
                    0,
                    1,
                    1,
                    1,
                    1,
                    1,
                    1,
                    0,
                    1,
                    1,
                    0
                  ],
                  "y": [
                    3,
                    2,
                    1,
                    1,
                    0,
                    1,
                    2,
                    2,
                    0,
                    1,
                    3,
                    3,
                    2,
                    2,
                    3,
                    0,
                    2,
                    1,
                    2,
                    2,
                    1,
                    2,
                    3,
                    2,
                    2,
                    2,
                    2,
                    0,
                    2,
                    1,
                    2,
                    2,
                    2,
                    0,
                    2,
                    0,
                    1,
                    0,
                    0,
                    3,
                    0,
                    2,
                    3,
                    1,
                    2,
                    0,
                    2,
                    1,
                    1,
                    0,
                    2,
                    0,
                    2,
                    2,
                    1,
                    2,
                    3,
                    0,
                    2,
                    2,
                    1,
                    2,
                    0,
                    2,
                    1,
                    0,
                    0,
                    2,
                    2,
                    3,
                    3,
                    2,
                    2,
                    3,
                    1,
                    0,
                    0,
                    2,
                    2,
                    0,
                    2,
                    3,
                    1,
                    0,
                    0,
                    2,
                    2,
                    1,
                    0,
                    2,
                    2,
                    1,
                    2,
                    1,
                    1,
                    1,
                    1,
                    0,
                    2,
                    1,
                    0,
                    0,
                    2,
                    0,
                    2,
                    1,
                    2,
                    3,
                    2,
                    0,
                    3,
                    2,
                    2,
                    2,
                    1,
                    1,
                    1,
                    2,
                    2,
                    0,
                    0,
                    0,
                    2,
                    1,
                    2,
                    0,
                    2,
                    0,
                    0,
                    0,
                    0,
                    2,
                    0,
                    0,
                    2,
                    0,
                    0,
                    0,
                    0,
                    2,
                    0,
                    0,
                    0,
                    0,
                    0,
                    2,
                    0,
                    2,
                    0,
                    0,
                    0,
                    0,
                    0,
                    0,
                    0,
                    0,
                    0,
                    3,
                    0,
                    0,
                    1,
                    0,
                    2,
                    0,
                    0,
                    0,
                    0,
                    0,
                    0,
                    0,
                    0,
                    2,
                    0,
                    0,
                    0,
                    0,
                    1,
                    2,
                    0,
                    0,
                    3,
                    0,
                    0,
                    0,
                    0,
                    0,
                    0,
                    2,
                    3,
                    0,
                    0,
                    0,
                    0,
                    1,
                    1,
                    0,
                    2,
                    0,
                    0,
                    3,
                    1,
                    0,
                    0,
                    0,
                    2,
                    0,
                    0,
                    0,
                    0,
                    0,
                    0,
                    1
                  ],
                  "z": [
                    1,
                    1,
                    1,
                    1,
                    1,
                    1,
                    1,
                    1,
                    1,
                    1,
                    1,
                    1,
                    1,
                    1,
                    1,
                    1,
                    1,
                    1,
                    1,
                    1,
                    1,
                    1,
                    1,
                    1,
                    1,
                    1,
                    1,
                    1,
                    1,
                    1,
                    1,
                    1,
                    1,
                    1,
                    1,
                    1,
                    1,
                    1,
                    1,
                    1,
                    1,
                    1,
                    1,
                    1,
                    1,
                    1,
                    1,
                    1,
                    1,
                    1,
                    1,
                    1,
                    1,
                    1,
                    1,
                    1,
                    1,
                    1,
                    1,
                    1,
                    1,
                    1,
                    1,
                    1,
                    1,
                    1,
                    1,
                    1,
                    1,
                    1,
                    1,
                    1,
                    1,
                    1,
                    1,
                    1,
                    1,
                    1,
                    1,
                    1,
                    1,
                    1,
                    1,
                    1,
                    1,
                    1,
                    1,
                    1,
                    1,
                    1,
                    1,
                    1,
                    1,
                    1,
                    1,
                    1,
                    1,
                    1,
                    1,
                    1,
                    1,
                    1,
                    1,
                    1,
                    1,
                    1,
                    1,
                    1,
                    1,
                    1,
                    1,
                    1,
                    1,
                    1,
                    1,
                    1,
                    1,
                    1,
                    1,
                    0,
                    0,
                    0,
                    0,
                    0,
                    0,
                    0,
                    0,
                    0,
                    0,
                    0,
                    0,
                    0,
                    0,
                    0,
                    0,
                    0,
                    0,
                    0,
                    0,
                    0,
                    0,
                    0,
                    0,
                    0,
                    0,
                    0,
                    0,
                    0,
                    0,
                    0,
                    0,
                    0,
                    0,
                    0,
                    0,
                    0,
                    0,
                    0,
                    0,
                    0,
                    0,
                    0,
                    0,
                    0,
                    0,
                    0,
                    0,
                    0,
                    0,
                    0,
                    0,
                    0,
                    0,
                    0,
                    0,
                    0,
                    0,
                    0,
                    0,
                    0,
                    0,
                    0,
                    0,
                    0,
                    0,
                    0,
                    0,
                    0,
                    0,
                    0,
                    0,
                    0,
                    0,
                    0,
                    0,
                    0,
                    0,
                    0,
                    0,
                    0,
                    0,
                    0,
                    0,
                    0,
                    0,
                    0,
                    0,
                    0,
                    0,
                    0,
                    0,
                    0
                  ]
                }
              ],
              "layout": {
                "coloraxis": {
                  "colorbar": {
                    "title": {
                      "text": "target"
                    }
                  },
                  "colorscale": [
                    [
                      0,
                      "#0d0887"
                    ],
                    [
                      0.1111111111111111,
                      "#46039f"
                    ],
                    [
                      0.2222222222222222,
                      "#7201a8"
                    ],
                    [
                      0.3333333333333333,
                      "#9c179e"
                    ],
                    [
                      0.4444444444444444,
                      "#bd3786"
                    ],
                    [
                      0.5555555555555556,
                      "#d8576b"
                    ],
                    [
                      0.6666666666666666,
                      "#ed7953"
                    ],
                    [
                      0.7777777777777778,
                      "#fb9f3a"
                    ],
                    [
                      0.8888888888888888,
                      "#fdca26"
                    ],
                    [
                      1,
                      "#f0f921"
                    ]
                  ]
                },
                "legend": {
                  "tracegroupgap": 0
                },
                "margin": {
                  "b": 0,
                  "l": 0,
                  "r": 0,
                  "t": 0
                },
                "scene": {
                  "domain": {
                    "x": [
                      0,
                      1
                    ],
                    "y": [
                      0,
                      1
                    ]
                  },
                  "xaxis": {
                    "title": {
                      "text": "sex"
                    }
                  },
                  "yaxis": {
                    "title": {
                      "text": "cp"
                    }
                  },
                  "zaxis": {
                    "title": {
                      "text": "target"
                    }
                  }
                },
                "template": {
                  "data": {
                    "bar": [
                      {
                        "error_x": {
                          "color": "#2a3f5f"
                        },
                        "error_y": {
                          "color": "#2a3f5f"
                        },
                        "marker": {
                          "line": {
                            "color": "#E5ECF6",
                            "width": 0.5
                          },
                          "pattern": {
                            "fillmode": "overlay",
                            "size": 10,
                            "solidity": 0.2
                          }
                        },
                        "type": "bar"
                      }
                    ],
                    "barpolar": [
                      {
                        "marker": {
                          "line": {
                            "color": "#E5ECF6",
                            "width": 0.5
                          },
                          "pattern": {
                            "fillmode": "overlay",
                            "size": 10,
                            "solidity": 0.2
                          }
                        },
                        "type": "barpolar"
                      }
                    ],
                    "carpet": [
                      {
                        "aaxis": {
                          "endlinecolor": "#2a3f5f",
                          "gridcolor": "white",
                          "linecolor": "white",
                          "minorgridcolor": "white",
                          "startlinecolor": "#2a3f5f"
                        },
                        "baxis": {
                          "endlinecolor": "#2a3f5f",
                          "gridcolor": "white",
                          "linecolor": "white",
                          "minorgridcolor": "white",
                          "startlinecolor": "#2a3f5f"
                        },
                        "type": "carpet"
                      }
                    ],
                    "choropleth": [
                      {
                        "colorbar": {
                          "outlinewidth": 0,
                          "ticks": ""
                        },
                        "type": "choropleth"
                      }
                    ],
                    "contour": [
                      {
                        "colorbar": {
                          "outlinewidth": 0,
                          "ticks": ""
                        },
                        "colorscale": [
                          [
                            0,
                            "#0d0887"
                          ],
                          [
                            0.1111111111111111,
                            "#46039f"
                          ],
                          [
                            0.2222222222222222,
                            "#7201a8"
                          ],
                          [
                            0.3333333333333333,
                            "#9c179e"
                          ],
                          [
                            0.4444444444444444,
                            "#bd3786"
                          ],
                          [
                            0.5555555555555556,
                            "#d8576b"
                          ],
                          [
                            0.6666666666666666,
                            "#ed7953"
                          ],
                          [
                            0.7777777777777778,
                            "#fb9f3a"
                          ],
                          [
                            0.8888888888888888,
                            "#fdca26"
                          ],
                          [
                            1,
                            "#f0f921"
                          ]
                        ],
                        "type": "contour"
                      }
                    ],
                    "contourcarpet": [
                      {
                        "colorbar": {
                          "outlinewidth": 0,
                          "ticks": ""
                        },
                        "type": "contourcarpet"
                      }
                    ],
                    "heatmap": [
                      {
                        "colorbar": {
                          "outlinewidth": 0,
                          "ticks": ""
                        },
                        "colorscale": [
                          [
                            0,
                            "#0d0887"
                          ],
                          [
                            0.1111111111111111,
                            "#46039f"
                          ],
                          [
                            0.2222222222222222,
                            "#7201a8"
                          ],
                          [
                            0.3333333333333333,
                            "#9c179e"
                          ],
                          [
                            0.4444444444444444,
                            "#bd3786"
                          ],
                          [
                            0.5555555555555556,
                            "#d8576b"
                          ],
                          [
                            0.6666666666666666,
                            "#ed7953"
                          ],
                          [
                            0.7777777777777778,
                            "#fb9f3a"
                          ],
                          [
                            0.8888888888888888,
                            "#fdca26"
                          ],
                          [
                            1,
                            "#f0f921"
                          ]
                        ],
                        "type": "heatmap"
                      }
                    ],
                    "heatmapgl": [
                      {
                        "colorbar": {
                          "outlinewidth": 0,
                          "ticks": ""
                        },
                        "colorscale": [
                          [
                            0,
                            "#0d0887"
                          ],
                          [
                            0.1111111111111111,
                            "#46039f"
                          ],
                          [
                            0.2222222222222222,
                            "#7201a8"
                          ],
                          [
                            0.3333333333333333,
                            "#9c179e"
                          ],
                          [
                            0.4444444444444444,
                            "#bd3786"
                          ],
                          [
                            0.5555555555555556,
                            "#d8576b"
                          ],
                          [
                            0.6666666666666666,
                            "#ed7953"
                          ],
                          [
                            0.7777777777777778,
                            "#fb9f3a"
                          ],
                          [
                            0.8888888888888888,
                            "#fdca26"
                          ],
                          [
                            1,
                            "#f0f921"
                          ]
                        ],
                        "type": "heatmapgl"
                      }
                    ],
                    "histogram": [
                      {
                        "marker": {
                          "pattern": {
                            "fillmode": "overlay",
                            "size": 10,
                            "solidity": 0.2
                          }
                        },
                        "type": "histogram"
                      }
                    ],
                    "histogram2d": [
                      {
                        "colorbar": {
                          "outlinewidth": 0,
                          "ticks": ""
                        },
                        "colorscale": [
                          [
                            0,
                            "#0d0887"
                          ],
                          [
                            0.1111111111111111,
                            "#46039f"
                          ],
                          [
                            0.2222222222222222,
                            "#7201a8"
                          ],
                          [
                            0.3333333333333333,
                            "#9c179e"
                          ],
                          [
                            0.4444444444444444,
                            "#bd3786"
                          ],
                          [
                            0.5555555555555556,
                            "#d8576b"
                          ],
                          [
                            0.6666666666666666,
                            "#ed7953"
                          ],
                          [
                            0.7777777777777778,
                            "#fb9f3a"
                          ],
                          [
                            0.8888888888888888,
                            "#fdca26"
                          ],
                          [
                            1,
                            "#f0f921"
                          ]
                        ],
                        "type": "histogram2d"
                      }
                    ],
                    "histogram2dcontour": [
                      {
                        "colorbar": {
                          "outlinewidth": 0,
                          "ticks": ""
                        },
                        "colorscale": [
                          [
                            0,
                            "#0d0887"
                          ],
                          [
                            0.1111111111111111,
                            "#46039f"
                          ],
                          [
                            0.2222222222222222,
                            "#7201a8"
                          ],
                          [
                            0.3333333333333333,
                            "#9c179e"
                          ],
                          [
                            0.4444444444444444,
                            "#bd3786"
                          ],
                          [
                            0.5555555555555556,
                            "#d8576b"
                          ],
                          [
                            0.6666666666666666,
                            "#ed7953"
                          ],
                          [
                            0.7777777777777778,
                            "#fb9f3a"
                          ],
                          [
                            0.8888888888888888,
                            "#fdca26"
                          ],
                          [
                            1,
                            "#f0f921"
                          ]
                        ],
                        "type": "histogram2dcontour"
                      }
                    ],
                    "mesh3d": [
                      {
                        "colorbar": {
                          "outlinewidth": 0,
                          "ticks": ""
                        },
                        "type": "mesh3d"
                      }
                    ],
                    "parcoords": [
                      {
                        "line": {
                          "colorbar": {
                            "outlinewidth": 0,
                            "ticks": ""
                          }
                        },
                        "type": "parcoords"
                      }
                    ],
                    "pie": [
                      {
                        "automargin": true,
                        "type": "pie"
                      }
                    ],
                    "scatter": [
                      {
                        "fillpattern": {
                          "fillmode": "overlay",
                          "size": 10,
                          "solidity": 0.2
                        },
                        "type": "scatter"
                      }
                    ],
                    "scatter3d": [
                      {
                        "line": {
                          "colorbar": {
                            "outlinewidth": 0,
                            "ticks": ""
                          }
                        },
                        "marker": {
                          "colorbar": {
                            "outlinewidth": 0,
                            "ticks": ""
                          }
                        },
                        "type": "scatter3d"
                      }
                    ],
                    "scattercarpet": [
                      {
                        "marker": {
                          "colorbar": {
                            "outlinewidth": 0,
                            "ticks": ""
                          }
                        },
                        "type": "scattercarpet"
                      }
                    ],
                    "scattergeo": [
                      {
                        "marker": {
                          "colorbar": {
                            "outlinewidth": 0,
                            "ticks": ""
                          }
                        },
                        "type": "scattergeo"
                      }
                    ],
                    "scattergl": [
                      {
                        "marker": {
                          "colorbar": {
                            "outlinewidth": 0,
                            "ticks": ""
                          }
                        },
                        "type": "scattergl"
                      }
                    ],
                    "scattermapbox": [
                      {
                        "marker": {
                          "colorbar": {
                            "outlinewidth": 0,
                            "ticks": ""
                          }
                        },
                        "type": "scattermapbox"
                      }
                    ],
                    "scatterpolar": [
                      {
                        "marker": {
                          "colorbar": {
                            "outlinewidth": 0,
                            "ticks": ""
                          }
                        },
                        "type": "scatterpolar"
                      }
                    ],
                    "scatterpolargl": [
                      {
                        "marker": {
                          "colorbar": {
                            "outlinewidth": 0,
                            "ticks": ""
                          }
                        },
                        "type": "scatterpolargl"
                      }
                    ],
                    "scatterternary": [
                      {
                        "marker": {
                          "colorbar": {
                            "outlinewidth": 0,
                            "ticks": ""
                          }
                        },
                        "type": "scatterternary"
                      }
                    ],
                    "surface": [
                      {
                        "colorbar": {
                          "outlinewidth": 0,
                          "ticks": ""
                        },
                        "colorscale": [
                          [
                            0,
                            "#0d0887"
                          ],
                          [
                            0.1111111111111111,
                            "#46039f"
                          ],
                          [
                            0.2222222222222222,
                            "#7201a8"
                          ],
                          [
                            0.3333333333333333,
                            "#9c179e"
                          ],
                          [
                            0.4444444444444444,
                            "#bd3786"
                          ],
                          [
                            0.5555555555555556,
                            "#d8576b"
                          ],
                          [
                            0.6666666666666666,
                            "#ed7953"
                          ],
                          [
                            0.7777777777777778,
                            "#fb9f3a"
                          ],
                          [
                            0.8888888888888888,
                            "#fdca26"
                          ],
                          [
                            1,
                            "#f0f921"
                          ]
                        ],
                        "type": "surface"
                      }
                    ],
                    "table": [
                      {
                        "cells": {
                          "fill": {
                            "color": "#EBF0F8"
                          },
                          "line": {
                            "color": "white"
                          }
                        },
                        "header": {
                          "fill": {
                            "color": "#C8D4E3"
                          },
                          "line": {
                            "color": "white"
                          }
                        },
                        "type": "table"
                      }
                    ]
                  },
                  "layout": {
                    "annotationdefaults": {
                      "arrowcolor": "#2a3f5f",
                      "arrowhead": 0,
                      "arrowwidth": 1
                    },
                    "autotypenumbers": "strict",
                    "coloraxis": {
                      "colorbar": {
                        "outlinewidth": 0,
                        "ticks": ""
                      }
                    },
                    "colorscale": {
                      "diverging": [
                        [
                          0,
                          "#8e0152"
                        ],
                        [
                          0.1,
                          "#c51b7d"
                        ],
                        [
                          0.2,
                          "#de77ae"
                        ],
                        [
                          0.3,
                          "#f1b6da"
                        ],
                        [
                          0.4,
                          "#fde0ef"
                        ],
                        [
                          0.5,
                          "#f7f7f7"
                        ],
                        [
                          0.6,
                          "#e6f5d0"
                        ],
                        [
                          0.7,
                          "#b8e186"
                        ],
                        [
                          0.8,
                          "#7fbc41"
                        ],
                        [
                          0.9,
                          "#4d9221"
                        ],
                        [
                          1,
                          "#276419"
                        ]
                      ],
                      "sequential": [
                        [
                          0,
                          "#0d0887"
                        ],
                        [
                          0.1111111111111111,
                          "#46039f"
                        ],
                        [
                          0.2222222222222222,
                          "#7201a8"
                        ],
                        [
                          0.3333333333333333,
                          "#9c179e"
                        ],
                        [
                          0.4444444444444444,
                          "#bd3786"
                        ],
                        [
                          0.5555555555555556,
                          "#d8576b"
                        ],
                        [
                          0.6666666666666666,
                          "#ed7953"
                        ],
                        [
                          0.7777777777777778,
                          "#fb9f3a"
                        ],
                        [
                          0.8888888888888888,
                          "#fdca26"
                        ],
                        [
                          1,
                          "#f0f921"
                        ]
                      ],
                      "sequentialminus": [
                        [
                          0,
                          "#0d0887"
                        ],
                        [
                          0.1111111111111111,
                          "#46039f"
                        ],
                        [
                          0.2222222222222222,
                          "#7201a8"
                        ],
                        [
                          0.3333333333333333,
                          "#9c179e"
                        ],
                        [
                          0.4444444444444444,
                          "#bd3786"
                        ],
                        [
                          0.5555555555555556,
                          "#d8576b"
                        ],
                        [
                          0.6666666666666666,
                          "#ed7953"
                        ],
                        [
                          0.7777777777777778,
                          "#fb9f3a"
                        ],
                        [
                          0.8888888888888888,
                          "#fdca26"
                        ],
                        [
                          1,
                          "#f0f921"
                        ]
                      ]
                    },
                    "colorway": [
                      "#636efa",
                      "#EF553B",
                      "#00cc96",
                      "#ab63fa",
                      "#FFA15A",
                      "#19d3f3",
                      "#FF6692",
                      "#B6E880",
                      "#FF97FF",
                      "#FECB52"
                    ],
                    "font": {
                      "color": "#2a3f5f"
                    },
                    "geo": {
                      "bgcolor": "white",
                      "lakecolor": "white",
                      "landcolor": "#E5ECF6",
                      "showlakes": true,
                      "showland": true,
                      "subunitcolor": "white"
                    },
                    "hoverlabel": {
                      "align": "left"
                    },
                    "hovermode": "closest",
                    "mapbox": {
                      "style": "light"
                    },
                    "paper_bgcolor": "white",
                    "plot_bgcolor": "#E5ECF6",
                    "polar": {
                      "angularaxis": {
                        "gridcolor": "white",
                        "linecolor": "white",
                        "ticks": ""
                      },
                      "bgcolor": "#E5ECF6",
                      "radialaxis": {
                        "gridcolor": "white",
                        "linecolor": "white",
                        "ticks": ""
                      }
                    },
                    "scene": {
                      "xaxis": {
                        "backgroundcolor": "#E5ECF6",
                        "gridcolor": "white",
                        "gridwidth": 2,
                        "linecolor": "white",
                        "showbackground": true,
                        "ticks": "",
                        "zerolinecolor": "white"
                      },
                      "yaxis": {
                        "backgroundcolor": "#E5ECF6",
                        "gridcolor": "white",
                        "gridwidth": 2,
                        "linecolor": "white",
                        "showbackground": true,
                        "ticks": "",
                        "zerolinecolor": "white"
                      },
                      "zaxis": {
                        "backgroundcolor": "#E5ECF6",
                        "gridcolor": "white",
                        "gridwidth": 2,
                        "linecolor": "white",
                        "showbackground": true,
                        "ticks": "",
                        "zerolinecolor": "white"
                      }
                    },
                    "shapedefaults": {
                      "line": {
                        "color": "#2a3f5f"
                      }
                    },
                    "ternary": {
                      "aaxis": {
                        "gridcolor": "white",
                        "linecolor": "white",
                        "ticks": ""
                      },
                      "baxis": {
                        "gridcolor": "white",
                        "linecolor": "white",
                        "ticks": ""
                      },
                      "bgcolor": "#E5ECF6",
                      "caxis": {
                        "gridcolor": "white",
                        "linecolor": "white",
                        "ticks": ""
                      }
                    },
                    "title": {
                      "x": 0.05
                    },
                    "xaxis": {
                      "automargin": true,
                      "gridcolor": "white",
                      "linecolor": "white",
                      "ticks": "",
                      "title": {
                        "standoff": 15
                      },
                      "zerolinecolor": "white",
                      "zerolinewidth": 2
                    },
                    "yaxis": {
                      "automargin": true,
                      "gridcolor": "white",
                      "linecolor": "white",
                      "ticks": "",
                      "title": {
                        "standoff": 15
                      },
                      "zerolinecolor": "white",
                      "zerolinewidth": 2
                    }
                  }
                }
              }
            }
          },
          "metadata": {},
          "output_type": "display_data"
        }
      ],
      "source": [
        "fig = px.scatter_3d(data, x='sex', y='cp',z = 'target',color='target')\n",
        "fig.update_layout(margin=dict(l=0, r=0, b=0, t=0))\n",
        "fig.show()"
      ]
    },
    {
      "cell_type": "markdown",
      "metadata": {
        "id": "yTAO4FN60JRR"
      },
      "source": [
        "using 3D Graphs give better interpretation for the data \n",
        "most features are linearly separable so we will loop over all feature combination to get best TWO "
      ]
    },
    {
      "cell_type": "markdown",
      "metadata": {
        "id": "sNYg_Qxq0JRR"
      },
      "source": [
        "## Results"
      ]
    },
    {
      "cell_type": "markdown",
      "metadata": {
        "id": "WXPdujM90JRR"
      },
      "source": [
        "#### Logistic Regressin Model without any type of normallization just selecting two features (all possible combinations) and get best accuracy of these two features"
      ]
    },
    {
      "cell_type": "code",
      "execution_count": null,
      "metadata": {
        "id": "7fO6bZef0JRS",
        "outputId": "659a7177-0127-44dc-8550-da7bad9f4a52"
      },
      "outputs": [
        {
          "name": "stdout",
          "output_type": "stream",
          "text": [
            "\u001b[35mLogistic Regression Info. of age and sex:- \n",
            "\u001b[30mBias = 0.0001384927434636151\n",
            "\u001b[30mWeight_0 = 0.002921679567876305\n",
            "\u001b[30mWeight_1 = -0.0001976281125687083\n",
            "\u001b[30mCost/Loss = 0.6896436056523332\n",
            "\u001b[30mNumber of Iterations = 43\n",
            "\u001b[36mTrain Accuracy = 0.5613207547169812\n",
            "\u001b[36mTest Accuracy = 0.5054945054945055\n",
            "\u001b[35mLogistic Regression Info. of age and cp:- \n",
            "\u001b[30mBias = 0.0010529173797236787\n",
            "\u001b[30mWeight_0 = 0.0027809690367313514\n",
            "\u001b[30mWeight_1 = 0.012471391740048425\n",
            "\u001b[30mCost/Loss = 0.6865340991419397\n",
            "\u001b[30mNumber of Iterations = 500\n",
            "\u001b[36mTrain Accuracy = 0.5613207547169812\n",
            "\u001b[36mTest Accuracy = 0.5054945054945055\n",
            "\u001b[35mLogistic Regression Info. of age and trestbps:- \n",
            "\u001b[30mBias = 0.00042829226641997157\n",
            "\u001b[30mWeight_0 = -0.019863526931215167\n",
            "\u001b[30mWeight_1 = 0.009841764567226156\n",
            "\u001b[30mCost/Loss = 0.6766916321641927\n",
            "\u001b[30mNumber of Iterations = 500\n",
            "\u001b[36mTrain Accuracy = 0.5566037735849056\n",
            "\u001b[36mTest Accuracy = 0.5054945054945055\n",
            "\u001b[35mLogistic Regression Info. of age and chol:- \n",
            "\u001b[30mBias = 0.00048686760929284744\n",
            "\u001b[30mWeight_0 = -0.017451373981177083\n",
            "\u001b[30mWeight_1 = 0.004668272145773497\n",
            "\u001b[30mCost/Loss = 0.6776834466946348\n",
            "\u001b[30mNumber of Iterations = 500\n",
            "\u001b[36mTrain Accuracy = 0.5660377358490566\n",
            "\u001b[36mTest Accuracy = 0.42857142857142855\n",
            "\u001b[35mLogistic Regression Info. of age and fbs:- \n",
            "\u001b[30mBias = 0.0001341355989000035\n",
            "\u001b[30mWeight_0 = 0.002903063511749944\n",
            "\u001b[30mWeight_1 = 2.004764390972211e-05\n",
            "\u001b[30mCost/Loss = 0.6896556895216696\n",
            "\u001b[30mNumber of Iterations = 41\n",
            "\u001b[36mTrain Accuracy = 0.5613207547169812\n",
            "\u001b[36mTest Accuracy = 0.5054945054945055\n",
            "\u001b[35mLogistic Regression Info. of age and restecg:- \n",
            "\u001b[30mBias = 0.00013628231921973536\n",
            "\u001b[30mWeight_0 = 0.0029107751262038408\n",
            "\u001b[30mWeight_1 = 0.00017713508282884706\n",
            "\u001b[30mCost/Loss = 0.6896485410872035\n",
            "\u001b[30mNumber of Iterations = 42\n",
            "\u001b[36mTrain Accuracy = 0.5613207547169812\n",
            "\u001b[36mTest Accuracy = 0.5054945054945055\n",
            "\u001b[35mLogistic Regression Info. of age and thalach:- \n",
            "\u001b[30mBias = -0.0006656214397770929\n",
            "\u001b[30mWeight_0 = -0.04688905832242723\n",
            "\u001b[30mWeight_1 = 0.019175279412339433\n",
            "\u001b[30mCost/Loss = 0.6111710949730986\n",
            "\u001b[30mNumber of Iterations = 500\n",
            "\u001b[36mTrain Accuracy = 0.6415094339622641\n",
            "\u001b[36mTest Accuracy = 0.6813186813186813\n",
            "\u001b[35mLogistic Regression Info. of age and exang:- \n",
            "\u001b[30mBias = 0.0001574925029178674\n",
            "\u001b[30mWeight_0 = 0.0029720367462793846\n",
            "\u001b[30mWeight_1 = -0.0004426652509827108\n",
            "\u001b[30mCost/Loss = 0.6896120082836773\n",
            "\u001b[30mNumber of Iterations = 52\n",
            "\u001b[36mTrain Accuracy = 0.5613207547169812\n",
            "\u001b[36mTest Accuracy = 0.5054945054945055\n",
            "\u001b[35mLogistic Regression Info. of age and oldpeak:- \n",
            "\u001b[30mBias = 0.0010615621238695759\n",
            "\u001b[30mWeight_0 = 0.0031737187264736177\n",
            "\u001b[30mWeight_1 = -0.009717086034067837\n",
            "\u001b[30mCost/Loss = 0.6877325049978072\n",
            "\u001b[30mNumber of Iterations = 500\n",
            "\u001b[36mTrain Accuracy = 0.5613207547169812\n",
            "\u001b[36mTest Accuracy = 0.5054945054945055\n",
            "\u001b[35mLogistic Regression Info. of age and slope:- \n",
            "\u001b[30mBias = 0.0010544589414146935\n",
            "\u001b[30mWeight_0 = 0.0028561167273544437\n",
            "\u001b[30mWeight_1 = 0.005990263515848611\n",
            "\u001b[30mCost/Loss = 0.6889231031974278\n",
            "\u001b[30mNumber of Iterations = 500\n",
            "\u001b[36mTrain Accuracy = 0.5613207547169812\n",
            "\u001b[36mTest Accuracy = 0.5054945054945055\n",
            "\u001b[35mLogistic Regression Info. of age and ca:- \n",
            "\u001b[30mBias = 0.0010603200866322778\n",
            "\u001b[30mWeight_0 = 0.003117838914887609\n",
            "\u001b[30mWeight_1 = -0.00887905352146598\n",
            "\u001b[30mCost/Loss = 0.6880479632071507\n",
            "\u001b[30mNumber of Iterations = 500\n",
            "\u001b[36mTrain Accuracy = 0.5613207547169812\n",
            "\u001b[36mTest Accuracy = 0.5054945054945055\n",
            "\u001b[35mLogistic Regression Info. of age and thal:- \n",
            "\u001b[30mBias = 0.0001428256121862706\n",
            "\u001b[30mWeight_0 = 0.002938986750876833\n",
            "\u001b[30mWeight_1 = -0.0001814489169271879\n",
            "\u001b[30mCost/Loss = 0.6896411629944181\n",
            "\u001b[30mNumber of Iterations = 45\n",
            "\u001b[36mTrain Accuracy = 0.5613207547169812\n",
            "\u001b[36mTest Accuracy = 0.5054945054945055\n",
            "\u001b[35mLogistic Regression Info. of sex and cp:- \n",
            "\u001b[30mBias = 0.002960270480845002\n",
            "\u001b[30mWeight_0 = -0.0013673792737109562\n",
            "\u001b[30mWeight_1 = 0.014414967262295011\n",
            "\u001b[30mCost/Loss = 0.6887784328319884\n",
            "\u001b[30mNumber of Iterations = 500\n",
            "\u001b[36mTrain Accuracy = 0.5613207547169812\n",
            "\u001b[36mTest Accuracy = 0.5054945054945055\n",
            "\u001b[35mLogistic Regression Info. of sex and trestbps:- \n",
            "\u001b[30mBias = 1.7663196089636153e-05\n",
            "\u001b[30mWeight_0 = -4.924781282268591e-05\n",
            "\u001b[30mWeight_1 = 0.0016860484434855474\n",
            "\u001b[30mCost/Loss = 0.6868357471600082\n",
            "\u001b[30mNumber of Iterations = 9\n",
            "\u001b[36mTrain Accuracy = 0.5613207547169812\n",
            "\u001b[36mTest Accuracy = 0.5054945054945055\n",
            "\u001b[35mLogistic Regression Info. of sex and chol:- \n",
            "\u001b[30mBias = 7.190672158168429e-06\n",
            "\u001b[30mWeight_0 = -6.199253635380993e-05\n",
            "\u001b[30mWeight_1 = 0.0009351761312994873\n",
            "\u001b[30mCost/Loss = 0.6861462873130423\n",
            "\u001b[30mNumber of Iterations = 10\n",
            "\u001b[36mTrain Accuracy = 0.5613207547169812\n",
            "\u001b[36mTest Accuracy = 0.5054945054945055\n",
            "\u001b[35mLogistic Regression Info. of sex and fbs:- \n",
            "\u001b[30mBias = 1.8395890751353617e-05\n",
            "\u001b[30mWeight_0 = -7.783210519995076e-06\n",
            "\u001b[30mWeight_1 = 2.8301296898384434e-06\n",
            "\u001b[30mCost/Loss = 0.6931458239120397\n",
            "\u001b[30mNumber of Iterations = 3\n",
            "\u001b[36mTrain Accuracy = 0.4386792452830189\n",
            "\u001b[36mTest Accuracy = 0.4945054945054945\n",
            "\u001b[35mLogistic Regression Info. of sex and restecg:- \n",
            "\u001b[30mBias = 1.8395685166302217e-05\n",
            "\u001b[30mWeight_0 = -7.783351025088494e-06\n",
            "\u001b[30mWeight_1 = 1.6980737422707865e-05\n",
            "\u001b[30mCost/Loss = 0.693144889492635\n",
            "\u001b[30mNumber of Iterations = 3\n",
            "\u001b[36mTrain Accuracy = 0.4386792452830189\n",
            "\u001b[36mTest Accuracy = 0.4945054945054945\n",
            "\u001b[35mLogistic Regression Info. of sex and thalach:- \n",
            "\u001b[30mBias = -6.81730629270289e-06\n",
            "\u001b[30mWeight_0 = -5.931282007800361e-05\n",
            "\u001b[30mWeight_1 = 0.0024080102643877456\n",
            "\u001b[30mCost/Loss = 0.676686415953698\n",
            "\u001b[30mNumber of Iterations = 8\n",
            "\u001b[36mTrain Accuracy = 0.5613207547169812\n",
            "\u001b[36mTest Accuracy = 0.5054945054945055\n",
            "\u001b[35mLogistic Regression Info. of sex and exang:- \n",
            "\u001b[30mBias = 0.003059657830238828\n",
            "\u001b[30mWeight_0 = -0.0012992477186735388\n",
            "\u001b[30mWeight_1 = -0.0037703383286293336\n",
            "\u001b[30mCost/Loss = 0.692641881317769\n",
            "\u001b[30mNumber of Iterations = 500\n",
            "\u001b[36mTrain Accuracy = 0.7122641509433962\n",
            "\u001b[36mTest Accuracy = 0.7362637362637363\n",
            "\u001b[35mLogistic Regression Info. of sex and oldpeak:- \n",
            "\u001b[30mBias = 0.0030991930233283667\n",
            "\u001b[30mWeight_0 = -0.0012682649525003365\n",
            "\u001b[30mWeight_1 = -0.0076584579402650295\n",
            "\u001b[30mCost/Loss = 0.6917498303604728\n",
            "\u001b[30mNumber of Iterations = 500\n",
            "\u001b[36mTrain Accuracy = 0.6273584905660378\n",
            "\u001b[36mTest Accuracy = 0.6923076923076923\n",
            "\u001b[35mLogistic Regression Info. of sex and slope:- \n",
            "\u001b[30mBias = 0.002975127014442333\n",
            "\u001b[30mWeight_0 = -0.0013568649698045758\n",
            "\u001b[30mWeight_1 = 0.008693601622471542\n",
            "\u001b[30mCost/Loss = 0.691421589098521\n",
            "\u001b[30mNumber of Iterations = 500\n",
            "\u001b[36mTrain Accuracy = 0.5613207547169812\n",
            "\u001b[36mTest Accuracy = 0.5054945054945055\n",
            "\u001b[35mLogistic Regression Info. of sex and ca:- \n",
            "\u001b[30mBias = 0.00308521753557621\n",
            "\u001b[30mWeight_0 = -0.0012781893406144302\n",
            "\u001b[30mWeight_1 = -0.007369357313283729\n",
            "\u001b[30mCost/Loss = 0.6918379729252337\n",
            "\u001b[30mNumber of Iterations = 500\n",
            "\u001b[36mTrain Accuracy = 0.75\n",
            "\u001b[36mTest Accuracy = 0.7032967032967034\n",
            "\u001b[35mLogistic Regression Info. of sex and thal:- \n",
            "\u001b[30mBias = 1.8395410864211762e-05\n",
            "\u001b[30mWeight_0 = -7.783554249532166e-06\n",
            "\u001b[30mWeight_1 = 8.488617811925666e-06\n",
            "\u001b[30mCost/Loss = 0.6931456105005839\n",
            "\u001b[30mNumber of Iterations = 3\n",
            "\u001b[36mTrain Accuracy = 0.4386792452830189\n",
            "\u001b[36mTest Accuracy = 0.4945054945054945\n",
            "\u001b[35mLogistic Regression Info. of cp and trestbps:- \n",
            "\u001b[30mBias = 0.0002937692855217962\n",
            "\u001b[30mWeight_0 = 0.011650810233310218\n",
            "\u001b[30mWeight_1 = 0.0016030839350459098\n",
            "\u001b[30mCost/Loss = 0.6841252175570809\n",
            "\u001b[30mNumber of Iterations = 500\n",
            "\u001b[36mTrain Accuracy = 0.5613207547169812\n",
            "\u001b[36mTest Accuracy = 0.5054945054945055\n",
            "\u001b[35mLogistic Regression Info. of cp and chol:- \n",
            "\u001b[30mBias = 0.00017827820964013368\n",
            "\u001b[30mWeight_0 = 0.011621130052331225\n",
            "\u001b[30mWeight_1 = 0.0008926725074112481\n",
            "\u001b[30mCost/Loss = 0.6834493542103848\n",
            "\u001b[30mNumber of Iterations = 500\n",
            "\u001b[36mTrain Accuracy = 0.5613207547169812\n",
            "\u001b[36mTest Accuracy = 0.5054945054945055\n",
            "\u001b[35mLogistic Regression Info. of cp and fbs:- \n",
            "\u001b[30mBias = 0.00295407970107143\n",
            "\u001b[30mWeight_0 = 0.014408619667033622\n",
            "\u001b[30mWeight_1 = 0.0004501331362255964\n",
            "\u001b[30mCost/Loss = 0.688816177405578\n",
            "\u001b[30mNumber of Iterations = 500\n",
            "\u001b[36mTrain Accuracy = 0.5613207547169812\n",
            "\u001b[36mTest Accuracy = 0.5054945054945055\n",
            "\u001b[35mLogistic Regression Info. of cp and restecg:- \n",
            "\u001b[30mBias = 0.0029457213680775616\n",
            "\u001b[30mWeight_0 = 0.014400694124096123\n",
            "\u001b[30mWeight_1 = 0.0027666369254591844\n",
            "\u001b[30mCost/Loss = 0.688672650003119\n",
            "\u001b[30mNumber of Iterations = 500\n",
            "\u001b[36mTrain Accuracy = 0.5613207547169812\n",
            "\u001b[36mTest Accuracy = 0.5054945054945055\n",
            "\u001b[35mLogistic Regression Info. of cp and thalach:- \n",
            "\u001b[30mBias = -0.0013903283481328898\n",
            "\u001b[30mWeight_0 = 0.009803650479286748\n",
            "\u001b[30mWeight_1 = 0.002352425739191094\n",
            "\u001b[30mCost/Loss = 0.674733641561023\n",
            "\u001b[30mNumber of Iterations = 500\n",
            "\u001b[36mTrain Accuracy = 0.5613207547169812\n",
            "\u001b[36mTest Accuracy = 0.5054945054945055\n",
            "\u001b[35mLogistic Regression Info. of cp and exang:- \n",
            "\u001b[30mBias = 0.002961581802313931\n",
            "\u001b[30mWeight_0 = 0.014411474766283856\n",
            "\u001b[30mWeight_1 = -0.003781059270423363\n",
            "\u001b[30mCost/Loss = 0.688531785827984\n",
            "\u001b[30mNumber of Iterations = 500\n",
            "\u001b[36mTrain Accuracy = 0.7452830188679245\n",
            "\u001b[36mTest Accuracy = 0.7362637362637363\n",
            "\u001b[35mLogistic Regression Info. of cp and oldpeak:- \n",
            "\u001b[30mBias = 0.003001366898697131\n",
            "\u001b[30mWeight_0 = 0.01445140302823547\n",
            "\u001b[30mWeight_1 = -0.007743574311000938\n",
            "\u001b[30mCost/Loss = 0.687590782502781\n",
            "\u001b[30mNumber of Iterations = 500\n",
            "\u001b[36mTrain Accuracy = 0.7594339622641509\n",
            "\u001b[36mTest Accuracy = 0.7362637362637363\n",
            "\u001b[35mLogistic Regression Info. of cp and slope:- \n",
            "\u001b[30mBias = 0.002878084755852516\n",
            "\u001b[30mWeight_0 = 0.014328332866058283\n",
            "\u001b[30mWeight_1 = 0.008550946763062187\n",
            "\u001b[30mCost/Loss = 0.6874120396843513\n",
            "\u001b[30mNumber of Iterations = 500\n",
            "\u001b[36mTrain Accuracy = 0.5613207547169812\n",
            "\u001b[36mTest Accuracy = 0.5054945054945055\n",
            "\u001b[35mLogistic Regression Info. of cp and ca:- \n",
            "\u001b[30mBias = 0.0029872533784966455\n",
            "\u001b[30mWeight_0 = 0.0144367774433569\n",
            "\u001b[30mWeight_1 = -0.0074279508180555955\n",
            "\u001b[30mCost/Loss = 0.6876966540829215\n",
            "\u001b[30mNumber of Iterations = 500\n",
            "\u001b[36mTrain Accuracy = 0.7688679245283019\n",
            "\u001b[36mTest Accuracy = 0.7692307692307693\n",
            "\u001b[35mLogistic Regression Info. of cp and thal:- \n",
            "\u001b[30mBias = 0.002937035502639593\n",
            "\u001b[30mWeight_0 = 0.014392452854148833\n",
            "\u001b[30mWeight_1 = 0.0011278526069798762\n",
            "\u001b[30mCost/Loss = 0.6888055335372917\n",
            "\u001b[30mNumber of Iterations = 500\n",
            "\u001b[36mTrain Accuracy = 0.5613207547169812\n",
            "\u001b[36mTest Accuracy = 0.5054945054945055\n",
            "\u001b[35mLogistic Regression Info. of trestbps and chol:- \n",
            "\u001b[30mBias = 1.4721179893570543e-05\n",
            "\u001b[30mWeight_0 = 0.0001737396666077394\n",
            "\u001b[30mWeight_1 = 0.0014655760311162891\n",
            "\u001b[30mCost/Loss = 0.6891435527526283\n",
            "\u001b[30mNumber of Iterations = 27\n",
            "\u001b[36mTrain Accuracy = 0.5613207547169812\n",
            "\u001b[36mTest Accuracy = 0.5054945054945055\n",
            "\u001b[35mLogistic Regression Info. of trestbps and fbs:- \n",
            "\u001b[30mBias = 1.7661773847396304e-05\n",
            "\u001b[30mWeight_0 = 0.0016858656377597022\n",
            "\u001b[30mWeight_1 = 2.640845422182091e-06\n",
            "\u001b[30mCost/Loss = 0.6868389123943629\n",
            "\u001b[30mNumber of Iterations = 9\n",
            "\u001b[36mTrain Accuracy = 0.5613207547169812\n",
            "\u001b[36mTest Accuracy = 0.5054945054945055\n",
            "\u001b[35mLogistic Regression Info. of trestbps and restecg:- \n",
            "\u001b[30mBias = 1.76610419629151e-05\n",
            "\u001b[30mWeight_0 = 0.0016857730943885974\n",
            "\u001b[30mWeight_1 = 3.195349050469518e-05\n",
            "\u001b[30mCost/Loss = 0.6868380050278571\n",
            "\u001b[30mNumber of Iterations = 9\n",
            "\u001b[36mTrain Accuracy = 0.5613207547169812\n",
            "\u001b[36mTest Accuracy = 0.5054945054945055\n",
            "\u001b[35mLogistic Regression Info. of trestbps and thalach:- \n",
            "\u001b[30mBias = -0.0004821712084653177\n",
            "\u001b[30mWeight_0 = -0.031472383258406816\n",
            "\u001b[30mWeight_1 = 0.029699649372207648\n",
            "\u001b[30mCost/Loss = 0.6097847557596972\n",
            "\u001b[30mNumber of Iterations = 500\n",
            "\u001b[36mTrain Accuracy = 0.6509433962264151\n",
            "\u001b[36mTest Accuracy = 0.7362637362637363\n",
            "\u001b[35mLogistic Regression Info. of trestbps and exang:- \n",
            "\u001b[30mBias = 1.8257905574538305e-05\n",
            "\u001b[30mWeight_0 = 0.0016902114506975924\n",
            "\u001b[30mWeight_1 = -8.840577584237573e-05\n",
            "\u001b[30mCost/Loss = 0.686830623883808\n",
            "\u001b[30mNumber of Iterations = 10\n",
            "\u001b[36mTrain Accuracy = 0.5613207547169812\n",
            "\u001b[36mTest Accuracy = 0.5054945054945055\n",
            "\u001b[35mLogistic Regression Info. of trestbps and oldpeak:- \n",
            "\u001b[30mBias = 0.0002951276367484162\n",
            "\u001b[30mWeight_0 = 0.0017701894562701331\n",
            "\u001b[30mWeight_1 = -0.010418165730316316\n",
            "\u001b[30mCost/Loss = 0.6846636693715953\n",
            "\u001b[30mNumber of Iterations = 500\n",
            "\u001b[36mTrain Accuracy = 0.5613207547169812\n",
            "\u001b[36mTest Accuracy = 0.5054945054945055\n",
            "\u001b[35mLogistic Regression Info. of trestbps and slope:- \n",
            "\u001b[30mBias = 1.8829404486577945e-05\n",
            "\u001b[30mWeight_0 = 0.0016913291824019803\n",
            "\u001b[30mWeight_1 = 0.00012519649128059422\n",
            "\u001b[30mCost/Loss = 0.6868265252096402\n",
            "\u001b[30mNumber of Iterations = 11\n",
            "\u001b[36mTrain Accuracy = 0.5613207547169812\n",
            "\u001b[36mTest Accuracy = 0.5054945054945055\n",
            "\u001b[35mLogistic Regression Info. of trestbps and ca:- \n",
            "\u001b[30mBias = 0.0002949801100578435\n",
            "\u001b[30mWeight_0 = 0.0017435904987328818\n",
            "\u001b[30mWeight_1 = -0.009367366534088055\n",
            "\u001b[30mCost/Loss = 0.685080451924153\n",
            "\u001b[30mNumber of Iterations = 500\n",
            "\u001b[36mTrain Accuracy = 0.5613207547169812\n",
            "\u001b[36mTest Accuracy = 0.5054945054945055\n",
            "\u001b[35mLogistic Regression Info. of trestbps and thal:- \n",
            "\u001b[30mBias = 0.00029586358594803656\n",
            "\u001b[30mWeight_0 = 0.0017797045009586236\n",
            "\u001b[30mWeight_1 = -0.0050023927838168175\n",
            "\u001b[30mCost/Loss = 0.6863335855037308\n",
            "\u001b[30mNumber of Iterations = 500\n",
            "\u001b[36mTrain Accuracy = 0.5613207547169812\n",
            "\u001b[36mTest Accuracy = 0.5054945054945055\n",
            "\u001b[35mLogistic Regression Info. of chol and fbs:- \n",
            "\u001b[30mBias = 6.870016581120314e-06\n",
            "\u001b[30mWeight_0 = 0.0009451262098897688\n",
            "\u001b[30mWeight_1 = 1.1917067051421923e-06\n",
            "\u001b[30mCost/Loss = 0.6861504956763353\n",
            "\u001b[30mNumber of Iterations = 9\n",
            "\u001b[36mTrain Accuracy = 0.5613207547169812\n",
            "\u001b[36mTest Accuracy = 0.5054945054945055\n",
            "\u001b[35mLogistic Regression Info. of chol and restecg:- \n",
            "\u001b[30mBias = 6.869705274430761e-06\n",
            "\u001b[30mWeight_0 = 0.0009450791713351702\n",
            "\u001b[30mWeight_1 = 2.7431563738524373e-05\n",
            "\u001b[30mCost/Loss = 0.6861497146989615\n",
            "\u001b[30mNumber of Iterations = 9\n",
            "\u001b[36mTrain Accuracy = 0.5613207547169812\n",
            "\u001b[36mTest Accuracy = 0.5054945054945055\n",
            "\u001b[35mLogistic Regression Info. of chol and thalach:- \n",
            "\u001b[30mBias = -0.0003562734758754724\n",
            "\u001b[30mWeight_0 = -0.007849395241293923\n",
            "\u001b[30mWeight_1 = 0.015266803911286755\n",
            "\u001b[30mCost/Loss = 0.6489718328046445\n",
            "\u001b[30mNumber of Iterations = 217\n",
            "\u001b[36mTrain Accuracy = 0.6415094339622641\n",
            "\u001b[36mTest Accuracy = 0.6373626373626373\n",
            "\u001b[35mLogistic Regression Info. of chol and exang:- \n",
            "\u001b[30mBias = 7.5714236345853845e-06\n",
            "\u001b[30mWeight_0 = 0.0009409381422275962\n",
            "\u001b[30mWeight_1 = -0.00010139472446815756\n",
            "\u001b[30mCost/Loss = 0.6861407562084304\n",
            "\u001b[30mNumber of Iterations = 11\n",
            "\u001b[36mTrain Accuracy = 0.5613207547169812\n",
            "\u001b[36mTest Accuracy = 0.5054945054945055\n",
            "\u001b[35mLogistic Regression Info. of chol and oldpeak:- \n",
            "\u001b[30mBias = 0.00018618467587514068\n",
            "\u001b[30mWeight_0 = 0.0009774564818982258\n",
            "\u001b[30mWeight_1 = -0.010477587029425113\n",
            "\u001b[30mCost/Loss = 0.6839531493560115\n",
            "\u001b[30mNumber of Iterations = 500\n",
            "\u001b[36mTrain Accuracy = 0.5613207547169812\n",
            "\u001b[36mTest Accuracy = 0.5054945054945055\n",
            "\u001b[35mLogistic Regression Info. of chol and slope:- \n",
            "\u001b[30mBias = 7.567790312434732e-06\n",
            "\u001b[30mWeight_0 = 0.000940257562608708\n",
            "\u001b[30mWeight_1 = 0.00010888730847770633\n",
            "\u001b[30mCost/Loss = 0.6861399409417552\n",
            "\u001b[30mNumber of Iterations = 11\n",
            "\u001b[36mTrain Accuracy = 0.5613207547169812\n",
            "\u001b[36mTest Accuracy = 0.5054945054945055\n",
            "\u001b[35mLogistic Regression Info. of chol and ca:- \n",
            "\u001b[30mBias = 0.00018469044283376247\n",
            "\u001b[30mWeight_0 = 0.0009641401512606572\n",
            "\u001b[30mWeight_1 = -0.009435543356868671\n",
            "\u001b[30mCost/Loss = 0.6843684394139373\n",
            "\u001b[30mNumber of Iterations = 500\n",
            "\u001b[36mTrain Accuracy = 0.5613207547169812\n",
            "\u001b[36mTest Accuracy = 0.5054945054945055\n",
            "\u001b[35mLogistic Regression Info. of chol and thal:- \n",
            "\u001b[30mBias = 0.0001862056013872252\n",
            "\u001b[30mWeight_0 = 0.0009851460842267264\n",
            "\u001b[30mWeight_1 = -0.005258594568077893\n",
            "\u001b[30mCost/Loss = 0.685595539379873\n",
            "\u001b[30mNumber of Iterations = 500\n",
            "\u001b[36mTrain Accuracy = 0.5613207547169812\n",
            "\u001b[36mTest Accuracy = 0.5054945054945055\n",
            "\u001b[35mLogistic Regression Info. of fbs and restecg:- \n",
            "\u001b[30mBias = 1.839553956818123e-05\n",
            "\u001b[30mWeight_0 = 2.830082548405877e-06\n",
            "\u001b[30mWeight_1 = 1.6980665166151817e-05\n",
            "\u001b[30mCost/Loss = 0.6931450647672714\n",
            "\u001b[30mNumber of Iterations = 3\n",
            "\u001b[36mTrain Accuracy = 0.4386792452830189\n",
            "\u001b[36mTest Accuracy = 0.4945054945054945\n",
            "\u001b[35mLogistic Regression Info. of fbs and thalach:- \n",
            "\u001b[30mBias = -4.033161265775941e-06\n",
            "\u001b[30mWeight_0 = -4.1629939818254447e-07\n",
            "\u001b[30mWeight_1 = 0.002403508198147647\n",
            "\u001b[30mCost/Loss = 0.6766918251180025\n",
            "\u001b[30mNumber of Iterations = 7\n",
            "\u001b[36mTrain Accuracy = 0.5613207547169812\n",
            "\u001b[36mTest Accuracy = 0.5054945054945055\n",
            "\u001b[35mLogistic Regression Info. of fbs and exang:- \n",
            "\u001b[30mBias = 1.8395926711285776e-05\n",
            "\u001b[30mWeight_0 = 2.830135279891759e-06\n",
            "\u001b[30mWeight_1 = -2.264148073087431e-05\n",
            "\u001b[30mCost/Loss = 0.6931443170490178\n",
            "\u001b[30mNumber of Iterations = 3\n",
            "\u001b[36mTrain Accuracy = 0.4386792452830189\n",
            "\u001b[36mTest Accuracy = 0.4945054945054945\n",
            "\u001b[35mLogistic Regression Info. of fbs and oldpeak:- \n",
            "\u001b[30mBias = 0.0030932708353813365\n",
            "\u001b[30mWeight_0 = 0.0004756806846987233\n",
            "\u001b[30mWeight_1 = -0.00766493404755364\n",
            "\u001b[30mCost/Loss = 0.6917762358980868\n",
            "\u001b[30mNumber of Iterations = 500\n",
            "\u001b[36mTrain Accuracy = 0.6226415094339622\n",
            "\u001b[36mTest Accuracy = 0.6923076923076923\n",
            "\u001b[35mLogistic Regression Info. of fbs and slope:- \n",
            "\u001b[30mBias = 0.002968985302880665\n",
            "\u001b[30mWeight_0 = 0.00045686872418372376\n",
            "\u001b[30mWeight_1 = 0.008685086888058188\n",
            "\u001b[30mCost/Loss = 0.6914579295627566\n",
            "\u001b[30mNumber of Iterations = 500\n",
            "\u001b[36mTrain Accuracy = 0.5613207547169812\n",
            "\u001b[36mTest Accuracy = 0.5054945054945055\n",
            "\u001b[35mLogistic Regression Info. of fbs and ca:- \n",
            "\u001b[30mBias = 0.0030792554012088946\n",
            "\u001b[30mWeight_0 = 0.0004755343434171874\n",
            "\u001b[30mWeight_1 = -0.007374416912200538\n",
            "\u001b[30mCost/Loss = 0.6918653743593127\n",
            "\u001b[30mNumber of Iterations = 500\n",
            "\u001b[36mTrain Accuracy = 0.75\n",
            "\u001b[36mTest Accuracy = 0.7032967032967034\n",
            "\u001b[35mLogistic Regression Info. of fbs and thal:- \n",
            "\u001b[30mBias = 1.8395265271343075e-05\n",
            "\u001b[30mWeight_0 = 2.830035496594877e-06\n",
            "\u001b[30mWeight_1 = 8.488271309657716e-06\n",
            "\u001b[30mCost/Loss = 0.6931457858037945\n",
            "\u001b[30mNumber of Iterations = 3\n",
            "\u001b[36mTrain Accuracy = 0.4386792452830189\n",
            "\u001b[36mTest Accuracy = 0.4945054945054945\n",
            "\u001b[35mLogistic Regression Info. of restecg and thalach:- \n",
            "\u001b[30mBias = -4.033473325523112e-06\n",
            "\u001b[30mWeight_0 = 1.5796136348710072e-05\n",
            "\u001b[30mWeight_1 = 0.0024034635444836142\n",
            "\u001b[30mCost/Loss = 0.6766916492724488\n",
            "\u001b[30mNumber of Iterations = 7\n",
            "\u001b[36mTrain Accuracy = 0.5613207547169812\n",
            "\u001b[36mTest Accuracy = 0.5054945054945055\n",
            "\u001b[35mLogistic Regression Info. of restecg and exang:- \n",
            "\u001b[30mBias = 0.003045147502293875\n",
            "\u001b[30mWeight_0 = 0.002814475184188328\n",
            "\u001b[30mWeight_1 = -0.003774796671821197\n",
            "\u001b[30mCost/Loss = 0.6925183144561071\n",
            "\u001b[30mNumber of Iterations = 500\n",
            "\u001b[36mTrain Accuracy = 0.6462264150943396\n",
            "\u001b[36mTest Accuracy = 0.6373626373626373\n",
            "\u001b[35mLogistic Regression Info. of restecg and oldpeak:- \n",
            "\u001b[30mBias = 0.003084782833163059\n",
            "\u001b[30mWeight_0 = 0.002835543972365149\n",
            "\u001b[30mWeight_1 = -0.007673443121883669\n",
            "\u001b[30mCost/Loss = 0.6916184029240106\n",
            "\u001b[30mNumber of Iterations = 500\n",
            "\u001b[36mTrain Accuracy = 0.6556603773584906\n",
            "\u001b[36mTest Accuracy = 0.7582417582417582\n",
            "\u001b[35mLogistic Regression Info. of restecg and slope:- \n",
            "\u001b[30mBias = 0.0029606589411919613\n",
            "\u001b[30mWeight_0 = 0.002771240661434525\n",
            "\u001b[30mWeight_1 = 0.00867306075595281\n",
            "\u001b[30mCost/Loss = 0.6913136237783303\n",
            "\u001b[30mNumber of Iterations = 500\n",
            "\u001b[36mTrain Accuracy = 0.5613207547169812\n",
            "\u001b[36mTest Accuracy = 0.5054945054945055\n",
            "\u001b[35mLogistic Regression Info. of restecg and ca:- \n",
            "\u001b[30mBias = 0.0030707675931327537\n",
            "\u001b[30mWeight_0 = 0.002826836663137583\n",
            "\u001b[30mWeight_1 = -0.007379970545905003\n",
            "\u001b[30mCost/Loss = 0.691709486842727\n",
            "\u001b[30mNumber of Iterations = 500\n",
            "\u001b[36mTrain Accuracy = 0.7452830188679245\n",
            "\u001b[36mTest Accuracy = 0.7032967032967034\n",
            "\u001b[35mLogistic Regression Info. of restecg and thal:- \n",
            "\u001b[30mBias = 1.839505969601419e-05\n",
            "\u001b[30mWeight_0 = 1.6980416220365045e-05\n",
            "\u001b[30mWeight_1 = 8.487789076339116e-06\n",
            "\u001b[30mCost/Loss = 0.6931448514708276\n",
            "\u001b[30mNumber of Iterations = 3\n",
            "\u001b[36mTrain Accuracy = 0.4386792452830189\n",
            "\u001b[36mTest Accuracy = 0.4945054945054945\n",
            "\u001b[35mLogistic Regression Info. of thalach and exang:- \n",
            "\u001b[30mBias = -0.0013898597613373428\n",
            "\u001b[30mWeight_0 = 0.002429347704014732\n",
            "\u001b[30mWeight_1 = -0.005007477977987806\n",
            "\u001b[30mCost/Loss = 0.6761507628576672\n",
            "\u001b[30mNumber of Iterations = 500\n",
            "\u001b[36mTrain Accuracy = 0.5613207547169812\n",
            "\u001b[36mTest Accuracy = 0.5054945054945055\n",
            "\u001b[35mLogistic Regression Info. of thalach and oldpeak:- \n",
            "\u001b[30mBias = -0.0013850581479449655\n",
            "\u001b[30mWeight_0 = 0.0024912992855481942\n",
            "\u001b[30mWeight_1 = -0.011778885113217053\n",
            "\u001b[30mCost/Loss = 0.673874586988238\n",
            "\u001b[30mNumber of Iterations = 500\n",
            "\u001b[36mTrain Accuracy = 0.5613207547169812\n",
            "\u001b[36mTest Accuracy = 0.5054945054945055\n",
            "\u001b[35mLogistic Regression Info. of thalach and slope:- \n",
            "\u001b[30mBias = -4.036015952713875e-06\n",
            "\u001b[30mWeight_0 = 0.002403067864593043\n",
            "\u001b[30mWeight_1 = 5.5054780824986474e-05\n",
            "\u001b[30mCost/Loss = 0.6766892958114877\n",
            "\u001b[30mNumber of Iterations = 7\n",
            "\u001b[36mTrain Accuracy = 0.5613207547169812\n",
            "\u001b[36mTest Accuracy = 0.5054945054945055\n",
            "\u001b[35mLogistic Regression Info. of thalach and ca:- \n",
            "\u001b[30mBias = -0.001387805685797151\n",
            "\u001b[30mWeight_0 = 0.0024667446144343505\n",
            "\u001b[30mWeight_1 = -0.010416684622578942\n",
            "\u001b[30mCost/Loss = 0.674480379416048\n",
            "\u001b[30mNumber of Iterations = 500\n",
            "\u001b[36mTrain Accuracy = 0.5613207547169812\n",
            "\u001b[36mTest Accuracy = 0.5054945054945055\n",
            "\u001b[35mLogistic Regression Info. of thalach and thal:- \n",
            "\u001b[30mBias = -0.0013869325072713276\n",
            "\u001b[30mWeight_0 = 0.0025526532834749746\n",
            "\u001b[30mWeight_1 = -0.008835291315729197\n",
            "\u001b[30mCost/Loss = 0.6750848395970412\n",
            "\u001b[30mNumber of Iterations = 500\n",
            "\u001b[36mTrain Accuracy = 0.5613207547169812\n",
            "\u001b[36mTest Accuracy = 0.5054945054945055\n",
            "\u001b[35mLogistic Regression Info. of exang and oldpeak:- \n",
            "\u001b[30mBias = 0.003100724038571932\n",
            "\u001b[30mWeight_0 = -0.0037523108005709503\n",
            "\u001b[30mWeight_1 = -0.0076548133546955445\n",
            "\u001b[30mCost/Loss = 0.6915013299425427\n",
            "\u001b[30mNumber of Iterations = 500\n",
            "\u001b[36mTrain Accuracy = 0.6226415094339622\n",
            "\u001b[36mTest Accuracy = 0.7032967032967034\n",
            "\u001b[35mLogistic Regression Info. of exang and slope:- \n",
            "\u001b[30mBias = 0.002976463438353047\n",
            "\u001b[30mWeight_0 = -0.003792183574165707\n",
            "\u001b[30mWeight_1 = 0.0086942499058128\n",
            "\u001b[30mCost/Loss = 0.6911704369449929\n",
            "\u001b[30mNumber of Iterations = 500\n",
            "\u001b[36mTrain Accuracy = 0.589622641509434\n",
            "\u001b[36mTest Accuracy = 0.5164835164835165\n",
            "\u001b[35mLogistic Regression Info. of exang and ca:- \n",
            "\u001b[30mBias = 0.003086741783909083\n",
            "\u001b[30mWeight_0 = -0.003760773325669551\n",
            "\u001b[30mWeight_1 = -0.007368146650098909\n",
            "\u001b[30mCost/Loss = 0.6915879496765308\n",
            "\u001b[30mNumber of Iterations = 500\n",
            "\u001b[36mTrain Accuracy = 0.7641509433962265\n",
            "\u001b[36mTest Accuracy = 0.7582417582417582\n",
            "\u001b[35mLogistic Regression Info. of exang and thal:- \n",
            "\u001b[30mBias = 0.002793986200741619\n",
            "\u001b[30mWeight_0 = -0.003476091649956818\n",
            "\u001b[30mWeight_1 = 0.0012389295840061264\n",
            "\u001b[30mCost/Loss = 0.6926814032604413\n",
            "\u001b[30mNumber of Iterations = 460\n",
            "\u001b[36mTrain Accuracy = 0.5613207547169812\n",
            "\u001b[36mTest Accuracy = 0.5164835164835165\n",
            "\u001b[35mLogistic Regression Info. of oldpeak and slope:- \n",
            "\u001b[30mBias = 0.0030160728285729666\n",
            "\u001b[30mWeight_0 = -0.007718781245137828\n",
            "\u001b[30mWeight_1 = 0.008733476777824056\n",
            "\u001b[30mCost/Loss = 0.6902481327825498\n",
            "\u001b[30mNumber of Iterations = 500\n",
            "\u001b[36mTrain Accuracy = 0.6650943396226415\n",
            "\u001b[36mTest Accuracy = 0.7252747252747253\n",
            "\u001b[35mLogistic Regression Info. of oldpeak and ca:- \n",
            "\u001b[30mBias = 0.003126144399970554\n",
            "\u001b[30mWeight_0 = -0.007626106325760701\n",
            "\u001b[30mWeight_1 = -0.007333906963066016\n",
            "\u001b[30mCost/Loss = 0.690712727105363\n",
            "\u001b[30mNumber of Iterations = 500\n",
            "\u001b[36mTrain Accuracy = 0.6132075471698113\n",
            "\u001b[36mTest Accuracy = 0.6923076923076923\n",
            "\u001b[35mLogistic Regression Info. of oldpeak and thal:- \n",
            "\u001b[30mBias = 0.003073289450012476\n",
            "\u001b[30mWeight_0 = -0.007685506755862229\n",
            "\u001b[30mWeight_1 = 0.0014349722467935147\n",
            "\u001b[30mCost/Loss = 0.6917357439107392\n",
            "\u001b[30mNumber of Iterations = 500\n",
            "\u001b[36mTrain Accuracy = 0.6839622641509434\n",
            "\u001b[36mTest Accuracy = 0.7252747252747253\n",
            "\u001b[35mLogistic Regression Info. of slope and ca:- \n",
            "\u001b[30mBias = 0.0030020088541118204\n",
            "\u001b[30mWeight_0 = 0.008731805191050306\n",
            "\u001b[30mWeight_1 = -0.007428602662365629\n",
            "\u001b[30mCost/Loss = 0.6903383046009748\n",
            "\u001b[30mNumber of Iterations = 500\n",
            "\u001b[36mTrain Accuracy = 0.6415094339622641\n",
            "\u001b[36mTest Accuracy = 0.6703296703296703\n",
            "\u001b[35mLogistic Regression Info. of slope and thal:- \n",
            "\u001b[30mBias = 0.002951807005288887\n",
            "\u001b[30mWeight_0 = 0.008660831408677544\n",
            "\u001b[30mWeight_1 = 0.0011502774789827446\n",
            "\u001b[30mCost/Loss = 0.6914455878498105\n",
            "\u001b[30mNumber of Iterations = 500\n",
            "\u001b[36mTrain Accuracy = 0.5613207547169812\n",
            "\u001b[36mTest Accuracy = 0.5054945054945055\n",
            "\u001b[35mLogistic Regression Info. of ca and thal:- \n",
            "\u001b[30mBias = 0.0030595576235122866\n",
            "\u001b[30mWeight_0 = -0.007389070911616513\n",
            "\u001b[30mWeight_1 = 0.0014014320842034229\n",
            "\u001b[30mCost/Loss = 0.6918287162340422\n",
            "\u001b[30mNumber of Iterations = 500\n",
            "\u001b[36mTrain Accuracy = 0.75\n",
            "\u001b[36mTest Accuracy = 0.7032967032967034\n",
            "\u001b[32mBest Train Accuracy = 0.7688679245283019\n",
            "\u001b[32mBest Test Accuracy = 0.7692307692307693\n",
            "\u001b[32mBest Features = [['cp', 'ca']]\n"
          ]
        }
      ],
      "source": [
        "\n",
        "new_data = data.drop('target',axis=1)\n",
        "feature = new_data.columns\n",
        "iterations = 500\n",
        "alpha = 1e-4\n",
        "label = data[['target']]\n",
        "\n",
        "current_train_accuracy = []\n",
        "current_test_accuracy = []\n",
        "best_accuracy_train = 0.0\n",
        "best_accuracy_test = 0.0\n",
        "best_feature = []\n",
        "\n",
        "for f1 in range(len(feature)):\n",
        "    for f2 in range(len(feature)):\n",
        "        if f2 > f1 :\n",
        "            \n",
        "            new_features = pd.DataFrame([data[feature[f1]],data[feature[f2]]] ).T  \n",
        "            # calling functions\n",
        "            weight, weight_history, costs, hypothesis, loops = logisicRegression(new_features,label,iterations,alpha)\n",
        "            prediction_train = predict(new_features,label, weight)\n",
        "            prediction_test = predict(test[[feature[f1],feature[f2]]],test[['target']],weight) \n",
        "            print(Fore.MAGENTA + \"Logistic Regression Info. of {} and {}:- \".format(feature[f1],feature[f2]))\n",
        "            print(Fore.BLACK +\"Bias = {}\".format(weight[0][0]))\n",
        "            print(Fore.BLACK +\"Weight_0 = {}\".format(weight[1][0]))\n",
        "            print(Fore.BLACK +\"Weight_1 = {}\".format(weight[2][0]))\n",
        "            print(Fore.BLACK +\"Cost/Loss = {}\".format(costs[loops-1]))\n",
        "            print(Fore.BLACK +\"Number of Iterations = {}\".format(loops))\n",
        "            \n",
        "            current_train_accuracy.append(prediction_train)\n",
        "            #prediction_train.loc[prediction_train['Prediction']==prediction_train['target']].shape[0] / prediction_train.shape[0] * 100\n",
        "            current_test_accuracy.append(prediction_test) \n",
        "            #prediction_test.loc[prediction_test['Prediction']==prediction_test['target']].shape[0] / prediction_test.shape[0] * 100\n",
        "            print(Fore.CYAN + \"Train Accuracy = {}\".format(prediction_train))\n",
        "            print(Fore.CYAN + \"Test Accuracy = {}\".format(prediction_test))\n",
        "            if prediction_train > best_accuracy_train:\n",
        "                best_accuracy_train = prediction_train\n",
        "                best_feature = []\n",
        "                best_feature.append([feature[f1],feature[f2]])\n",
        "            if prediction_test > best_accuracy_test:\n",
        "                best_accuracy_test = prediction_test\n",
        "print(Fore.GREEN + \"Best Train Accuracy = {}\".format(best_accuracy_train))\n",
        "print(Fore.GREEN + \"Best Test Accuracy = {}\".format(best_accuracy_test))\n",
        "print(Fore.GREEN + \"Best Features = {}\".format(best_feature))\n"
      ]
    },
    {
      "cell_type": "markdown",
      "metadata": {
        "id": "vUVFvCn_0JRS"
      },
      "source": [
        "We get Best Accuracy from cp and ca features"
      ]
    },
    {
      "cell_type": "code",
      "execution_count": null,
      "metadata": {
        "id": "PCM0iPVq0JRS",
        "outputId": "b3f4b32f-33a9-4263-c5f3-07a13ebb7eef"
      },
      "outputs": [
        {
          "data": {
            "text/plain": [
              "Text(0.5, 1.0, 'Test Accuracy')"
            ]
          },
          "execution_count": 26,
          "metadata": {},
          "output_type": "execute_result"
        },
        {
          "data": {
            "image/png": "[encoded data removed]",
            "text/plain": [
              "<Figure size 1080x360 with 2 Axes>"
            ]
          },
          "metadata": {},
          "output_type": "display_data"
        }
      ],
      "source": [
        "\n",
        "fig, axes = plt.subplots(1, 2, figsize=(15, 5))\n",
        "sns.histplot(current_train_accuracy,bins=30, kde=True,ax=axes[0])\n",
        "axes[0].set_title('Train Accuracy')\n",
        "sns.histplot(current_test_accuracy,bins=30, kde=True,ax=axes[1])\n",
        "axes[1].set_title('Test Accuracy')"
      ]
    },
    {
      "cell_type": "markdown",
      "metadata": {
        "id": "vLo0JLRQ0JRS"
      },
      "source": [
        "#### With Normalization(Standardization)  Data\n",
        "##### mean = 0 , std = 1"
      ]
    },
    {
      "cell_type": "code",
      "execution_count": null,
      "metadata": {
        "id": "eL9QnJI60JRS",
        "outputId": "60c12a2a-685e-4dcf-a93e-b02be7618f57"
      },
      "outputs": [
        {
          "name": "stdout",
          "output_type": "stream",
          "text": [
            "\u001b[35mLogistic Regression Info. of age and sex:- \n",
            "\u001b[30mBias = 0.0030469927328142343\n",
            "\u001b[30mWeight_0 = -0.005625717243633884\n",
            "\u001b[30mWeight_1 = -0.007363402038750497\n",
            "\u001b[30mCost/Loss = 0.6912441302198301\n",
            "\u001b[30mNumber of Iterations = 500\n",
            "\u001b[36mTrain Accuracy = 0.6839622641509434\n",
            "\u001b[36mTest Accuracy = 0.4945054945054945\n",
            "\u001b[35mLogistic Regression Info. of age and cp:- \n",
            "\u001b[30mBias = 0.0030469928979126315\n",
            "\u001b[30mWeight_0 = -0.005621570401354782\n",
            "\u001b[30mWeight_1 = 0.01087436700135841\n",
            "\u001b[30mCost/Loss = 0.689964417172563\n",
            "\u001b[30mNumber of Iterations = 500\n",
            "\u001b[36mTrain Accuracy = 0.7122641509433962\n",
            "\u001b[36mTest Accuracy = 0.4945054945054945\n",
            "\u001b[35mLogistic Regression Info. of age and trestbps:- \n",
            "\u001b[30mBias = 0.0030469925562693935\n",
            "\u001b[30mWeight_0 = -0.005619190406468927\n",
            "\u001b[30mWeight_1 = -0.0019171319273278695\n",
            "\u001b[30mCost/Loss = 0.6922564807954643\n",
            "\u001b[30mNumber of Iterations = 500\n",
            "\u001b[36mTrain Accuracy = 0.6037735849056604\n",
            "\u001b[36mTest Accuracy = 0.4945054945054945\n",
            "\u001b[35mLogistic Regression Info. of age and chol:- \n",
            "\u001b[30mBias = 0.0030469925371219902\n",
            "\u001b[30mWeight_0 = -0.005622106461028754\n",
            "\u001b[30mWeight_1 = -0.00018813387512701892\n",
            "\u001b[30mCost/Loss = 0.6923286269685525\n",
            "\u001b[30mNumber of Iterations = 500\n",
            "\u001b[36mTrain Accuracy = 0.6084905660377359\n",
            "\u001b[36mTest Accuracy = 0.4945054945054945\n",
            "\u001b[35mLogistic Regression Info. of age and fbs:- \n",
            "\u001b[30mBias = 0.0030469925356541336\n",
            "\u001b[30mWeight_0 = -0.00562236114638445\n",
            "\u001b[30mWeight_1 = 2.9262360685411902e-05\n",
            "\u001b[30mCost/Loss = 0.6923292607495714\n",
            "\u001b[30mNumber of Iterations = 500\n",
            "\u001b[36mTrain Accuracy = 0.6037735849056604\n",
            "\u001b[36mTest Accuracy = 0.4945054945054945\n",
            "\u001b[35mLogistic Regression Info. of age and restecg:- \n",
            "\u001b[30mBias = 0.0030469925602987845\n",
            "\u001b[30mWeight_0 = -0.005620674449612922\n",
            "\u001b[30mWeight_1 = 0.0023800073362900014\n",
            "\u001b[30mCost/Loss = 0.6922163675972398\n",
            "\u001b[30mNumber of Iterations = 500\n",
            "\u001b[36mTrain Accuracy = 0.6226415094339622\n",
            "\u001b[36mTest Accuracy = 0.4945054945054945\n",
            "\u001b[35mLogistic Regression Info. of age and thalach:- \n",
            "\u001b[30mBias = 0.0030469926843654017\n",
            "\u001b[30mWeight_0 = -0.005598509387351819\n",
            "\u001b[30mWeight_1 = 0.009865103624171381\n",
            "\u001b[30mCost/Loss = 0.6903882079228664\n",
            "\u001b[30mNumber of Iterations = 500\n",
            "\u001b[36mTrain Accuracy = 0.660377358490566\n",
            "\u001b[36mTest Accuracy = 0.5054945054945055\n",
            "\u001b[35mLogistic Regression Info. of age and exang:- \n",
            "\u001b[30mBias = 0.0030469925529224536\n",
            "\u001b[30mWeight_0 = -0.005614436987751584\n",
            "\u001b[30mWeight_1 = -0.01014448304079557\n",
            "\u001b[30mCost/Loss = 0.6902728428120086\n",
            "\u001b[30mNumber of Iterations = 500\n",
            "\u001b[36mTrain Accuracy = 0.6933962264150944\n",
            "\u001b[36mTest Accuracy = 0.4945054945054945\n",
            "\u001b[35mLogistic Regression Info. of age and oldpeak:- \n",
            "\u001b[30mBias = 0.0030469924838615924\n",
            "\u001b[30mWeight_0 = -0.005609235426248809\n",
            "\u001b[30mWeight_1 = -0.009846066431259402\n",
            "\u001b[30mCost/Loss = 0.6903933172374843\n",
            "\u001b[30mNumber of Iterations = 500\n",
            "\u001b[36mTrain Accuracy = 0.7122641509433962\n",
            "\u001b[36mTest Accuracy = 0.4945054945054945\n",
            "\u001b[35mLogistic Regression Info. of age and slope:- \n",
            "\u001b[30mBias = 0.00304699264785591\n",
            "\u001b[30mWeight_0 = -0.005614484526492027\n",
            "\u001b[30mWeight_1 = 0.007198646888642789\n",
            "\u001b[30mCost/Loss = 0.6912946328791982\n",
            "\u001b[30mNumber of Iterations = 500\n",
            "\u001b[36mTrain Accuracy = 0.6698113207547169\n",
            "\u001b[36mTest Accuracy = 0.4945054945054945\n",
            "\u001b[35mLogistic Regression Info. of age and ca:- \n",
            "\u001b[30mBias = 0.0030469924967003684\n",
            "\u001b[30mWeight_0 = -0.005609063370596937\n",
            "\u001b[30mWeight_1 = -0.009581194284039658\n",
            "\u001b[30mCost/Loss = 0.6904962705466678\n",
            "\u001b[30mNumber of Iterations = 500\n",
            "\u001b[36mTrain Accuracy = 0.7405660377358491\n",
            "\u001b[36mTest Accuracy = 0.4945054945054945\n",
            "\u001b[35mLogistic Regression Info. of age and thal:- \n",
            "\u001b[30mBias = 0.0030469928437430885\n",
            "\u001b[30mWeight_0 = -0.005617126982745411\n",
            "\u001b[30mWeight_1 = -0.00954997742200003\n",
            "\u001b[30mCost/Loss = 0.6905064095779448\n",
            "\u001b[30mNumber of Iterations = 500\n",
            "\u001b[36mTrain Accuracy = 0.7075471698113207\n",
            "\u001b[36mTest Accuracy = 0.4945054945054945\n",
            "\u001b[35mLogistic Regression Info. of sex and cp:- \n",
            "\u001b[30mBias = 0.0030469930342553317\n",
            "\u001b[30mWeight_0 = -0.007358738554281759\n",
            "\u001b[30mWeight_1 = 0.010873354756575715\n",
            "\u001b[30mCost/Loss = 0.689513876657467\n",
            "\u001b[30mNumber of Iterations = 500\n",
            "\u001b[36mTrain Accuracy = 0.7075471698113207\n",
            "\u001b[36mTest Accuracy = 0.7252747252747253\n",
            "\u001b[35mLogistic Regression Info. of sex and trestbps:- \n",
            "\u001b[30mBias = 0.003046992667373073\n",
            "\u001b[30mWeight_0 = -0.007361498409565183\n",
            "\u001b[30mWeight_1 = -0.0019289329402373315\n",
            "\u001b[30mCost/Loss = 0.691803248207269\n",
            "\u001b[30mNumber of Iterations = 500\n",
            "\u001b[36mTrain Accuracy = 0.6084905660377359\n",
            "\u001b[36mTest Accuracy = 0.4945054945054945\n",
            "\u001b[35mLogistic Regression Info. of sex and chol:- \n",
            "\u001b[30mBias = 0.003046992663742091\n",
            "\u001b[30mWeight_0 = -0.007361169291385337\n",
            "\u001b[30mWeight_1 = -0.00020759536396967542\n",
            "\u001b[30mCost/Loss = 0.6918768976537304\n",
            "\u001b[30mNumber of Iterations = 500\n",
            "\u001b[36mTrain Accuracy = 0.6132075471698113\n",
            "\u001b[36mTest Accuracy = 0.4945054945054945\n",
            "\u001b[35mLogistic Regression Info. of sex and fbs:- \n",
            "\u001b[30mBias = 0.0030469926674475587\n",
            "\u001b[30mWeight_0 = -0.0073608244311313895\n",
            "\u001b[30mWeight_1 = 2.5705912409975463e-05\n",
            "\u001b[30mCost/Loss = 0.6918778487343875\n",
            "\u001b[30mNumber of Iterations = 500\n",
            "\u001b[36mTrain Accuracy = 0.6132075471698113\n",
            "\u001b[36mTest Accuracy = 0.6153846153846154\n",
            "\u001b[35mLogistic Regression Info. of sex and restecg:- \n",
            "\u001b[30mBias = 0.0030469926871880093\n",
            "\u001b[30mWeight_0 = -0.0073605668605026325\n",
            "\u001b[30mWeight_1 = 0.0023831510034671203\n",
            "\u001b[30mCost/Loss = 0.6917643493972842\n",
            "\u001b[30mNumber of Iterations = 500\n",
            "\u001b[36mTrain Accuracy = 0.6367924528301887\n",
            "\u001b[36mTest Accuracy = 0.6153846153846154\n",
            "\u001b[35mLogistic Regression Info. of sex and thalach:- \n",
            "\u001b[30mBias = 0.003046992672370813\n",
            "\u001b[30mWeight_0 = -0.007357926173866264\n",
            "\u001b[30mWeight_1 = 0.009876482948983809\n",
            "\u001b[30mCost/Loss = 0.6899278140055205\n",
            "\u001b[30mNumber of Iterations = 500\n",
            "\u001b[36mTrain Accuracy = 0.7075471698113207\n",
            "\u001b[36mTest Accuracy = 0.5054945054945055\n",
            "\u001b[35mLogistic Regression Info. of sex and exang:- \n",
            "\u001b[30mBias = 0.0030469927033190103\n",
            "\u001b[30mWeight_0 = -0.00735294633377587\n",
            "\u001b[30mWeight_1 = -0.010143148172772466\n",
            "\u001b[30mCost/Loss = 0.689822504617697\n",
            "\u001b[30mNumber of Iterations = 500\n",
            "\u001b[36mTrain Accuracy = 0.7122641509433962\n",
            "\u001b[36mTest Accuracy = 0.6593406593406593\n",
            "\u001b[35mLogistic Regression Info. of sex and oldpeak:- \n",
            "\u001b[30mBias = 0.003046992554521514\n",
            "\u001b[30mWeight_0 = -0.00735005019546808\n",
            "\u001b[30mWeight_1 = -0.009845492702988231\n",
            "\u001b[30mCost/Loss = 0.6899423484846383\n",
            "\u001b[30mNumber of Iterations = 500\n",
            "\u001b[36mTrain Accuracy = 0.7264150943396226\n",
            "\u001b[36mTest Accuracy = 0.5934065934065934\n",
            "\u001b[35mLogistic Regression Info. of sex and slope:- \n",
            "\u001b[30mBias = 0.0030469927387617047\n",
            "\u001b[30mWeight_0 = -0.007356287625177407\n",
            "\u001b[30mWeight_1 = 0.007200142121075391\n",
            "\u001b[30mCost/Loss = 0.6908423527587952\n",
            "\u001b[30mNumber of Iterations = 500\n",
            "\u001b[36mTrain Accuracy = 0.6933962264150944\n",
            "\u001b[36mTest Accuracy = 0.5164835164835165\n",
            "\u001b[35mLogistic Regression Info. of sex and ca:- \n",
            "\u001b[30mBias = 0.003046992576414487\n",
            "\u001b[30mWeight_0 = -0.007349640648832702\n",
            "\u001b[30mWeight_1 = -0.009580391361367976\n",
            "\u001b[30mCost/Loss = 0.6900454651126099\n",
            "\u001b[30mNumber of Iterations = 500\n",
            "\u001b[36mTrain Accuracy = 0.7735849056603774\n",
            "\u001b[36mTest Accuracy = 0.6263736263736264\n",
            "\u001b[35mLogistic Regression Info. of sex and thal:- \n",
            "\u001b[30mBias = 0.003046992985631615\n",
            "\u001b[30mWeight_0 = -0.007349271196181176\n",
            "\u001b[30mWeight_1 = -0.009544147853038793\n",
            "\u001b[30mCost/Loss = 0.6900594361609409\n",
            "\u001b[30mNumber of Iterations = 500\n",
            "\u001b[36mTrain Accuracy = 0.7216981132075472\n",
            "\u001b[36mTest Accuracy = 0.4945054945054945\n",
            "\u001b[35mLogistic Regression Info. of cp and trestbps:- \n",
            "\u001b[30mBias = 0.0030469928315404946\n",
            "\u001b[30mWeight_0 = 0.010876237434971691\n",
            "\u001b[30mWeight_1 = -0.0019346404686683353\n",
            "\u001b[30mCost/Loss = 0.6905207894583484\n",
            "\u001b[30mNumber of Iterations = 500\n",
            "\u001b[36mTrain Accuracy = 0.7547169811320755\n",
            "\u001b[36mTest Accuracy = 0.4945054945054945\n",
            "\u001b[35mLogistic Regression Info. of cp and chol:- \n",
            "\u001b[30mBias = 0.0030469928633157896\n",
            "\u001b[30mWeight_0 = 0.010874678080679991\n",
            "\u001b[30mWeight_1 = -0.00019010314211850713\n",
            "\u001b[30mCost/Loss = 0.6905956005804706\n",
            "\u001b[30mNumber of Iterations = 500\n",
            "\u001b[36mTrain Accuracy = 0.7547169811320755\n",
            "\u001b[36mTest Accuracy = 0.4945054945054945\n",
            "\u001b[35mLogistic Regression Info. of cp and fbs:- \n",
            "\u001b[30mBias = 0.0030469928618821382\n",
            "\u001b[30mWeight_0 = 0.010874749170815249\n",
            "\u001b[30mWeight_1 = 1.607968694400919e-05\n",
            "\u001b[30mCost/Loss = 0.6905962870051433\n",
            "\u001b[30mNumber of Iterations = 500\n",
            "\u001b[36mTrain Accuracy = 0.7547169811320755\n",
            "\u001b[36mTest Accuracy = 0.5054945054945055\n",
            "\u001b[35mLogistic Regression Info. of cp and restecg:- \n",
            "\u001b[30mBias = 0.003046992841552787\n",
            "\u001b[30mWeight_0 = 0.010875529796069575\n",
            "\u001b[30mWeight_1 = 0.0023874250343347597\n",
            "\u001b[30mCost/Loss = 0.6904819577222371\n",
            "\u001b[30mNumber of Iterations = 500\n",
            "\u001b[36mTrain Accuracy = 0.7547169811320755\n",
            "\u001b[36mTest Accuracy = 0.5054945054945055\n",
            "\u001b[35mLogistic Regression Info. of cp and thalach:- \n",
            "\u001b[30mBias = 0.0030469928500859674\n",
            "\u001b[30mWeight_0 = 0.010859438767301065\n",
            "\u001b[30mWeight_1 = 0.009861765678172013\n",
            "\u001b[30mCost/Loss = 0.688657840705506\n",
            "\u001b[30mNumber of Iterations = 500\n",
            "\u001b[36mTrain Accuracy = 0.7405660377358491\n",
            "\u001b[36mTest Accuracy = 0.5054945054945055\n",
            "\u001b[35mLogistic Regression Info. of cp and exang:- \n",
            "\u001b[30mBias = 0.0030469927767817657\n",
            "\u001b[30mWeight_0 = 0.0108471352771148\n",
            "\u001b[30mWeight_1 = -0.010119244972749875\n",
            "\u001b[30mCost/Loss = 0.6885602690814765\n",
            "\u001b[30mNumber of Iterations = 500\n",
            "\u001b[36mTrain Accuracy = 0.7311320754716981\n",
            "\u001b[36mTest Accuracy = 0.7362637362637363\n",
            "\u001b[35mLogistic Regression Info. of cp and oldpeak:- \n",
            "\u001b[30mBias = 0.003046992548703916\n",
            "\u001b[30mWeight_0 = 0.010868307852741088\n",
            "\u001b[30mWeight_1 = -0.009846409291154273\n",
            "\u001b[30mCost/Loss = 0.6886600507260043\n",
            "\u001b[30mNumber of Iterations = 500\n",
            "\u001b[36mTrain Accuracy = 0.7688679245283019\n",
            "\u001b[36mTest Accuracy = 0.7362637362637363\n",
            "\u001b[35mLogistic Regression Info. of cp and slope:- \n",
            "\u001b[30mBias = 0.0030469928823993325\n",
            "\u001b[30mWeight_0 = 0.010871348072803474\n",
            "\u001b[30mWeight_1 = 0.007199616151877178\n",
            "\u001b[30mCost/Loss = 0.6895610785050138\n",
            "\u001b[30mNumber of Iterations = 500\n",
            "\u001b[36mTrain Accuracy = 0.7264150943396226\n",
            "\u001b[36mTest Accuracy = 0.5054945054945055\n",
            "\u001b[35mLogistic Regression Info. of cp and ca:- \n",
            "\u001b[30mBias = 0.003046992818535234\n",
            "\u001b[30mWeight_0 = 0.010867416398292102\n",
            "\u001b[30mWeight_1 = -0.009580635690528973\n",
            "\u001b[30mCost/Loss = 0.6887637011396537\n",
            "\u001b[30mNumber of Iterations = 500\n",
            "\u001b[36mTrain Accuracy = 0.75\n",
            "\u001b[36mTest Accuracy = 0.7472527472527473\n",
            "\u001b[35mLogistic Regression Info. of cp and thal:- \n",
            "\u001b[30mBias = 0.0030469932204189535\n",
            "\u001b[30mWeight_0 = 0.01086032849131678\n",
            "\u001b[30mWeight_1 = -0.009536606107933115\n",
            "\u001b[30mCost/Loss = 0.6887836066575446\n",
            "\u001b[30mNumber of Iterations = 500\n",
            "\u001b[36mTrain Accuracy = 0.7405660377358491\n",
            "\u001b[36mTest Accuracy = 0.6263736263736264\n",
            "\u001b[35mLogistic Regression Info. of trestbps and chol:- \n",
            "\u001b[30mBias = 1.8395766513266514e-05\n",
            "\u001b[30mWeight_0 = -1.162968551474261e-05\n",
            "\u001b[30mWeight_1 = -1.17711706226345e-06\n",
            "\u001b[30mCost/Loss = 0.6931455971150824\n",
            "\u001b[30mNumber of Iterations = 3\n",
            "\u001b[36mTrain Accuracy = 0.4386792452830189\n",
            "\u001b[36mTest Accuracy = 0.4945054945054945\n",
            "\u001b[35mLogistic Regression Info. of trestbps and fbs:- \n",
            "\u001b[30mBias = 1.8395766513266524e-05\n",
            "\u001b[30mWeight_0 = -1.1629688235066278e-05\n",
            "\u001b[30mWeight_1 = 1.4884069412910199e-07\n",
            "\u001b[30mCost/Loss = 0.6931456016595461\n",
            "\u001b[30mNumber of Iterations = 3\n",
            "\u001b[36mTrain Accuracy = 0.4386792452830189\n",
            "\u001b[36mTest Accuracy = 0.4945054945054945\n",
            "\u001b[35mLogistic Regression Info. of trestbps and restecg:- \n",
            "\u001b[30mBias = 1.8395766513266527e-05\n",
            "\u001b[30mWeight_0 = -1.1629668766661525e-05\n",
            "\u001b[30mWeight_1 = 1.4392220001322881e-05\n",
            "\u001b[30mCost/Loss = 0.6931449112909218\n",
            "\u001b[30mNumber of Iterations = 3\n",
            "\u001b[36mTrain Accuracy = 0.4386792452830189\n",
            "\u001b[36mTest Accuracy = 0.4945054945054945\n",
            "\u001b[35mLogistic Regression Info. of trestbps and thalach:- \n",
            "\u001b[30mBias = 0.003046992521690783\n",
            "\u001b[30mWeight_0 = -0.0019300220068336643\n",
            "\u001b[30mWeight_1 = 0.00987935726433398\n",
            "\u001b[30mCost/Loss = 0.690934963087869\n",
            "\u001b[30mNumber of Iterations = 500\n",
            "\u001b[36mTrain Accuracy = 0.6745283018867925\n",
            "\u001b[36mTest Accuracy = 0.5054945054945055\n",
            "\u001b[35mLogistic Regression Info. of trestbps and exang:- \n",
            "\u001b[30mBias = 0.0030469924712386606\n",
            "\u001b[30mWeight_0 = -0.0019280033461614894\n",
            "\u001b[30mWeight_1 = -0.010149172252328519\n",
            "\u001b[30mCost/Loss = 0.6908270385951776\n",
            "\u001b[30mNumber of Iterations = 500\n",
            "\u001b[36mTrain Accuracy = 0.7122641509433962\n",
            "\u001b[36mTest Accuracy = 0.4945054945054945\n",
            "\u001b[35mLogistic Regression Info. of trestbps and oldpeak:- \n",
            "\u001b[30mBias = 0.0030469923690377133\n",
            "\u001b[30mWeight_0 = -0.0019204637568618226\n",
            "\u001b[30mWeight_1 = -0.009852387308472084\n",
            "\u001b[30mCost/Loss = 0.690946340742641\n",
            "\u001b[30mNumber of Iterations = 500\n",
            "\u001b[36mTrain Accuracy = 0.6698113207547169\n",
            "\u001b[36mTest Accuracy = 0.4945054945054945\n",
            "\u001b[35mLogistic Regression Info. of trestbps and slope:- \n",
            "\u001b[30mBias = 0.003046992520627191\n",
            "\u001b[30mWeight_0 = -0.0019248511062583864\n",
            "\u001b[30mWeight_1 = 0.007204374095029021\n",
            "\u001b[30mCost/Loss = 0.6918493352645113\n",
            "\u001b[30mNumber of Iterations = 500\n",
            "\u001b[36mTrain Accuracy = 0.6745283018867925\n",
            "\u001b[36mTest Accuracy = 0.4945054945054945\n",
            "\u001b[35mLogistic Regression Info. of trestbps and ca:- \n",
            "\u001b[30mBias = 0.0030469923638569204\n",
            "\u001b[30mWeight_0 = -0.001922624182198873\n",
            "\u001b[30mWeight_1 = -0.009588223199731146\n",
            "\u001b[30mCost/Loss = 0.691048885468452\n",
            "\u001b[30mNumber of Iterations = 500\n",
            "\u001b[36mTrain Accuracy = 0.6886792452830188\n",
            "\u001b[36mTest Accuracy = 0.4945054945054945\n",
            "\u001b[35mLogistic Regression Info. of trestbps and thal:- \n",
            "\u001b[30mBias = 0.00304699275456485\n",
            "\u001b[30mWeight_0 = -0.0019189963740609227\n",
            "\u001b[30mWeight_1 = -0.009551564937800528\n",
            "\u001b[30mCost/Loss = 0.691063195908228\n",
            "\u001b[30mNumber of Iterations = 500\n",
            "\u001b[36mTrain Accuracy = 0.7547169811320755\n",
            "\u001b[36mTest Accuracy = 0.4945054945054945\n",
            "\u001b[35mLogistic Regression Info. of chol and fbs:- \n",
            "\u001b[30mBias = 1.8395766513266517e-05\n",
            "\u001b[30mWeight_0 = -1.177139825498648e-06\n",
            "\u001b[30mWeight_1 = 1.4880816350053707e-07\n",
            "\u001b[30mCost/Loss = 0.6931460478673446\n",
            "\u001b[30mNumber of Iterations = 3\n",
            "\u001b[36mTrain Accuracy = 0.4386792452830189\n",
            "\u001b[36mTest Accuracy = 0.4945054945054945\n",
            "\u001b[35mLogistic Regression Info. of chol and restecg:- \n",
            "\u001b[30mBias = 1.8395766513266527e-05\n",
            "\u001b[30mWeight_0 = -1.1770677862996868e-06\n",
            "\u001b[30mWeight_1 = 1.4392229504486003e-05\n",
            "\u001b[30mCost/Loss = 0.6931453574963605\n",
            "\u001b[30mNumber of Iterations = 3\n",
            "\u001b[36mTrain Accuracy = 0.4386792452830189\n",
            "\u001b[36mTest Accuracy = 0.4945054945054945\n",
            "\u001b[35mLogistic Regression Info. of chol and thalach:- \n",
            "\u001b[30mBias = 0.003046992523712051\n",
            "\u001b[30mWeight_0 = -0.0001998570996154395\n",
            "\u001b[30mWeight_1 = 0.00987873735713549\n",
            "\u001b[30mCost/Loss = 0.6910089083335522\n",
            "\u001b[30mNumber of Iterations = 500\n",
            "\u001b[36mTrain Accuracy = 0.6839622641509434\n",
            "\u001b[36mTest Accuracy = 0.5054945054945055\n",
            "\u001b[35mLogistic Regression Info. of chol and exang:- \n",
            "\u001b[30mBias = 0.003046992463802596\n",
            "\u001b[30mWeight_0 = -0.00019181565640689715\n",
            "\u001b[30mWeight_1 = -0.010148797291746846\n",
            "\u001b[30mCost/Loss = 0.6909007985454958\n",
            "\u001b[30mNumber of Iterations = 500\n",
            "\u001b[36mTrain Accuracy = 0.7122641509433962\n",
            "\u001b[36mTest Accuracy = 0.4945054945054945\n",
            "\u001b[35mLogistic Regression Info. of chol and oldpeak:- \n",
            "\u001b[30mBias = 0.003046992380047981\n",
            "\u001b[30mWeight_0 = -0.00019586824674750288\n",
            "\u001b[30mWeight_1 = -0.00985355252532137\n",
            "\u001b[30mCost/Loss = 0.6910188790990192\n",
            "\u001b[30mNumber of Iterations = 500\n",
            "\u001b[36mTrain Accuracy = 0.6745283018867925\n",
            "\u001b[36mTest Accuracy = 0.4945054945054945\n",
            "\u001b[35mLogistic Regression Info. of chol and slope:- \n",
            "\u001b[30mBias = 0.003046992519709679\n",
            "\u001b[30mWeight_0 = -0.000195486759391475\n",
            "\u001b[30mWeight_1 = 0.0072047872168347\n",
            "\u001b[30mCost/Loss = 0.6919225532484442\n",
            "\u001b[30mNumber of Iterations = 500\n",
            "\u001b[36mTrain Accuracy = 0.6698113207547169\n",
            "\u001b[36mTest Accuracy = 0.4945054945054945\n",
            "\u001b[35mLogistic Regression Info. of chol and ca:- \n",
            "\u001b[30mBias = 0.0030469923519256905\n",
            "\u001b[30mWeight_0 = -0.00019390863143958938\n",
            "\u001b[30mWeight_1 = -0.009588948167101966\n",
            "\u001b[30mCost/Loss = 0.6911217857986317\n",
            "\u001b[30mNumber of Iterations = 500\n",
            "\u001b[36mTrain Accuracy = 0.6650943396226415\n",
            "\u001b[36mTest Accuracy = 0.4945054945054945\n",
            "\u001b[35mLogistic Regression Info. of chol and thal:- \n",
            "\u001b[30mBias = 0.0030469927499383017\n",
            "\u001b[30mWeight_0 = -0.00019043612930280714\n",
            "\u001b[30mWeight_1 = -0.009552951963212788\n",
            "\u001b[30mCost/Loss = 0.691135592976274\n",
            "\u001b[30mNumber of Iterations = 500\n",
            "\u001b[36mTrain Accuracy = 0.7547169811320755\n",
            "\u001b[36mTest Accuracy = 0.4945054945054945\n",
            "\u001b[35mLogistic Regression Info. of fbs and restecg:- \n",
            "\u001b[30mBias = 1.8395766513266524e-05\n",
            "\u001b[30mWeight_0 = 1.4883765801203796e-07\n",
            "\u001b[30mWeight_1 = 1.4392235701425034e-05\n",
            "\u001b[30mCost/Loss = 0.693145362039866\n",
            "\u001b[30mNumber of Iterations = 3\n",
            "\u001b[36mTrain Accuracy = 0.4386792452830189\n",
            "\u001b[36mTest Accuracy = 0.4945054945054945\n",
            "\u001b[35mLogistic Regression Info. of fbs and thalach:- \n",
            "\u001b[30mBias = 0.003046992521413468\n",
            "\u001b[30mWeight_0 = 2.6314820810061642e-05\n",
            "\u001b[30mWeight_1 = 0.009878643875495505\n",
            "\u001b[30mCost/Loss = 0.6910097303419827\n",
            "\u001b[30mNumber of Iterations = 500\n",
            "\u001b[36mTrain Accuracy = 0.6839622641509434\n",
            "\u001b[36mTest Accuracy = 0.5054945054945055\n",
            "\u001b[35mLogistic Regression Info. of fbs and exang:- \n",
            "\u001b[30mBias = 0.0030469924639172025\n",
            "\u001b[30mWeight_0 = 2.5261520516167675e-05\n",
            "\u001b[30mWeight_1 = -0.010148858976595565\n",
            "\u001b[30mCost/Loss = 0.6909014967252571\n",
            "\u001b[30mNumber of Iterations = 500\n",
            "\u001b[36mTrain Accuracy = 0.7122641509433962\n",
            "\u001b[36mTest Accuracy = 0.7362637362637363\n",
            "\u001b[35mLogistic Regression Info. of fbs and oldpeak:- \n",
            "\u001b[30mBias = 0.0030469923785931058\n",
            "\u001b[30mWeight_0 = 2.5473995042561373e-05\n",
            "\u001b[30mWeight_1 = -0.009853537045130452\n",
            "\u001b[30mCost/Loss = 0.6910196394973941\n",
            "\u001b[30mNumber of Iterations = 500\n",
            "\u001b[36mTrain Accuracy = 0.6745283018867925\n",
            "\u001b[36mTest Accuracy = 0.6813186813186813\n",
            "\u001b[35mLogistic Regression Info. of fbs and slope:- \n",
            "\u001b[30mBias = 0.0030469925194948552\n",
            "\u001b[30mWeight_0 = 2.5353403490720862e-05\n",
            "\u001b[30mWeight_1 = 0.007204775986971496\n",
            "\u001b[30mCost/Loss = 0.6919233079221295\n",
            "\u001b[30mNumber of Iterations = 500\n",
            "\u001b[36mTrain Accuracy = 0.6698113207547169\n",
            "\u001b[36mTest Accuracy = 0.5054945054945055\n",
            "\u001b[35mLogistic Regression Info. of fbs and ca:- \n",
            "\u001b[30mBias = 0.0030469923506420585\n",
            "\u001b[30mWeight_0 = 3.2687148261809826e-05\n",
            "\u001b[30mWeight_1 = -0.00958899506454642\n",
            "\u001b[30mCost/Loss = 0.6911224980673811\n",
            "\u001b[30mNumber of Iterations = 500\n",
            "\u001b[36mTrain Accuracy = 0.6698113207547169\n",
            "\u001b[36mTest Accuracy = 0.7032967032967034\n",
            "\u001b[35mLogistic Regression Info. of fbs and thal:- \n",
            "\u001b[30mBias = 0.0030469927470394994\n",
            "\u001b[30mWeight_0 = 2.3373874228861416e-05\n",
            "\u001b[30mWeight_1 = -0.009553040122816726\n",
            "\u001b[30mCost/Loss = 0.6911362738811115\n",
            "\u001b[30mNumber of Iterations = 500\n",
            "\u001b[36mTrain Accuracy = 0.7547169811320755\n",
            "\u001b[36mTest Accuracy = 0.4835164835164835\n",
            "\u001b[35mLogistic Regression Info. of restecg and thalach:- \n",
            "\u001b[30mBias = 0.0030469925474885216\n",
            "\u001b[30mWeight_0 = 0.0023855077661643167\n",
            "\u001b[30mWeight_1 = 0.00987901915382707\n",
            "\u001b[30mCost/Loss = 0.6908957832183548\n",
            "\u001b[30mNumber of Iterations = 500\n",
            "\u001b[36mTrain Accuracy = 0.6745283018867925\n",
            "\u001b[36mTest Accuracy = 0.5054945054945055\n",
            "\u001b[35mLogistic Regression Info. of restecg and exang:- \n",
            "\u001b[30mBias = 0.0030469924762969243\n",
            "\u001b[30mWeight_0 = 0.0023819711330901995\n",
            "\u001b[30mWeight_1 = -0.010148396352979382\n",
            "\u001b[30mCost/Loss = 0.6907882210755136\n",
            "\u001b[30mNumber of Iterations = 500\n",
            "\u001b[36mTrain Accuracy = 0.7122641509433962\n",
            "\u001b[36mTest Accuracy = 0.7362637362637363\n",
            "\u001b[35mLogistic Regression Info. of restecg and oldpeak:- \n",
            "\u001b[30mBias = 0.0030469923951280966\n",
            "\u001b[30mWeight_0 = 0.0023855481777075023\n",
            "\u001b[30mWeight_1 = -0.00985392529014205\n",
            "\u001b[30mCost/Loss = 0.6909056829091477\n",
            "\u001b[30mNumber of Iterations = 500\n",
            "\u001b[36mTrain Accuracy = 0.6745283018867925\n",
            "\u001b[36mTest Accuracy = 0.7362637362637363\n",
            "\u001b[35mLogistic Regression Info. of restecg and slope:- \n",
            "\u001b[30mBias = 0.0030469925406604766\n",
            "\u001b[30mWeight_0 = 0.0023828682531189843\n",
            "\u001b[30mWeight_1 = 0.007204420583941629\n",
            "\u001b[30mCost/Loss = 0.6918098616968785\n",
            "\u001b[30mNumber of Iterations = 500\n",
            "\u001b[36mTrain Accuracy = 0.6320754716981132\n",
            "\u001b[36mTest Accuracy = 0.5054945054945055\n",
            "\u001b[35mLogistic Regression Info. of restecg and ca:- \n",
            "\u001b[30mBias = 0.003046992386120068\n",
            "\u001b[30mWeight_0 = 0.0023818377506039834\n",
            "\u001b[30mWeight_1 = -0.009588448704772221\n",
            "\u001b[30mCost/Loss = 0.6910092658640209\n",
            "\u001b[30mNumber of Iterations = 500\n",
            "\u001b[36mTrain Accuracy = 0.7169811320754716\n",
            "\u001b[36mTest Accuracy = 0.7032967032967034\n",
            "\u001b[35mLogistic Regression Info. of restecg and thal:- \n",
            "\u001b[30mBias = 0.0030469927536884186\n",
            "\u001b[30mWeight_0 = 0.002386972341563033\n",
            "\u001b[30mWeight_1 = -0.009553801775617753\n",
            "\u001b[30mCost/Loss = 0.6910220415327911\n",
            "\u001b[30mNumber of Iterations = 500\n",
            "\u001b[36mTrain Accuracy = 0.7547169811320755\n",
            "\u001b[36mTest Accuracy = 0.4835164835164835\n",
            "\u001b[35mLogistic Regression Info. of thalach and exang:- \n",
            "\u001b[30mBias = 0.0030469924258385633\n",
            "\u001b[30mWeight_0 = 0.009856998260593155\n",
            "\u001b[30mWeight_1 = -0.010127793990651012\n",
            "\u001b[30mCost/Loss = 0.688966818362615\n",
            "\u001b[30mNumber of Iterations = 500\n",
            "\u001b[36mTrain Accuracy = 0.7358490566037735\n",
            "\u001b[36mTest Accuracy = 0.5054945054945055\n",
            "\u001b[35mLogistic Regression Info. of thalach and oldpeak:- \n",
            "\u001b[30mBias = 0.0030469923487619326\n",
            "\u001b[30mWeight_0 = 0.00985869576460921\n",
            "\u001b[30mWeight_1 = -0.009833540438570142\n",
            "\u001b[30mCost/Loss = 0.6890836251546568\n",
            "\u001b[30mNumber of Iterations = 500\n",
            "\u001b[36mTrain Accuracy = 0.7358490566037735\n",
            "\u001b[36mTest Accuracy = 0.5054945054945055\n",
            "\u001b[35mLogistic Regression Info. of thalach and slope:- \n",
            "\u001b[30mBias = 0.003046992589580247\n",
            "\u001b[30mWeight_0 = 0.00986157387218154\n",
            "\u001b[30mWeight_1 = 0.007181350321576861\n",
            "\u001b[30mCost/Loss = 0.689985027060574\n",
            "\u001b[30mNumber of Iterations = 500\n",
            "\u001b[36mTrain Accuracy = 0.6933962264150944\n",
            "\u001b[36mTest Accuracy = 0.5054945054945055\n",
            "\u001b[35mLogistic Regression Info. of thalach and ca:- \n",
            "\u001b[30mBias = 0.0030469924631558506\n",
            "\u001b[30mWeight_0 = 0.009867681109498894\n",
            "\u001b[30mWeight_1 = -0.009577679762888959\n",
            "\u001b[30mCost/Loss = 0.6891794228883418\n",
            "\u001b[30mNumber of Iterations = 500\n",
            "\u001b[36mTrain Accuracy = 0.7452830188679245\n",
            "\u001b[36mTest Accuracy = 0.5054945054945055\n",
            "\u001b[35mLogistic Regression Info. of thalach and thal:- \n",
            "\u001b[30mBias = 0.003046992662969203\n",
            "\u001b[30mWeight_0 = 0.009875151430046724\n",
            "\u001b[30mWeight_1 = -0.00954943586485218\n",
            "\u001b[30mCost/Loss = 0.6891872854916021\n",
            "\u001b[30mNumber of Iterations = 500\n",
            "\u001b[36mTrain Accuracy = 0.7452830188679245\n",
            "\u001b[36mTest Accuracy = 0.5054945054945055\n",
            "\u001b[35mLogistic Regression Info. of exang and oldpeak:- \n",
            "\u001b[30mBias = 0.0030469921329951887\n",
            "\u001b[30mWeight_0 = -0.010133838676992834\n",
            "\u001b[30mWeight_1 = -0.009838065354746357\n",
            "\u001b[30mCost/Loss = 0.688971834856415\n",
            "\u001b[30mNumber of Iterations = 500\n",
            "\u001b[36mTrain Accuracy = 0.7358490566037735\n",
            "\u001b[36mTest Accuracy = 0.6923076923076923\n",
            "\u001b[35mLogistic Regression Info. of exang and slope:- \n",
            "\u001b[30mBias = 0.003046992478427456\n",
            "\u001b[30mWeight_0 = -0.010138809451119302\n",
            "\u001b[30mWeight_1 = 0.007190610317993873\n",
            "\u001b[30mCost/Loss = 0.6898714783071296\n",
            "\u001b[30mNumber of Iterations = 500\n",
            "\u001b[36mTrain Accuracy = 0.6839622641509434\n",
            "\u001b[36mTest Accuracy = 0.7582417582417582\n",
            "\u001b[35mLogistic Regression Info. of exang and ca:- \n",
            "\u001b[30mBias = 0.003046992460817152\n",
            "\u001b[30mWeight_0 = -0.010144305946875284\n",
            "\u001b[30mWeight_1 = -0.009584152244195657\n",
            "\u001b[30mCost/Loss = 0.6890662327981966\n",
            "\u001b[30mNumber of Iterations = 500\n",
            "\u001b[36mTrain Accuracy = 0.7594339622641509\n",
            "\u001b[36mTest Accuracy = 0.7582417582417582\n",
            "\u001b[35mLogistic Regression Info. of exang and thal:- \n",
            "\u001b[30mBias = 0.003046992594057717\n",
            "\u001b[30mWeight_0 = -0.010133301819235978\n",
            "\u001b[30mWeight_1 = -0.009536515241633953\n",
            "\u001b[30mCost/Loss = 0.6890888997994024\n",
            "\u001b[30mNumber of Iterations = 500\n",
            "\u001b[36mTrain Accuracy = 0.7405660377358491\n",
            "\u001b[36mTest Accuracy = 0.4945054945054945\n",
            "\u001b[35mLogistic Regression Info. of oldpeak and slope:- \n",
            "\u001b[30mBias = 0.003046992135466911\n",
            "\u001b[30mWeight_0 = -0.009827372415855642\n",
            "\u001b[30mWeight_1 = 0.007168936512789348\n",
            "\u001b[30mCost/Loss = 0.6900020425697114\n",
            "\u001b[30mNumber of Iterations = 500\n",
            "\u001b[36mTrain Accuracy = 0.7358490566037735\n",
            "\u001b[36mTest Accuracy = 0.7252747252747253\n",
            "\u001b[35mLogistic Regression Info. of oldpeak and ca:- \n",
            "\u001b[30mBias = 0.003046992250017154\n",
            "\u001b[30mWeight_0 = -0.009845288909554436\n",
            "\u001b[30mWeight_1 = -0.009580495932823983\n",
            "\u001b[30mCost/Loss = 0.6891871752452904\n",
            "\u001b[30mNumber of Iterations = 500\n",
            "\u001b[36mTrain Accuracy = 0.7688679245283019\n",
            "\u001b[36mTest Accuracy = 0.6923076923076923\n",
            "\u001b[35mLogistic Regression Info. of oldpeak and thal:- \n",
            "\u001b[30mBias = 0.003046992454361673\n",
            "\u001b[30mWeight_0 = -0.009841543979054554\n",
            "\u001b[30mWeight_1 = -0.00954067418861304\n",
            "\u001b[30mCost/Loss = 0.6892038742849216\n",
            "\u001b[30mNumber of Iterations = 500\n",
            "\u001b[36mTrain Accuracy = 0.7311320754716981\n",
            "\u001b[36mTest Accuracy = 0.4945054945054945\n",
            "\u001b[35mLogistic Regression Info. of slope and ca:- \n",
            "\u001b[30mBias = 0.0030469925088209247\n",
            "\u001b[30mWeight_0 = 0.007203940189273668\n",
            "\u001b[30mWeight_1 = -0.009588343758004504\n",
            "\u001b[30mCost/Loss = 0.6900848335510281\n",
            "\u001b[30mNumber of Iterations = 500\n",
            "\u001b[36mTrain Accuracy = 0.7688679245283019\n",
            "\u001b[36mTest Accuracy = 0.6373626373626373\n",
            "\u001b[35mLogistic Regression Info. of slope and thal:- \n",
            "\u001b[30mBias = 0.0030469927078904183\n",
            "\u001b[30mWeight_0 = 0.007199114118223286\n",
            "\u001b[30mWeight_1 = -0.009548775892252337\n",
            "\u001b[30mCost/Loss = 0.6901013647121135\n",
            "\u001b[30mNumber of Iterations = 500\n",
            "\u001b[36mTrain Accuracy = 0.7405660377358491\n",
            "\u001b[36mTest Accuracy = 0.45054945054945056\n",
            "\u001b[35mLogistic Regression Info. of ca and thal:- \n",
            "\u001b[30mBias = 0.0030469926003937127\n",
            "\u001b[30mWeight_0 = -0.009579438412192897\n",
            "\u001b[30mWeight_1 = -0.009543475926921289\n",
            "\u001b[30mCost/Loss = 0.6893046149577301\n",
            "\u001b[30mNumber of Iterations = 500\n",
            "\u001b[36mTrain Accuracy = 0.7641509433962265\n",
            "\u001b[36mTest Accuracy = 0.4835164835164835\n",
            "\u001b[32mBest Train Accuracy = 0.7735849056603774\n",
            "\u001b[32mBest Test Accuracy = 0.7582417582417582\n",
            "\u001b[32mBest Features = [['sex', 'ca']]\n"
          ]
        }
      ],
      "source": [
        "\n",
        "new_data = data.drop('target',axis=1)\n",
        "feature = new_data.columns\n",
        "iterations = 500\n",
        "alpha = 1e-4\n",
        "label = data[['target']]\n",
        "\n",
        "\n",
        "current_train_accuracy = []\n",
        "current_test_accuracy = []\n",
        "best_accuracy_train = 0.0\n",
        "best_accuracy_test = 0.0\n",
        "best_feature = []\n",
        "\n",
        "for f1 in range(len(feature)):\n",
        "    for f2 in range(len(feature)):\n",
        "        if f2 > f1 :\n",
        "            \n",
        "            new_features = pd.DataFrame([data[feature[f1]],data[feature[f2]]] ).T\n",
        "            \n",
        "            # standardization\n",
        "            \n",
        "            new_features[feature[f1]] = (new_features[feature[f1]] - new_features[feature[f1]].mean()) / new_features[feature[f1]].std()  \n",
        "            new_features[feature[f2]] = (new_features[feature[f2]] - new_features[feature[f2]].mean()) / new_features[feature[f2]].std()  \n",
        "            # calling functions\n",
        "            weight, weight_history, costs, hypothesis, loops = logisicRegression(new_features,label,iterations,alpha)\n",
        "            prediction_train = predict(new_features,label, weight)\n",
        "            prediction_test = predict(test[[feature[f1],feature[f2]]],test[['target']],weight) \n",
        "            print(Fore.MAGENTA + \"Logistic Regression Info. of {} and {}:- \".format(feature[f1],feature[f2]))\n",
        "            print(Fore.BLACK +\"Bias = {}\".format(weight[0][0]))\n",
        "            print(Fore.BLACK +\"Weight_0 = {}\".format(weight[1][0]))\n",
        "            print(Fore.BLACK +\"Weight_1 = {}\".format(weight[2][0]))\n",
        "            print(Fore.BLACK +\"Cost/Loss = {}\".format(costs[loops-1]))\n",
        "            print(Fore.BLACK +\"Number of Iterations = {}\".format(loops))\n",
        "            \n",
        "            current_train_accuracy.append(prediction_train)\n",
        "            #prediction_train.loc[prediction_train['Prediction']==prediction_train['target']].shape[0] / prediction_train.shape[0] * 100\n",
        "            current_test_accuracy.append(prediction_test) \n",
        "            #prediction_test.loc[prediction_test['Prediction']==prediction_test['target']].shape[0] / prediction_test.shape[0] * 100\n",
        "            print(Fore.CYAN + \"Train Accuracy = {}\".format(prediction_train))\n",
        "            print(Fore.CYAN + \"Test Accuracy = {}\".format(prediction_test))\n",
        "            if prediction_train > best_accuracy_train:\n",
        "                best_accuracy_train = prediction_train\n",
        "                best_feature = []\n",
        "                best_feature.append([feature[f1],feature[f2]])\n",
        "            if prediction_test > best_accuracy_test:\n",
        "                best_accuracy_test = prediction_test\n",
        "\n",
        "print(Fore.GREEN + \"Best Train Accuracy = {}\".format(best_accuracy_train))\n",
        "print(Fore.GREEN + \"Best Test Accuracy = {}\".format(best_accuracy_test))\n",
        "print(Fore.GREEN + \"Best Features = {}\".format(best_feature))\n"
      ]
    },
    {
      "cell_type": "markdown",
      "metadata": {
        "id": "I0-bYpUS0JRT"
      },
      "source": [
        "We get Best Accuracy from sex and ca features"
      ]
    },
    {
      "cell_type": "markdown",
      "metadata": {
        "id": "dTiw2hjI0JRT"
      },
      "source": [
        "Normalization(Standardization) enhanced accuracy a little bit and gets new features as the best features but the most powerful effect is that it gets higher accuracy in most features in other words increases the average of all accuracies  "
      ]
    },
    {
      "cell_type": "code",
      "execution_count": null,
      "metadata": {
        "id": "8kl_84OR0JRT",
        "outputId": "9cdd8d41-cd38-488b-c89a-195c836fc7ab"
      },
      "outputs": [
        {
          "data": {
            "text/plain": [
              "Text(0.5, 1.0, 'Test Accuracy')"
            ]
          },
          "execution_count": 28,
          "metadata": {},
          "output_type": "execute_result"
        },
        {
          "data": {
            "image/png": "[encoded data removed]",
            "text/plain": [
              "<Figure size 1080x360 with 2 Axes>"
            ]
          },
          "metadata": {},
          "output_type": "display_data"
        }
      ],
      "source": [
        "\n",
        "fig, axes = plt.subplots(1, 2, figsize=(15, 5))\n",
        "sns.histplot(current_train_accuracy,bins=30, kde=True,ax=axes[0])\n",
        "axes[0].set_title('Train Accuracy')\n",
        "sns.histplot(current_test_accuracy,bins=30, kde=True,ax=axes[1])\n",
        "axes[1].set_title('Test Accuracy')"
      ]
    },
    {
      "cell_type": "markdown",
      "metadata": {
        "id": "QE3eVg6P0JRT"
      },
      "source": [
        "#### Shuffling Data"
      ]
    },
    {
      "cell_type": "code",
      "execution_count": null,
      "metadata": {
        "id": "DJpT9kdW0JRT",
        "outputId": "5edb3125-1b6a-4e36-94e1-59292a557622"
      },
      "outputs": [
        {
          "data": {
            "text/html": [
              "<div>\n",
              "<style scoped>\n",
              "    .dataframe tbody tr th:only-of-type {\n",
              "        vertical-align: middle;\n",
              "    }\n",
              "\n",
              "    .dataframe tbody tr th {\n",
              "        vertical-align: top;\n",
              "    }\n",
              "\n",
              "    .dataframe thead th {\n",
              "        text-align: right;\n",
              "    }\n",
              "</style>\n",
              "<table border=\"1\" class=\"dataframe\">\n",
              "  <thead>\n",
              "    <tr style=\"text-align: right;\">\n",
              "      <th></th>\n",
              "      <th>age</th>\n",
              "      <th>sex</th>\n",
              "      <th>cp</th>\n",
              "      <th>trestbps</th>\n",
              "      <th>chol</th>\n",
              "      <th>fbs</th>\n",
              "      <th>restecg</th>\n",
              "      <th>thalach</th>\n",
              "      <th>exang</th>\n",
              "      <th>oldpeak</th>\n",
              "      <th>slope</th>\n",
              "      <th>ca</th>\n",
              "      <th>thal</th>\n",
              "      <th>target</th>\n",
              "    </tr>\n",
              "  </thead>\n",
              "  <tbody>\n",
              "    <tr>\n",
              "      <th>0</th>\n",
              "      <td>63</td>\n",
              "      <td>1</td>\n",
              "      <td>3</td>\n",
              "      <td>145</td>\n",
              "      <td>233</td>\n",
              "      <td>1</td>\n",
              "      <td>0</td>\n",
              "      <td>150</td>\n",
              "      <td>0</td>\n",
              "      <td>2.3</td>\n",
              "      <td>0</td>\n",
              "      <td>0</td>\n",
              "      <td>1</td>\n",
              "      <td>1</td>\n",
              "    </tr>\n",
              "    <tr>\n",
              "      <th>1</th>\n",
              "      <td>37</td>\n",
              "      <td>1</td>\n",
              "      <td>2</td>\n",
              "      <td>130</td>\n",
              "      <td>250</td>\n",
              "      <td>0</td>\n",
              "      <td>1</td>\n",
              "      <td>187</td>\n",
              "      <td>0</td>\n",
              "      <td>3.5</td>\n",
              "      <td>0</td>\n",
              "      <td>0</td>\n",
              "      <td>2</td>\n",
              "      <td>1</td>\n",
              "    </tr>\n",
              "    <tr>\n",
              "      <th>2</th>\n",
              "      <td>41</td>\n",
              "      <td>0</td>\n",
              "      <td>1</td>\n",
              "      <td>130</td>\n",
              "      <td>204</td>\n",
              "      <td>0</td>\n",
              "      <td>0</td>\n",
              "      <td>172</td>\n",
              "      <td>0</td>\n",
              "      <td>1.4</td>\n",
              "      <td>2</td>\n",
              "      <td>0</td>\n",
              "      <td>2</td>\n",
              "      <td>1</td>\n",
              "    </tr>\n",
              "    <tr>\n",
              "      <th>3</th>\n",
              "      <td>56</td>\n",
              "      <td>1</td>\n",
              "      <td>1</td>\n",
              "      <td>120</td>\n",
              "      <td>236</td>\n",
              "      <td>0</td>\n",
              "      <td>1</td>\n",
              "      <td>178</td>\n",
              "      <td>0</td>\n",
              "      <td>0.8</td>\n",
              "      <td>2</td>\n",
              "      <td>0</td>\n",
              "      <td>2</td>\n",
              "      <td>1</td>\n",
              "    </tr>\n",
              "    <tr>\n",
              "      <th>4</th>\n",
              "      <td>57</td>\n",
              "      <td>0</td>\n",
              "      <td>0</td>\n",
              "      <td>120</td>\n",
              "      <td>354</td>\n",
              "      <td>0</td>\n",
              "      <td>1</td>\n",
              "      <td>163</td>\n",
              "      <td>1</td>\n",
              "      <td>0.6</td>\n",
              "      <td>2</td>\n",
              "      <td>0</td>\n",
              "      <td>2</td>\n",
              "      <td>1</td>\n",
              "    </tr>\n",
              "  </tbody>\n",
              "</table>\n",
              "</div>"
            ],
            "text/plain": [
              "   age  sex  cp  trestbps  chol  fbs  restecg  thalach  exang  oldpeak  slope  \\\n",
              "0   63    1   3       145   233    1        0      150      0      2.3      0   \n",
              "1   37    1   2       130   250    0        1      187      0      3.5      0   \n",
              "2   41    0   1       130   204    0        0      172      0      1.4      2   \n",
              "3   56    1   1       120   236    0        1      178      0      0.8      2   \n",
              "4   57    0   0       120   354    0        1      163      1      0.6      2   \n",
              "\n",
              "   ca  thal  target  \n",
              "0   0     1       1  \n",
              "1   0     2       1  \n",
              "2   0     2       1  \n",
              "3   0     2       1  \n",
              "4   0     2       1  "
            ]
          },
          "execution_count": 29,
          "metadata": {},
          "output_type": "execute_result"
        }
      ],
      "source": [
        "data.head()"
      ]
    },
    {
      "cell_type": "code",
      "execution_count": null,
      "metadata": {
        "id": "TNU-m8pU0JRT",
        "outputId": "f53bae1b-9783-4072-c4e6-ccf77bf2f259"
      },
      "outputs": [
        {
          "data": {
            "text/html": [
              "<div>\n",
              "<style scoped>\n",
              "    .dataframe tbody tr th:only-of-type {\n",
              "        vertical-align: middle;\n",
              "    }\n",
              "\n",
              "    .dataframe tbody tr th {\n",
              "        vertical-align: top;\n",
              "    }\n",
              "\n",
              "    .dataframe thead th {\n",
              "        text-align: right;\n",
              "    }\n",
              "</style>\n",
              "<table border=\"1\" class=\"dataframe\">\n",
              "  <thead>\n",
              "    <tr style=\"text-align: right;\">\n",
              "      <th></th>\n",
              "      <th>age</th>\n",
              "      <th>sex</th>\n",
              "      <th>cp</th>\n",
              "      <th>trestbps</th>\n",
              "      <th>chol</th>\n",
              "      <th>fbs</th>\n",
              "      <th>restecg</th>\n",
              "      <th>thalach</th>\n",
              "      <th>exang</th>\n",
              "      <th>oldpeak</th>\n",
              "      <th>slope</th>\n",
              "      <th>ca</th>\n",
              "      <th>thal</th>\n",
              "      <th>target</th>\n",
              "    </tr>\n",
              "  </thead>\n",
              "  <tbody>\n",
              "    <tr>\n",
              "      <th>0</th>\n",
              "      <td>59</td>\n",
              "      <td>1</td>\n",
              "      <td>3</td>\n",
              "      <td>178</td>\n",
              "      <td>270</td>\n",
              "      <td>0</td>\n",
              "      <td>0</td>\n",
              "      <td>145</td>\n",
              "      <td>0</td>\n",
              "      <td>4.2</td>\n",
              "      <td>0</td>\n",
              "      <td>0</td>\n",
              "      <td>3</td>\n",
              "      <td>1</td>\n",
              "    </tr>\n",
              "    <tr>\n",
              "      <th>1</th>\n",
              "      <td>51</td>\n",
              "      <td>0</td>\n",
              "      <td>2</td>\n",
              "      <td>140</td>\n",
              "      <td>308</td>\n",
              "      <td>0</td>\n",
              "      <td>0</td>\n",
              "      <td>142</td>\n",
              "      <td>0</td>\n",
              "      <td>1.5</td>\n",
              "      <td>2</td>\n",
              "      <td>1</td>\n",
              "      <td>2</td>\n",
              "      <td>1</td>\n",
              "    </tr>\n",
              "    <tr>\n",
              "      <th>2</th>\n",
              "      <td>59</td>\n",
              "      <td>1</td>\n",
              "      <td>3</td>\n",
              "      <td>134</td>\n",
              "      <td>204</td>\n",
              "      <td>0</td>\n",
              "      <td>1</td>\n",
              "      <td>162</td>\n",
              "      <td>0</td>\n",
              "      <td>0.8</td>\n",
              "      <td>2</td>\n",
              "      <td>2</td>\n",
              "      <td>2</td>\n",
              "      <td>0</td>\n",
              "    </tr>\n",
              "    <tr>\n",
              "      <th>3</th>\n",
              "      <td>54</td>\n",
              "      <td>1</td>\n",
              "      <td>2</td>\n",
              "      <td>125</td>\n",
              "      <td>273</td>\n",
              "      <td>0</td>\n",
              "      <td>0</td>\n",
              "      <td>152</td>\n",
              "      <td>0</td>\n",
              "      <td>0.5</td>\n",
              "      <td>0</td>\n",
              "      <td>1</td>\n",
              "      <td>2</td>\n",
              "      <td>1</td>\n",
              "    </tr>\n",
              "    <tr>\n",
              "      <th>4</th>\n",
              "      <td>62</td>\n",
              "      <td>1</td>\n",
              "      <td>0</td>\n",
              "      <td>120</td>\n",
              "      <td>267</td>\n",
              "      <td>0</td>\n",
              "      <td>1</td>\n",
              "      <td>99</td>\n",
              "      <td>1</td>\n",
              "      <td>1.8</td>\n",
              "      <td>1</td>\n",
              "      <td>2</td>\n",
              "      <td>3</td>\n",
              "      <td>0</td>\n",
              "    </tr>\n",
              "  </tbody>\n",
              "</table>\n",
              "</div>"
            ],
            "text/plain": [
              "   age  sex  cp  trestbps  chol  fbs  restecg  thalach  exang  oldpeak  slope  \\\n",
              "0   59    1   3       178   270    0        0      145      0      4.2      0   \n",
              "1   51    0   2       140   308    0        0      142      0      1.5      2   \n",
              "2   59    1   3       134   204    0        1      162      0      0.8      2   \n",
              "3   54    1   2       125   273    0        0      152      0      0.5      0   \n",
              "4   62    1   0       120   267    0        1       99      1      1.8      1   \n",
              "\n",
              "   ca  thal  target  \n",
              "0   0     3       1  \n",
              "1   1     2       1  \n",
              "2   2     2       0  \n",
              "3   1     2       1  \n",
              "4   2     3       0  "
            ]
          },
          "execution_count": 30,
          "metadata": {},
          "output_type": "execute_result"
        }
      ],
      "source": [
        "np.random.seed(411)\n",
        "data_shuffled = data.sample(frac=1.0).reset_index(drop=True)\n",
        "data_shuffled.head()"
      ]
    },
    {
      "cell_type": "code",
      "execution_count": null,
      "metadata": {
        "id": "ZUpFe2fz0JRU",
        "outputId": "0732706f-2e9c-4ee7-8b87-1606e399517d"
      },
      "outputs": [
        {
          "name": "stdout",
          "output_type": "stream",
          "text": [
            "<class 'pandas.core.frame.DataFrame'>\n",
            "RangeIndex: 212 entries, 0 to 211\n",
            "Data columns (total 14 columns):\n",
            " #   Column    Non-Null Count  Dtype  \n",
            "---  ------    --------------  -----  \n",
            " 0   age       212 non-null    int64  \n",
            " 1   sex       212 non-null    int64  \n",
            " 2   cp        212 non-null    int64  \n",
            " 3   trestbps  212 non-null    int64  \n",
            " 4   chol      212 non-null    int64  \n",
            " 5   fbs       212 non-null    int64  \n",
            " 6   restecg   212 non-null    int64  \n",
            " 7   thalach   212 non-null    int64  \n",
            " 8   exang     212 non-null    int64  \n",
            " 9   oldpeak   212 non-null    float64\n",
            " 10  slope     212 non-null    int64  \n",
            " 11  ca        212 non-null    int64  \n",
            " 12  thal      212 non-null    int64  \n",
            " 13  target    212 non-null    int64  \n",
            "dtypes: float64(1), int64(13)\n",
            "memory usage: 23.3 KB\n"
          ]
        }
      ],
      "source": [
        "data_shuffled.info()"
      ]
    },
    {
      "cell_type": "code",
      "execution_count": null,
      "metadata": {
        "id": "N6CnIKRA0JRU",
        "outputId": "32a74535-fe31-41cf-f591-33bb0c6c6b90"
      },
      "outputs": [
        {
          "name": "stdout",
          "output_type": "stream",
          "text": [
            "\u001b[35mLogistic Regression Info. of age and sex:- \n",
            "\u001b[30mBias = 0.00013849274346361512\n",
            "\u001b[30mWeight_0 = 0.002921679567876305\n",
            "\u001b[30mWeight_1 = -0.0001976281125687083\n",
            "\u001b[30mCost/Loss = 0.6896436056523332\n",
            "\u001b[30mNumber of Iterations = 43\n",
            "\u001b[36mTrain Accuracy = 0.5613207547169812\n",
            "\u001b[36mTest Accuracy = 0.5054945054945055\n",
            "\u001b[35mLogistic Regression Info. of age and cp:- \n",
            "\u001b[30mBias = 0.0010529173797236787\n",
            "\u001b[30mWeight_0 = 0.0027809690367313505\n",
            "\u001b[30mWeight_1 = 0.012471391740048429\n",
            "\u001b[30mCost/Loss = 0.6865340991419394\n",
            "\u001b[30mNumber of Iterations = 500\n",
            "\u001b[36mTrain Accuracy = 0.5613207547169812\n",
            "\u001b[36mTest Accuracy = 0.5054945054945055\n",
            "\u001b[35mLogistic Regression Info. of age and trestbps:- \n",
            "\u001b[30mBias = 0.00042829226641997184\n",
            "\u001b[30mWeight_0 = -0.01986352693121521\n",
            "\u001b[30mWeight_1 = 0.009841764567226172\n",
            "\u001b[30mCost/Loss = 0.6766916321641928\n",
            "\u001b[30mNumber of Iterations = 500\n",
            "\u001b[36mTrain Accuracy = 0.5566037735849056\n",
            "\u001b[36mTest Accuracy = 0.5054945054945055\n",
            "\u001b[35mLogistic Regression Info. of age and chol:- \n",
            "\u001b[30mBias = 0.0004868676092928476\n",
            "\u001b[30mWeight_0 = -0.01745137398117708\n",
            "\u001b[30mWeight_1 = 0.004668272145773495\n",
            "\u001b[30mCost/Loss = 0.6776834466946342\n",
            "\u001b[30mNumber of Iterations = 500\n",
            "\u001b[36mTrain Accuracy = 0.5660377358490566\n",
            "\u001b[36mTest Accuracy = 0.42857142857142855\n",
            "\u001b[35mLogistic Regression Info. of age and fbs:- \n",
            "\u001b[30mBias = 0.00013413559890000353\n",
            "\u001b[30mWeight_0 = 0.0029030635117499428\n",
            "\u001b[30mWeight_1 = 2.0047643909722112e-05\n",
            "\u001b[30mCost/Loss = 0.6896556895216688\n",
            "\u001b[30mNumber of Iterations = 41\n",
            "\u001b[36mTrain Accuracy = 0.5613207547169812\n",
            "\u001b[36mTest Accuracy = 0.5054945054945055\n",
            "\u001b[35mLogistic Regression Info. of age and restecg:- \n",
            "\u001b[30mBias = 0.0001362823192197353\n",
            "\u001b[30mWeight_0 = 0.002910775126203838\n",
            "\u001b[30mWeight_1 = 0.0001771350828288471\n",
            "\u001b[30mCost/Loss = 0.6896485410872031\n",
            "\u001b[30mNumber of Iterations = 42\n",
            "\u001b[36mTrain Accuracy = 0.5613207547169812\n",
            "\u001b[36mTest Accuracy = 0.5054945054945055\n",
            "\u001b[35mLogistic Regression Info. of age and thalach:- \n",
            "\u001b[30mBias = -0.0006656214397770936\n",
            "\u001b[30mWeight_0 = -0.046889058322427214\n",
            "\u001b[30mWeight_1 = 0.01917527941233943\n",
            "\u001b[30mCost/Loss = 0.6111710949730985\n",
            "\u001b[30mNumber of Iterations = 500\n",
            "\u001b[36mTrain Accuracy = 0.6415094339622641\n",
            "\u001b[36mTest Accuracy = 0.6813186813186813\n",
            "\u001b[35mLogistic Regression Info. of age and exang:- \n",
            "\u001b[30mBias = 0.0001574925029178673\n",
            "\u001b[30mWeight_0 = 0.0029720367462793837\n",
            "\u001b[30mWeight_1 = -0.0004426652509827107\n",
            "\u001b[30mCost/Loss = 0.6896120082836771\n",
            "\u001b[30mNumber of Iterations = 52\n",
            "\u001b[36mTrain Accuracy = 0.5613207547169812\n",
            "\u001b[36mTest Accuracy = 0.5054945054945055\n",
            "\u001b[35mLogistic Regression Info. of age and oldpeak:- \n",
            "\u001b[30mBias = 0.0010615621238695752\n",
            "\u001b[30mWeight_0 = 0.0031737187264736164\n",
            "\u001b[30mWeight_1 = -0.009717086034067837\n",
            "\u001b[30mCost/Loss = 0.6877325049978077\n",
            "\u001b[30mNumber of Iterations = 500\n",
            "\u001b[36mTrain Accuracy = 0.5613207547169812\n",
            "\u001b[36mTest Accuracy = 0.5054945054945055\n",
            "\u001b[35mLogistic Regression Info. of age and slope:- \n",
            "\u001b[30mBias = 0.001054458941414694\n",
            "\u001b[30mWeight_0 = 0.002856116727354438\n",
            "\u001b[30mWeight_1 = 0.00599026351584861\n",
            "\u001b[30mCost/Loss = 0.6889231031974276\n",
            "\u001b[30mNumber of Iterations = 500\n",
            "\u001b[36mTrain Accuracy = 0.5613207547169812\n",
            "\u001b[36mTest Accuracy = 0.5054945054945055\n",
            "\u001b[35mLogistic Regression Info. of age and ca:- \n",
            "\u001b[30mBias = 0.0010603200866322782\n",
            "\u001b[30mWeight_0 = 0.003117838914887609\n",
            "\u001b[30mWeight_1 = -0.008879053521465978\n",
            "\u001b[30mCost/Loss = 0.6880479632071501\n",
            "\u001b[30mNumber of Iterations = 500\n",
            "\u001b[36mTrain Accuracy = 0.5613207547169812\n",
            "\u001b[36mTest Accuracy = 0.5054945054945055\n",
            "\u001b[35mLogistic Regression Info. of age and thal:- \n",
            "\u001b[30mBias = 0.00014282561218627074\n",
            "\u001b[30mWeight_0 = 0.002938986750876832\n",
            "\u001b[30mWeight_1 = -0.00018144891692718757\n",
            "\u001b[30mCost/Loss = 0.6896411629944178\n",
            "\u001b[30mNumber of Iterations = 45\n",
            "\u001b[36mTrain Accuracy = 0.5613207547169812\n",
            "\u001b[36mTest Accuracy = 0.5054945054945055\n",
            "\u001b[35mLogistic Regression Info. of sex and cp:- \n",
            "\u001b[30mBias = 0.002960270480845003\n",
            "\u001b[30mWeight_0 = -0.0013673792737109568\n",
            "\u001b[30mWeight_1 = 0.014414967262295015\n",
            "\u001b[30mCost/Loss = 0.6887784328319899\n",
            "\u001b[30mNumber of Iterations = 500\n",
            "\u001b[36mTrain Accuracy = 0.5613207547169812\n",
            "\u001b[36mTest Accuracy = 0.5054945054945055\n",
            "\u001b[35mLogistic Regression Info. of sex and trestbps:- \n",
            "\u001b[30mBias = 1.7663196089636174e-05\n",
            "\u001b[30mWeight_0 = -4.924781282268583e-05\n",
            "\u001b[30mWeight_1 = 0.0016860484434855442\n",
            "\u001b[30mCost/Loss = 0.6868357471600087\n",
            "\u001b[30mNumber of Iterations = 9\n",
            "\u001b[36mTrain Accuracy = 0.5613207547169812\n",
            "\u001b[36mTest Accuracy = 0.5054945054945055\n",
            "\u001b[35mLogistic Regression Info. of sex and chol:- \n",
            "\u001b[30mBias = 7.190672158168473e-06\n",
            "\u001b[30mWeight_0 = -6.199253635380993e-05\n",
            "\u001b[30mWeight_1 = 0.0009351761312994847\n",
            "\u001b[30mCost/Loss = 0.6861462873130423\n",
            "\u001b[30mNumber of Iterations = 10\n",
            "\u001b[36mTrain Accuracy = 0.5613207547169812\n",
            "\u001b[36mTest Accuracy = 0.5054945054945055\n",
            "\u001b[35mLogistic Regression Info. of sex and fbs:- \n",
            "\u001b[30mBias = 1.839589075135338e-05\n",
            "\u001b[30mWeight_0 = -7.783210519995045e-06\n",
            "\u001b[30mWeight_1 = 2.830129689838443e-06\n",
            "\u001b[30mCost/Loss = 0.693145823912039\n",
            "\u001b[30mNumber of Iterations = 3\n",
            "\u001b[36mTrain Accuracy = 0.4386792452830189\n",
            "\u001b[36mTest Accuracy = 0.4945054945054945\n",
            "\u001b[35mLogistic Regression Info. of sex and restecg:- \n",
            "\u001b[30mBias = 1.8395685166302122e-05\n",
            "\u001b[30mWeight_0 = -7.783351025088506e-06\n",
            "\u001b[30mWeight_1 = 1.6980737422707845e-05\n",
            "\u001b[30mCost/Loss = 0.6931448894926346\n",
            "\u001b[30mNumber of Iterations = 3\n",
            "\u001b[36mTrain Accuracy = 0.4386792452830189\n",
            "\u001b[36mTest Accuracy = 0.4945054945054945\n",
            "\u001b[35mLogistic Regression Info. of sex and thalach:- \n",
            "\u001b[30mBias = -6.817306292702926e-06\n",
            "\u001b[30mWeight_0 = -5.931282007800365e-05\n",
            "\u001b[30mWeight_1 = 0.0024080102643877443\n",
            "\u001b[30mCost/Loss = 0.6766864159536984\n",
            "\u001b[30mNumber of Iterations = 8\n",
            "\u001b[36mTrain Accuracy = 0.5613207547169812\n",
            "\u001b[36mTest Accuracy = 0.5054945054945055\n",
            "\u001b[35mLogistic Regression Info. of sex and exang:- \n",
            "\u001b[30mBias = 0.00305965783023883\n",
            "\u001b[30mWeight_0 = -0.0012992477186735388\n",
            "\u001b[30mWeight_1 = -0.003770338328629334\n",
            "\u001b[30mCost/Loss = 0.6926418813177693\n",
            "\u001b[30mNumber of Iterations = 500\n",
            "\u001b[36mTrain Accuracy = 0.7122641509433962\n",
            "\u001b[36mTest Accuracy = 0.7362637362637363\n",
            "\u001b[35mLogistic Regression Info. of sex and oldpeak:- \n",
            "\u001b[30mBias = 0.0030991930233283645\n",
            "\u001b[30mWeight_0 = -0.001268264952500337\n",
            "\u001b[30mWeight_1 = -0.00765845794026503\n",
            "\u001b[30mCost/Loss = 0.6917498303604724\n",
            "\u001b[30mNumber of Iterations = 500\n",
            "\u001b[36mTrain Accuracy = 0.6273584905660378\n",
            "\u001b[36mTest Accuracy = 0.6923076923076923\n",
            "\u001b[35mLogistic Regression Info. of sex and slope:- \n",
            "\u001b[30mBias = 0.0029751270144423333\n",
            "\u001b[30mWeight_0 = -0.0013568649698045751\n",
            "\u001b[30mWeight_1 = 0.008693601622471545\n",
            "\u001b[30mCost/Loss = 0.6914215890985217\n",
            "\u001b[30mNumber of Iterations = 500\n",
            "\u001b[36mTrain Accuracy = 0.5613207547169812\n",
            "\u001b[36mTest Accuracy = 0.5054945054945055\n",
            "\u001b[35mLogistic Regression Info. of sex and ca:- \n",
            "\u001b[30mBias = 0.0030852175355762087\n",
            "\u001b[30mWeight_0 = -0.0012781893406144298\n",
            "\u001b[30mWeight_1 = -0.007369357313283729\n",
            "\u001b[30mCost/Loss = 0.6918379729252342\n",
            "\u001b[30mNumber of Iterations = 500\n",
            "\u001b[36mTrain Accuracy = 0.75\n",
            "\u001b[36mTest Accuracy = 0.7032967032967034\n",
            "\u001b[35mLogistic Regression Info. of sex and thal:- \n",
            "\u001b[30mBias = 1.8395410864211728e-05\n",
            "\u001b[30mWeight_0 = -7.783554249532171e-06\n",
            "\u001b[30mWeight_1 = 8.488617811925653e-06\n",
            "\u001b[30mCost/Loss = 0.6931456105005838\n",
            "\u001b[30mNumber of Iterations = 3\n",
            "\u001b[36mTrain Accuracy = 0.4386792452830189\n",
            "\u001b[36mTest Accuracy = 0.4945054945054945\n",
            "\u001b[35mLogistic Regression Info. of cp and trestbps:- \n",
            "\u001b[30mBias = 0.0002937692855217959\n",
            "\u001b[30mWeight_0 = 0.011650810233310221\n",
            "\u001b[30mWeight_1 = 0.001603083935045913\n",
            "\u001b[30mCost/Loss = 0.6841252175570809\n",
            "\u001b[30mNumber of Iterations = 500\n",
            "\u001b[36mTrain Accuracy = 0.5613207547169812\n",
            "\u001b[36mTest Accuracy = 0.5054945054945055\n",
            "\u001b[35mLogistic Regression Info. of cp and chol:- \n",
            "\u001b[30mBias = 0.00017827820964013352\n",
            "\u001b[30mWeight_0 = 0.011621130052331227\n",
            "\u001b[30mWeight_1 = 0.0008926725074112521\n",
            "\u001b[30mCost/Loss = 0.6834493542103846\n",
            "\u001b[30mNumber of Iterations = 500\n",
            "\u001b[36mTrain Accuracy = 0.5613207547169812\n",
            "\u001b[36mTest Accuracy = 0.5054945054945055\n",
            "\u001b[35mLogistic Regression Info. of cp and fbs:- \n",
            "\u001b[30mBias = 0.0029540797010714323\n",
            "\u001b[30mWeight_0 = 0.014408619667033624\n",
            "\u001b[30mWeight_1 = 0.0004501331362255964\n",
            "\u001b[30mCost/Loss = 0.6888161774055788\n",
            "\u001b[30mNumber of Iterations = 500\n",
            "\u001b[36mTrain Accuracy = 0.5613207547169812\n",
            "\u001b[36mTest Accuracy = 0.5054945054945055\n",
            "\u001b[35mLogistic Regression Info. of cp and restecg:- \n",
            "\u001b[30mBias = 0.002945721368077563\n",
            "\u001b[30mWeight_0 = 0.014400694124096121\n",
            "\u001b[30mWeight_1 = 0.0027666369254591857\n",
            "\u001b[30mCost/Loss = 0.6886726500031193\n",
            "\u001b[30mNumber of Iterations = 500\n",
            "\u001b[36mTrain Accuracy = 0.5613207547169812\n",
            "\u001b[36mTest Accuracy = 0.5054945054945055\n",
            "\u001b[35mLogistic Regression Info. of cp and thalach:- \n",
            "\u001b[30mBias = -0.0013903283481328885\n",
            "\u001b[30mWeight_0 = 0.009803650479286751\n",
            "\u001b[30mWeight_1 = 0.002352425739191094\n",
            "\u001b[30mCost/Loss = 0.6747336415610224\n",
            "\u001b[30mNumber of Iterations = 500\n",
            "\u001b[36mTrain Accuracy = 0.5613207547169812\n",
            "\u001b[36mTest Accuracy = 0.5054945054945055\n",
            "\u001b[35mLogistic Regression Info. of cp and exang:- \n",
            "\u001b[30mBias = 0.002961581802313932\n",
            "\u001b[30mWeight_0 = 0.014411474766283846\n",
            "\u001b[30mWeight_1 = -0.0037810592704233628\n",
            "\u001b[30mCost/Loss = 0.688531785827984\n",
            "\u001b[30mNumber of Iterations = 500\n",
            "\u001b[36mTrain Accuracy = 0.7452830188679245\n",
            "\u001b[36mTest Accuracy = 0.7362637362637363\n",
            "\u001b[35mLogistic Regression Info. of cp and oldpeak:- \n",
            "\u001b[30mBias = 0.0030013668986971324\n",
            "\u001b[30mWeight_0 = 0.01445140302823547\n",
            "\u001b[30mWeight_1 = -0.007743574311000938\n",
            "\u001b[30mCost/Loss = 0.6875907825027803\n",
            "\u001b[30mNumber of Iterations = 500\n",
            "\u001b[36mTrain Accuracy = 0.7594339622641509\n",
            "\u001b[36mTest Accuracy = 0.7362637362637363\n",
            "\u001b[35mLogistic Regression Info. of cp and slope:- \n",
            "\u001b[30mBias = 0.002878084755852516\n",
            "\u001b[30mWeight_0 = 0.014328332866058289\n",
            "\u001b[30mWeight_1 = 0.00855094676306219\n",
            "\u001b[30mCost/Loss = 0.6874120396843514\n",
            "\u001b[30mNumber of Iterations = 500\n",
            "\u001b[36mTrain Accuracy = 0.5613207547169812\n",
            "\u001b[36mTest Accuracy = 0.5054945054945055\n",
            "\u001b[35mLogistic Regression Info. of cp and ca:- \n",
            "\u001b[30mBias = 0.0029872533784966447\n",
            "\u001b[30mWeight_0 = 0.014436777443356894\n",
            "\u001b[30mWeight_1 = -0.0074279508180555955\n",
            "\u001b[30mCost/Loss = 0.6876966540829216\n",
            "\u001b[30mNumber of Iterations = 500\n",
            "\u001b[36mTrain Accuracy = 0.7688679245283019\n",
            "\u001b[36mTest Accuracy = 0.7692307692307693\n",
            "\u001b[35mLogistic Regression Info. of cp and thal:- \n",
            "\u001b[30mBias = 0.002937035502639595\n",
            "\u001b[30mWeight_0 = 0.014392452854148832\n",
            "\u001b[30mWeight_1 = 0.0011278526069798773\n",
            "\u001b[30mCost/Loss = 0.6888055335372926\n",
            "\u001b[30mNumber of Iterations = 500\n",
            "\u001b[36mTrain Accuracy = 0.5613207547169812\n",
            "\u001b[36mTest Accuracy = 0.5054945054945055\n",
            "\u001b[35mLogistic Regression Info. of trestbps and chol:- \n",
            "\u001b[30mBias = 1.4721179893570528e-05\n",
            "\u001b[30mWeight_0 = 0.00017373966660775121\n",
            "\u001b[30mWeight_1 = 0.00146557603111629\n",
            "\u001b[30mCost/Loss = 0.689143552752628\n",
            "\u001b[30mNumber of Iterations = 27\n",
            "\u001b[36mTrain Accuracy = 0.5613207547169812\n",
            "\u001b[36mTest Accuracy = 0.5054945054945055\n",
            "\u001b[35mLogistic Regression Info. of trestbps and fbs:- \n",
            "\u001b[30mBias = 1.7661773847396287e-05\n",
            "\u001b[30mWeight_0 = 0.0016858656377597041\n",
            "\u001b[30mWeight_1 = 2.6408454221820803e-06\n",
            "\u001b[30mCost/Loss = 0.6868389123943628\n",
            "\u001b[30mNumber of Iterations = 9\n",
            "\u001b[36mTrain Accuracy = 0.5613207547169812\n",
            "\u001b[36mTest Accuracy = 0.5054945054945055\n",
            "\u001b[35mLogistic Regression Info. of trestbps and restecg:- \n",
            "\u001b[30mBias = 1.7661041962915045e-05\n",
            "\u001b[30mWeight_0 = 0.0016857730943885944\n",
            "\u001b[30mWeight_1 = 3.195349050469522e-05\n",
            "\u001b[30mCost/Loss = 0.6868380050278567\n",
            "\u001b[30mNumber of Iterations = 9\n",
            "\u001b[36mTrain Accuracy = 0.5613207547169812\n",
            "\u001b[36mTest Accuracy = 0.5054945054945055\n",
            "\u001b[35mLogistic Regression Info. of trestbps and thalach:- \n",
            "\u001b[30mBias = -0.00048217120846531786\n",
            "\u001b[30mWeight_0 = -0.0314723832584068\n",
            "\u001b[30mWeight_1 = 0.02969964937220764\n",
            "\u001b[30mCost/Loss = 0.609784755759697\n",
            "\u001b[30mNumber of Iterations = 500\n",
            "\u001b[36mTrain Accuracy = 0.6509433962264151\n",
            "\u001b[36mTest Accuracy = 0.7362637362637363\n",
            "\u001b[35mLogistic Regression Info. of trestbps and exang:- \n",
            "\u001b[30mBias = 1.8257905574538285e-05\n",
            "\u001b[30mWeight_0 = 0.001690211450697591\n",
            "\u001b[30mWeight_1 = -8.840577584237574e-05\n",
            "\u001b[30mCost/Loss = 0.6868306238838087\n",
            "\u001b[30mNumber of Iterations = 10\n",
            "\u001b[36mTrain Accuracy = 0.5613207547169812\n",
            "\u001b[36mTest Accuracy = 0.5054945054945055\n",
            "\u001b[35mLogistic Regression Info. of trestbps and oldpeak:- \n",
            "\u001b[30mBias = 0.00029512763674841626\n",
            "\u001b[30mWeight_0 = 0.0017701894562701342\n",
            "\u001b[30mWeight_1 = -0.01041816573031632\n",
            "\u001b[30mCost/Loss = 0.6846636693715952\n",
            "\u001b[30mNumber of Iterations = 500\n",
            "\u001b[36mTrain Accuracy = 0.5613207547169812\n",
            "\u001b[36mTest Accuracy = 0.5054945054945055\n",
            "\u001b[35mLogistic Regression Info. of trestbps and slope:- \n",
            "\u001b[30mBias = 1.8829404486578016e-05\n",
            "\u001b[30mWeight_0 = 0.0016913291824019793\n",
            "\u001b[30mWeight_1 = 0.00012519649128059438\n",
            "\u001b[30mCost/Loss = 0.6868265252096399\n",
            "\u001b[30mNumber of Iterations = 11\n",
            "\u001b[36mTrain Accuracy = 0.5613207547169812\n",
            "\u001b[36mTest Accuracy = 0.5054945054945055\n",
            "\u001b[35mLogistic Regression Info. of trestbps and ca:- \n",
            "\u001b[30mBias = 0.0002949801100578434\n",
            "\u001b[30mWeight_0 = 0.0017435904987328867\n",
            "\u001b[30mWeight_1 = -0.009367366534088054\n",
            "\u001b[30mCost/Loss = 0.6850804519241532\n",
            "\u001b[30mNumber of Iterations = 500\n",
            "\u001b[36mTrain Accuracy = 0.5613207547169812\n",
            "\u001b[36mTest Accuracy = 0.5054945054945055\n",
            "\u001b[35mLogistic Regression Info. of trestbps and thal:- \n",
            "\u001b[30mBias = 0.0002958635859480363\n",
            "\u001b[30mWeight_0 = 0.0017797045009586233\n",
            "\u001b[30mWeight_1 = -0.005002392783816816\n",
            "\u001b[30mCost/Loss = 0.6863335855037306\n",
            "\u001b[30mNumber of Iterations = 500\n",
            "\u001b[36mTrain Accuracy = 0.5613207547169812\n",
            "\u001b[36mTest Accuracy = 0.5054945054945055\n",
            "\u001b[35mLogistic Regression Info. of chol and fbs:- \n",
            "\u001b[30mBias = 6.8700165811203144e-06\n",
            "\u001b[30mWeight_0 = 0.0009451262098897696\n",
            "\u001b[30mWeight_1 = 1.191706705142191e-06\n",
            "\u001b[30mCost/Loss = 0.6861504956763355\n",
            "\u001b[30mNumber of Iterations = 9\n",
            "\u001b[36mTrain Accuracy = 0.5613207547169812\n",
            "\u001b[36mTest Accuracy = 0.5054945054945055\n",
            "\u001b[35mLogistic Regression Info. of chol and restecg:- \n",
            "\u001b[30mBias = 6.8697052744307805e-06\n",
            "\u001b[30mWeight_0 = 0.0009450791713351725\n",
            "\u001b[30mWeight_1 = 2.7431563738524366e-05\n",
            "\u001b[30mCost/Loss = 0.6861497146989616\n",
            "\u001b[30mNumber of Iterations = 9\n",
            "\u001b[36mTrain Accuracy = 0.5613207547169812\n",
            "\u001b[36mTest Accuracy = 0.5054945054945055\n",
            "\u001b[35mLogistic Regression Info. of chol and thalach:- \n",
            "\u001b[30mBias = -0.0003562734758754724\n",
            "\u001b[30mWeight_0 = -0.007849395241293943\n",
            "\u001b[30mWeight_1 = 0.015266803911286746\n",
            "\u001b[30mCost/Loss = 0.6489718328046439\n",
            "\u001b[30mNumber of Iterations = 217\n",
            "\u001b[36mTrain Accuracy = 0.6415094339622641\n",
            "\u001b[36mTest Accuracy = 0.6373626373626373\n",
            "\u001b[35mLogistic Regression Info. of chol and exang:- \n",
            "\u001b[30mBias = 7.571423634585353e-06\n",
            "\u001b[30mWeight_0 = 0.0009409381422275992\n",
            "\u001b[30mWeight_1 = -0.0001013947244681576\n",
            "\u001b[30mCost/Loss = 0.6861407562084307\n",
            "\u001b[30mNumber of Iterations = 11\n",
            "\u001b[36mTrain Accuracy = 0.5613207547169812\n",
            "\u001b[36mTest Accuracy = 0.5054945054945055\n",
            "\u001b[35mLogistic Regression Info. of chol and oldpeak:- \n",
            "\u001b[30mBias = 0.00018618467587514073\n",
            "\u001b[30mWeight_0 = 0.0009774564818982227\n",
            "\u001b[30mWeight_1 = -0.010477587029425108\n",
            "\u001b[30mCost/Loss = 0.6839531493560117\n",
            "\u001b[30mNumber of Iterations = 500\n",
            "\u001b[36mTrain Accuracy = 0.5613207547169812\n",
            "\u001b[36mTest Accuracy = 0.5054945054945055\n",
            "\u001b[35mLogistic Regression Info. of chol and slope:- \n",
            "\u001b[30mBias = 7.567790312434795e-06\n",
            "\u001b[30mWeight_0 = 0.0009402575626087081\n",
            "\u001b[30mWeight_1 = 0.00010888730847770637\n",
            "\u001b[30mCost/Loss = 0.6861399409417557\n",
            "\u001b[30mNumber of Iterations = 11\n",
            "\u001b[36mTrain Accuracy = 0.5613207547169812\n",
            "\u001b[36mTest Accuracy = 0.5054945054945055\n",
            "\u001b[35mLogistic Regression Info. of chol and ca:- \n",
            "\u001b[30mBias = 0.00018469044283376244\n",
            "\u001b[30mWeight_0 = 0.0009641401512606591\n",
            "\u001b[30mWeight_1 = -0.009435543356868671\n",
            "\u001b[30mCost/Loss = 0.6843684394139372\n",
            "\u001b[30mNumber of Iterations = 500\n",
            "\u001b[36mTrain Accuracy = 0.5613207547169812\n",
            "\u001b[36mTest Accuracy = 0.5054945054945055\n",
            "\u001b[35mLogistic Regression Info. of chol and thal:- \n",
            "\u001b[30mBias = 0.00018620560138722542\n",
            "\u001b[30mWeight_0 = 0.0009851460842267266\n",
            "\u001b[30mWeight_1 = -0.005258594568077891\n",
            "\u001b[30mCost/Loss = 0.6855955393798733\n",
            "\u001b[30mNumber of Iterations = 500\n",
            "\u001b[36mTrain Accuracy = 0.5613207547169812\n",
            "\u001b[36mTest Accuracy = 0.5054945054945055\n",
            "\u001b[35mLogistic Regression Info. of fbs and restecg:- \n",
            "\u001b[30mBias = 1.8395539568181255e-05\n",
            "\u001b[30mWeight_0 = 2.8300825484058787e-06\n",
            "\u001b[30mWeight_1 = 1.6980665166151804e-05\n",
            "\u001b[30mCost/Loss = 0.6931450647672714\n",
            "\u001b[30mNumber of Iterations = 3\n",
            "\u001b[36mTrain Accuracy = 0.4386792452830189\n",
            "\u001b[36mTest Accuracy = 0.4945054945054945\n",
            "\u001b[35mLogistic Regression Info. of fbs and thalach:- \n",
            "\u001b[30mBias = -4.033161265775995e-06\n",
            "\u001b[30mWeight_0 = -4.16299398182545e-07\n",
            "\u001b[30mWeight_1 = 0.002403508198147645\n",
            "\u001b[30mCost/Loss = 0.6766918251180026\n",
            "\u001b[30mNumber of Iterations = 7\n",
            "\u001b[36mTrain Accuracy = 0.5613207547169812\n",
            "\u001b[36mTest Accuracy = 0.5054945054945055\n",
            "\u001b[35mLogistic Regression Info. of fbs and exang:- \n",
            "\u001b[30mBias = 1.8395926711285698e-05\n",
            "\u001b[30mWeight_0 = 2.8301352798917597e-06\n",
            "\u001b[30mWeight_1 = -2.2641480730874307e-05\n",
            "\u001b[30mCost/Loss = 0.6931443170490184\n",
            "\u001b[30mNumber of Iterations = 3\n",
            "\u001b[36mTrain Accuracy = 0.4386792452830189\n",
            "\u001b[36mTest Accuracy = 0.4945054945054945\n",
            "\u001b[35mLogistic Regression Info. of fbs and oldpeak:- \n",
            "\u001b[30mBias = 0.003093270835381339\n",
            "\u001b[30mWeight_0 = 0.00047568068469872336\n",
            "\u001b[30mWeight_1 = -0.007664934047553641\n",
            "\u001b[30mCost/Loss = 0.6917762358980858\n",
            "\u001b[30mNumber of Iterations = 500\n",
            "\u001b[36mTrain Accuracy = 0.6226415094339622\n",
            "\u001b[36mTest Accuracy = 0.6923076923076923\n",
            "\u001b[35mLogistic Regression Info. of fbs and slope:- \n",
            "\u001b[30mBias = 0.002968985302880664\n",
            "\u001b[30mWeight_0 = 0.000456868724183724\n",
            "\u001b[30mWeight_1 = 0.008685086888058186\n",
            "\u001b[30mCost/Loss = 0.6914579295627576\n",
            "\u001b[30mNumber of Iterations = 500\n",
            "\u001b[36mTrain Accuracy = 0.5613207547169812\n",
            "\u001b[36mTest Accuracy = 0.5054945054945055\n",
            "\u001b[35mLogistic Regression Info. of fbs and ca:- \n",
            "\u001b[30mBias = 0.0030792554012088985\n",
            "\u001b[30mWeight_0 = 0.00047553434341718743\n",
            "\u001b[30mWeight_1 = -0.007374416912200537\n",
            "\u001b[30mCost/Loss = 0.6918653743593135\n",
            "\u001b[30mNumber of Iterations = 500\n",
            "\u001b[36mTrain Accuracy = 0.75\n",
            "\u001b[36mTest Accuracy = 0.7032967032967034\n",
            "\u001b[35mLogistic Regression Info. of fbs and thal:- \n",
            "\u001b[30mBias = 1.8395265271343048e-05\n",
            "\u001b[30mWeight_0 = 2.830035496594878e-06\n",
            "\u001b[30mWeight_1 = 8.48827130965769e-06\n",
            "\u001b[30mCost/Loss = 0.6931457858037938\n",
            "\u001b[30mNumber of Iterations = 3\n",
            "\u001b[36mTrain Accuracy = 0.4386792452830189\n",
            "\u001b[36mTest Accuracy = 0.4945054945054945\n",
            "\u001b[35mLogistic Regression Info. of restecg and thalach:- \n",
            "\u001b[30mBias = -4.033473325523112e-06\n",
            "\u001b[30mWeight_0 = 1.5796136348710083e-05\n",
            "\u001b[30mWeight_1 = 0.0024034635444836125\n",
            "\u001b[30mCost/Loss = 0.6766916492724486\n",
            "\u001b[30mNumber of Iterations = 7\n",
            "\u001b[36mTrain Accuracy = 0.5613207547169812\n",
            "\u001b[36mTest Accuracy = 0.5054945054945055\n",
            "\u001b[35mLogistic Regression Info. of restecg and exang:- \n",
            "\u001b[30mBias = 0.003045147502293873\n",
            "\u001b[30mWeight_0 = 0.0028144751841883277\n",
            "\u001b[30mWeight_1 = -0.003774796671821196\n",
            "\u001b[30mCost/Loss = 0.6925183144561069\n",
            "\u001b[30mNumber of Iterations = 500\n",
            "\u001b[36mTrain Accuracy = 0.6462264150943396\n",
            "\u001b[36mTest Accuracy = 0.6373626373626373\n",
            "\u001b[35mLogistic Regression Info. of restecg and oldpeak:- \n",
            "\u001b[30mBias = 0.0030847828331630575\n",
            "\u001b[30mWeight_0 = 0.002835543972365149\n",
            "\u001b[30mWeight_1 = -0.007673443121883672\n",
            "\u001b[30mCost/Loss = 0.6916184029240109\n",
            "\u001b[30mNumber of Iterations = 500\n",
            "\u001b[36mTrain Accuracy = 0.6556603773584906\n",
            "\u001b[36mTest Accuracy = 0.7582417582417582\n",
            "\u001b[35mLogistic Regression Info. of restecg and slope:- \n",
            "\u001b[30mBias = 0.002960658941191961\n",
            "\u001b[30mWeight_0 = 0.002771240661434525\n",
            "\u001b[30mWeight_1 = 0.008673060755952809\n",
            "\u001b[30mCost/Loss = 0.69131362377833\n",
            "\u001b[30mNumber of Iterations = 500\n",
            "\u001b[36mTrain Accuracy = 0.5613207547169812\n",
            "\u001b[36mTest Accuracy = 0.5054945054945055\n",
            "\u001b[35mLogistic Regression Info. of restecg and ca:- \n",
            "\u001b[30mBias = 0.0030707675931327502\n",
            "\u001b[30mWeight_0 = 0.0028268366631375827\n",
            "\u001b[30mWeight_1 = -0.007379970545905006\n",
            "\u001b[30mCost/Loss = 0.6917094868427268\n",
            "\u001b[30mNumber of Iterations = 500\n",
            "\u001b[36mTrain Accuracy = 0.7452830188679245\n",
            "\u001b[36mTest Accuracy = 0.7032967032967034\n",
            "\u001b[35mLogistic Regression Info. of restecg and thal:- \n",
            "\u001b[30mBias = 1.839505969601411e-05\n",
            "\u001b[30mWeight_0 = 1.6980416220365062e-05\n",
            "\u001b[30mWeight_1 = 8.487789076338848e-06\n",
            "\u001b[30mCost/Loss = 0.6931448514708274\n",
            "\u001b[30mNumber of Iterations = 3\n",
            "\u001b[36mTrain Accuracy = 0.4386792452830189\n",
            "\u001b[36mTest Accuracy = 0.4945054945054945\n",
            "\u001b[35mLogistic Regression Info. of thalach and exang:- \n",
            "\u001b[30mBias = -0.001389859761337343\n",
            "\u001b[30mWeight_0 = 0.002429347704014731\n",
            "\u001b[30mWeight_1 = -0.005007477977987807\n",
            "\u001b[30mCost/Loss = 0.6761507628576673\n",
            "\u001b[30mNumber of Iterations = 500\n",
            "\u001b[36mTrain Accuracy = 0.5613207547169812\n",
            "\u001b[36mTest Accuracy = 0.5054945054945055\n",
            "\u001b[35mLogistic Regression Info. of thalach and oldpeak:- \n",
            "\u001b[30mBias = -0.0013850581479449653\n",
            "\u001b[30mWeight_0 = 0.0024912992855481986\n",
            "\u001b[30mWeight_1 = -0.011778885113217051\n",
            "\u001b[30mCost/Loss = 0.6738745869882382\n",
            "\u001b[30mNumber of Iterations = 500\n",
            "\u001b[36mTrain Accuracy = 0.5613207547169812\n",
            "\u001b[36mTest Accuracy = 0.5054945054945055\n",
            "\u001b[35mLogistic Regression Info. of thalach and slope:- \n",
            "\u001b[30mBias = -4.036015952713855e-06\n",
            "\u001b[30mWeight_0 = 0.0024030678645930413\n",
            "\u001b[30mWeight_1 = 5.505478082498655e-05\n",
            "\u001b[30mCost/Loss = 0.676689295811488\n",
            "\u001b[30mNumber of Iterations = 7\n",
            "\u001b[36mTrain Accuracy = 0.5613207547169812\n",
            "\u001b[36mTest Accuracy = 0.5054945054945055\n",
            "\u001b[35mLogistic Regression Info. of thalach and ca:- \n",
            "\u001b[30mBias = -0.0013878056857971506\n",
            "\u001b[30mWeight_0 = 0.002466744614434347\n",
            "\u001b[30mWeight_1 = -0.010416684622578942\n",
            "\u001b[30mCost/Loss = 0.6744803794160484\n",
            "\u001b[30mNumber of Iterations = 500\n",
            "\u001b[36mTrain Accuracy = 0.5613207547169812\n",
            "\u001b[36mTest Accuracy = 0.5054945054945055\n",
            "\u001b[35mLogistic Regression Info. of thalach and thal:- \n",
            "\u001b[30mBias = -0.0013869325072713267\n",
            "\u001b[30mWeight_0 = 0.0025526532834749746\n",
            "\u001b[30mWeight_1 = -0.008835291315729197\n",
            "\u001b[30mCost/Loss = 0.6750848395970421\n",
            "\u001b[30mNumber of Iterations = 500\n",
            "\u001b[36mTrain Accuracy = 0.5613207547169812\n",
            "\u001b[36mTest Accuracy = 0.5054945054945055\n",
            "\u001b[35mLogistic Regression Info. of exang and oldpeak:- \n",
            "\u001b[30mBias = 0.00310072403857193\n",
            "\u001b[30mWeight_0 = -0.003752310800570949\n",
            "\u001b[30mWeight_1 = -0.0076548133546955445\n",
            "\u001b[30mCost/Loss = 0.6915013299425423\n",
            "\u001b[30mNumber of Iterations = 500\n",
            "\u001b[36mTrain Accuracy = 0.6226415094339622\n",
            "\u001b[36mTest Accuracy = 0.7032967032967034\n",
            "\u001b[35mLogistic Regression Info. of exang and slope:- \n",
            "\u001b[30mBias = 0.002976463438353048\n",
            "\u001b[30mWeight_0 = -0.0037921835741657065\n",
            "\u001b[30mWeight_1 = 0.008694249905812804\n",
            "\u001b[30mCost/Loss = 0.6911704369449937\n",
            "\u001b[30mNumber of Iterations = 500\n",
            "\u001b[36mTrain Accuracy = 0.589622641509434\n",
            "\u001b[36mTest Accuracy = 0.5164835164835165\n",
            "\u001b[35mLogistic Regression Info. of exang and ca:- \n",
            "\u001b[30mBias = 0.0030867417839090835\n",
            "\u001b[30mWeight_0 = -0.003760773325669551\n",
            "\u001b[30mWeight_1 = -0.00736814665009891\n",
            "\u001b[30mCost/Loss = 0.6915879496765299\n",
            "\u001b[30mNumber of Iterations = 500\n",
            "\u001b[36mTrain Accuracy = 0.7641509433962265\n",
            "\u001b[36mTest Accuracy = 0.7582417582417582\n",
            "\u001b[35mLogistic Regression Info. of exang and thal:- \n",
            "\u001b[30mBias = 0.0027939862007416204\n",
            "\u001b[30mWeight_0 = -0.0034760916499568186\n",
            "\u001b[30mWeight_1 = 0.0012389295840061253\n",
            "\u001b[30mCost/Loss = 0.6926814032604417\n",
            "\u001b[30mNumber of Iterations = 460\n",
            "\u001b[36mTrain Accuracy = 0.5613207547169812\n",
            "\u001b[36mTest Accuracy = 0.5164835164835165\n",
            "\u001b[35mLogistic Regression Info. of oldpeak and slope:- \n",
            "\u001b[30mBias = 0.003016072828572967\n",
            "\u001b[30mWeight_0 = -0.007718781245137828\n",
            "\u001b[30mWeight_1 = 0.008733476777824054\n",
            "\u001b[30mCost/Loss = 0.6902481327825498\n",
            "\u001b[30mNumber of Iterations = 500\n",
            "\u001b[36mTrain Accuracy = 0.6650943396226415\n",
            "\u001b[36mTest Accuracy = 0.7252747252747253\n",
            "\u001b[35mLogistic Regression Info. of oldpeak and ca:- \n",
            "\u001b[30mBias = 0.0031261443999705566\n",
            "\u001b[30mWeight_0 = -0.007626106325760703\n",
            "\u001b[30mWeight_1 = -0.007333906963066017\n",
            "\u001b[30mCost/Loss = 0.6907127271053632\n",
            "\u001b[30mNumber of Iterations = 500\n",
            "\u001b[36mTrain Accuracy = 0.6132075471698113\n",
            "\u001b[36mTest Accuracy = 0.6923076923076923\n",
            "\u001b[35mLogistic Regression Info. of oldpeak and thal:- \n",
            "\u001b[30mBias = 0.003073289450012477\n",
            "\u001b[30mWeight_0 = -0.0076855067558622295\n",
            "\u001b[30mWeight_1 = 0.0014349722467935158\n",
            "\u001b[30mCost/Loss = 0.6917357439107392\n",
            "\u001b[30mNumber of Iterations = 500\n",
            "\u001b[36mTrain Accuracy = 0.6839622641509434\n",
            "\u001b[36mTest Accuracy = 0.7252747252747253\n",
            "\u001b[35mLogistic Regression Info. of slope and ca:- \n",
            "\u001b[30mBias = 0.003002008854111826\n",
            "\u001b[30mWeight_0 = 0.008731805191050305\n",
            "\u001b[30mWeight_1 = -0.007428602662365627\n",
            "\u001b[30mCost/Loss = 0.6903383046009748\n",
            "\u001b[30mNumber of Iterations = 500\n",
            "\u001b[36mTrain Accuracy = 0.6415094339622641\n",
            "\u001b[36mTest Accuracy = 0.6703296703296703\n",
            "\u001b[35mLogistic Regression Info. of slope and thal:- \n",
            "\u001b[30mBias = 0.0029518070052888886\n",
            "\u001b[30mWeight_0 = 0.00866083140867755\n",
            "\u001b[30mWeight_1 = 0.0011502774789827455\n",
            "\u001b[30mCost/Loss = 0.6914455878498111\n",
            "\u001b[30mNumber of Iterations = 500\n",
            "\u001b[36mTrain Accuracy = 0.5613207547169812\n",
            "\u001b[36mTest Accuracy = 0.5054945054945055\n",
            "\u001b[35mLogistic Regression Info. of ca and thal:- \n",
            "\u001b[30mBias = 0.0030595576235122888\n",
            "\u001b[30mWeight_0 = -0.007389070911616513\n",
            "\u001b[30mWeight_1 = 0.0014014320842034233\n",
            "\u001b[30mCost/Loss = 0.691828716234042\n",
            "\u001b[30mNumber of Iterations = 500\n",
            "\u001b[36mTrain Accuracy = 0.75\n",
            "\u001b[36mTest Accuracy = 0.7032967032967034\n",
            "\u001b[32mBest Train Accuracy = 0.7688679245283019\n",
            "\u001b[32mBest Test Accuracy = 0.7692307692307693\n"
          ]
        }
      ],
      "source": [
        "new_data = data_shuffled.drop('target',axis=1)\n",
        "feature = new_data.columns\n",
        "iterations = 500\n",
        "alpha = 1e-4\n",
        "label = data_shuffled[['target']]\n",
        "\n",
        "best_accuracy_train = 0.0\n",
        "best_accuracy_test = 0.0\n",
        "\n",
        "for f1 in range(len(feature)):\n",
        "    for f2 in range(len(feature)):\n",
        "        if f2 > f1 :\n",
        "            \n",
        "            new_features = pd.DataFrame([data_shuffled[feature[f1]],data_shuffled[feature[f2]]] ).T\n",
        "            \n",
        "            # standardization\n",
        "            \n",
        "            # new_features[feature[f1]] = (new_features[feature[f1]] - new_features[feature[f1]].mean()) / new_features[feature[f1]].std()  \n",
        "            # new_features[feature[f2]] = (new_features[feature[f2]] - new_features[feature[f2]].mean()) / new_features[feature[f2]].std()  \n",
        "            \n",
        "            # calling functions\n",
        "            \n",
        "            weight, weight_history, costs, hypothesis, loops = logisicRegression(new_features,label,iterations,alpha)\n",
        "            prediction_train = predict(new_features,label, weight)\n",
        "            prediction_test = predict(test[[feature[f1],feature[f2]]],test[['target']],weight) \n",
        "            print(Fore.MAGENTA + \"Logistic Regression Info. of {} and {}:- \".format(feature[f1],feature[f2]))\n",
        "            print(Fore.BLACK +\"Bias = {}\".format(weight[0][0]))\n",
        "            print(Fore.BLACK +\"Weight_0 = {}\".format(weight[1][0]))\n",
        "            print(Fore.BLACK +\"Weight_1 = {}\".format(weight[2][0]))\n",
        "            print(Fore.BLACK +\"Cost/Loss = {}\".format(costs[loops-1]))\n",
        "            print(Fore.BLACK +\"Number of Iterations = {}\".format(loops))\n",
        "            \n",
        "            current_train_accuracy = prediction_train\n",
        "            #prediction_train.loc[prediction_train['Prediction']==prediction_train['target']].shape[0] / prediction_train.shape[0] * 100\n",
        "            current_test_accuracy = prediction_test\n",
        "            #prediction_test.loc[prediction_test['Prediction']==prediction_test['target']].shape[0] / prediction_test.shape[0] * 100\n",
        "            print(Fore.CYAN + \"Train Accuracy = {}\".format(current_train_accuracy))\n",
        "            print(Fore.CYAN + \"Test Accuracy = {}\".format(current_test_accuracy))\n",
        "            if current_train_accuracy > best_accuracy_train:\n",
        "                best_accuracy_train = current_train_accuracy\n",
        "            if current_test_accuracy > best_accuracy_test:\n",
        "                best_accuracy_test = current_test_accuracy\n",
        "\n",
        "print(Fore.GREEN + \"Best Train Accuracy = {}\".format(best_accuracy_train))\n",
        "print(Fore.GREEN + \"Best Test Accuracy = {}\".format(best_accuracy_test))\n"
      ]
    },
    {
      "cell_type": "markdown",
      "metadata": {
        "id": "d4NvGMJg0JRU"
      },
      "source": [
        "Shuffling data doesn't improve accuracy in other words doesn't make the model more general  "
      ]
    },
    {
      "cell_type": "markdown",
      "metadata": {
        "id": "Tcr6rkMO0JRU"
      },
      "source": [
        "##### Change Learning Rate"
      ]
    },
    {
      "cell_type": "code",
      "execution_count": null,
      "metadata": {
        "id": "3rHKh6_30JRU",
        "outputId": "85323e1b-c135-463a-ec70-63dc72db420b"
      },
      "outputs": [
        {
          "name": "stdout",
          "output_type": "stream",
          "text": [
            "\u001b[35mLogistic Regression Info. of cp and ca:- \n",
            "\u001b[30mLearning Rate = 0.1\n",
            "\u001b[30mBias = -0.04348564112934115\n",
            "\u001b[30mWeight_0 = 1.0081236774939495\n",
            "\u001b[30mWeight_1 = -0.9232908371961164\n",
            "\u001b[30mCost/Loss = 0.5084753720002172\n",
            "\u001b[30mNumber of Iterations = 299\n",
            "\u001b[36mTrain Accuracy = 0.7452830188679245\n",
            "\u001b[36mTest Accuracy = 0.7582417582417582\n",
            "\u001b[35mLogistic Regression Info. of cp and ca:- \n",
            "\u001b[30mLearning Rate = 0.01\n",
            "\u001b[30mBias = 0.03638634265972913\n",
            "\u001b[30mWeight_0 = 0.6389988510378193\n",
            "\u001b[30mWeight_1 = -0.5302797706641558\n",
            "\u001b[30mCost/Loss = 0.5309068882743722\n",
            "\u001b[30mNumber of Iterations = 500\n",
            "\u001b[36mTrain Accuracy = 0.7641509433962265\n",
            "\u001b[36mTest Accuracy = 0.7472527472527473\n",
            "\u001b[35mLogistic Regression Info. of cp and ca:- \n",
            "\u001b[30mLearning Rate = 0.001\n",
            "\u001b[30mBias = 0.02371952542812612\n",
            "\u001b[30mWeight_0 = 0.12934964946080849\n",
            "\u001b[30mWeight_1 = -0.07361631357721912\n",
            "\u001b[30mCost/Loss = 0.647530551719338\n",
            "\u001b[30mNumber of Iterations = 500\n",
            "\u001b[36mTrain Accuracy = 0.7547169811320755\n",
            "\u001b[36mTest Accuracy = 0.7692307692307693\n",
            "\u001b[35mLogistic Regression Info. of cp and ca:- \n",
            "\u001b[30mLearning Rate = 0.0001\n",
            "\u001b[30mBias = 0.002987253378496644\n",
            "\u001b[30mWeight_0 = 0.014436777443356892\n",
            "\u001b[30mWeight_1 = -0.0074279508180555955\n",
            "\u001b[30mCost/Loss = 0.6876966540829215\n",
            "\u001b[30mNumber of Iterations = 500\n",
            "\u001b[36mTrain Accuracy = 0.7688679245283019\n",
            "\u001b[36mTest Accuracy = 0.7692307692307693\n",
            "\u001b[35mLogistic Regression Info. of cp and ca:- \n",
            "\u001b[30mLearning Rate = 1e-05\n",
            "\u001b[30mBias = 0.0003058058218637736\n",
            "\u001b[30mWeight_0 = 0.001460387450024841\n",
            "\u001b[30mWeight_1 = -0.0007429178235844949\n",
            "\u001b[30mCost/Loss = 0.6925915463601239\n",
            "\u001b[30mNumber of Iterations = 500\n",
            "\u001b[36mTrain Accuracy = 0.7688679245283019\n",
            "\u001b[36mTest Accuracy = 0.7692307692307693\n",
            "\u001b[35mLogistic Regression Info. of cp and ca:- \n",
            "\u001b[30mLearning Rate = 1e-06\n",
            "\u001b[30mBias = 1.8396207198686044e-07\n",
            "\u001b[30mWeight_0 = 8.773580387705673e-07\n",
            "\u001b[30mWeight_1 = -4.457547155376351e-07\n",
            "\u001b[30mCost/Loss = 0.6931468464612043\n",
            "\u001b[30mNumber of Iterations = 3\n",
            "\u001b[36mTrain Accuracy = 0.4386792452830189\n",
            "\u001b[36mTest Accuracy = 0.4945054945054945\n",
            "\u001b[32mBest Train Accuracy = 0.7688679245283019\n",
            "\u001b[32mBest Test Accuracy = 0.7692307692307693\n",
            "\u001b[32mBest Learning Rate = 0.0001\n"
          ]
        }
      ],
      "source": [
        "iterations = 500\n",
        "alphas = [1e-1,1e-2,1e-3,1e-4,1e-5,1e-6]\n",
        "best_alpha = 0\n",
        "label = data[['target']]\n",
        "\n",
        "best_accuracy_train = 0.0\n",
        "best_accuracy_test = 0.0\n",
        "\n",
        "current_train_accuracy = []\n",
        "current_test_accuracy = []\n",
        "\n",
        "for alpha in alphas :\n",
        "    new_features = data[['cp','ca']]\n",
        "    weight, weight_history, costs, hypothesis, loops = logisicRegression(new_features,label,iterations,alpha)\n",
        "    prediction_train = predict(new_features,label, weight)\n",
        "    prediction_test = predict(test[['cp','ca']],test[['target']],weight) \n",
        "    current_train_accuracy.append(prediction_train)\n",
        "    current_test_accuracy.append(prediction_test)\n",
        "    print(Fore.MAGENTA + \"Logistic Regression Info. of {} and {}:- \".format('cp','ca'))\n",
        "    print(Fore.BLACK +\"Learning Rate = {}\".format(alpha))\n",
        "    print(Fore.BLACK +\"Bias = {}\".format(weight[0][0]))\n",
        "    print(Fore.BLACK +\"Weight_0 = {}\".format(weight[1][0]))\n",
        "    print(Fore.BLACK +\"Weight_1 = {}\".format(weight[2][0]))\n",
        "    print(Fore.BLACK +\"Cost/Loss = {}\".format(costs[loops-1]))\n",
        "    print(Fore.BLACK +\"Number of Iterations = {}\".format(loops))\n",
        "    print(Fore.CYAN + \"Train Accuracy = {}\".format(prediction_train))\n",
        "    print(Fore.CYAN + \"Test Accuracy = {}\".format(prediction_test))\n",
        "    \n",
        "    if prediction_train > best_accuracy_train:\n",
        "        best_accuracy_train = prediction_train\n",
        "        best_alpha = alpha\n",
        "    if prediction_test > best_accuracy_test:\n",
        "        best_accuracy_test = prediction_test\n",
        "\n",
        "print(Fore.GREEN + \"Best Train Accuracy = {}\".format(best_accuracy_train))\n",
        "print(Fore.GREEN + \"Best Test Accuracy = {}\".format(best_accuracy_test))\n",
        "print(Fore.GREEN + \"Best Learning Rate = {}\".format(best_alpha))\n"
      ]
    },
    {
      "cell_type": "code",
      "execution_count": null,
      "metadata": {
        "id": "aebdWnga0JRV",
        "outputId": "faf167f3-e7e6-4f57-b6f9-ae9e9078ba5c"
      },
      "outputs": [
        {
          "name": "stderr",
          "output_type": "stream",
          "text": [
            "c:\\ProgramData\\Anaconda3\\lib\\site-packages\\seaborn\\_decorators.py:36: FutureWarning:\n",
            "\n",
            "Pass the following variables as keyword args: x, y. From version 0.12, the only valid positional argument will be `data`, and passing other arguments without an explicit keyword will result in an error or misinterpretation.\n",
            "\n",
            "c:\\ProgramData\\Anaconda3\\lib\\site-packages\\seaborn\\_decorators.py:36: FutureWarning:\n",
            "\n",
            "Pass the following variables as keyword args: x, y. From version 0.12, the only valid positional argument will be `data`, and passing other arguments without an explicit keyword will result in an error or misinterpretation.\n",
            "\n"
          ]
        },
        {
          "data": {
            "text/plain": [
              "Text(0.5, 1.0, 'Test Accuracy')"
            ]
          },
          "execution_count": 34,
          "metadata": {},
          "output_type": "execute_result"
        },
        {
          "data": {
            "image/png": "[encoded data removed]",
            "text/plain": [
              "<Figure size 1080x360 with 2 Axes>"
            ]
          },
          "metadata": {},
          "output_type": "display_data"
        }
      ],
      "source": [
        "\n",
        "fig, axes = plt.subplots(1, 2, figsize=(15, 5))\n",
        "sns.lineplot(alphas,current_train_accuracy,x = alphas,y = current_train_accuracy,ax=axes[0])\n",
        "axes[0].set_title('Train Accuracy')\n",
        "sns.lineplot(alphas,current_test_accuracy,x = alphas,y = current_train_accuracy,ax=axes[1])\n",
        "axes[1].set_title('Test Accuracy')"
      ]
    },
    {
      "cell_type": "markdown",
      "metadata": {
        "id": "EcgAxXLU0JRV"
      },
      "source": [
        "Here we tried Very big learning rate (step) that leads to a relatively generalized model and less numer of iterations that safe alot of time but in some situations it may overshouts while when we use a very small learning rate that leads to alot of iterations and if it too small it may never reach local min."
      ]
    },
    {
      "cell_type": "markdown",
      "metadata": {
        "id": "DcMRnjVH0JRV"
      },
      "source": [
        "##### Change Iterations"
      ]
    },
    {
      "cell_type": "code",
      "execution_count": null,
      "metadata": {
        "id": "hy2Ipb9l0JRV",
        "outputId": "36995696-3827-4d1c-a87d-04142a28e768"
      },
      "outputs": [
        {
          "name": "stdout",
          "output_type": "stream",
          "text": [
            "\u001b[35mLogistic Regression Info. of cp and ca:- \n",
            "\u001b[30mBias = 1.226351039627117e-05\n",
            "\u001b[30mWeight_0 = 5.848906005251041e-05\n",
            "\u001b[30mWeight_1 = -2.9716976320532183e-05\n",
            "\u001b[30mCost/Loss = 0.6931249087277557\n",
            "\u001b[30mNumber of Iterations = 2\n",
            "\u001b[36mTrain Accuracy = 0.4386792452830189\n",
            "\u001b[36mTest Accuracy = 0.4945054945054945\n",
            "\u001b[35mLogistic Regression Info. of cp and ca:- \n",
            "\u001b[30mBias = 2.452445882261791e-05\n",
            "\u001b[30mWeight_0 = 0.00011697209655363667\n",
            "\u001b[30mWeight_1 = -5.943393325906207e-05\n",
            "\u001b[30mCost/Loss = 0.6931026407383085\n",
            "\u001b[30mNumber of Iterations = 4\n",
            "\u001b[36mTrain Accuracy = 0.6367924528301887\n",
            "\u001b[36mTest Accuracy = 0.6043956043956044\n",
            "\u001b[35mLogistic Regression Info. of cp and ca:- \n",
            "\u001b[30mBias = 4.9038671513978524e-05\n",
            "\u001b[30mWeight_0 = 0.0002339201020176866\n",
            "\u001b[30mWeight_1 = -0.00011886778790367801\n",
            "\u001b[30mCost/Loss = 0.6930581162842229\n",
            "\u001b[30mNumber of Iterations = 8\n",
            "\u001b[36mTrain Accuracy = 0.75\n",
            "\u001b[36mTest Accuracy = 0.7472527472527473\n",
            "\u001b[35mLogistic Regression Info. of cp and ca:- \n",
            "\u001b[30mBias = 6.129193665309392e-05\n",
            "\u001b[30mWeight_0 = 0.00029238507253844903\n",
            "\u001b[30mWeight_1 = -0.00014858468506668578\n",
            "\u001b[30mCost/Loss = 0.6930358598178704\n",
            "\u001b[30mNumber of Iterations = 10\n",
            "\u001b[36mTrain Accuracy = 0.7358490566037735\n",
            "\u001b[36mTest Accuracy = 0.7692307692307693\n",
            "\u001b[35mLogistic Regression Info. of cp and ca:- \n",
            "\u001b[30mBias = 0.0001225198677607772\n",
            "\u001b[30mWeight_0 = 0.0005846196341814977\n",
            "\u001b[30mWeight_1 = -0.00029716885843220406\n",
            "\u001b[30mCost/Loss = 0.6929246350587606\n",
            "\u001b[30mNumber of Iterations = 20\n",
            "\u001b[36mTrain Accuracy = 0.7358490566037735\n",
            "\u001b[36mTest Accuracy = 0.7692307692307693\n",
            "\u001b[35mLogistic Regression Info. of cp and ca:- \n",
            "\u001b[30mBias = 0.0006100456632920193\n",
            "\u001b[30mWeight_0 = 0.0029170894079839607\n",
            "\u001b[30mWeight_1 = -0.0014858197621674528\n",
            "\u001b[30mCost/Loss = 0.6920382795629894\n",
            "\u001b[30mNumber of Iterations = 100\n",
            "\u001b[36mTrain Accuracy = 0.7688679245283019\n",
            "\u001b[36mTest Accuracy = 0.7692307692307693\n",
            "\u001b[35mLogistic Regression Info. of cp and ca:- \n",
            "\u001b[30mBias = 0.002987253378496644\n",
            "\u001b[30mWeight_0 = 0.014436777443356892\n",
            "\u001b[30mWeight_1 = -0.0074279508180555955\n",
            "\u001b[30mCost/Loss = 0.6876966540829215\n",
            "\u001b[30mNumber of Iterations = 500\n",
            "\u001b[36mTrain Accuracy = 0.7688679245283019\n",
            "\u001b[36mTest Accuracy = 0.7692307692307693\n",
            "\u001b[35mLogistic Regression Info. of cp and ca:- \n",
            "\u001b[30mBias = 0.008508012790395796\n",
            "\u001b[30mWeight_0 = 0.042228714477696896\n",
            "\u001b[30mWeight_1 = -0.022263993812618496\n",
            "\u001b[30mCost/Loss = 0.6774651346354063\n",
            "\u001b[30mNumber of Iterations = 1500\n",
            "\u001b[36mTrain Accuracy = 0.7688679245283019\n",
            "\u001b[36mTest Accuracy = 0.7692307692307693\n",
            "\u001b[32mBest Train Accuracy = 0.7688679245283019\n",
            "\u001b[32mBest Test Accuracy = 0.7692307692307693\n"
          ]
        }
      ],
      "source": [
        "iterations = [2,4,8,10,20,100,500,1500]\n",
        "alpha = 0.0001\n",
        "label = data[['target']]\n",
        "\n",
        "best_accuracy_train = 0.0\n",
        "best_accuracy_test = 0.0\n",
        "current_train_accuracy = []\n",
        "current_test_accuracy = []\n",
        "\n",
        "for i in iterations :\n",
        "    new_features = data[['cp','ca']]\n",
        "    # print(new_features)\n",
        "    weight, weight_history, costs, hypothesis, loops = logisicRegression(new_features,label,i,alpha)\n",
        "    prediction_train = predict(new_features,label, weight)\n",
        "    prediction_test = predict(test[['cp','ca']],test[['target']],weight) \n",
        "    current_train_accuracy.append(prediction_train)\n",
        "    current_test_accuracy.append(prediction_test)\n",
        "    print(Fore.MAGENTA + \"Logistic Regression Info. of {} and {}:- \".format('cp','ca'))\n",
        "    print(Fore.BLACK +\"Bias = {}\".format(weight[0][0]))\n",
        "    print(Fore.BLACK +\"Weight_0 = {}\".format(weight[1][0]))\n",
        "    print(Fore.BLACK +\"Weight_1 = {}\".format(weight[2][0]))\n",
        "    print(Fore.BLACK +\"Cost/Loss = {}\".format(costs[loops-1]))\n",
        "    print(Fore.BLACK +\"Number of Iterations = {}\".format(loops))\n",
        "    print(Fore.CYAN + \"Train Accuracy = {}\".format(prediction_train))\n",
        "    print(Fore.CYAN + \"Test Accuracy = {}\".format(prediction_test))\n",
        "    \n",
        "    if prediction_train > best_accuracy_train:\n",
        "        best_accuracy_train = prediction_train\n",
        "        best_alpha = alpha\n",
        "    if prediction_test > best_accuracy_test:\n",
        "        best_accuracy_test = prediction_test\n",
        "\n",
        "print(Fore.GREEN + \"Best Train Accuracy = {}\".format(best_accuracy_train))\n",
        "print(Fore.GREEN + \"Best Test Accuracy = {}\".format(best_accuracy_test))\n"
      ]
    },
    {
      "cell_type": "markdown",
      "metadata": {
        "id": "57zGAidQ0JRV"
      },
      "source": [
        "we notice that the more iterations the model make the more generalized and the gradient descent get better values but it may fall in local min. that can't get away from and in other situation where the number of iterations is so big that the stopping condition in Logistic Regression function will use as the difference between loss_0 and loss_1 is very small that there is no learning   "
      ]
    },
    {
      "cell_type": "code",
      "execution_count": null,
      "metadata": {
        "id": "n7dIg5Rf0JRV",
        "outputId": "e3dbdf87-11d2-4823-ea62-e83a8f4f016a"
      },
      "outputs": [
        {
          "name": "stderr",
          "output_type": "stream",
          "text": [
            "c:\\ProgramData\\Anaconda3\\lib\\site-packages\\seaborn\\_decorators.py:36: FutureWarning:\n",
            "\n",
            "Pass the following variables as keyword args: x, y. From version 0.12, the only valid positional argument will be `data`, and passing other arguments without an explicit keyword will result in an error or misinterpretation.\n",
            "\n",
            "c:\\ProgramData\\Anaconda3\\lib\\site-packages\\seaborn\\_decorators.py:36: FutureWarning:\n",
            "\n",
            "Pass the following variables as keyword args: x, y. From version 0.12, the only valid positional argument will be `data`, and passing other arguments without an explicit keyword will result in an error or misinterpretation.\n",
            "\n"
          ]
        },
        {
          "data": {
            "text/plain": [
              "Text(0.5, 1.0, 'Test Accuracy')"
            ]
          },
          "execution_count": 36,
          "metadata": {},
          "output_type": "execute_result"
        },
        {
          "data": {
            "image/png": "[encoded data removed]",
            "text/plain": [
              "<Figure size 1080x360 with 2 Axes>"
            ]
          },
          "metadata": {},
          "output_type": "display_data"
        }
      ],
      "source": [
        "\n",
        "fig, axes = plt.subplots(1, 2, figsize=(15, 5))\n",
        "sns.lineplot(iterations,current_train_accuracy,x = iterations,y = current_train_accuracy,ax=axes[0])\n",
        "axes[0].set_title('Train Accuracy')\n",
        "sns.lineplot(iterations,current_test_accuracy,x = iterations,y = current_train_accuracy,ax=axes[1])\n",
        "axes[1].set_title('Test Accuracy')"
      ]
    },
    {
      "cell_type": "code",
      "execution_count": null,
      "metadata": {
        "id": "yvzd4rAZ0JRW"
      },
      "outputs": [],
      "source": []
    }
  ],
  "metadata": {
    "kernelspec": {
      "display_name": "Python 3.9.7 ('base')",
      "language": "python",
      "name": "python3"
    },
    "language_info": {
      "codemirror_mode": {
        "name": "ipython",
        "version": 3
      },
      "file_extension": ".py",
      "mimetype": "text/x-python",
      "name": "python",
      "nbconvert_exporter": "python",
      "pygments_lexer": "ipython3",
      "version": "3.9.7"
    },
    "orig_nbformat": 4,
    "vscode": {
      "interpreter": {
        "hash": "ad2bdc8ecc057115af97d19610ffacc2b4e99fae6737bb82f5d7fb13d2f2c186"
      }
    },
    "colab": {
      "provenance": [],
      "include_colab_link": true
    }
  },
  "nbformat": 4,
  "nbformat_minor": 0
}